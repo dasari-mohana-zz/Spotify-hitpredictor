{
 "cells": [
  {
   "cell_type": "code",
   "execution_count": 1,
   "metadata": {
    "colab": {},
    "colab_type": "code",
    "executionInfo": {
     "elapsed": 333,
     "status": "ok",
     "timestamp": 1593195154984,
     "user": {
      "displayName": "Grecia Villarreal",
      "photoUrl": "",
      "userId": "04417287800158359907"
     },
     "user_tz": 300
    },
    "id": "NcG0IxjY0cqN"
   },
   "outputs": [],
   "source": [
    "import os\n",
    "import glob\n",
    "import pandas as pd"
   ]
  },
  {
   "cell_type": "code",
   "execution_count": 2,
   "metadata": {
    "colab": {},
    "colab_type": "code",
    "executionInfo": {
     "elapsed": 352,
     "status": "ok",
     "timestamp": 1593195258189,
     "user": {
      "displayName": "Grecia Villarreal",
      "photoUrl": "",
      "userId": "04417287800158359907"
     },
     "user_tz": 300
    },
    "id": "KvMq-KpR0cqS"
   },
   "outputs": [],
   "source": [
    "# Define working directory\n",
    "os.chdir(r\"C:\\Users\\Cristina Bardan\\Desktop\\Repositories\\FinalProject-Spotify\\Original_data\")"
   ]
  },
  {
   "cell_type": "code",
   "execution_count": 3,
   "metadata": {
    "colab": {
     "base_uri": "https://localhost:8080/",
     "height": 340
    },
    "colab_type": "code",
    "executionInfo": {
     "elapsed": 2168,
     "status": "ok",
     "timestamp": 1593195263589,
     "user": {
      "displayName": "Grecia Villarreal",
      "photoUrl": "",
      "userId": "04417287800158359907"
     },
     "user_tz": 300
    },
    "id": "a-ewU33W0cqV",
    "outputId": "8ba3883a-b147-4ff4-8222-b8dba28181ae"
   },
   "outputs": [],
   "source": [
    "# Use glob to match the pattern ‘csv’\n",
    "extension = 'csv'\n",
    "all_filenames = [i for i in glob.glob('*.{}'.format(extension))]\n",
    "\n",
    "# Combine all files in the list and export as CSV\n",
    "df = pd.concat([pd.read_csv(f) for f in all_filenames ])\n",
    "df.reset_index(drop=True, inplace=True)"
   ]
  },
  {
   "cell_type": "code",
   "execution_count": 4,
   "metadata": {
    "colab": {
     "base_uri": "https://localhost:8080/",
     "height": 111
    },
    "colab_type": "code",
    "executionInfo": {
     "elapsed": 345,
     "status": "ok",
     "timestamp": 1593195265828,
     "user": {
      "displayName": "Grecia Villarreal",
      "photoUrl": "",
      "userId": "04417287800158359907"
     },
     "user_tz": 300
    },
    "id": "eKjuVkuQ0cqZ",
    "outputId": "df03010b-e8c2-4b2b-c626-a3e31011898b"
   },
   "outputs": [],
   "source": [
    "df2 = df.drop(['track', 'artist', 'uri'], axis=1)"
   ]
  },
  {
   "cell_type": "code",
   "execution_count": 5,
   "metadata": {
    "colab": {
     "base_uri": "https://localhost:8080/",
     "height": 545
    },
    "colab_type": "code",
    "executionInfo": {
     "elapsed": 369,
     "status": "ok",
     "timestamp": 1593195268295,
     "user": {
      "displayName": "Grecia Villarreal",
      "photoUrl": "",
      "userId": "04417287800158359907"
     },
     "user_tz": 300
    },
    "id": "JqlHQ-yC0cqf",
    "outputId": "d2482f13-7bf8-4a39-c38b-9232402800f3"
   },
   "outputs": [],
   "source": [
    "#Validation of correlation between variables\n",
    "import numpy as np \n",
    "df3=df2.corr()"
   ]
  },
  {
   "cell_type": "code",
   "execution_count": 6,
   "metadata": {
    "colab": {},
    "colab_type": "code",
    "executionInfo": {
     "elapsed": 312,
     "status": "ok",
     "timestamp": 1593195792804,
     "user": {
      "displayName": "Grecia Villarreal",
      "photoUrl": "",
      "userId": "04417287800158359907"
     },
     "user_tz": 300
    },
    "id": "2bkdcEPG1ibv"
   },
   "outputs": [],
   "source": [
    "# Sin key\n",
    "data = df2\n",
    "X = data[['danceability', 'energy', 'loudness','mode', 'speechiness', 'acousticness', 'instrumentalness', 'liveness','valence', 'tempo', 'duration_ms', 'time_signature','chorus_hit', 'sections']]  \n",
    "y = data.target"
   ]
  },
  {
   "cell_type": "code",
   "execution_count": 7,
   "metadata": {
    "colab": {},
    "colab_type": "code",
    "executionInfo": {
     "elapsed": 952,
     "status": "ok",
     "timestamp": 1593195806764,
     "user": {
      "displayName": "Grecia Villarreal",
      "photoUrl": "",
      "userId": "04417287800158359907"
     },
     "user_tz": 300
    },
    "id": "jY2Jscy60cqq"
   },
   "outputs": [],
   "source": [
    "from sklearn.model_selection import train_test_split\n",
    "\n",
    "X_train, X_test, y_train, y_test = train_test_split(X, y, random_state=10)"
   ]
  },
  {
   "cell_type": "markdown",
   "metadata": {
    "colab_type": "text",
    "id": "ABiuRgdQ0cqt"
   },
   "source": [
    "## Data Preprocessing"
   ]
  },
  {
   "cell_type": "code",
   "execution_count": 8,
   "metadata": {
    "colab": {
     "base_uri": "https://localhost:8080/",
     "height": 238
    },
    "colab_type": "code",
    "executionInfo": {
     "elapsed": 434,
     "status": "ok",
     "timestamp": 1593195809079,
     "user": {
      "displayName": "Grecia Villarreal",
      "photoUrl": "",
      "userId": "04417287800158359907"
     },
     "user_tz": 300
    },
    "id": "hfEdBDfb0cqu",
    "outputId": "911efcc3-99ac-4918-84b9-2d5aa84691b4"
   },
   "outputs": [
    {
     "output_type": "execute_result",
     "data": {
      "text/plain": "array([[0.78947368, 0.52283395, 0.76172236, ..., 0.8       , 0.19905999,\n        0.06508876],\n       [0.54048583, 0.83094117, 0.77921392, ..., 0.8       , 0.21633373,\n        0.04142012],\n       [0.5       , 0.66588373, 0.7455139 , ..., 0.8       , 0.20480589,\n        0.03550296],\n       ...,\n       [0.57692308, 0.36777999, 0.68303866, ..., 0.8       , 0.15844718,\n        0.09467456],\n       [0.41902834, 0.16070793, 0.50819858, ..., 0.8       , 0.200772  ,\n        0.04733728],\n       [0.29554656, 0.24873856, 0.67937808, ..., 0.6       , 0.12021911,\n        0.06508876]])"
     },
     "metadata": {},
     "execution_count": 8
    }
   ],
   "source": [
    "#Scale features (X) using MinMaxScaler\n",
    "from sklearn.preprocessing import MinMaxScaler\n",
    "X_scaler = MinMaxScaler(feature_range=(0,1)).fit(X_train)\n",
    "\n",
    "X_train_scaled = X_scaler.transform(X_train)\n",
    "X_test_scaled = X_scaler.transform(X_test) \n",
    "\n",
    "X_train_scaled"
   ]
  },
  {
   "cell_type": "markdown",
   "metadata": {
    "colab_type": "text",
    "id": "Uy2UDESH0cqy"
   },
   "source": [
    "One-hot encode the labels"
   ]
  },
  {
   "cell_type": "code",
   "execution_count": 9,
   "metadata": {
    "colab": {
     "base_uri": "https://localhost:8080/",
     "height": 136
    },
    "colab_type": "code",
    "executionInfo": {
     "elapsed": 2091,
     "status": "ok",
     "timestamp": 1593195813074,
     "user": {
      "displayName": "Grecia Villarreal",
      "photoUrl": "",
      "userId": "04417287800158359907"
     },
     "user_tz": 300
    },
    "id": "2bgX_eKc0cqz",
    "outputId": "3afa952d-bc15-4952-c8c2-8c312c2d0a34"
   },
   "outputs": [
    {
     "output_type": "execute_result",
     "data": {
      "text/plain": "array([[0., 1.],\n       [1., 0.],\n       [0., 1.],\n       ...,\n       [0., 1.],\n       [0., 1.],\n       [1., 0.]], dtype=float32)"
     },
     "metadata": {},
     "execution_count": 9
    }
   ],
   "source": [
    "#One-hot encode output labels (y)\n",
    "from tensorflow.keras.utils import to_categorical\n",
    "y_train_categorical = to_categorical(y_train)\n",
    "y_test_categorical = to_categorical(y_test)\n",
    "\n",
    "y_train_categorical"
   ]
  },
  {
   "cell_type": "markdown",
   "metadata": {
    "colab_type": "text",
    "id": "bdxnMFS40cq2"
   },
   "source": [
    "## Creating and defining our Deep Learning Model Architecture"
   ]
  },
  {
   "cell_type": "code",
   "execution_count": 10,
   "metadata": {
    "colab": {},
    "colab_type": "code",
    "executionInfo": {
     "elapsed": 330,
     "status": "ok",
     "timestamp": 1593195865739,
     "user": {
      "displayName": "Grecia Villarreal",
      "photoUrl": "",
      "userId": "04417287800158359907"
     },
     "user_tz": 300
    },
    "id": "Vengxhzv0cq3"
   },
   "outputs": [],
   "source": [
    "#Create a sequential model\n",
    "from tensorflow.keras.models import Sequential\n",
    "model = Sequential() \n",
    "\n",
    "from tensorflow.keras.layers import Dense\n",
    "number_inputs = 14  \n",
    "\n",
    "#Create hidden layers\n",
    "model.add(Dense(units=14,activation='relu', input_dim=number_inputs))\n",
    "model.add(Dense(units=120,activation='relu'))\n",
    "model.add(Dense(units=80,activation='relu'))\n",
    "\n",
    "#Create output layer\n",
    "number_classes = 2\n",
    "model.add(Dense(units=number_classes, activation='softmax')) "
   ]
  },
  {
   "cell_type": "markdown",
   "metadata": {
    "colab_type": "text",
    "id": "i-z2bcd60cq5"
   },
   "source": [
    "Number of Hidden Nodes \n",
    "https://stats.stackexchange.com/questions/181/how-to-choose-the-number-of-hidden-layers-and-nodes-in-a-feedforward-neural-netw#:~:text=The%20number%20of%20hidden%20neurons,size%20of%20the%20input%20layer."
   ]
  },
  {
   "cell_type": "code",
   "execution_count": 11,
   "metadata": {
    "colab": {
     "base_uri": "https://localhost:8080/",
     "height": 289
    },
    "colab_type": "code",
    "executionInfo": {
     "elapsed": 360,
     "status": "ok",
     "timestamp": 1593195868686,
     "user": {
      "displayName": "Grecia Villarreal",
      "photoUrl": "",
      "userId": "04417287800158359907"
     },
     "user_tz": 300
    },
    "id": "e68kh-j-0cq6",
    "outputId": "a0c6ff91-e482-4074-86ec-c4d5dc809a54",
    "tags": []
   },
   "outputs": [
    {
     "output_type": "stream",
     "name": "stdout",
     "text": "Model: \"sequential\"\n_________________________________________________________________\nLayer (type)                 Output Shape              Param #   \n=================================================================\ndense (Dense)                (None, 14)                210       \n_________________________________________________________________\ndense_1 (Dense)              (None, 120)               1800      \n_________________________________________________________________\ndense_2 (Dense)              (None, 80)                9680      \n_________________________________________________________________\ndense_3 (Dense)              (None, 2)                 162       \n=================================================================\nTotal params: 11,852\nTrainable params: 11,852\nNon-trainable params: 0\n_________________________________________________________________\n"
    }
   ],
   "source": [
    "#Model Summary\n",
    "model.summary() "
   ]
  },
  {
   "cell_type": "code",
   "execution_count": 12,
   "metadata": {
    "colab": {},
    "colab_type": "code",
    "executionInfo": {
     "elapsed": 340,
     "status": "ok",
     "timestamp": 1593195871538,
     "user": {
      "displayName": "Grecia Villarreal",
      "photoUrl": "",
      "userId": "04417287800158359907"
     },
     "user_tz": 300
    },
    "id": "wJTml5b60cq9"
   },
   "outputs": [],
   "source": [
    "#Compile the Model\n",
    "import tensorflow as tf\n",
    "opt = tf.keras.optimizers.Adam(learning_rate=0.001)\n",
    "model.compile(optimizer=opt, loss='categorical_crossentropy', metrics=['accuracy'])"
   ]
  },
  {
   "cell_type": "markdown",
   "metadata": {
    "colab_type": "text",
    "id": "4H8OtKeZ0cq_"
   },
   "source": [
    "## Training the Model"
   ]
  },
  {
   "cell_type": "code",
   "execution_count": 13,
   "metadata": {
    "colab": {
     "base_uri": "https://localhost:8080/",
     "height": 1000
    },
    "colab_type": "code",
    "executionInfo": {
     "elapsed": 135077,
     "status": "ok",
     "timestamp": 1593196007986,
     "user": {
      "displayName": "Grecia Villarreal",
      "photoUrl": "",
      "userId": "04417287800158359907"
     },
     "user_tz": 300
    },
    "id": "-CFXztyU0crA",
    "outputId": "8117547b-6034-4c47-e5c3-40103be12fcf",
    "tags": []
   },
   "outputs": [
    {
     "output_type": "stream",
     "name": "stdout",
     "text": "Epoch 1/500\n16/16 - 0s - loss: 0.6532 - accuracy: 0.6278\nEpoch 2/500\n16/16 - 0s - loss: 0.5826 - accuracy: 0.6912\nEpoch 3/500\n16/16 - 0s - loss: 0.5499 - accuracy: 0.7107\nEpoch 4/500\n16/16 - 0s - loss: 0.5355 - accuracy: 0.7247\nEpoch 5/500\n16/16 - 0s - loss: 0.5260 - accuracy: 0.7297\nEpoch 6/500\n16/16 - 0s - loss: 0.5194 - accuracy: 0.7351\nEpoch 7/500\n16/16 - 0s - loss: 0.5144 - accuracy: 0.7378\nEpoch 8/500\n16/16 - 0s - loss: 0.5109 - accuracy: 0.7415\nEpoch 9/500\n16/16 - 0s - loss: 0.5090 - accuracy: 0.7442\nEpoch 10/500\n16/16 - 0s - loss: 0.5068 - accuracy: 0.7452\nEpoch 11/500\n16/16 - 0s - loss: 0.5051 - accuracy: 0.7458\nEpoch 12/500\n16/16 - 0s - loss: 0.5032 - accuracy: 0.7482\nEpoch 13/500\n16/16 - 0s - loss: 0.5023 - accuracy: 0.7487\nEpoch 14/500\n16/16 - 0s - loss: 0.5020 - accuracy: 0.7487\nEpoch 15/500\n16/16 - 0s - loss: 0.5006 - accuracy: 0.7512\nEpoch 16/500\n16/16 - 0s - loss: 0.4993 - accuracy: 0.7498\nEpoch 17/500\n16/16 - 0s - loss: 0.4990 - accuracy: 0.7512\nEpoch 18/500\n16/16 - 0s - loss: 0.4988 - accuracy: 0.7515\nEpoch 19/500\n16/16 - 0s - loss: 0.4985 - accuracy: 0.7506\nEpoch 20/500\n16/16 - 0s - loss: 0.4967 - accuracy: 0.7528\nEpoch 21/500\n16/16 - 0s - loss: 0.4955 - accuracy: 0.7530\nEpoch 22/500\n16/16 - 0s - loss: 0.4953 - accuracy: 0.7540\nEpoch 23/500\n16/16 - 0s - loss: 0.4958 - accuracy: 0.7547\nEpoch 24/500\n16/16 - 0s - loss: 0.4956 - accuracy: 0.7543\nEpoch 25/500\n16/16 - 0s - loss: 0.4940 - accuracy: 0.7551\nEpoch 26/500\n16/16 - 0s - loss: 0.4936 - accuracy: 0.7565\nEpoch 27/500\n16/16 - 0s - loss: 0.4941 - accuracy: 0.7567\nEpoch 28/500\n16/16 - 0s - loss: 0.4934 - accuracy: 0.7569\nEpoch 29/500\n16/16 - 0s - loss: 0.4935 - accuracy: 0.7560\nEpoch 30/500\n16/16 - 0s - loss: 0.4958 - accuracy: 0.7529\nEpoch 31/500\n16/16 - 0s - loss: 0.4940 - accuracy: 0.7561\nEpoch 32/500\n16/16 - 0s - loss: 0.4924 - accuracy: 0.7558\nEpoch 33/500\n16/16 - 0s - loss: 0.4935 - accuracy: 0.7566\nEpoch 34/500\n16/16 - 0s - loss: 0.4936 - accuracy: 0.7580\nEpoch 35/500\n16/16 - 0s - loss: 0.4920 - accuracy: 0.7569\nEpoch 36/500\n16/16 - 0s - loss: 0.4902 - accuracy: 0.7591\nEpoch 37/500\n16/16 - 0s - loss: 0.4902 - accuracy: 0.7583\nEpoch 38/500\n16/16 - 0s - loss: 0.4897 - accuracy: 0.7584\nEpoch 39/500\n16/16 - 0s - loss: 0.4894 - accuracy: 0.7588\nEpoch 40/500\n16/16 - 0s - loss: 0.4889 - accuracy: 0.7598\nEpoch 41/500\n16/16 - 0s - loss: 0.4886 - accuracy: 0.7596\nEpoch 42/500\n16/16 - 0s - loss: 0.4878 - accuracy: 0.7606\nEpoch 43/500\n16/16 - 0s - loss: 0.4878 - accuracy: 0.7608\nEpoch 44/500\n16/16 - 0s - loss: 0.4872 - accuracy: 0.7614\nEpoch 45/500\n16/16 - 0s - loss: 0.4873 - accuracy: 0.7612\nEpoch 46/500\n16/16 - 0s - loss: 0.4874 - accuracy: 0.7612\nEpoch 47/500\n16/16 - 0s - loss: 0.4874 - accuracy: 0.7601\nEpoch 48/500\n16/16 - 0s - loss: 0.4871 - accuracy: 0.7617\nEpoch 49/500\n16/16 - 0s - loss: 0.4870 - accuracy: 0.7614\nEpoch 50/500\n16/16 - 0s - loss: 0.4855 - accuracy: 0.7623\nEpoch 51/500\n16/16 - 0s - loss: 0.4850 - accuracy: 0.7626\nEpoch 52/500\n16/16 - 0s - loss: 0.4850 - accuracy: 0.7629\nEpoch 53/500\n16/16 - 0s - loss: 0.4846 - accuracy: 0.7635\nEpoch 54/500\n16/16 - 0s - loss: 0.4845 - accuracy: 0.7642\nEpoch 55/500\n16/16 - 0s - loss: 0.4851 - accuracy: 0.7619\nEpoch 56/500\n16/16 - 0s - loss: 0.4844 - accuracy: 0.7640\nEpoch 57/500\n16/16 - 0s - loss: 0.4853 - accuracy: 0.7627\nEpoch 58/500\n16/16 - 0s - loss: 0.4833 - accuracy: 0.7643\nEpoch 59/500\n16/16 - 0s - loss: 0.4836 - accuracy: 0.7652\nEpoch 60/500\n16/16 - 0s - loss: 0.4836 - accuracy: 0.7642\nEpoch 61/500\n16/16 - 0s - loss: 0.4841 - accuracy: 0.7636\nEpoch 62/500\n16/16 - 0s - loss: 0.4834 - accuracy: 0.7637\nEpoch 63/500\n16/16 - 0s - loss: 0.4824 - accuracy: 0.7650\nEpoch 64/500\n16/16 - 0s - loss: 0.4832 - accuracy: 0.7650\nEpoch 65/500\n16/16 - 0s - loss: 0.4822 - accuracy: 0.7653\nEpoch 66/500\n16/16 - 0s - loss: 0.4821 - accuracy: 0.7654\nEpoch 67/500\n16/16 - 0s - loss: 0.4833 - accuracy: 0.7656\nEpoch 68/500\n16/16 - 0s - loss: 0.4813 - accuracy: 0.7654\nEpoch 69/500\n16/16 - 0s - loss: 0.4818 - accuracy: 0.7674\nEpoch 70/500\n16/16 - 0s - loss: 0.4811 - accuracy: 0.7661\nEpoch 71/500\n16/16 - 0s - loss: 0.4831 - accuracy: 0.7655\nEpoch 72/500\n16/16 - 0s - loss: 0.4835 - accuracy: 0.7639\nEpoch 73/500\n16/16 - 0s - loss: 0.4811 - accuracy: 0.7661\nEpoch 74/500\n16/16 - 0s - loss: 0.4801 - accuracy: 0.7672\nEpoch 75/500\n16/16 - 0s - loss: 0.4807 - accuracy: 0.7664\nEpoch 76/500\n16/16 - 0s - loss: 0.4795 - accuracy: 0.7673\nEpoch 77/500\n16/16 - 0s - loss: 0.4795 - accuracy: 0.7680\nEpoch 78/500\n16/16 - 0s - loss: 0.4796 - accuracy: 0.7676\nEpoch 79/500\n16/16 - 0s - loss: 0.4804 - accuracy: 0.7667\nEpoch 80/500\n16/16 - 0s - loss: 0.4801 - accuracy: 0.7658\nEpoch 81/500\n16/16 - 0s - loss: 0.4792 - accuracy: 0.7681\nEpoch 82/500\n16/16 - 0s - loss: 0.4788 - accuracy: 0.7694\nEpoch 83/500\n16/16 - 0s - loss: 0.4787 - accuracy: 0.7679\nEpoch 84/500\n16/16 - 0s - loss: 0.4794 - accuracy: 0.7673\nEpoch 85/500\n16/16 - 0s - loss: 0.4792 - accuracy: 0.7664\nEpoch 86/500\n16/16 - 0s - loss: 0.4788 - accuracy: 0.7677\nEpoch 87/500\n16/16 - 0s - loss: 0.4784 - accuracy: 0.7670\nEpoch 88/500\n16/16 - 0s - loss: 0.4789 - accuracy: 0.7681\nEpoch 89/500\n16/16 - 0s - loss: 0.4778 - accuracy: 0.7688\nEpoch 90/500\n16/16 - 0s - loss: 0.4776 - accuracy: 0.7686\nEpoch 91/500\n16/16 - 0s - loss: 0.4777 - accuracy: 0.7686\nEpoch 92/500\n16/16 - 0s - loss: 0.4777 - accuracy: 0.7693\nEpoch 93/500\n16/16 - 0s - loss: 0.4771 - accuracy: 0.7695\nEpoch 94/500\n16/16 - 0s - loss: 0.4769 - accuracy: 0.7687\nEpoch 95/500\n16/16 - 0s - loss: 0.4769 - accuracy: 0.7695\nEpoch 96/500\n16/16 - 0s - loss: 0.4762 - accuracy: 0.7702\nEpoch 97/500\n16/16 - 0s - loss: 0.4765 - accuracy: 0.7696\nEpoch 98/500\n16/16 - 0s - loss: 0.4774 - accuracy: 0.7693\nEpoch 99/500\n16/16 - 0s - loss: 0.4770 - accuracy: 0.7702\nEpoch 100/500\n16/16 - 0s - loss: 0.4765 - accuracy: 0.7690\nEpoch 101/500\n16/16 - 0s - loss: 0.4760 - accuracy: 0.7704\nEpoch 102/500\n16/16 - 0s - loss: 0.4756 - accuracy: 0.7702\nEpoch 103/500\n16/16 - 0s - loss: 0.4752 - accuracy: 0.7710\nEpoch 104/500\n16/16 - 0s - loss: 0.4752 - accuracy: 0.7714\nEpoch 105/500\n16/16 - 0s - loss: 0.4756 - accuracy: 0.7694\nEpoch 106/500\n16/16 - 0s - loss: 0.4762 - accuracy: 0.7690\nEpoch 107/500\n16/16 - 0s - loss: 0.4758 - accuracy: 0.7697\nEpoch 108/500\n16/16 - 0s - loss: 0.4765 - accuracy: 0.7685\nEpoch 109/500\n16/16 - 0s - loss: 0.4750 - accuracy: 0.7708\nEpoch 110/500\n16/16 - 0s - loss: 0.4747 - accuracy: 0.7711\nEpoch 111/500\n16/16 - 0s - loss: 0.4739 - accuracy: 0.7719\nEpoch 112/500\n16/16 - 0s - loss: 0.4738 - accuracy: 0.7715\nEpoch 113/500\n16/16 - 0s - loss: 0.4745 - accuracy: 0.7709\nEpoch 114/500\n16/16 - 0s - loss: 0.4738 - accuracy: 0.7713\nEpoch 115/500\n16/16 - 0s - loss: 0.4741 - accuracy: 0.7708\nEpoch 116/500\n16/16 - 0s - loss: 0.4737 - accuracy: 0.7718\nEpoch 117/500\n16/16 - 0s - loss: 0.4747 - accuracy: 0.7694\nEpoch 118/500\n16/16 - 0s - loss: 0.4736 - accuracy: 0.7708\nEpoch 119/500\n16/16 - 0s - loss: 0.4731 - accuracy: 0.7715\nEpoch 120/500\n16/16 - 0s - loss: 0.4735 - accuracy: 0.7713\nEpoch 121/500\n16/16 - 0s - loss: 0.4735 - accuracy: 0.7716\nEpoch 122/500\n16/16 - 0s - loss: 0.4731 - accuracy: 0.7709\nEpoch 123/500\n16/16 - 0s - loss: 0.4732 - accuracy: 0.7720\nEpoch 124/500\n16/16 - 0s - loss: 0.4722 - accuracy: 0.7722\nEpoch 125/500\n16/16 - 0s - loss: 0.4716 - accuracy: 0.7729\nEpoch 126/500\n16/16 - 0s - loss: 0.4718 - accuracy: 0.7725\nEpoch 127/500\n16/16 - 0s - loss: 0.4717 - accuracy: 0.7722\nEpoch 128/500\n16/16 - 0s - loss: 0.4723 - accuracy: 0.7710\nEpoch 129/500\n16/16 - 0s - loss: 0.4726 - accuracy: 0.7712\nEpoch 130/500\n16/16 - 0s - loss: 0.4716 - accuracy: 0.7720\nEpoch 131/500\n16/16 - 0s - loss: 0.4714 - accuracy: 0.7731\nEpoch 132/500\n16/16 - 0s - loss: 0.4720 - accuracy: 0.7721\nEpoch 133/500\n16/16 - 0s - loss: 0.4721 - accuracy: 0.7714\nEpoch 134/500\n16/16 - 0s - loss: 0.4716 - accuracy: 0.7721\nEpoch 135/500\n16/16 - 0s - loss: 0.4716 - accuracy: 0.7718\nEpoch 136/500\n16/16 - 0s - loss: 0.4721 - accuracy: 0.7720\nEpoch 137/500\n16/16 - 0s - loss: 0.4702 - accuracy: 0.7729\nEpoch 138/500\n16/16 - 0s - loss: 0.4719 - accuracy: 0.7727\nEpoch 139/500\n16/16 - 0s - loss: 0.4704 - accuracy: 0.7723\nEpoch 140/500\n16/16 - 0s - loss: 0.4708 - accuracy: 0.7712\nEpoch 141/500\n16/16 - 0s - loss: 0.4723 - accuracy: 0.7707\nEpoch 142/500\n16/16 - 0s - loss: 0.4706 - accuracy: 0.7724\nEpoch 143/500\n16/16 - 0s - loss: 0.4697 - accuracy: 0.7733\nEpoch 144/500\n16/16 - 0s - loss: 0.4711 - accuracy: 0.7719\nEpoch 145/500\n16/16 - 0s - loss: 0.4716 - accuracy: 0.7721\nEpoch 146/500\n16/16 - 0s - loss: 0.4699 - accuracy: 0.7727\nEpoch 147/500\n16/16 - 0s - loss: 0.4690 - accuracy: 0.7737\nEpoch 148/500\n16/16 - 0s - loss: 0.4683 - accuracy: 0.7730\nEpoch 149/500\n16/16 - 0s - loss: 0.4689 - accuracy: 0.7744\nEpoch 150/500\n16/16 - 0s - loss: 0.4683 - accuracy: 0.7742\nEpoch 151/500\n16/16 - 0s - loss: 0.4676 - accuracy: 0.7745\nEpoch 152/500\n16/16 - 0s - loss: 0.4673 - accuracy: 0.7741\nEpoch 153/500\n16/16 - 0s - loss: 0.4691 - accuracy: 0.7722\nEpoch 154/500\n16/16 - 0s - loss: 0.4677 - accuracy: 0.7749\nEpoch 155/500\n16/16 - 0s - loss: 0.4676 - accuracy: 0.7744\nEpoch 156/500\n16/16 - 0s - loss: 0.4679 - accuracy: 0.7745\nEpoch 157/500\n16/16 - 0s - loss: 0.4683 - accuracy: 0.7728\nEpoch 158/500\n16/16 - 0s - loss: 0.4675 - accuracy: 0.7753\nEpoch 159/500\n16/16 - 0s - loss: 0.4679 - accuracy: 0.7741\nEpoch 160/500\n16/16 - 0s - loss: 0.4675 - accuracy: 0.7755\nEpoch 161/500\n16/16 - 0s - loss: 0.4670 - accuracy: 0.7749\nEpoch 162/500\n16/16 - 0s - loss: 0.4681 - accuracy: 0.7730\nEpoch 163/500\n16/16 - 0s - loss: 0.4677 - accuracy: 0.7733\nEpoch 164/500\n16/16 - 0s - loss: 0.4670 - accuracy: 0.7744\nEpoch 165/500\n16/16 - 0s - loss: 0.4687 - accuracy: 0.7732\nEpoch 166/500\n16/16 - 0s - loss: 0.4707 - accuracy: 0.7735\nEpoch 167/500\n16/16 - 0s - loss: 0.4701 - accuracy: 0.7719\nEpoch 168/500\n16/16 - 0s - loss: 0.4664 - accuracy: 0.7736\nEpoch 169/500\n16/16 - 0s - loss: 0.4662 - accuracy: 0.7745\nEpoch 170/500\n16/16 - 0s - loss: 0.4657 - accuracy: 0.7752\nEpoch 171/500\n16/16 - 0s - loss: 0.4657 - accuracy: 0.7758\nEpoch 172/500\n16/16 - 0s - loss: 0.4656 - accuracy: 0.7749\nEpoch 173/500\n16/16 - 0s - loss: 0.4664 - accuracy: 0.7747\nEpoch 174/500\n16/16 - 0s - loss: 0.4654 - accuracy: 0.7766\nEpoch 175/500\n16/16 - 0s - loss: 0.4664 - accuracy: 0.7746\nEpoch 176/500\n16/16 - 0s - loss: 0.4657 - accuracy: 0.7751\nEpoch 177/500\n16/16 - 0s - loss: 0.4666 - accuracy: 0.7756\nEpoch 178/500\n16/16 - 0s - loss: 0.4649 - accuracy: 0.7762\nEpoch 179/500\n16/16 - 0s - loss: 0.4650 - accuracy: 0.7759\nEpoch 180/500\n16/16 - 0s - loss: 0.4658 - accuracy: 0.7753\nEpoch 181/500\n16/16 - 0s - loss: 0.4666 - accuracy: 0.7755\nEpoch 182/500\n16/16 - 0s - loss: 0.4663 - accuracy: 0.7751\nEpoch 183/500\n16/16 - 0s - loss: 0.4649 - accuracy: 0.7769\nEpoch 184/500\n16/16 - 0s - loss: 0.4644 - accuracy: 0.7752\nEpoch 185/500\n16/16 - 0s - loss: 0.4638 - accuracy: 0.7760\nEpoch 186/500\n16/16 - 0s - loss: 0.4639 - accuracy: 0.7763\nEpoch 187/500\n16/16 - 0s - loss: 0.4663 - accuracy: 0.7747\nEpoch 188/500\n16/16 - 0s - loss: 0.4644 - accuracy: 0.7762\nEpoch 189/500\n16/16 - 0s - loss: 0.4661 - accuracy: 0.7738\nEpoch 190/500\n16/16 - 0s - loss: 0.4634 - accuracy: 0.7755\nEpoch 191/500\n16/16 - 0s - loss: 0.4643 - accuracy: 0.7757\nEpoch 192/500\n16/16 - 0s - loss: 0.4627 - accuracy: 0.7774\nEpoch 193/500\n16/16 - 0s - loss: 0.4634 - accuracy: 0.7754\nEpoch 194/500\n16/16 - 0s - loss: 0.4632 - accuracy: 0.7772\nEpoch 195/500\n16/16 - 0s - loss: 0.4638 - accuracy: 0.7768\nEpoch 196/500\n16/16 - 0s - loss: 0.4635 - accuracy: 0.7776\nEpoch 197/500\n16/16 - 0s - loss: 0.4640 - accuracy: 0.7771\nEpoch 198/500\n16/16 - 0s - loss: 0.4633 - accuracy: 0.7769\nEpoch 199/500\n16/16 - 0s - loss: 0.4628 - accuracy: 0.7764\nEpoch 200/500\n16/16 - 0s - loss: 0.4626 - accuracy: 0.7768\nEpoch 201/500\n16/16 - 0s - loss: 0.4621 - accuracy: 0.7777\nEpoch 202/500\n16/16 - 0s - loss: 0.4621 - accuracy: 0.7780\nEpoch 203/500\n16/16 - 0s - loss: 0.4627 - accuracy: 0.7763\nEpoch 204/500\n16/16 - 0s - loss: 0.4615 - accuracy: 0.7773\nEpoch 205/500\n16/16 - 0s - loss: 0.4616 - accuracy: 0.7773\nEpoch 206/500\n16/16 - 0s - loss: 0.4612 - accuracy: 0.7778\nEpoch 207/500\n16/16 - 0s - loss: 0.4619 - accuracy: 0.7787\nEpoch 208/500\n16/16 - 0s - loss: 0.4625 - accuracy: 0.7789\nEpoch 209/500\n16/16 - 0s - loss: 0.4610 - accuracy: 0.7780\nEpoch 210/500\n16/16 - 0s - loss: 0.4612 - accuracy: 0.7792\nEpoch 211/500\n16/16 - 0s - loss: 0.4608 - accuracy: 0.7781\nEpoch 212/500\n16/16 - 0s - loss: 0.4607 - accuracy: 0.7781\nEpoch 213/500\n16/16 - 0s - loss: 0.4631 - accuracy: 0.7758\nEpoch 214/500\n16/16 - 0s - loss: 0.4623 - accuracy: 0.7769\nEpoch 215/500\n16/16 - 0s - loss: 0.4614 - accuracy: 0.7778\nEpoch 216/500\n16/16 - 0s - loss: 0.4629 - accuracy: 0.7778\nEpoch 217/500\n16/16 - 0s - loss: 0.4628 - accuracy: 0.7775\nEpoch 218/500\n16/16 - 0s - loss: 0.4620 - accuracy: 0.7764\nEpoch 219/500\n16/16 - 0s - loss: 0.4602 - accuracy: 0.7784\nEpoch 220/500\n16/16 - 0s - loss: 0.4605 - accuracy: 0.7787\nEpoch 221/500\n16/16 - 0s - loss: 0.4602 - accuracy: 0.7786\nEpoch 222/500\n16/16 - 0s - loss: 0.4600 - accuracy: 0.7787\nEpoch 223/500\n16/16 - 0s - loss: 0.4595 - accuracy: 0.7792\nEpoch 224/500\n16/16 - 0s - loss: 0.4589 - accuracy: 0.7792\nEpoch 225/500\n16/16 - 0s - loss: 0.4595 - accuracy: 0.7802\nEpoch 226/500\n16/16 - 0s - loss: 0.4614 - accuracy: 0.7791\nEpoch 227/500\n16/16 - 0s - loss: 0.4595 - accuracy: 0.7784\nEpoch 228/500\n16/16 - 0s - loss: 0.4591 - accuracy: 0.7790\nEpoch 229/500\n16/16 - 0s - loss: 0.4590 - accuracy: 0.7787\nEpoch 230/500\n16/16 - 0s - loss: 0.4584 - accuracy: 0.7802\nEpoch 231/500\n16/16 - 0s - loss: 0.4590 - accuracy: 0.7789\nEpoch 232/500\n16/16 - 0s - loss: 0.4585 - accuracy: 0.7799\nEpoch 233/500\n16/16 - 0s - loss: 0.4606 - accuracy: 0.7791\nEpoch 234/500\n16/16 - 0s - loss: 0.4600 - accuracy: 0.7772\nEpoch 235/500\n16/16 - 0s - loss: 0.4588 - accuracy: 0.7788\nEpoch 236/500\n16/16 - 0s - loss: 0.4586 - accuracy: 0.7799\nEpoch 237/500\n16/16 - 0s - loss: 0.4610 - accuracy: 0.7774\nEpoch 238/500\n16/16 - 0s - loss: 0.4580 - accuracy: 0.7799\nEpoch 239/500\n16/16 - 0s - loss: 0.4577 - accuracy: 0.7801\nEpoch 240/500\n16/16 - 0s - loss: 0.4578 - accuracy: 0.7796\nEpoch 241/500\n16/16 - 0s - loss: 0.4589 - accuracy: 0.7808\nEpoch 242/500\n16/16 - 0s - loss: 0.4576 - accuracy: 0.7801\nEpoch 243/500\n16/16 - 0s - loss: 0.4577 - accuracy: 0.7806\nEpoch 244/500\n16/16 - 0s - loss: 0.4567 - accuracy: 0.7810\nEpoch 245/500\n16/16 - 0s - loss: 0.4564 - accuracy: 0.7805\nEpoch 246/500\n16/16 - 0s - loss: 0.4569 - accuracy: 0.7805\nEpoch 247/500\n16/16 - 0s - loss: 0.4589 - accuracy: 0.7794\nEpoch 248/500\n16/16 - 0s - loss: 0.4568 - accuracy: 0.7814\nEpoch 249/500\n16/16 - 0s - loss: 0.4578 - accuracy: 0.7793\nEpoch 250/500\n16/16 - 0s - loss: 0.4571 - accuracy: 0.7804\nEpoch 251/500\n16/16 - 0s - loss: 0.4573 - accuracy: 0.7799\nEpoch 252/500\n16/16 - 0s - loss: 0.4584 - accuracy: 0.7793\nEpoch 253/500\n16/16 - 0s - loss: 0.4565 - accuracy: 0.7806\nEpoch 254/500\n16/16 - 0s - loss: 0.4561 - accuracy: 0.7804\nEpoch 255/500\n16/16 - 0s - loss: 0.4575 - accuracy: 0.7806\nEpoch 256/500\n16/16 - 0s - loss: 0.4567 - accuracy: 0.7809\nEpoch 257/500\n16/16 - 0s - loss: 0.4561 - accuracy: 0.7809\nEpoch 258/500\n16/16 - 0s - loss: 0.4553 - accuracy: 0.7830\nEpoch 259/500\n16/16 - 0s - loss: 0.4571 - accuracy: 0.7820\nEpoch 260/500\n16/16 - 0s - loss: 0.4549 - accuracy: 0.7813\nEpoch 261/500\n16/16 - 0s - loss: 0.4542 - accuracy: 0.7832\nEpoch 262/500\n16/16 - 0s - loss: 0.4555 - accuracy: 0.7825\nEpoch 263/500\n16/16 - 0s - loss: 0.4547 - accuracy: 0.7832\nEpoch 264/500\n16/16 - 0s - loss: 0.4545 - accuracy: 0.7815\nEpoch 265/500\n16/16 - 0s - loss: 0.4546 - accuracy: 0.7829\nEpoch 266/500\n16/16 - 0s - loss: 0.4547 - accuracy: 0.7819\nEpoch 267/500\n16/16 - 0s - loss: 0.4536 - accuracy: 0.7836\nEpoch 268/500\n16/16 - 0s - loss: 0.4548 - accuracy: 0.7825\nEpoch 269/500\n16/16 - 0s - loss: 0.4540 - accuracy: 0.7816\nEpoch 270/500\n16/16 - 0s - loss: 0.4547 - accuracy: 0.7829\nEpoch 271/500\n16/16 - 0s - loss: 0.4551 - accuracy: 0.7811\nEpoch 272/500\n16/16 - 0s - loss: 0.4548 - accuracy: 0.7822\nEpoch 273/500\n16/16 - 0s - loss: 0.4534 - accuracy: 0.7823\nEpoch 274/500\n16/16 - 0s - loss: 0.4533 - accuracy: 0.7825\nEpoch 275/500\n16/16 - 0s - loss: 0.4533 - accuracy: 0.7824\nEpoch 276/500\n16/16 - 0s - loss: 0.4533 - accuracy: 0.7839\nEpoch 277/500\n16/16 - 0s - loss: 0.4536 - accuracy: 0.7822\nEpoch 278/500\n16/16 - 0s - loss: 0.4524 - accuracy: 0.7840\nEpoch 279/500\n16/16 - 0s - loss: 0.4536 - accuracy: 0.7822\nEpoch 280/500\n16/16 - 0s - loss: 0.4546 - accuracy: 0.7828\nEpoch 281/500\n16/16 - 0s - loss: 0.4541 - accuracy: 0.7825\nEpoch 282/500\n16/16 - 0s - loss: 0.4534 - accuracy: 0.7831\nEpoch 283/500\n16/16 - 0s - loss: 0.4526 - accuracy: 0.7833\nEpoch 284/500\n16/16 - 0s - loss: 0.4554 - accuracy: 0.7810\nEpoch 285/500\n16/16 - 0s - loss: 0.4547 - accuracy: 0.7827\nEpoch 286/500\n16/16 - 0s - loss: 0.4535 - accuracy: 0.7817\nEpoch 287/500\n16/16 - 0s - loss: 0.4530 - accuracy: 0.7837\nEpoch 288/500\n16/16 - 0s - loss: 0.4523 - accuracy: 0.7841\nEpoch 289/500\n16/16 - 0s - loss: 0.4528 - accuracy: 0.7825\nEpoch 290/500\n16/16 - 0s - loss: 0.4523 - accuracy: 0.7838\nEpoch 291/500\n16/16 - 0s - loss: 0.4524 - accuracy: 0.7840\nEpoch 292/500\n16/16 - 0s - loss: 0.4517 - accuracy: 0.7849\nEpoch 293/500\n16/16 - 0s - loss: 0.4522 - accuracy: 0.7842\nEpoch 294/500\n16/16 - 0s - loss: 0.4512 - accuracy: 0.7846\nEpoch 295/500\n16/16 - 0s - loss: 0.4523 - accuracy: 0.7834\nEpoch 296/500\n16/16 - 0s - loss: 0.4525 - accuracy: 0.7841\nEpoch 297/500\n16/16 - 0s - loss: 0.4506 - accuracy: 0.7864\nEpoch 298/500\n16/16 - 0s - loss: 0.4513 - accuracy: 0.7839\nEpoch 299/500\n16/16 - 0s - loss: 0.4523 - accuracy: 0.7840\nEpoch 300/500\n16/16 - 0s - loss: 0.4516 - accuracy: 0.7841\nEpoch 301/500\n16/16 - 0s - loss: 0.4508 - accuracy: 0.7859\nEpoch 302/500\n16/16 - 0s - loss: 0.4502 - accuracy: 0.7857\nEpoch 303/500\n16/16 - 0s - loss: 0.4529 - accuracy: 0.7832\nEpoch 304/500\n16/16 - 0s - loss: 0.4511 - accuracy: 0.7841\nEpoch 305/500\n16/16 - 0s - loss: 0.4527 - accuracy: 0.7832\nEpoch 306/500\n16/16 - 0s - loss: 0.4520 - accuracy: 0.7834\nEpoch 307/500\n16/16 - 0s - loss: 0.4533 - accuracy: 0.7815\nEpoch 308/500\n16/16 - 0s - loss: 0.4530 - accuracy: 0.7838\nEpoch 309/500\n16/16 - 0s - loss: 0.4517 - accuracy: 0.7841\nEpoch 310/500\n16/16 - 0s - loss: 0.4505 - accuracy: 0.7851\nEpoch 311/500\n16/16 - 0s - loss: 0.4489 - accuracy: 0.7864\nEpoch 312/500\n16/16 - 0s - loss: 0.4494 - accuracy: 0.7863\nEpoch 313/500\n16/16 - 0s - loss: 0.4491 - accuracy: 0.7862\nEpoch 314/500\n16/16 - 0s - loss: 0.4497 - accuracy: 0.7859\nEpoch 315/500\n16/16 - 0s - loss: 0.4500 - accuracy: 0.7845\nEpoch 316/500\n16/16 - 0s - loss: 0.4519 - accuracy: 0.7851\nEpoch 317/500\n16/16 - 0s - loss: 0.4506 - accuracy: 0.7841\nEpoch 318/500\n16/16 - 0s - loss: 0.4489 - accuracy: 0.7858\nEpoch 319/500\n16/16 - 0s - loss: 0.4488 - accuracy: 0.7861\nEpoch 320/500\n16/16 - 0s - loss: 0.4497 - accuracy: 0.7849\nEpoch 321/500\n16/16 - 0s - loss: 0.4494 - accuracy: 0.7858\nEpoch 322/500\n16/16 - 0s - loss: 0.4491 - accuracy: 0.7859\nEpoch 323/500\n16/16 - 0s - loss: 0.4493 - accuracy: 0.7855\nEpoch 324/500\n16/16 - 0s - loss: 0.4486 - accuracy: 0.7857\nEpoch 325/500\n16/16 - 0s - loss: 0.4490 - accuracy: 0.7865\nEpoch 326/500\n16/16 - 0s - loss: 0.4479 - accuracy: 0.7866\nEpoch 327/500\n16/16 - 0s - loss: 0.4489 - accuracy: 0.7854\nEpoch 328/500\n16/16 - 0s - loss: 0.4481 - accuracy: 0.7859\nEpoch 329/500\n16/16 - 0s - loss: 0.4470 - accuracy: 0.7861\nEpoch 330/500\n16/16 - 0s - loss: 0.4494 - accuracy: 0.7858\nEpoch 331/500\n16/16 - 0s - loss: 0.4518 - accuracy: 0.7835\nEpoch 332/500\n16/16 - 0s - loss: 0.4496 - accuracy: 0.7844\nEpoch 333/500\n16/16 - 0s - loss: 0.4477 - accuracy: 0.7861\nEpoch 334/500\n16/16 - 0s - loss: 0.4471 - accuracy: 0.7872\nEpoch 335/500\n16/16 - 0s - loss: 0.4465 - accuracy: 0.7862\nEpoch 336/500\n16/16 - 0s - loss: 0.4479 - accuracy: 0.7854\nEpoch 337/500\n16/16 - 0s - loss: 0.4472 - accuracy: 0.7866\nEpoch 338/500\n16/16 - 0s - loss: 0.4467 - accuracy: 0.7870\nEpoch 339/500\n16/16 - 0s - loss: 0.4473 - accuracy: 0.7854\nEpoch 340/500\n16/16 - 0s - loss: 0.4471 - accuracy: 0.7863\nEpoch 341/500\n16/16 - 0s - loss: 0.4468 - accuracy: 0.7873\nEpoch 342/500\n16/16 - 0s - loss: 0.4477 - accuracy: 0.7858\nEpoch 343/500\n16/16 - 0s - loss: 0.4461 - accuracy: 0.7878\nEpoch 344/500\n16/16 - 0s - loss: 0.4467 - accuracy: 0.7870\nEpoch 345/500\n16/16 - 0s - loss: 0.4452 - accuracy: 0.7879\nEpoch 346/500\n16/16 - 0s - loss: 0.4459 - accuracy: 0.7868\nEpoch 347/500\n16/16 - 0s - loss: 0.4464 - accuracy: 0.7873\nEpoch 348/500\n16/16 - 0s - loss: 0.4468 - accuracy: 0.7877\nEpoch 349/500\n16/16 - 0s - loss: 0.4466 - accuracy: 0.7867\nEpoch 350/500\n16/16 - 0s - loss: 0.4480 - accuracy: 0.7868\nEpoch 351/500\n16/16 - 0s - loss: 0.4470 - accuracy: 0.7877\nEpoch 352/500\n16/16 - 0s - loss: 0.4460 - accuracy: 0.7887\nEpoch 353/500\n16/16 - 0s - loss: 0.4458 - accuracy: 0.7877\nEpoch 354/500\n16/16 - 0s - loss: 0.4454 - accuracy: 0.7885\nEpoch 355/500\n16/16 - 0s - loss: 0.4449 - accuracy: 0.7890\nEpoch 356/500\n16/16 - 0s - loss: 0.4452 - accuracy: 0.7883\nEpoch 357/500\n16/16 - 0s - loss: 0.4457 - accuracy: 0.7876\nEpoch 358/500\n16/16 - 0s - loss: 0.4455 - accuracy: 0.7865\nEpoch 359/500\n16/16 - 0s - loss: 0.4448 - accuracy: 0.7871\nEpoch 360/500\n16/16 - 0s - loss: 0.4451 - accuracy: 0.7874\nEpoch 361/500\n16/16 - 0s - loss: 0.4446 - accuracy: 0.7875\nEpoch 362/500\n16/16 - 0s - loss: 0.4446 - accuracy: 0.7883\nEpoch 363/500\n16/16 - 0s - loss: 0.4463 - accuracy: 0.7878\nEpoch 364/500\n16/16 - 0s - loss: 0.4449 - accuracy: 0.7887\nEpoch 365/500\n16/16 - 0s - loss: 0.4446 - accuracy: 0.7879\nEpoch 366/500\n16/16 - 0s - loss: 0.4447 - accuracy: 0.7888\nEpoch 367/500\n16/16 - 0s - loss: 0.4446 - accuracy: 0.7888\nEpoch 368/500\n16/16 - 0s - loss: 0.4467 - accuracy: 0.7871\nEpoch 369/500\n16/16 - 0s - loss: 0.4492 - accuracy: 0.7859\nEpoch 370/500\n16/16 - 0s - loss: 0.4462 - accuracy: 0.7872\nEpoch 371/500\n16/16 - 0s - loss: 0.4446 - accuracy: 0.7867\nEpoch 372/500\n16/16 - 0s - loss: 0.4434 - accuracy: 0.7897\nEpoch 373/500\n16/16 - 0s - loss: 0.4438 - accuracy: 0.7884\nEpoch 374/500\n16/16 - 0s - loss: 0.4453 - accuracy: 0.7868\nEpoch 375/500\n16/16 - 0s - loss: 0.4445 - accuracy: 0.7896\nEpoch 376/500\n16/16 - 0s - loss: 0.4453 - accuracy: 0.7867\nEpoch 377/500\n16/16 - 0s - loss: 0.4434 - accuracy: 0.7883\nEpoch 378/500\n16/16 - 0s - loss: 0.4433 - accuracy: 0.7897\nEpoch 379/500\n16/16 - 0s - loss: 0.4431 - accuracy: 0.7889\nEpoch 380/500\n16/16 - 0s - loss: 0.4424 - accuracy: 0.7899\nEpoch 381/500\n16/16 - 0s - loss: 0.4422 - accuracy: 0.7895\nEpoch 382/500\n16/16 - 0s - loss: 0.4421 - accuracy: 0.7909\nEpoch 383/500\n16/16 - 0s - loss: 0.4428 - accuracy: 0.7905\nEpoch 384/500\n16/16 - 0s - loss: 0.4424 - accuracy: 0.7907\nEpoch 385/500\n16/16 - 0s - loss: 0.4427 - accuracy: 0.7893\nEpoch 386/500\n16/16 - 0s - loss: 0.4431 - accuracy: 0.7901\nEpoch 387/500\n16/16 - 0s - loss: 0.4426 - accuracy: 0.7888\nEpoch 388/500\n16/16 - 0s - loss: 0.4435 - accuracy: 0.7898\nEpoch 389/500\n16/16 - 0s - loss: 0.4437 - accuracy: 0.7889\nEpoch 390/500\n16/16 - 0s - loss: 0.4426 - accuracy: 0.7897\nEpoch 391/500\n16/16 - 0s - loss: 0.4433 - accuracy: 0.7908\nEpoch 392/500\n16/16 - 0s - loss: 0.4420 - accuracy: 0.7898\nEpoch 393/500\n16/16 - 0s - loss: 0.4417 - accuracy: 0.7904\nEpoch 394/500\n16/16 - 0s - loss: 0.4416 - accuracy: 0.7907\nEpoch 395/500\n16/16 - 0s - loss: 0.4418 - accuracy: 0.7888\nEpoch 396/500\n16/16 - 0s - loss: 0.4416 - accuracy: 0.7903\nEpoch 397/500\n16/16 - 0s - loss: 0.4434 - accuracy: 0.7891\nEpoch 398/500\n16/16 - 0s - loss: 0.4413 - accuracy: 0.7895\nEpoch 399/500\n16/16 - 0s - loss: 0.4414 - accuracy: 0.7903\nEpoch 400/500\n16/16 - 0s - loss: 0.4438 - accuracy: 0.7895\nEpoch 401/500\n16/16 - 0s - loss: 0.4415 - accuracy: 0.7904\nEpoch 402/500\n16/16 - 0s - loss: 0.4414 - accuracy: 0.7899\nEpoch 403/500\n16/16 - 0s - loss: 0.4402 - accuracy: 0.7910\nEpoch 404/500\n16/16 - 0s - loss: 0.4406 - accuracy: 0.7914\nEpoch 405/500\n16/16 - 0s - loss: 0.4404 - accuracy: 0.7912\nEpoch 406/500\n16/16 - 0s - loss: 0.4404 - accuracy: 0.7905\nEpoch 407/500\n16/16 - 0s - loss: 0.4422 - accuracy: 0.7896\nEpoch 408/500\n16/16 - 0s - loss: 0.4423 - accuracy: 0.7893\nEpoch 409/500\n16/16 - 0s - loss: 0.4408 - accuracy: 0.7903\nEpoch 410/500\n16/16 - 0s - loss: 0.4410 - accuracy: 0.7908\nEpoch 411/500\n16/16 - 0s - loss: 0.4404 - accuracy: 0.7922\nEpoch 412/500\n16/16 - 0s - loss: 0.4404 - accuracy: 0.7906\nEpoch 413/500\n16/16 - 0s - loss: 0.4398 - accuracy: 0.7908\nEpoch 414/500\n16/16 - 0s - loss: 0.4404 - accuracy: 0.7907\nEpoch 415/500\n16/16 - 0s - loss: 0.4401 - accuracy: 0.7913\nEpoch 416/500\n16/16 - 0s - loss: 0.4392 - accuracy: 0.7924\nEpoch 417/500\n16/16 - 0s - loss: 0.4391 - accuracy: 0.7906\nEpoch 418/500\n16/16 - 0s - loss: 0.4394 - accuracy: 0.7911\nEpoch 419/500\n16/16 - 0s - loss: 0.4395 - accuracy: 0.7915\nEpoch 420/500\n16/16 - 0s - loss: 0.4402 - accuracy: 0.7909\nEpoch 421/500\n16/16 - 0s - loss: 0.4402 - accuracy: 0.7916\nEpoch 422/500\n16/16 - 0s - loss: 0.4421 - accuracy: 0.7887\nEpoch 423/500\n16/16 - 0s - loss: 0.4409 - accuracy: 0.7897\nEpoch 424/500\n16/16 - 0s - loss: 0.4394 - accuracy: 0.7931\nEpoch 425/500\n16/16 - 0s - loss: 0.4404 - accuracy: 0.7900\nEpoch 426/500\n16/16 - 0s - loss: 0.4391 - accuracy: 0.7914\nEpoch 427/500\n16/16 - 0s - loss: 0.4385 - accuracy: 0.7911\nEpoch 428/500\n16/16 - 0s - loss: 0.4394 - accuracy: 0.7923\nEpoch 429/500\n16/16 - 0s - loss: 0.4392 - accuracy: 0.7916\nEpoch 430/500\n16/16 - 0s - loss: 0.4386 - accuracy: 0.7924\nEpoch 431/500\n16/16 - 0s - loss: 0.4386 - accuracy: 0.7916\nEpoch 432/500\n16/16 - 0s - loss: 0.4379 - accuracy: 0.7924\nEpoch 433/500\n16/16 - 0s - loss: 0.4381 - accuracy: 0.7916\nEpoch 434/500\n16/16 - 0s - loss: 0.4382 - accuracy: 0.7914\nEpoch 435/500\n16/16 - 0s - loss: 0.4375 - accuracy: 0.7937\nEpoch 436/500\n16/16 - 0s - loss: 0.4389 - accuracy: 0.7926\nEpoch 437/500\n16/16 - 0s - loss: 0.4396 - accuracy: 0.7915\nEpoch 438/500\n16/16 - 0s - loss: 0.4385 - accuracy: 0.7930\nEpoch 439/500\n16/16 - 0s - loss: 0.4381 - accuracy: 0.7912\nEpoch 440/500\n16/16 - 0s - loss: 0.4385 - accuracy: 0.7933\nEpoch 441/500\n16/16 - 0s - loss: 0.4373 - accuracy: 0.7923\nEpoch 442/500\n16/16 - 0s - loss: 0.4375 - accuracy: 0.7932\nEpoch 443/500\n16/16 - 0s - loss: 0.4375 - accuracy: 0.7936\nEpoch 444/500\n16/16 - 0s - loss: 0.4377 - accuracy: 0.7930\nEpoch 445/500\n16/16 - 0s - loss: 0.4370 - accuracy: 0.7934\nEpoch 446/500\n16/16 - 0s - loss: 0.4368 - accuracy: 0.7938\nEpoch 447/500\n16/16 - 0s - loss: 0.4381 - accuracy: 0.7922\nEpoch 448/500\n16/16 - 0s - loss: 0.4368 - accuracy: 0.7937\nEpoch 449/500\n16/16 - 0s - loss: 0.4375 - accuracy: 0.7936\nEpoch 450/500\n16/16 - 0s - loss: 0.4380 - accuracy: 0.7915\nEpoch 451/500\n16/16 - 0s - loss: 0.4363 - accuracy: 0.7933\nEpoch 452/500\n16/16 - 0s - loss: 0.4371 - accuracy: 0.7927\nEpoch 453/500\n16/16 - 0s - loss: 0.4370 - accuracy: 0.7935\nEpoch 454/500\n16/16 - 0s - loss: 0.4366 - accuracy: 0.7940\nEpoch 455/500\n16/16 - 0s - loss: 0.4373 - accuracy: 0.7919\nEpoch 456/500\n16/16 - 0s - loss: 0.4367 - accuracy: 0.7930\nEpoch 457/500\n16/16 - 0s - loss: 0.4363 - accuracy: 0.7940\nEpoch 458/500\n16/16 - 0s - loss: 0.4363 - accuracy: 0.7933\nEpoch 459/500\n16/16 - 0s - loss: 0.4369 - accuracy: 0.7930\nEpoch 460/500\n16/16 - 0s - loss: 0.4356 - accuracy: 0.7937\nEpoch 461/500\n16/16 - 0s - loss: 0.4355 - accuracy: 0.7931\nEpoch 462/500\n16/16 - 0s - loss: 0.4355 - accuracy: 0.7950\nEpoch 463/500\n16/16 - 0s - loss: 0.4362 - accuracy: 0.7930\nEpoch 464/500\n16/16 - 0s - loss: 0.4376 - accuracy: 0.7940\nEpoch 465/500\n16/16 - 0s - loss: 0.4408 - accuracy: 0.7899\nEpoch 466/500\n16/16 - 0s - loss: 0.4379 - accuracy: 0.7920\nEpoch 467/500\n16/16 - 0s - loss: 0.4364 - accuracy: 0.7939\nEpoch 468/500\n16/16 - 0s - loss: 0.4356 - accuracy: 0.7937\nEpoch 469/500\n16/16 - 0s - loss: 0.4355 - accuracy: 0.7941\nEpoch 470/500\n16/16 - 0s - loss: 0.4373 - accuracy: 0.7932\nEpoch 471/500\n16/16 - 0s - loss: 0.4355 - accuracy: 0.7931\nEpoch 472/500\n16/16 - 0s - loss: 0.4373 - accuracy: 0.7933\nEpoch 473/500\n16/16 - 0s - loss: 0.4383 - accuracy: 0.7932\nEpoch 474/500\n16/16 - 0s - loss: 0.4362 - accuracy: 0.7930\nEpoch 475/500\n16/16 - 0s - loss: 0.4358 - accuracy: 0.7928\nEpoch 476/500\n16/16 - 0s - loss: 0.4347 - accuracy: 0.7952\nEpoch 477/500\n16/16 - 0s - loss: 0.4352 - accuracy: 0.7941\nEpoch 478/500\n16/16 - 0s - loss: 0.4356 - accuracy: 0.7937\nEpoch 479/500\n16/16 - 0s - loss: 0.4353 - accuracy: 0.7940\nEpoch 480/500\n16/16 - 0s - loss: 0.4345 - accuracy: 0.7953\nEpoch 481/500\n16/16 - 0s - loss: 0.4335 - accuracy: 0.7949\nEpoch 482/500\n16/16 - 0s - loss: 0.4350 - accuracy: 0.7937\nEpoch 483/500\n16/16 - 0s - loss: 0.4351 - accuracy: 0.7944\nEpoch 484/500\n16/16 - 0s - loss: 0.4369 - accuracy: 0.7941\nEpoch 485/500\n16/16 - 0s - loss: 0.4343 - accuracy: 0.7943\nEpoch 486/500\n16/16 - 0s - loss: 0.4351 - accuracy: 0.7933\nEpoch 487/500\n16/16 - 0s - loss: 0.4339 - accuracy: 0.7946\nEpoch 488/500\n16/16 - 0s - loss: 0.4336 - accuracy: 0.7961\nEpoch 489/500\n16/16 - 0s - loss: 0.4355 - accuracy: 0.7938\nEpoch 490/500\n16/16 - 0s - loss: 0.4353 - accuracy: 0.7938\nEpoch 491/500\n16/16 - 0s - loss: 0.4355 - accuracy: 0.7930\nEpoch 492/500\n16/16 - 0s - loss: 0.4342 - accuracy: 0.7942\nEpoch 493/500\n16/16 - 0s - loss: 0.4364 - accuracy: 0.7924\nEpoch 494/500\n16/16 - 0s - loss: 0.4358 - accuracy: 0.7934\nEpoch 495/500\n16/16 - 0s - loss: 0.4350 - accuracy: 0.7940\nEpoch 496/500\n16/16 - 0s - loss: 0.4334 - accuracy: 0.7947\nEpoch 497/500\n16/16 - 0s - loss: 0.4331 - accuracy: 0.7937\nEpoch 498/500\n16/16 - 0s - loss: 0.4341 - accuracy: 0.7958\nEpoch 499/500\n16/16 - 0s - loss: 0.4334 - accuracy: 0.7954\nEpoch 500/500\n16/16 - 0s - loss: 0.4335 - accuracy: 0.7948\n"
    }
   ],
   "source": [
    "#Training the Model\n",
    "history = model.fit(X_train_scaled, y_train_categorical, epochs=500, batch_size=2000, shuffle=True, verbose=2)"
   ]
  },
  {
   "cell_type": "markdown",
   "metadata": {
    "colab_type": "text",
    "id": "S_ZowJis0crC"
   },
   "source": [
    "## Validation of the Model"
   ]
  },
  {
   "cell_type": "code",
   "execution_count": 14,
   "metadata": {
    "colab": {
     "base_uri": "https://localhost:8080/",
     "height": 51
    },
    "colab_type": "code",
    "executionInfo": {
     "elapsed": 1225,
     "status": "ok",
     "timestamp": 1593196025137,
     "user": {
      "displayName": "Grecia Villarreal",
      "photoUrl": "",
      "userId": "04417287800158359907"
     },
     "user_tz": 300
    },
    "id": "wcN4ybhW0crD",
    "outputId": "3acad8f1-ef7b-4f57-f9ca-5e50185535bc",
    "tags": []
   },
   "outputs": [
    {
     "output_type": "stream",
     "name": "stdout",
     "text": "322/322 - 0s - loss: 0.4768 - accuracy: 0.7750\nLoss: 0.4767511785030365, Accuracy: 0.7750316262245178\n"
    }
   ],
   "source": [
    "#Compare Model performace between training and testing data\n",
    "model_loss_train, model_accuracy_train = model.evaluate(X_train_scaled, y_train_categorical, verbose=2)\n",
    "model_loss, model_accuracy = model.evaluate(X_test_scaled, y_test_categorical, verbose=2)\n",
    "\n",
    "print(f\"Train --> Loss: {model_loss_train}, Accuracy: {model_accuracy_train}\")    \n",
    "print(f\"Test --> Loss: {model_loss}, Accuracy: {model_accuracy}\")"
   ]
  },
  {
   "cell_type": "markdown",
   "metadata": {
    "colab_type": "text",
    "id": "5iOzWcF50crF"
   },
   "source": [
    "## Saving the Trained Model"
   ]
  },
  {
   "cell_type": "code",
   "execution_count": 15,
   "metadata": {
    "colab": {},
    "colab_type": "code",
    "executionInfo": {
     "elapsed": 356,
     "status": "ok",
     "timestamp": 1593196165263,
     "user": {
      "displayName": "Grecia Villarreal",
      "photoUrl": "",
      "userId": "04417287800158359907"
     },
     "user_tz": 300
    },
    "id": "13uMQTlH0crG"
   },
   "outputs": [],
   "source": [
    "# Save the model\n",
    "model.save(\"../Models/h5/skey.h5\")"
   ]
  }
 ],
 "metadata": {
  "colab": {
   "name": "Copy of model_v2.ipynb",
   "provenance": [
    {
     "file_id": "11wI5Qfi-s_wzKnroqXDrvjKOaF8fJka3",
     "timestamp": 1593196456960
    }
   ]
  },
  "kernelspec": {
   "display_name": "Python 3.8.3 64-bit ('venv': venv)",
   "language": "python",
   "name": "python38364bitvenvvenv54c3120af49c4f098fcd2d81e62b322e"
  },
  "language_info": {
   "codemirror_mode": {
    "name": "ipython",
    "version": 3
   },
   "file_extension": ".py",
   "mimetype": "text/x-python",
   "name": "python",
   "nbconvert_exporter": "python",
   "pygments_lexer": "ipython3",
   "version": "3.8.3-final"
  }
 },
 "nbformat": 4,
 "nbformat_minor": 1
}
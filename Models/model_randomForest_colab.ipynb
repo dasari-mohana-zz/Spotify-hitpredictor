{
  "nbformat": 4,
  "nbformat_minor": 0,
  "metadata": {
    "language_info": {
      "codemirror_mode": {
        "name": "ipython",
        "version": 3
      },
      "file_extension": ".py",
      "mimetype": "text/x-python",
      "name": "python",
      "nbconvert_exporter": "python",
      "pygments_lexer": "ipython3",
      "version": "3.8.3-final"
    },
    "orig_nbformat": 2,
    "kernelspec": {
      "name": "python38364bitvenvvenv54c3120af49c4f098fcd2d81e62b322e",
      "display_name": "Python 3.8.3 64-bit ('venv': venv)"
    },
    "colab": {
      "name": "model_randomForest.ipynb",
      "provenance": []
    }
  },
  "cells": [
    {
      "cell_type": "code",
      "metadata": {
        "id": "MW7M3jasL9Qt",
        "colab_type": "code",
        "colab": {
          "resources": {
            "http://localhost:8080/nbextensions/google.colab/files.js": {
              "data": "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",
              "ok": true,
              "headers": [
                [
                  "content-type",
                  "application/javascript"
                ]
              ],
              "status": 200,
              "status_text": "OK"
            }
          },
          "base_uri": "https://localhost:8080/",
          "height": 253
        },
        "outputId": "457599f1-f82c-40ae-e7fb-d2ec5c52643d"
      },
      "source": [
        "from google.colab import files\n",
        "uploaded = files.upload()"
      ],
      "execution_count": 1,
      "outputs": [
        {
          "output_type": "display_data",
          "data": {
            "text/html": [
              "\n",
              "     <input type=\"file\" id=\"files-4a96f558-4aa8-4f59-9b2d-27dadfbaf1d2\" name=\"files[]\" multiple disabled\n",
              "        style=\"border:none\" />\n",
              "     <output id=\"result-4a96f558-4aa8-4f59-9b2d-27dadfbaf1d2\">\n",
              "      Upload widget is only available when the cell has been executed in the\n",
              "      current browser session. Please rerun this cell to enable.\n",
              "      </output>\n",
              "      <script src=\"/nbextensions/google.colab/files.js\"></script> "
            ],
            "text/plain": [
              "<IPython.core.display.HTML object>"
            ]
          },
          "metadata": {
            "tags": []
          }
        },
        {
          "output_type": "stream",
          "text": [
            "Saving dataset-of-00s.csv to dataset-of-00s (1).csv\n",
            "Saving dataset-of-10s.csv to dataset-of-10s (1).csv\n",
            "Saving dataset-of-60s.csv to dataset-of-60s (1).csv\n",
            "Saving dataset-of-70s.csv to dataset-of-70s (1).csv\n",
            "Saving dataset-of-80s.csv to dataset-of-80s (1).csv\n",
            "Saving dataset-of-90s.csv to dataset-of-90s (1).csv\n"
          ],
          "name": "stdout"
        }
      ]
    },
    {
      "cell_type": "code",
      "metadata": {
        "id": "S2VRUcK2LzF9",
        "colab_type": "code",
        "colab": {}
      },
      "source": [
        "import os\n",
        "import glob\n",
        "import pandas as pd\n",
        "import numpy as np \n",
        "\n",
        "np.random.seed(20)"
      ],
      "execution_count": 2,
      "outputs": []
    },
    {
      "cell_type": "code",
      "metadata": {
        "id": "820idZCKLzGb",
        "colab_type": "code",
        "colab": {
          "base_uri": "https://localhost:8080/",
          "height": 239
        },
        "outputId": "c8e024cf-1ecf-4e3c-d342-fe275233bb19"
      },
      "source": [
        "# Use glob to match the pattern ‘csv’\n",
        "extension = 'csv'\n",
        "all_filenames = [i for i in glob.glob('*.{}'.format(extension))]\n",
        "all_filenames"
      ],
      "execution_count": 3,
      "outputs": [
        {
          "output_type": "execute_result",
          "data": {
            "text/plain": [
              "['dataset-of-00s.csv',\n",
              " 'dataset-of-60s (1).csv',\n",
              " 'dataset-of-60s.csv',\n",
              " 'dataset-of-70s.csv',\n",
              " 'dataset-of-80s (1).csv',\n",
              " 'dataset-of-10s (1).csv',\n",
              " 'dataset-of-90s (1).csv',\n",
              " 'dataset-of-80s.csv',\n",
              " 'dataset-of-90s.csv',\n",
              " 'dataset-of-00s (1).csv',\n",
              " 'dataset-of-70s (1).csv',\n",
              " 'dataset-of-10s.csv']"
            ]
          },
          "metadata": {
            "tags": []
          },
          "execution_count": 3
        }
      ]
    },
    {
      "cell_type": "code",
      "metadata": {
        "id": "rGAdpyPyLzGv",
        "colab_type": "code",
        "colab": {
          "base_uri": "https://localhost:8080/",
          "height": 669
        },
        "outputId": "cb97abcb-9ae0-4b31-eb6f-617b1103a00f"
      },
      "source": [
        "# Combine all files in the list and export as CSV\n",
        "data = pd.concat([pd.read_csv(f) for f in all_filenames ])\n",
        "data.reset_index(drop=True, inplace=True)\n",
        "data"
      ],
      "execution_count": 4,
      "outputs": [
        {
          "output_type": "execute_result",
          "data": {
            "text/html": [
              "<div>\n",
              "<style scoped>\n",
              "    .dataframe tbody tr th:only-of-type {\n",
              "        vertical-align: middle;\n",
              "    }\n",
              "\n",
              "    .dataframe tbody tr th {\n",
              "        vertical-align: top;\n",
              "    }\n",
              "\n",
              "    .dataframe thead th {\n",
              "        text-align: right;\n",
              "    }\n",
              "</style>\n",
              "<table border=\"1\" class=\"dataframe\">\n",
              "  <thead>\n",
              "    <tr style=\"text-align: right;\">\n",
              "      <th></th>\n",
              "      <th>track</th>\n",
              "      <th>artist</th>\n",
              "      <th>uri</th>\n",
              "      <th>danceability</th>\n",
              "      <th>energy</th>\n",
              "      <th>key</th>\n",
              "      <th>loudness</th>\n",
              "      <th>mode</th>\n",
              "      <th>speechiness</th>\n",
              "      <th>acousticness</th>\n",
              "      <th>instrumentalness</th>\n",
              "      <th>liveness</th>\n",
              "      <th>valence</th>\n",
              "      <th>tempo</th>\n",
              "      <th>duration_ms</th>\n",
              "      <th>time_signature</th>\n",
              "      <th>chorus_hit</th>\n",
              "      <th>sections</th>\n",
              "      <th>target</th>\n",
              "    </tr>\n",
              "  </thead>\n",
              "  <tbody>\n",
              "    <tr>\n",
              "      <th>0</th>\n",
              "      <td>Lucky Man</td>\n",
              "      <td>Montgomery Gentry</td>\n",
              "      <td>spotify:track:4GiXBCUF7H6YfNQsnBRIzl</td>\n",
              "      <td>0.578</td>\n",
              "      <td>0.471</td>\n",
              "      <td>4</td>\n",
              "      <td>-7.270</td>\n",
              "      <td>1</td>\n",
              "      <td>0.0289</td>\n",
              "      <td>0.368000</td>\n",
              "      <td>0.000000</td>\n",
              "      <td>0.159</td>\n",
              "      <td>0.5320</td>\n",
              "      <td>133.061</td>\n",
              "      <td>196707</td>\n",
              "      <td>4</td>\n",
              "      <td>30.88059</td>\n",
              "      <td>13</td>\n",
              "      <td>1</td>\n",
              "    </tr>\n",
              "    <tr>\n",
              "      <th>1</th>\n",
              "      <td>On The Hotline</td>\n",
              "      <td>Pretty Ricky</td>\n",
              "      <td>spotify:track:1zyqZONW985Cs4osz9wlsu</td>\n",
              "      <td>0.704</td>\n",
              "      <td>0.854</td>\n",
              "      <td>10</td>\n",
              "      <td>-5.477</td>\n",
              "      <td>0</td>\n",
              "      <td>0.1830</td>\n",
              "      <td>0.018500</td>\n",
              "      <td>0.000000</td>\n",
              "      <td>0.148</td>\n",
              "      <td>0.6880</td>\n",
              "      <td>92.988</td>\n",
              "      <td>242587</td>\n",
              "      <td>4</td>\n",
              "      <td>41.51106</td>\n",
              "      <td>10</td>\n",
              "      <td>1</td>\n",
              "    </tr>\n",
              "    <tr>\n",
              "      <th>2</th>\n",
              "      <td>Clouds Of Dementia</td>\n",
              "      <td>Candlemass</td>\n",
              "      <td>spotify:track:6cHZf7RbxXCKwEkgAZT4mY</td>\n",
              "      <td>0.162</td>\n",
              "      <td>0.836</td>\n",
              "      <td>9</td>\n",
              "      <td>-3.009</td>\n",
              "      <td>1</td>\n",
              "      <td>0.0473</td>\n",
              "      <td>0.000111</td>\n",
              "      <td>0.004570</td>\n",
              "      <td>0.174</td>\n",
              "      <td>0.3000</td>\n",
              "      <td>86.964</td>\n",
              "      <td>338893</td>\n",
              "      <td>4</td>\n",
              "      <td>65.32887</td>\n",
              "      <td>13</td>\n",
              "      <td>0</td>\n",
              "    </tr>\n",
              "    <tr>\n",
              "      <th>3</th>\n",
              "      <td>Heavy Metal, Raise Hell!</td>\n",
              "      <td>Zwartketterij</td>\n",
              "      <td>spotify:track:2IjBPp2vMeX7LggzRN3iSX</td>\n",
              "      <td>0.188</td>\n",
              "      <td>0.994</td>\n",
              "      <td>4</td>\n",
              "      <td>-3.745</td>\n",
              "      <td>1</td>\n",
              "      <td>0.1660</td>\n",
              "      <td>0.000007</td>\n",
              "      <td>0.078400</td>\n",
              "      <td>0.192</td>\n",
              "      <td>0.3330</td>\n",
              "      <td>148.440</td>\n",
              "      <td>255667</td>\n",
              "      <td>4</td>\n",
              "      <td>58.59528</td>\n",
              "      <td>9</td>\n",
              "      <td>0</td>\n",
              "    </tr>\n",
              "    <tr>\n",
              "      <th>4</th>\n",
              "      <td>I Got A Feelin'</td>\n",
              "      <td>Billy Currington</td>\n",
              "      <td>spotify:track:1tF370eYXUcWwkIvaq3IGz</td>\n",
              "      <td>0.630</td>\n",
              "      <td>0.764</td>\n",
              "      <td>2</td>\n",
              "      <td>-4.353</td>\n",
              "      <td>1</td>\n",
              "      <td>0.0275</td>\n",
              "      <td>0.363000</td>\n",
              "      <td>0.000000</td>\n",
              "      <td>0.125</td>\n",
              "      <td>0.6310</td>\n",
              "      <td>112.098</td>\n",
              "      <td>193760</td>\n",
              "      <td>4</td>\n",
              "      <td>22.62384</td>\n",
              "      <td>10</td>\n",
              "      <td>1</td>\n",
              "    </tr>\n",
              "    <tr>\n",
              "      <th>...</th>\n",
              "      <td>...</td>\n",
              "      <td>...</td>\n",
              "      <td>...</td>\n",
              "      <td>...</td>\n",
              "      <td>...</td>\n",
              "      <td>...</td>\n",
              "      <td>...</td>\n",
              "      <td>...</td>\n",
              "      <td>...</td>\n",
              "      <td>...</td>\n",
              "      <td>...</td>\n",
              "      <td>...</td>\n",
              "      <td>...</td>\n",
              "      <td>...</td>\n",
              "      <td>...</td>\n",
              "      <td>...</td>\n",
              "      <td>...</td>\n",
              "      <td>...</td>\n",
              "      <td>...</td>\n",
              "    </tr>\n",
              "    <tr>\n",
              "      <th>82207</th>\n",
              "      <td>Lotus Flowers</td>\n",
              "      <td>Yolta</td>\n",
              "      <td>spotify:track:4t1TljQWJ6ZuoSY67zVvBI</td>\n",
              "      <td>0.172</td>\n",
              "      <td>0.358</td>\n",
              "      <td>9</td>\n",
              "      <td>-14.430</td>\n",
              "      <td>1</td>\n",
              "      <td>0.0342</td>\n",
              "      <td>0.886000</td>\n",
              "      <td>0.966000</td>\n",
              "      <td>0.314</td>\n",
              "      <td>0.0361</td>\n",
              "      <td>72.272</td>\n",
              "      <td>150857</td>\n",
              "      <td>4</td>\n",
              "      <td>24.30824</td>\n",
              "      <td>7</td>\n",
              "      <td>0</td>\n",
              "    </tr>\n",
              "    <tr>\n",
              "      <th>82208</th>\n",
              "      <td>Calling My Spirit</td>\n",
              "      <td>Kodak Black</td>\n",
              "      <td>spotify:track:2MShy1GSSgbmGUxADNIao5</td>\n",
              "      <td>0.910</td>\n",
              "      <td>0.366</td>\n",
              "      <td>1</td>\n",
              "      <td>-9.954</td>\n",
              "      <td>1</td>\n",
              "      <td>0.0941</td>\n",
              "      <td>0.099600</td>\n",
              "      <td>0.000000</td>\n",
              "      <td>0.261</td>\n",
              "      <td>0.7400</td>\n",
              "      <td>119.985</td>\n",
              "      <td>152000</td>\n",
              "      <td>4</td>\n",
              "      <td>32.53856</td>\n",
              "      <td>8</td>\n",
              "      <td>1</td>\n",
              "    </tr>\n",
              "    <tr>\n",
              "      <th>82209</th>\n",
              "      <td>Teenage Dream</td>\n",
              "      <td>Katy Perry</td>\n",
              "      <td>spotify:track:55qBw1900pZKfXJ6Q9A2Lc</td>\n",
              "      <td>0.719</td>\n",
              "      <td>0.804</td>\n",
              "      <td>10</td>\n",
              "      <td>-4.581</td>\n",
              "      <td>1</td>\n",
              "      <td>0.0355</td>\n",
              "      <td>0.013200</td>\n",
              "      <td>0.000003</td>\n",
              "      <td>0.139</td>\n",
              "      <td>0.6050</td>\n",
              "      <td>119.999</td>\n",
              "      <td>227760</td>\n",
              "      <td>4</td>\n",
              "      <td>20.73371</td>\n",
              "      <td>7</td>\n",
              "      <td>1</td>\n",
              "    </tr>\n",
              "    <tr>\n",
              "      <th>82210</th>\n",
              "      <td>Stormy Weather</td>\n",
              "      <td>Oscar Peterson</td>\n",
              "      <td>spotify:track:4o9npmYHrOF1rUxxTVH8h4</td>\n",
              "      <td>0.600</td>\n",
              "      <td>0.177</td>\n",
              "      <td>7</td>\n",
              "      <td>-16.070</td>\n",
              "      <td>1</td>\n",
              "      <td>0.0561</td>\n",
              "      <td>0.989000</td>\n",
              "      <td>0.868000</td>\n",
              "      <td>0.149</td>\n",
              "      <td>0.5600</td>\n",
              "      <td>120.030</td>\n",
              "      <td>213387</td>\n",
              "      <td>4</td>\n",
              "      <td>21.65301</td>\n",
              "      <td>14</td>\n",
              "      <td>0</td>\n",
              "    </tr>\n",
              "    <tr>\n",
              "      <th>82211</th>\n",
              "      <td>Dust</td>\n",
              "      <td>Hans Zimmer</td>\n",
              "      <td>spotify:track:2khIaVUkbMmDHB596lyMG3</td>\n",
              "      <td>0.121</td>\n",
              "      <td>0.123</td>\n",
              "      <td>4</td>\n",
              "      <td>-23.025</td>\n",
              "      <td>0</td>\n",
              "      <td>0.0443</td>\n",
              "      <td>0.964000</td>\n",
              "      <td>0.696000</td>\n",
              "      <td>0.103</td>\n",
              "      <td>0.0297</td>\n",
              "      <td>95.182</td>\n",
              "      <td>341396</td>\n",
              "      <td>4</td>\n",
              "      <td>71.05343</td>\n",
              "      <td>15</td>\n",
              "      <td>0</td>\n",
              "    </tr>\n",
              "  </tbody>\n",
              "</table>\n",
              "<p>82212 rows × 19 columns</p>\n",
              "</div>"
            ],
            "text/plain": [
              "                          track             artist  ... sections  target\n",
              "0                     Lucky Man  Montgomery Gentry  ...       13       1\n",
              "1                On The Hotline       Pretty Ricky  ...       10       1\n",
              "2            Clouds Of Dementia         Candlemass  ...       13       0\n",
              "3      Heavy Metal, Raise Hell!      Zwartketterij  ...        9       0\n",
              "4               I Got A Feelin'   Billy Currington  ...       10       1\n",
              "...                         ...                ...  ...      ...     ...\n",
              "82207             Lotus Flowers              Yolta  ...        7       0\n",
              "82208         Calling My Spirit        Kodak Black  ...        8       1\n",
              "82209             Teenage Dream         Katy Perry  ...        7       1\n",
              "82210            Stormy Weather     Oscar Peterson  ...       14       0\n",
              "82211                      Dust        Hans Zimmer  ...       15       0\n",
              "\n",
              "[82212 rows x 19 columns]"
            ]
          },
          "metadata": {
            "tags": []
          },
          "execution_count": 4
        }
      ]
    },
    {
      "cell_type": "code",
      "metadata": {
        "id": "LMjk18hTLzHL",
        "colab_type": "code",
        "colab": {
          "base_uri": "https://localhost:8080/",
          "height": 110
        },
        "outputId": "de47441b-e825-45cb-eeb3-13a2cae541a5"
      },
      "source": [
        "data.columns"
      ],
      "execution_count": 5,
      "outputs": [
        {
          "output_type": "execute_result",
          "data": {
            "text/plain": [
              "Index(['track', 'artist', 'uri', 'danceability', 'energy', 'key', 'loudness',\n",
              "       'mode', 'speechiness', 'acousticness', 'instrumentalness', 'liveness',\n",
              "       'valence', 'tempo', 'duration_ms', 'time_signature', 'chorus_hit',\n",
              "       'sections', 'target'],\n",
              "      dtype='object')"
            ]
          },
          "metadata": {
            "tags": []
          },
          "execution_count": 5
        }
      ]
    },
    {
      "cell_type": "code",
      "metadata": {
        "id": "ELJ46_6HLzHU",
        "colab_type": "code",
        "colab": {}
      },
      "source": [
        "y = data.target\n",
        "x = data[['danceability', 'energy', 'key', 'loudness','mode', 'speechiness', 'acousticness', 'instrumentalness', 'liveness','valence', 'tempo', 'duration_ms', 'time_signature', 'chorus_hit','sections']]"
      ],
      "execution_count": 6,
      "outputs": []
    },
    {
      "cell_type": "code",
      "metadata": {
        "tags": [],
        "id": "f_Z08kxrLzHc",
        "colab_type": "code",
        "colab": {
          "base_uri": "https://localhost:8080/",
          "height": 36
        },
        "outputId": "eb6653ff-e2cc-4d0d-ed99-4d4f8f40af8c"
      },
      "source": [
        "print(x.shape, y.shape)"
      ],
      "execution_count": 7,
      "outputs": [
        {
          "output_type": "stream",
          "text": [
            "(82212, 15) (82212,)\n"
          ],
          "name": "stdout"
        }
      ]
    },
    {
      "cell_type": "code",
      "metadata": {
        "id": "d_OiHsARLzHk",
        "colab_type": "code",
        "colab": {}
      },
      "source": [
        "from sklearn.model_selection import train_test_split\n",
        "\n",
        "x_train, x_test, y_train, y_test = train_test_split(x, y, random_state=12)"
      ],
      "execution_count": 8,
      "outputs": []
    },
    {
      "cell_type": "markdown",
      "metadata": {
        "id": "hWiIeXilLzHw",
        "colab_type": "text"
      },
      "source": [
        "### With RANDOM FOREST"
      ]
    },
    {
      "cell_type": "code",
      "metadata": {
        "id": "x47h37IyunZR",
        "colab_type": "code",
        "colab": {}
      },
      "source": [
        "from sklearn.preprocessing import StandardScaler\n",
        "\n",
        "x_scaler = StandardScaler().fit(x_train)\n",
        "\n",
        "x_train_scaled = x_scaler.transform(x_train)\n",
        "x_test_scaled = x_scaler.transform(x_test)"
      ],
      "execution_count": 9,
      "outputs": []
    },
    {
      "cell_type": "code",
      "metadata": {
        "id": "h9zSNCLfLzHy",
        "colab_type": "code",
        "colab": {}
      },
      "source": [
        "# Create a random forest classifier\n",
        "from sklearn.ensemble import RandomForestClassifier\n",
        "\n",
        "model = RandomForestClassifier(n_estimators=200, max_depth=25) \n",
        "model = model.fit(x_train_scaled, y_train)"
      ],
      "execution_count": 10,
      "outputs": []
    },
    {
      "cell_type": "code",
      "metadata": {
        "id": "sMlSPlnvQc85",
        "colab_type": "code",
        "colab": {
          "base_uri": "https://localhost:8080/",
          "height": 54
        },
        "outputId": "9b574bd7-c846-48ce-d282-44cf9665b930"
      },
      "source": [
        "print(f\"Training Data Score: {model.score(x_train_scaled, y_train)}\")\n",
        "print(f\"Testing Data Score: {model.score(x_test_scaled, y_test)}\")"
      ],
      "execution_count": 11,
      "outputs": [
        {
          "output_type": "stream",
          "text": [
            "Training Data Score: 0.9964482070743931\n",
            "Testing Data Score: 0.9401060672407922\n"
          ],
          "name": "stdout"
        }
      ]
    },
    {
      "cell_type": "code",
      "metadata": {
        "id": "KE3bTDBALzIB",
        "colab_type": "code",
        "colab": {
          "base_uri": "https://localhost:8080/",
          "height": 73
        },
        "outputId": "a7e7c35f-d499-492c-aeb7-b025c1219fa8"
      },
      "source": [
        "# Validation of feature importance\n",
        "importances = model.feature_importances_\n",
        "importances"
      ],
      "execution_count": 12,
      "outputs": [
        {
          "output_type": "execute_result",
          "data": {
            "text/plain": [
              "array([0.10244483, 0.08098991, 0.02807624, 0.07954222, 0.01050716,\n",
              "       0.0735539 , 0.11091336, 0.1721812 , 0.04944604, 0.0703247 ,\n",
              "       0.0526965 , 0.07634634, 0.00681551, 0.04885519, 0.03730689])"
            ]
          },
          "metadata": {
            "tags": []
          },
          "execution_count": 12
        }
      ]
    },
    {
      "cell_type": "code",
      "metadata": {
        "id": "0KSlcelbLzIJ",
        "colab_type": "code",
        "colab": {
          "base_uri": "https://localhost:8080/",
          "height": 295
        },
        "outputId": "67ae031b-67b4-43e1-8dcc-9f56e99c9a5e"
      },
      "source": [
        "# We can sort the features by their importance\n",
        "\n",
        "sorted(zip(model.feature_importances_, x.columns), reverse=True)"
      ],
      "execution_count": 13,
      "outputs": [
        {
          "output_type": "execute_result",
          "data": {
            "text/plain": [
              "[(0.17218120205900364, 'instrumentalness'),\n",
              " (0.11091336029836071, 'acousticness'),\n",
              " (0.1024448306178178, 'danceability'),\n",
              " (0.08098990914937784, 'energy'),\n",
              " (0.0795422221632958, 'loudness'),\n",
              " (0.07634634470391682, 'duration_ms'),\n",
              " (0.07355390414671903, 'speechiness'),\n",
              " (0.0703246953334037, 'valence'),\n",
              " (0.05269649915486119, 'tempo'),\n",
              " (0.0494460402718466, 'liveness'),\n",
              " (0.04885519419863075, 'chorus_hit'),\n",
              " (0.037306890328436516, 'sections'),\n",
              " (0.028076239604106643, 'key'),\n",
              " (0.010507160717155354, 'mode'),\n",
              " (0.006815507253067717, 'time_signature')]"
            ]
          },
          "metadata": {
            "tags": []
          },
          "execution_count": 13
        }
      ]
    },
    {
      "cell_type": "code",
      "metadata": {
        "id": "uISjx5MLMHfJ",
        "colab_type": "code",
        "colab": {
          "base_uri": "https://localhost:8080/",
          "height": 36
        },
        "outputId": "075dc62d-a0a3-49ce-961f-b6516ab09bea"
      },
      "source": [
        "# Save the model\n",
        "from google.colab import drive\n",
        "drive.mount('/content/gdrive')\n",
        "path = F\"/content/gdrive/My Drive/rf.h5\" "
      ],
      "execution_count": 14,
      "outputs": [
        {
          "output_type": "stream",
          "text": [
            "Drive already mounted at /content/gdrive; to attempt to forcibly remount, call drive.mount(\"/content/gdrive\", force_remount=True).\n"
          ],
          "name": "stdout"
        }
      ]
    },
    {
      "cell_type": "code",
      "metadata": {
        "id": "0__DcSdoM_LT",
        "colab_type": "code",
        "colab": {}
      },
      "source": [
        "import pickle\n",
        "with open(path, 'wb') as f:\n",
        "    pickle.dump(model, f)"
      ],
      "execution_count": 15,
      "outputs": []
    }
  ]
}
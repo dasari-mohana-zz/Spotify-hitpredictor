{
  "nbformat": 4,
  "nbformat_minor": 0,
  "metadata": {
    "language_info": {
      "codemirror_mode": {
        "name": "ipython",
        "version": 3
      },
      "file_extension": ".py",
      "mimetype": "text/x-python",
      "name": "python",
      "nbconvert_exporter": "python",
      "pygments_lexer": "ipython3",
      "version": "3.8.3-final"
    },
    "orig_nbformat": 2,
    "kernelspec": {
      "name": "python38364bitvenvvenv54c3120af49c4f098fcd2d81e62b322e",
      "display_name": "Python 3.8.3 64-bit ('venv': venv)"
    },
    "colab": {
      "name": "model_randomForest.ipynb",
      "provenance": []
    }
  },
  "cells": [
    {
      "cell_type": "code",
      "metadata": {
        "id": "MW7M3jasL9Qt",
        "colab_type": "code",
        "colab": {
          "resources": {
            "http://localhost:8080/nbextensions/google.colab/files.js": {
              "data": "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",
              "ok": true,
              "headers": [
                [
                  "content-type",
                  "application/javascript"
                ]
              ],
              "status": 200,
              "status_text": "OK"
            }
          },
          "base_uri": "https://localhost:8080/",
          "height": 253
        },
        "outputId": "3e54afca-a036-46b3-eeb3-1f44ede8e2e3"
      },
      "source": [
        "from google.colab import files\n",
        "uploaded = files.upload()"
      ],
      "execution_count": 18,
      "outputs": [
        {
          "output_type": "display_data",
          "data": {
            "text/html": [
              "\n",
              "     <input type=\"file\" id=\"files-370248f7-356c-45d3-b11b-a118a917a441\" name=\"files[]\" multiple disabled\n",
              "        style=\"border:none\" />\n",
              "     <output id=\"result-370248f7-356c-45d3-b11b-a118a917a441\">\n",
              "      Upload widget is only available when the cell has been executed in the\n",
              "      current browser session. Please rerun this cell to enable.\n",
              "      </output>\n",
              "      <script src=\"/nbextensions/google.colab/files.js\"></script> "
            ],
            "text/plain": [
              "<IPython.core.display.HTML object>"
            ]
          },
          "metadata": {
            "tags": []
          }
        },
        {
          "output_type": "stream",
          "text": [
            "Saving dataset-of-00s.csv to dataset-of-00s (1).csv\n",
            "Saving dataset-of-10s.csv to dataset-of-10s (1).csv\n",
            "Saving dataset-of-60s.csv to dataset-of-60s (1).csv\n",
            "Saving dataset-of-70s.csv to dataset-of-70s (1).csv\n",
            "Saving dataset-of-80s.csv to dataset-of-80s (1).csv\n",
            "Saving dataset-of-90s.csv to dataset-of-90s (1).csv\n"
          ],
          "name": "stdout"
        }
      ]
    },
    {
      "cell_type": "code",
      "metadata": {
        "id": "S2VRUcK2LzF9",
        "colab_type": "code",
        "colab": {}
      },
      "source": [
        "import os\n",
        "import glob\n",
        "import pandas as pd\n",
        "import numpy as np \n",
        "\n",
        "np.random.seed(20)"
      ],
      "execution_count": 19,
      "outputs": []
    },
    {
      "cell_type": "code",
      "metadata": {
        "id": "CmH1AmSuLzGN",
        "colab_type": "code",
        "colab": {}
      },
      "source": [
        "# Define working directory\n",
        "# os.chdir(r\"C:\\Users\\Cristina Bardan\\Desktop\\Repositories\\FinalProject-Spotify\\Original_data\")"
      ],
      "execution_count": null,
      "outputs": []
    },
    {
      "cell_type": "code",
      "metadata": {
        "id": "820idZCKLzGb",
        "colab_type": "code",
        "colab": {
          "base_uri": "https://localhost:8080/",
          "height": 239
        },
        "outputId": "70391906-bd71-4ffd-fb75-54b4b8b849e2"
      },
      "source": [
        "# Use glob to match the pattern ‘csv’\n",
        "extension = 'csv'\n",
        "all_filenames = [i for i in glob.glob('*.{}'.format(extension))]\n",
        "all_filenames"
      ],
      "execution_count": 20,
      "outputs": [
        {
          "output_type": "execute_result",
          "data": {
            "text/plain": [
              "['dataset-of-00s.csv',\n",
              " 'dataset-of-60s (1).csv',\n",
              " 'dataset-of-60s.csv',\n",
              " 'dataset-of-70s.csv',\n",
              " 'dataset-of-80s (1).csv',\n",
              " 'dataset-of-10s (1).csv',\n",
              " 'dataset-of-90s (1).csv',\n",
              " 'dataset-of-80s.csv',\n",
              " 'dataset-of-90s.csv',\n",
              " 'dataset-of-00s (1).csv',\n",
              " 'dataset-of-70s (1).csv',\n",
              " 'dataset-of-10s.csv']"
            ]
          },
          "metadata": {
            "tags": []
          },
          "execution_count": 20
        }
      ]
    },
    {
      "cell_type": "code",
      "metadata": {
        "id": "rGAdpyPyLzGv",
        "colab_type": "code",
        "colab": {
          "base_uri": "https://localhost:8080/",
          "height": 669
        },
        "outputId": "14573a98-e2ce-49bd-ba8c-283bd8809b02"
      },
      "source": [
        "# Combine all files in the list and export as CSV\n",
        "data = pd.concat([pd.read_csv(f) for f in all_filenames ])\n",
        "data.reset_index(drop=True, inplace=True)\n",
        "data"
      ],
      "execution_count": 21,
      "outputs": [
        {
          "output_type": "execute_result",
          "data": {
            "text/html": [
              "<div>\n",
              "<style scoped>\n",
              "    .dataframe tbody tr th:only-of-type {\n",
              "        vertical-align: middle;\n",
              "    }\n",
              "\n",
              "    .dataframe tbody tr th {\n",
              "        vertical-align: top;\n",
              "    }\n",
              "\n",
              "    .dataframe thead th {\n",
              "        text-align: right;\n",
              "    }\n",
              "</style>\n",
              "<table border=\"1\" class=\"dataframe\">\n",
              "  <thead>\n",
              "    <tr style=\"text-align: right;\">\n",
              "      <th></th>\n",
              "      <th>track</th>\n",
              "      <th>artist</th>\n",
              "      <th>uri</th>\n",
              "      <th>danceability</th>\n",
              "      <th>energy</th>\n",
              "      <th>key</th>\n",
              "      <th>loudness</th>\n",
              "      <th>mode</th>\n",
              "      <th>speechiness</th>\n",
              "      <th>acousticness</th>\n",
              "      <th>instrumentalness</th>\n",
              "      <th>liveness</th>\n",
              "      <th>valence</th>\n",
              "      <th>tempo</th>\n",
              "      <th>duration_ms</th>\n",
              "      <th>time_signature</th>\n",
              "      <th>chorus_hit</th>\n",
              "      <th>sections</th>\n",
              "      <th>target</th>\n",
              "    </tr>\n",
              "  </thead>\n",
              "  <tbody>\n",
              "    <tr>\n",
              "      <th>0</th>\n",
              "      <td>Lucky Man</td>\n",
              "      <td>Montgomery Gentry</td>\n",
              "      <td>spotify:track:4GiXBCUF7H6YfNQsnBRIzl</td>\n",
              "      <td>0.578</td>\n",
              "      <td>0.471</td>\n",
              "      <td>4</td>\n",
              "      <td>-7.270</td>\n",
              "      <td>1</td>\n",
              "      <td>0.0289</td>\n",
              "      <td>0.368000</td>\n",
              "      <td>0.000000</td>\n",
              "      <td>0.159</td>\n",
              "      <td>0.5320</td>\n",
              "      <td>133.061</td>\n",
              "      <td>196707</td>\n",
              "      <td>4</td>\n",
              "      <td>30.88059</td>\n",
              "      <td>13</td>\n",
              "      <td>1</td>\n",
              "    </tr>\n",
              "    <tr>\n",
              "      <th>1</th>\n",
              "      <td>On The Hotline</td>\n",
              "      <td>Pretty Ricky</td>\n",
              "      <td>spotify:track:1zyqZONW985Cs4osz9wlsu</td>\n",
              "      <td>0.704</td>\n",
              "      <td>0.854</td>\n",
              "      <td>10</td>\n",
              "      <td>-5.477</td>\n",
              "      <td>0</td>\n",
              "      <td>0.1830</td>\n",
              "      <td>0.018500</td>\n",
              "      <td>0.000000</td>\n",
              "      <td>0.148</td>\n",
              "      <td>0.6880</td>\n",
              "      <td>92.988</td>\n",
              "      <td>242587</td>\n",
              "      <td>4</td>\n",
              "      <td>41.51106</td>\n",
              "      <td>10</td>\n",
              "      <td>1</td>\n",
              "    </tr>\n",
              "    <tr>\n",
              "      <th>2</th>\n",
              "      <td>Clouds Of Dementia</td>\n",
              "      <td>Candlemass</td>\n",
              "      <td>spotify:track:6cHZf7RbxXCKwEkgAZT4mY</td>\n",
              "      <td>0.162</td>\n",
              "      <td>0.836</td>\n",
              "      <td>9</td>\n",
              "      <td>-3.009</td>\n",
              "      <td>1</td>\n",
              "      <td>0.0473</td>\n",
              "      <td>0.000111</td>\n",
              "      <td>0.004570</td>\n",
              "      <td>0.174</td>\n",
              "      <td>0.3000</td>\n",
              "      <td>86.964</td>\n",
              "      <td>338893</td>\n",
              "      <td>4</td>\n",
              "      <td>65.32887</td>\n",
              "      <td>13</td>\n",
              "      <td>0</td>\n",
              "    </tr>\n",
              "    <tr>\n",
              "      <th>3</th>\n",
              "      <td>Heavy Metal, Raise Hell!</td>\n",
              "      <td>Zwartketterij</td>\n",
              "      <td>spotify:track:2IjBPp2vMeX7LggzRN3iSX</td>\n",
              "      <td>0.188</td>\n",
              "      <td>0.994</td>\n",
              "      <td>4</td>\n",
              "      <td>-3.745</td>\n",
              "      <td>1</td>\n",
              "      <td>0.1660</td>\n",
              "      <td>0.000007</td>\n",
              "      <td>0.078400</td>\n",
              "      <td>0.192</td>\n",
              "      <td>0.3330</td>\n",
              "      <td>148.440</td>\n",
              "      <td>255667</td>\n",
              "      <td>4</td>\n",
              "      <td>58.59528</td>\n",
              "      <td>9</td>\n",
              "      <td>0</td>\n",
              "    </tr>\n",
              "    <tr>\n",
              "      <th>4</th>\n",
              "      <td>I Got A Feelin'</td>\n",
              "      <td>Billy Currington</td>\n",
              "      <td>spotify:track:1tF370eYXUcWwkIvaq3IGz</td>\n",
              "      <td>0.630</td>\n",
              "      <td>0.764</td>\n",
              "      <td>2</td>\n",
              "      <td>-4.353</td>\n",
              "      <td>1</td>\n",
              "      <td>0.0275</td>\n",
              "      <td>0.363000</td>\n",
              "      <td>0.000000</td>\n",
              "      <td>0.125</td>\n",
              "      <td>0.6310</td>\n",
              "      <td>112.098</td>\n",
              "      <td>193760</td>\n",
              "      <td>4</td>\n",
              "      <td>22.62384</td>\n",
              "      <td>10</td>\n",
              "      <td>1</td>\n",
              "    </tr>\n",
              "    <tr>\n",
              "      <th>...</th>\n",
              "      <td>...</td>\n",
              "      <td>...</td>\n",
              "      <td>...</td>\n",
              "      <td>...</td>\n",
              "      <td>...</td>\n",
              "      <td>...</td>\n",
              "      <td>...</td>\n",
              "      <td>...</td>\n",
              "      <td>...</td>\n",
              "      <td>...</td>\n",
              "      <td>...</td>\n",
              "      <td>...</td>\n",
              "      <td>...</td>\n",
              "      <td>...</td>\n",
              "      <td>...</td>\n",
              "      <td>...</td>\n",
              "      <td>...</td>\n",
              "      <td>...</td>\n",
              "      <td>...</td>\n",
              "    </tr>\n",
              "    <tr>\n",
              "      <th>82207</th>\n",
              "      <td>Lotus Flowers</td>\n",
              "      <td>Yolta</td>\n",
              "      <td>spotify:track:4t1TljQWJ6ZuoSY67zVvBI</td>\n",
              "      <td>0.172</td>\n",
              "      <td>0.358</td>\n",
              "      <td>9</td>\n",
              "      <td>-14.430</td>\n",
              "      <td>1</td>\n",
              "      <td>0.0342</td>\n",
              "      <td>0.886000</td>\n",
              "      <td>0.966000</td>\n",
              "      <td>0.314</td>\n",
              "      <td>0.0361</td>\n",
              "      <td>72.272</td>\n",
              "      <td>150857</td>\n",
              "      <td>4</td>\n",
              "      <td>24.30824</td>\n",
              "      <td>7</td>\n",
              "      <td>0</td>\n",
              "    </tr>\n",
              "    <tr>\n",
              "      <th>82208</th>\n",
              "      <td>Calling My Spirit</td>\n",
              "      <td>Kodak Black</td>\n",
              "      <td>spotify:track:2MShy1GSSgbmGUxADNIao5</td>\n",
              "      <td>0.910</td>\n",
              "      <td>0.366</td>\n",
              "      <td>1</td>\n",
              "      <td>-9.954</td>\n",
              "      <td>1</td>\n",
              "      <td>0.0941</td>\n",
              "      <td>0.099600</td>\n",
              "      <td>0.000000</td>\n",
              "      <td>0.261</td>\n",
              "      <td>0.7400</td>\n",
              "      <td>119.985</td>\n",
              "      <td>152000</td>\n",
              "      <td>4</td>\n",
              "      <td>32.53856</td>\n",
              "      <td>8</td>\n",
              "      <td>1</td>\n",
              "    </tr>\n",
              "    <tr>\n",
              "      <th>82209</th>\n",
              "      <td>Teenage Dream</td>\n",
              "      <td>Katy Perry</td>\n",
              "      <td>spotify:track:55qBw1900pZKfXJ6Q9A2Lc</td>\n",
              "      <td>0.719</td>\n",
              "      <td>0.804</td>\n",
              "      <td>10</td>\n",
              "      <td>-4.581</td>\n",
              "      <td>1</td>\n",
              "      <td>0.0355</td>\n",
              "      <td>0.013200</td>\n",
              "      <td>0.000003</td>\n",
              "      <td>0.139</td>\n",
              "      <td>0.6050</td>\n",
              "      <td>119.999</td>\n",
              "      <td>227760</td>\n",
              "      <td>4</td>\n",
              "      <td>20.73371</td>\n",
              "      <td>7</td>\n",
              "      <td>1</td>\n",
              "    </tr>\n",
              "    <tr>\n",
              "      <th>82210</th>\n",
              "      <td>Stormy Weather</td>\n",
              "      <td>Oscar Peterson</td>\n",
              "      <td>spotify:track:4o9npmYHrOF1rUxxTVH8h4</td>\n",
              "      <td>0.600</td>\n",
              "      <td>0.177</td>\n",
              "      <td>7</td>\n",
              "      <td>-16.070</td>\n",
              "      <td>1</td>\n",
              "      <td>0.0561</td>\n",
              "      <td>0.989000</td>\n",
              "      <td>0.868000</td>\n",
              "      <td>0.149</td>\n",
              "      <td>0.5600</td>\n",
              "      <td>120.030</td>\n",
              "      <td>213387</td>\n",
              "      <td>4</td>\n",
              "      <td>21.65301</td>\n",
              "      <td>14</td>\n",
              "      <td>0</td>\n",
              "    </tr>\n",
              "    <tr>\n",
              "      <th>82211</th>\n",
              "      <td>Dust</td>\n",
              "      <td>Hans Zimmer</td>\n",
              "      <td>spotify:track:2khIaVUkbMmDHB596lyMG3</td>\n",
              "      <td>0.121</td>\n",
              "      <td>0.123</td>\n",
              "      <td>4</td>\n",
              "      <td>-23.025</td>\n",
              "      <td>0</td>\n",
              "      <td>0.0443</td>\n",
              "      <td>0.964000</td>\n",
              "      <td>0.696000</td>\n",
              "      <td>0.103</td>\n",
              "      <td>0.0297</td>\n",
              "      <td>95.182</td>\n",
              "      <td>341396</td>\n",
              "      <td>4</td>\n",
              "      <td>71.05343</td>\n",
              "      <td>15</td>\n",
              "      <td>0</td>\n",
              "    </tr>\n",
              "  </tbody>\n",
              "</table>\n",
              "<p>82212 rows × 19 columns</p>\n",
              "</div>"
            ],
            "text/plain": [
              "                          track             artist  ... sections  target\n",
              "0                     Lucky Man  Montgomery Gentry  ...       13       1\n",
              "1                On The Hotline       Pretty Ricky  ...       10       1\n",
              "2            Clouds Of Dementia         Candlemass  ...       13       0\n",
              "3      Heavy Metal, Raise Hell!      Zwartketterij  ...        9       0\n",
              "4               I Got A Feelin'   Billy Currington  ...       10       1\n",
              "...                         ...                ...  ...      ...     ...\n",
              "82207             Lotus Flowers              Yolta  ...        7       0\n",
              "82208         Calling My Spirit        Kodak Black  ...        8       1\n",
              "82209             Teenage Dream         Katy Perry  ...        7       1\n",
              "82210            Stormy Weather     Oscar Peterson  ...       14       0\n",
              "82211                      Dust        Hans Zimmer  ...       15       0\n",
              "\n",
              "[82212 rows x 19 columns]"
            ]
          },
          "metadata": {
            "tags": []
          },
          "execution_count": 21
        }
      ]
    },
    {
      "cell_type": "code",
      "metadata": {
        "tags": [],
        "id": "ioQveiHNLzHA",
        "colab_type": "code",
        "colab": {
          "base_uri": "https://localhost:8080/",
          "height": 669
        },
        "outputId": "02c2a3fa-ec49-4579-c7ff-1c982722e7bb"
      },
      "source": [
        "data2 = data.copy()\n",
        "data2.loudness = (data2.loudness +50)/max(data2.loudness +50)\n",
        "data2.duration_ms = (data2.duration_ms / 1000)/max(data2.duration_ms / 1000)\n",
        "data2.key = (data2.key)/max(data2.key)\n",
        "data2.tempo = (data2.tempo)/max(data2.tempo)\n",
        "data2.time_signature = (data2.time_signature)/max(data2.time_signature)\n",
        "data2.chorus_hit = (data2.chorus_hit)/max(data2.chorus_hit)\n",
        "data2.sections = (data2.sections)/max(data2.sections)\n",
        "\n",
        "data2"
      ],
      "execution_count": 22,
      "outputs": [
        {
          "output_type": "execute_result",
          "data": {
            "text/html": [
              "<div>\n",
              "<style scoped>\n",
              "    .dataframe tbody tr th:only-of-type {\n",
              "        vertical-align: middle;\n",
              "    }\n",
              "\n",
              "    .dataframe tbody tr th {\n",
              "        vertical-align: top;\n",
              "    }\n",
              "\n",
              "    .dataframe thead th {\n",
              "        text-align: right;\n",
              "    }\n",
              "</style>\n",
              "<table border=\"1\" class=\"dataframe\">\n",
              "  <thead>\n",
              "    <tr style=\"text-align: right;\">\n",
              "      <th></th>\n",
              "      <th>track</th>\n",
              "      <th>artist</th>\n",
              "      <th>uri</th>\n",
              "      <th>danceability</th>\n",
              "      <th>energy</th>\n",
              "      <th>key</th>\n",
              "      <th>loudness</th>\n",
              "      <th>mode</th>\n",
              "      <th>speechiness</th>\n",
              "      <th>acousticness</th>\n",
              "      <th>instrumentalness</th>\n",
              "      <th>liveness</th>\n",
              "      <th>valence</th>\n",
              "      <th>tempo</th>\n",
              "      <th>duration_ms</th>\n",
              "      <th>time_signature</th>\n",
              "      <th>chorus_hit</th>\n",
              "      <th>sections</th>\n",
              "      <th>target</th>\n",
              "    </tr>\n",
              "  </thead>\n",
              "  <tbody>\n",
              "    <tr>\n",
              "      <th>0</th>\n",
              "      <td>Lucky Man</td>\n",
              "      <td>Montgomery Gentry</td>\n",
              "      <td>spotify:track:4GiXBCUF7H6YfNQsnBRIzl</td>\n",
              "      <td>0.578</td>\n",
              "      <td>0.471</td>\n",
              "      <td>0.363636</td>\n",
              "      <td>0.795065</td>\n",
              "      <td>1</td>\n",
              "      <td>0.0289</td>\n",
              "      <td>0.368000</td>\n",
              "      <td>0.000000</td>\n",
              "      <td>0.159</td>\n",
              "      <td>0.5320</td>\n",
              "      <td>0.551153</td>\n",
              "      <td>0.047169</td>\n",
              "      <td>0.8</td>\n",
              "      <td>0.071288</td>\n",
              "      <td>0.076923</td>\n",
              "      <td>1</td>\n",
              "    </tr>\n",
              "    <tr>\n",
              "      <th>1</th>\n",
              "      <td>On The Hotline</td>\n",
              "      <td>Pretty Ricky</td>\n",
              "      <td>spotify:track:1zyqZONW985Cs4osz9wlsu</td>\n",
              "      <td>0.704</td>\n",
              "      <td>0.854</td>\n",
              "      <td>0.909091</td>\n",
              "      <td>0.828427</td>\n",
              "      <td>0</td>\n",
              "      <td>0.1830</td>\n",
              "      <td>0.018500</td>\n",
              "      <td>0.000000</td>\n",
              "      <td>0.148</td>\n",
              "      <td>0.6880</td>\n",
              "      <td>0.385166</td>\n",
              "      <td>0.058171</td>\n",
              "      <td>0.8</td>\n",
              "      <td>0.095828</td>\n",
              "      <td>0.059172</td>\n",
              "      <td>1</td>\n",
              "    </tr>\n",
              "    <tr>\n",
              "      <th>2</th>\n",
              "      <td>Clouds Of Dementia</td>\n",
              "      <td>Candlemass</td>\n",
              "      <td>spotify:track:6cHZf7RbxXCKwEkgAZT4mY</td>\n",
              "      <td>0.162</td>\n",
              "      <td>0.836</td>\n",
              "      <td>0.818182</td>\n",
              "      <td>0.874349</td>\n",
              "      <td>1</td>\n",
              "      <td>0.0473</td>\n",
              "      <td>0.000111</td>\n",
              "      <td>0.004570</td>\n",
              "      <td>0.174</td>\n",
              "      <td>0.3000</td>\n",
              "      <td>0.360214</td>\n",
              "      <td>0.081265</td>\n",
              "      <td>0.8</td>\n",
              "      <td>0.150812</td>\n",
              "      <td>0.076923</td>\n",
              "      <td>0</td>\n",
              "    </tr>\n",
              "    <tr>\n",
              "      <th>3</th>\n",
              "      <td>Heavy Metal, Raise Hell!</td>\n",
              "      <td>Zwartketterij</td>\n",
              "      <td>spotify:track:2IjBPp2vMeX7LggzRN3iSX</td>\n",
              "      <td>0.188</td>\n",
              "      <td>0.994</td>\n",
              "      <td>0.363636</td>\n",
              "      <td>0.860654</td>\n",
              "      <td>1</td>\n",
              "      <td>0.1660</td>\n",
              "      <td>0.000007</td>\n",
              "      <td>0.078400</td>\n",
              "      <td>0.192</td>\n",
              "      <td>0.3330</td>\n",
              "      <td>0.614854</td>\n",
              "      <td>0.061308</td>\n",
              "      <td>0.8</td>\n",
              "      <td>0.135267</td>\n",
              "      <td>0.053254</td>\n",
              "      <td>0</td>\n",
              "    </tr>\n",
              "    <tr>\n",
              "      <th>4</th>\n",
              "      <td>I Got A Feelin'</td>\n",
              "      <td>Billy Currington</td>\n",
              "      <td>spotify:track:1tF370eYXUcWwkIvaq3IGz</td>\n",
              "      <td>0.630</td>\n",
              "      <td>0.764</td>\n",
              "      <td>0.181818</td>\n",
              "      <td>0.849341</td>\n",
              "      <td>1</td>\n",
              "      <td>0.0275</td>\n",
              "      <td>0.363000</td>\n",
              "      <td>0.000000</td>\n",
              "      <td>0.125</td>\n",
              "      <td>0.6310</td>\n",
              "      <td>0.464322</td>\n",
              "      <td>0.046463</td>\n",
              "      <td>0.8</td>\n",
              "      <td>0.052227</td>\n",
              "      <td>0.059172</td>\n",
              "      <td>1</td>\n",
              "    </tr>\n",
              "    <tr>\n",
              "      <th>...</th>\n",
              "      <td>...</td>\n",
              "      <td>...</td>\n",
              "      <td>...</td>\n",
              "      <td>...</td>\n",
              "      <td>...</td>\n",
              "      <td>...</td>\n",
              "      <td>...</td>\n",
              "      <td>...</td>\n",
              "      <td>...</td>\n",
              "      <td>...</td>\n",
              "      <td>...</td>\n",
              "      <td>...</td>\n",
              "      <td>...</td>\n",
              "      <td>...</td>\n",
              "      <td>...</td>\n",
              "      <td>...</td>\n",
              "      <td>...</td>\n",
              "      <td>...</td>\n",
              "      <td>...</td>\n",
              "    </tr>\n",
              "    <tr>\n",
              "      <th>82207</th>\n",
              "      <td>Lotus Flowers</td>\n",
              "      <td>Yolta</td>\n",
              "      <td>spotify:track:4t1TljQWJ6ZuoSY67zVvBI</td>\n",
              "      <td>0.172</td>\n",
              "      <td>0.358</td>\n",
              "      <td>0.818182</td>\n",
              "      <td>0.661841</td>\n",
              "      <td>1</td>\n",
              "      <td>0.0342</td>\n",
              "      <td>0.886000</td>\n",
              "      <td>0.966000</td>\n",
              "      <td>0.314</td>\n",
              "      <td>0.0361</td>\n",
              "      <td>0.299358</td>\n",
              "      <td>0.036175</td>\n",
              "      <td>0.8</td>\n",
              "      <td>0.056116</td>\n",
              "      <td>0.041420</td>\n",
              "      <td>0</td>\n",
              "    </tr>\n",
              "    <tr>\n",
              "      <th>82208</th>\n",
              "      <td>Calling My Spirit</td>\n",
              "      <td>Kodak Black</td>\n",
              "      <td>spotify:track:2MShy1GSSgbmGUxADNIao5</td>\n",
              "      <td>0.910</td>\n",
              "      <td>0.366</td>\n",
              "      <td>0.090909</td>\n",
              "      <td>0.745125</td>\n",
              "      <td>1</td>\n",
              "      <td>0.0941</td>\n",
              "      <td>0.099600</td>\n",
              "      <td>0.000000</td>\n",
              "      <td>0.261</td>\n",
              "      <td>0.7400</td>\n",
              "      <td>0.496991</td>\n",
              "      <td>0.036449</td>\n",
              "      <td>0.8</td>\n",
              "      <td>0.075115</td>\n",
              "      <td>0.047337</td>\n",
              "      <td>1</td>\n",
              "    </tr>\n",
              "    <tr>\n",
              "      <th>82209</th>\n",
              "      <td>Teenage Dream</td>\n",
              "      <td>Katy Perry</td>\n",
              "      <td>spotify:track:55qBw1900pZKfXJ6Q9A2Lc</td>\n",
              "      <td>0.719</td>\n",
              "      <td>0.804</td>\n",
              "      <td>0.909091</td>\n",
              "      <td>0.845099</td>\n",
              "      <td>1</td>\n",
              "      <td>0.0355</td>\n",
              "      <td>0.013200</td>\n",
              "      <td>0.000003</td>\n",
              "      <td>0.139</td>\n",
              "      <td>0.6050</td>\n",
              "      <td>0.497049</td>\n",
              "      <td>0.054616</td>\n",
              "      <td>0.8</td>\n",
              "      <td>0.047864</td>\n",
              "      <td>0.041420</td>\n",
              "      <td>1</td>\n",
              "    </tr>\n",
              "    <tr>\n",
              "      <th>82210</th>\n",
              "      <td>Stormy Weather</td>\n",
              "      <td>Oscar Peterson</td>\n",
              "      <td>spotify:track:4o9npmYHrOF1rUxxTVH8h4</td>\n",
              "      <td>0.600</td>\n",
              "      <td>0.177</td>\n",
              "      <td>0.636364</td>\n",
              "      <td>0.631326</td>\n",
              "      <td>1</td>\n",
              "      <td>0.0561</td>\n",
              "      <td>0.989000</td>\n",
              "      <td>0.868000</td>\n",
              "      <td>0.149</td>\n",
              "      <td>0.5600</td>\n",
              "      <td>0.497177</td>\n",
              "      <td>0.051169</td>\n",
              "      <td>0.8</td>\n",
              "      <td>0.049986</td>\n",
              "      <td>0.082840</td>\n",
              "      <td>0</td>\n",
              "    </tr>\n",
              "    <tr>\n",
              "      <th>82211</th>\n",
              "      <td>Dust</td>\n",
              "      <td>Hans Zimmer</td>\n",
              "      <td>spotify:track:2khIaVUkbMmDHB596lyMG3</td>\n",
              "      <td>0.121</td>\n",
              "      <td>0.123</td>\n",
              "      <td>0.363636</td>\n",
              "      <td>0.501916</td>\n",
              "      <td>0</td>\n",
              "      <td>0.0443</td>\n",
              "      <td>0.964000</td>\n",
              "      <td>0.696000</td>\n",
              "      <td>0.103</td>\n",
              "      <td>0.0297</td>\n",
              "      <td>0.394254</td>\n",
              "      <td>0.081865</td>\n",
              "      <td>0.8</td>\n",
              "      <td>0.164027</td>\n",
              "      <td>0.088757</td>\n",
              "      <td>0</td>\n",
              "    </tr>\n",
              "  </tbody>\n",
              "</table>\n",
              "<p>82212 rows × 19 columns</p>\n",
              "</div>"
            ],
            "text/plain": [
              "                          track             artist  ...  sections  target\n",
              "0                     Lucky Man  Montgomery Gentry  ...  0.076923       1\n",
              "1                On The Hotline       Pretty Ricky  ...  0.059172       1\n",
              "2            Clouds Of Dementia         Candlemass  ...  0.076923       0\n",
              "3      Heavy Metal, Raise Hell!      Zwartketterij  ...  0.053254       0\n",
              "4               I Got A Feelin'   Billy Currington  ...  0.059172       1\n",
              "...                         ...                ...  ...       ...     ...\n",
              "82207             Lotus Flowers              Yolta  ...  0.041420       0\n",
              "82208         Calling My Spirit        Kodak Black  ...  0.047337       1\n",
              "82209             Teenage Dream         Katy Perry  ...  0.041420       1\n",
              "82210            Stormy Weather     Oscar Peterson  ...  0.082840       0\n",
              "82211                      Dust        Hans Zimmer  ...  0.088757       0\n",
              "\n",
              "[82212 rows x 19 columns]"
            ]
          },
          "metadata": {
            "tags": []
          },
          "execution_count": 22
        }
      ]
    },
    {
      "cell_type": "code",
      "metadata": {
        "id": "LMjk18hTLzHL",
        "colab_type": "code",
        "colab": {
          "base_uri": "https://localhost:8080/",
          "height": 110
        },
        "outputId": "f2ed5d20-4652-46cf-9079-ebe8b793ac2f"
      },
      "source": [
        "data2.columns"
      ],
      "execution_count": null,
      "outputs": [
        {
          "output_type": "execute_result",
          "data": {
            "text/plain": [
              "Index(['track', 'artist', 'uri', 'danceability', 'energy', 'key', 'loudness',\n",
              "       'mode', 'speechiness', 'acousticness', 'instrumentalness', 'liveness',\n",
              "       'valence', 'tempo', 'duration_ms', 'time_signature', 'chorus_hit',\n",
              "       'sections', 'target'],\n",
              "      dtype='object')"
            ]
          },
          "metadata": {
            "tags": []
          },
          "execution_count": 7
        }
      ]
    },
    {
      "cell_type": "code",
      "metadata": {
        "id": "ELJ46_6HLzHU",
        "colab_type": "code",
        "colab": {}
      },
      "source": [
        "y = data2.target\n",
        "x = data2[['danceability', 'energy', 'key', 'loudness','mode', 'speechiness', 'acousticness', 'instrumentalness', 'liveness','valence', 'tempo', 'duration_ms', 'time_signature', 'chorus_hit','sections']]"
      ],
      "execution_count": 23,
      "outputs": []
    },
    {
      "cell_type": "code",
      "metadata": {
        "tags": [],
        "id": "f_Z08kxrLzHc",
        "colab_type": "code",
        "colab": {
          "base_uri": "https://localhost:8080/",
          "height": 36
        },
        "outputId": "32c7ad3d-77dd-44ee-812d-c46a839fa9fc"
      },
      "source": [
        "print(x.shape, y.shape)"
      ],
      "execution_count": null,
      "outputs": [
        {
          "output_type": "stream",
          "text": [
            "(41106, 15) (41106,)\n"
          ],
          "name": "stdout"
        }
      ]
    },
    {
      "cell_type": "code",
      "metadata": {
        "id": "d_OiHsARLzHk",
        "colab_type": "code",
        "colab": {}
      },
      "source": [
        "from sklearn.model_selection import train_test_split\n",
        "\n",
        "x_train, x_test, y_train, y_test = train_test_split(x, y, random_state=12)"
      ],
      "execution_count": 24,
      "outputs": []
    },
    {
      "cell_type": "markdown",
      "metadata": {
        "id": "hWiIeXilLzHw",
        "colab_type": "text"
      },
      "source": [
        "### With RANDOM FOREST"
      ]
    },
    {
      "cell_type": "code",
      "metadata": {
        "id": "h9zSNCLfLzHy",
        "colab_type": "code",
        "colab": {}
      },
      "source": [
        "# Create a random forest classifier\n",
        "from sklearn.ensemble import RandomForestClassifier\n",
        "\n",
        "model = RandomForestClassifier(n_estimators=200, max_depth=25) \n",
        "model = model.fit(x_train, y_train)"
      ],
      "execution_count": 35,
      "outputs": []
    },
    {
      "cell_type": "code",
      "metadata": {
        "id": "sMlSPlnvQc85",
        "colab_type": "code",
        "colab": {
          "base_uri": "https://localhost:8080/",
          "height": 54
        },
        "outputId": "da5fce7e-f444-438a-f923-0b2b052b10f9"
      },
      "source": [
        "print(f\"Training Data Score: {model.score(x_train, y_train)}\")\n",
        "print(f\"Testing Data Score: {model.score(x_test, y_test)}\")"
      ],
      "execution_count": 36,
      "outputs": [
        {
          "output_type": "stream",
          "text": [
            "Training Data Score: 0.9957346048427642\n",
            "Testing Data Score: 0.9388410451029047\n"
          ],
          "name": "stdout"
        }
      ]
    },
    {
      "cell_type": "code",
      "metadata": {
        "id": "KE3bTDBALzIB",
        "colab_type": "code",
        "colab": {
          "base_uri": "https://localhost:8080/",
          "height": 73
        },
        "outputId": "94a86526-ad22-4e09-e72e-580c609f61bb"
      },
      "source": [
        "# Validation of feature importance\n",
        "importances = model.feature_importances_\n",
        "importances"
      ],
      "execution_count": 37,
      "outputs": [
        {
          "output_type": "execute_result",
          "data": {
            "text/plain": [
              "array([0.10229701, 0.085402  , 0.02819235, 0.07420612, 0.01065278,\n",
              "       0.07324727, 0.11112636, 0.1756033 , 0.0496211 , 0.0681226 ,\n",
              "       0.05244977, 0.07545421, 0.00729069, 0.048534  , 0.03780044])"
            ]
          },
          "metadata": {
            "tags": []
          },
          "execution_count": 37
        }
      ]
    },
    {
      "cell_type": "code",
      "metadata": {
        "id": "0KSlcelbLzIJ",
        "colab_type": "code",
        "colab": {
          "base_uri": "https://localhost:8080/",
          "height": 295
        },
        "outputId": "8a7d4baa-df04-451a-ac64-122644e25f0a"
      },
      "source": [
        "# We can sort the features by their importance\n",
        "\n",
        "sorted(zip(model.feature_importances_, x.columns), reverse=True)"
      ],
      "execution_count": 38,
      "outputs": [
        {
          "output_type": "execute_result",
          "data": {
            "text/plain": [
              "[(0.17560330323965012, 'instrumentalness'),\n",
              " (0.11112636216648088, 'acousticness'),\n",
              " (0.10229701168487333, 'danceability'),\n",
              " (0.08540199702761168, 'energy'),\n",
              " (0.0754542056029328, 'duration_ms'),\n",
              " (0.07420612400276559, 'loudness'),\n",
              " (0.07324727353857342, 'speechiness'),\n",
              " (0.06812259814995575, 'valence'),\n",
              " (0.05244976754212371, 'tempo'),\n",
              " (0.04962110436687015, 'liveness'),\n",
              " (0.0485339952313036, 'chorus_hit'),\n",
              " (0.0378004354563939, 'sections'),\n",
              " (0.028192348591277342, 'key'),\n",
              " (0.010652782855537335, 'mode'),\n",
              " (0.007290690543650239, 'time_signature')]"
            ]
          },
          "metadata": {
            "tags": []
          },
          "execution_count": 38
        }
      ]
    },
    {
      "cell_type": "code",
      "metadata": {
        "id": "uISjx5MLMHfJ",
        "colab_type": "code",
        "colab": {
          "base_uri": "https://localhost:8080/",
          "height": 36
        },
        "outputId": "e3b43e38-9846-4f81-e42f-566d3b0175bd"
      },
      "source": [
        "# Save the model\n",
        "from google.colab import drive\n",
        "drive.mount('/content/gdrive')\n",
        "path = F\"/content/gdrive/My Drive/rf.h5\" "
      ],
      "execution_count": 29,
      "outputs": [
        {
          "output_type": "stream",
          "text": [
            "Drive already mounted at /content/gdrive; to attempt to forcibly remount, call drive.mount(\"/content/gdrive\", force_remount=True).\n"
          ],
          "name": "stdout"
        }
      ]
    },
    {
      "cell_type": "code",
      "metadata": {
        "id": "0__DcSdoM_LT",
        "colab_type": "code",
        "colab": {}
      },
      "source": [
        "import pickle\n",
        "with open(path, 'wb') as f:\n",
        "    pickle.dump(model, f)"
      ],
      "execution_count": 39,
      "outputs": []
    },
    {
      "cell_type": "code",
      "metadata": {
        "id": "2cwAsvwGLzIY",
        "colab_type": "code",
        "colab": {}
      },
      "source": [
        "# import pickle\n",
        "# with open('../Models/h5/rf.h5', 'wb') as f:\n",
        "#     pickle.dump(model, f)"
      ],
      "execution_count": null,
      "outputs": []
    },
    {
      "cell_type": "code",
      "metadata": {
        "id": "49cPfw9JLzIl",
        "colab_type": "code",
        "colab": {}
      },
      "source": [
        "# with open('../Models/h5/rf.h5','rb') as fp:\n",
        "#     thing = pickle.load(fp)\n",
        "# thing"
      ],
      "execution_count": null,
      "outputs": []
    }
  ]
}
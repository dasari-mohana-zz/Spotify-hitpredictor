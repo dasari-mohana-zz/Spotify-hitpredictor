{
 "cells": [
  {
   "cell_type": "code",
   "execution_count": 1,
   "metadata": {},
   "outputs": [],
   "source": [
    "import os\n",
    "import glob\n",
    "import pandas as pd"
   ]
  },
  {
   "cell_type": "code",
   "execution_count": 2,
   "metadata": {},
   "outputs": [],
   "source": [
    "# Define working directory\n",
    "os.chdir(r\"C:\\Users\\Cristina Bardan\\Desktop\\Repositories\\FinalProject-Spotify\\Original_data\")"
   ]
  },
  {
   "cell_type": "code",
   "execution_count": 3,
   "metadata": {},
   "outputs": [],
   "source": [
    "# Use glob to match the pattern ‘csv’\n",
    "extension = 'csv'\n",
    "all_filenames = [i for i in glob.glob('*.{}'.format(extension))]\n",
    "\n",
    "# Combine all files in the list and export as CSV\n",
    "df = pd.concat([pd.read_csv(f) for f in all_filenames ])\n",
    "df.reset_index(drop=True, inplace=True)"
   ]
  },
  {
   "cell_type": "code",
   "execution_count": 4,
   "metadata": {},
   "outputs": [],
   "source": [
    "df2 = df.drop(['track', 'artist', 'uri'], axis=1)"
   ]
  },
  {
   "cell_type": "code",
   "execution_count": 5,
   "metadata": {},
   "outputs": [],
   "source": [
    "#Validation of correlation between variables\n",
    "import numpy as np \n",
    "df3=df2.corr()"
   ]
  },
  {
   "cell_type": "code",
   "execution_count": 6,
   "metadata": {
    "tags": []
   },
   "outputs": [
    {
     "output_type": "stream",
     "name": "stdout",
     "text": "(41106, 16) (41106, 15) (41106,)\n"
    }
   ],
   "source": [
    "# Reformat data\n",
    "data = df2.values\n",
    "X = data[:, 0:15]  \n",
    "y = data[:, 15]\n",
    "\n",
    "print(data.shape, X.shape, y.shape)"
   ]
  },
  {
   "cell_type": "code",
   "execution_count": 7,
   "metadata": {},
   "outputs": [],
   "source": [
    "from sklearn.model_selection import train_test_split\n",
    "\n",
    "X_train, X_test, y_train, y_test = train_test_split(X, y, random_state=10)"
   ]
  },
  {
   "cell_type": "markdown",
   "metadata": {},
   "source": [
    "## Data Preprocessing"
   ]
  },
  {
   "cell_type": "code",
   "execution_count": 8,
   "metadata": {},
   "outputs": [
    {
     "output_type": "execute_result",
     "data": {
      "text/plain": "array([[0.78947368, 0.52283395, 0.81818182, ..., 0.8       , 0.19905999,\n        0.06508876],\n       [0.54048583, 0.83094117, 0.81818182, ..., 0.8       , 0.21633373,\n        0.04142012],\n       [0.5       , 0.66588373, 0.81818182, ..., 0.8       , 0.20480589,\n        0.03550296],\n       ...,\n       [0.57692308, 0.36777999, 0.81818182, ..., 0.8       , 0.15844718,\n        0.09467456],\n       [0.41902834, 0.16070793, 0.63636364, ..., 0.8       , 0.200772  ,\n        0.04733728],\n       [0.29554656, 0.24873856, 0.81818182, ..., 0.6       , 0.12021911,\n        0.06508876]])"
     },
     "metadata": {},
     "execution_count": 8
    }
   ],
   "source": [
    "#Scale features (X) using MinMaxScaler\n",
    "from sklearn.preprocessing import MinMaxScaler\n",
    "X_scaler = MinMaxScaler(feature_range=(0,1)).fit(X_train)\n",
    "\n",
    "X_train_scaled = X_scaler.transform(X_train)\n",
    "X_test_scaled = X_scaler.transform(X_test) \n",
    "\n",
    "X_train_scaled"
   ]
  },
  {
   "cell_type": "markdown",
   "metadata": {},
   "source": [
    "One-hot encode the labels"
   ]
  },
  {
   "cell_type": "code",
   "execution_count": 9,
   "metadata": {},
   "outputs": [
    {
     "output_type": "execute_result",
     "data": {
      "text/plain": "array([[0., 1.],\n       [1., 0.],\n       [0., 1.],\n       ...,\n       [0., 1.],\n       [0., 1.],\n       [1., 0.]], dtype=float32)"
     },
     "metadata": {},
     "execution_count": 9
    }
   ],
   "source": [
    "#One-hot encode output labels (y)\n",
    "from tensorflow.keras.utils import to_categorical\n",
    "y_train_categorical = to_categorical(y_train)\n",
    "y_test_categorical = to_categorical(y_test)\n",
    "\n",
    "y_train_categorical"
   ]
  },
  {
   "cell_type": "markdown",
   "metadata": {},
   "source": [
    "## Creating and defining our Deep Learning Model Architecture"
   ]
  },
  {
   "cell_type": "code",
   "execution_count": 10,
   "metadata": {},
   "outputs": [],
   "source": [
    "#Create a sequential model\n",
    "from tensorflow.keras.models import Sequential\n",
    "model = Sequential() \n",
    "\n",
    "from tensorflow.keras.layers import Dense\n",
    "number_inputs = 15  \n",
    "\n",
    "#Create hidden layers\n",
    "model.add(Dense(units=14,activation='relu', input_dim=number_inputs))\n",
    "model.add(Dense(units=120,activation='relu'))\n",
    "model.add(Dense(units=80,activation='relu'))\n",
    "\n",
    "#Create output layer\n",
    "number_classes = 2\n",
    "model.add(Dense(units=number_classes, activation='softmax')) "
   ]
  },
  {
   "cell_type": "markdown",
   "metadata": {},
   "source": [
    "Number of Hidden Nodes \n",
    "https://stats.stackexchange.com/questions/181/how-to-choose-the-number-of-hidden-layers-and-nodes-in-a-feedforward-neural-netw#:~:text=The%20number%20of%20hidden%20neurons,size%20of%20the%20input%20layer."
   ]
  },
  {
   "cell_type": "code",
   "execution_count": 11,
   "metadata": {
    "tags": []
   },
   "outputs": [
    {
     "output_type": "stream",
     "name": "stdout",
     "text": "Model: \"sequential\"\n_________________________________________________________________\nLayer (type)                 Output Shape              Param #   \n=================================================================\ndense (Dense)                (None, 14)                224       \n_________________________________________________________________\ndense_1 (Dense)              (None, 120)               1800      \n_________________________________________________________________\ndense_2 (Dense)              (None, 80)                9680      \n_________________________________________________________________\ndense_3 (Dense)              (None, 2)                 162       \n=================================================================\nTotal params: 11,866\nTrainable params: 11,866\nNon-trainable params: 0\n_________________________________________________________________\n"
    }
   ],
   "source": [
    "#Model Summary\n",
    "model.summary() "
   ]
  },
  {
   "cell_type": "code",
   "execution_count": 12,
   "metadata": {},
   "outputs": [],
   "source": [
    "#Compile the Model\n",
    "import tensorflow as tf\n",
    "\n",
    "opt = tf.keras.optimizers.Adam(learning_rate=0.001)\n",
    "model.compile(optimizer=opt, loss='categorical_crossentropy', metrics=['accuracy'])"
   ]
  },
  {
   "cell_type": "markdown",
   "metadata": {},
   "source": [
    "## Training the Model"
   ]
  },
  {
   "cell_type": "code",
   "execution_count": 13,
   "metadata": {
    "tags": []
   },
   "outputs": [
    {
     "output_type": "stream",
     "name": "stdout",
     "text": "Epoch 1/500\n16/16 - 0s - loss: 0.6546 - accuracy: 0.6366\nEpoch 2/500\n16/16 - 0s - loss: 0.5913 - accuracy: 0.6972\nEpoch 3/500\n16/16 - 0s - loss: 0.5492 - accuracy: 0.7168\nEpoch 4/500\n16/16 - 0s - loss: 0.5309 - accuracy: 0.7308\nEpoch 5/500\n16/16 - 0s - loss: 0.5223 - accuracy: 0.7360\nEpoch 6/500\n16/16 - 0s - loss: 0.5155 - accuracy: 0.7407\nEpoch 7/500\n16/16 - 0s - loss: 0.5118 - accuracy: 0.7422\nEpoch 8/500\n16/16 - 0s - loss: 0.5097 - accuracy: 0.7433\nEpoch 9/500\n16/16 - 0s - loss: 0.5075 - accuracy: 0.7442\nEpoch 10/500\n16/16 - 0s - loss: 0.5055 - accuracy: 0.7462\nEpoch 11/500\n16/16 - 0s - loss: 0.5037 - accuracy: 0.7482\nEpoch 12/500\n16/16 - 0s - loss: 0.5031 - accuracy: 0.7479\nEpoch 13/500\n16/16 - 0s - loss: 0.5026 - accuracy: 0.7480\nEpoch 14/500\n16/16 - 0s - loss: 0.5017 - accuracy: 0.7469\nEpoch 15/500\n16/16 - 0s - loss: 0.5011 - accuracy: 0.7492\nEpoch 16/500\n16/16 - 0s - loss: 0.4991 - accuracy: 0.7501\nEpoch 17/500\n16/16 - 0s - loss: 0.4982 - accuracy: 0.7500\nEpoch 18/500\n16/16 - 0s - loss: 0.4974 - accuracy: 0.7510\nEpoch 19/500\n16/16 - 0s - loss: 0.4965 - accuracy: 0.7510\nEpoch 20/500\n16/16 - 0s - loss: 0.4971 - accuracy: 0.7517\nEpoch 21/500\n16/16 - 0s - loss: 0.4970 - accuracy: 0.7515\nEpoch 22/500\n16/16 - 0s - loss: 0.4959 - accuracy: 0.7530\nEpoch 23/500\n16/16 - 0s - loss: 0.4951 - accuracy: 0.7535\nEpoch 24/500\n16/16 - 0s - loss: 0.4949 - accuracy: 0.7532\nEpoch 25/500\n16/16 - 0s - loss: 0.4940 - accuracy: 0.7525\nEpoch 26/500\n16/16 - 0s - loss: 0.4938 - accuracy: 0.7553\nEpoch 27/500\n16/16 - 0s - loss: 0.4937 - accuracy: 0.7531\nEpoch 28/500\n16/16 - 0s - loss: 0.4930 - accuracy: 0.7544\nEpoch 29/500\n16/16 - 0s - loss: 0.4922 - accuracy: 0.7551\nEpoch 30/500\n16/16 - 0s - loss: 0.4937 - accuracy: 0.7538\nEpoch 31/500\n16/16 - 0s - loss: 0.4919 - accuracy: 0.7565\nEpoch 32/500\n16/16 - 0s - loss: 0.4919 - accuracy: 0.7565\nEpoch 33/500\n16/16 - 0s - loss: 0.4917 - accuracy: 0.7546\nEpoch 34/500\n16/16 - 0s - loss: 0.4915 - accuracy: 0.7562\nEpoch 35/500\n16/16 - 0s - loss: 0.4905 - accuracy: 0.7553\nEpoch 36/500\n16/16 - 0s - loss: 0.4907 - accuracy: 0.7556\nEpoch 37/500\n16/16 - 0s - loss: 0.4905 - accuracy: 0.7563\nEpoch 38/500\n16/16 - 0s - loss: 0.4905 - accuracy: 0.7550\nEpoch 39/500\n16/16 - 0s - loss: 0.4905 - accuracy: 0.7563\nEpoch 40/500\n16/16 - 0s - loss: 0.4904 - accuracy: 0.7559\nEpoch 41/500\n16/16 - 0s - loss: 0.4907 - accuracy: 0.7574\nEpoch 42/500\n16/16 - 0s - loss: 0.4931 - accuracy: 0.7545\nEpoch 43/500\n16/16 - 0s - loss: 0.4899 - accuracy: 0.7563\nEpoch 44/500\n16/16 - 0s - loss: 0.4892 - accuracy: 0.7586\nEpoch 45/500\n16/16 - 0s - loss: 0.4883 - accuracy: 0.7576\nEpoch 46/500\n16/16 - 0s - loss: 0.4886 - accuracy: 0.7577\nEpoch 47/500\n16/16 - 0s - loss: 0.4877 - accuracy: 0.7589\nEpoch 48/500\n16/16 - 0s - loss: 0.4883 - accuracy: 0.7580\nEpoch 49/500\n16/16 - 0s - loss: 0.4878 - accuracy: 0.7591\nEpoch 50/500\n16/16 - 0s - loss: 0.4889 - accuracy: 0.7578\nEpoch 51/500\n16/16 - 0s - loss: 0.4874 - accuracy: 0.7583\nEpoch 52/500\n16/16 - 0s - loss: 0.4869 - accuracy: 0.7598\nEpoch 53/500\n16/16 - 0s - loss: 0.4862 - accuracy: 0.7598\nEpoch 54/500\n16/16 - 0s - loss: 0.4864 - accuracy: 0.7596\nEpoch 55/500\n16/16 - 0s - loss: 0.4872 - accuracy: 0.7592\nEpoch 56/500\n16/16 - 0s - loss: 0.4865 - accuracy: 0.7599\nEpoch 57/500\n16/16 - 0s - loss: 0.4861 - accuracy: 0.7603\nEpoch 58/500\n16/16 - 0s - loss: 0.4861 - accuracy: 0.7592\nEpoch 59/500\n16/16 - 0s - loss: 0.4861 - accuracy: 0.7611\nEpoch 60/500\n16/16 - 0s - loss: 0.4854 - accuracy: 0.7616\nEpoch 61/500\n16/16 - 0s - loss: 0.4846 - accuracy: 0.7610\nEpoch 62/500\n16/16 - 0s - loss: 0.4845 - accuracy: 0.7607\nEpoch 63/500\n16/16 - 0s - loss: 0.4836 - accuracy: 0.7623\nEpoch 64/500\n16/16 - 0s - loss: 0.4836 - accuracy: 0.7617\nEpoch 65/500\n16/16 - 0s - loss: 0.4835 - accuracy: 0.7619\nEpoch 66/500\n16/16 - 0s - loss: 0.4837 - accuracy: 0.7621\nEpoch 67/500\n16/16 - 0s - loss: 0.4841 - accuracy: 0.7597\nEpoch 68/500\n16/16 - 0s - loss: 0.4845 - accuracy: 0.7618\nEpoch 69/500\n16/16 - 0s - loss: 0.4834 - accuracy: 0.7618\nEpoch 70/500\n16/16 - 0s - loss: 0.4839 - accuracy: 0.7613\nEpoch 71/500\n16/16 - 0s - loss: 0.4838 - accuracy: 0.7619\nEpoch 72/500\n16/16 - 0s - loss: 0.4827 - accuracy: 0.7626\nEpoch 73/500\n16/16 - 0s - loss: 0.4822 - accuracy: 0.7634\nEpoch 74/500\n16/16 - 0s - loss: 0.4828 - accuracy: 0.7618\nEpoch 75/500\n16/16 - 0s - loss: 0.4825 - accuracy: 0.7629\nEpoch 76/500\n16/16 - 0s - loss: 0.4811 - accuracy: 0.7623\nEpoch 77/500\n16/16 - 0s - loss: 0.4808 - accuracy: 0.7630\nEpoch 78/500\n16/16 - 0s - loss: 0.4809 - accuracy: 0.7646\nEpoch 79/500\n16/16 - 0s - loss: 0.4808 - accuracy: 0.7632\nEpoch 80/500\n16/16 - 0s - loss: 0.4816 - accuracy: 0.7638\nEpoch 81/500\n16/16 - 0s - loss: 0.4843 - accuracy: 0.7611\nEpoch 82/500\n16/16 - 0s - loss: 0.4825 - accuracy: 0.7635\nEpoch 83/500\n16/16 - 0s - loss: 0.4796 - accuracy: 0.7632\nEpoch 84/500\n16/16 - 0s - loss: 0.4796 - accuracy: 0.7641\nEpoch 85/500\n16/16 - 0s - loss: 0.4791 - accuracy: 0.7641\nEpoch 86/500\n16/16 - 0s - loss: 0.4796 - accuracy: 0.7650\nEpoch 87/500\n16/16 - 0s - loss: 0.4804 - accuracy: 0.7654\nEpoch 88/500\n16/16 - 0s - loss: 0.4795 - accuracy: 0.7649\nEpoch 89/500\n16/16 - 0s - loss: 0.4791 - accuracy: 0.7657\nEpoch 90/500\n16/16 - 0s - loss: 0.4790 - accuracy: 0.7641\nEpoch 91/500\n16/16 - 0s - loss: 0.4786 - accuracy: 0.7647\nEpoch 92/500\n16/16 - 0s - loss: 0.4789 - accuracy: 0.7643\nEpoch 93/500\n16/16 - 0s - loss: 0.4786 - accuracy: 0.7654\nEpoch 94/500\n16/16 - 0s - loss: 0.4776 - accuracy: 0.7658\nEpoch 95/500\n16/16 - 0s - loss: 0.4770 - accuracy: 0.7663\nEpoch 96/500\n16/16 - 0s - loss: 0.4772 - accuracy: 0.7665\nEpoch 97/500\n16/16 - 0s - loss: 0.4770 - accuracy: 0.7672\nEpoch 98/500\n16/16 - 0s - loss: 0.4773 - accuracy: 0.7655\nEpoch 99/500\n16/16 - 0s - loss: 0.4772 - accuracy: 0.7660\nEpoch 100/500\n16/16 - 0s - loss: 0.4766 - accuracy: 0.7655\nEpoch 101/500\n16/16 - 0s - loss: 0.4771 - accuracy: 0.7667\nEpoch 102/500\n16/16 - 0s - loss: 0.4761 - accuracy: 0.7672\nEpoch 103/500\n16/16 - 0s - loss: 0.4764 - accuracy: 0.7663\nEpoch 104/500\n16/16 - 0s - loss: 0.4771 - accuracy: 0.7664\nEpoch 105/500\n16/16 - 0s - loss: 0.4761 - accuracy: 0.7670\nEpoch 106/500\n16/16 - 0s - loss: 0.4752 - accuracy: 0.7674\nEpoch 107/500\n16/16 - 0s - loss: 0.4756 - accuracy: 0.7666\nEpoch 108/500\n16/16 - 0s - loss: 0.4752 - accuracy: 0.7670\nEpoch 109/500\n16/16 - 0s - loss: 0.4750 - accuracy: 0.7671\nEpoch 110/500\n16/16 - 0s - loss: 0.4749 - accuracy: 0.7675\nEpoch 111/500\n16/16 - 0s - loss: 0.4755 - accuracy: 0.7667\nEpoch 112/500\n16/16 - 0s - loss: 0.4751 - accuracy: 0.7670\nEpoch 113/500\n16/16 - 0s - loss: 0.4764 - accuracy: 0.7680\nEpoch 114/500\n16/16 - 0s - loss: 0.4744 - accuracy: 0.7691\nEpoch 115/500\n16/16 - 0s - loss: 0.4737 - accuracy: 0.7683\nEpoch 116/500\n16/16 - 0s - loss: 0.4736 - accuracy: 0.7679\nEpoch 117/500\n16/16 - 0s - loss: 0.4736 - accuracy: 0.7694\nEpoch 118/500\n16/16 - 0s - loss: 0.4733 - accuracy: 0.7678\nEpoch 119/500\n16/16 - 0s - loss: 0.4734 - accuracy: 0.7679\nEpoch 120/500\n16/16 - 0s - loss: 0.4732 - accuracy: 0.7687\nEpoch 121/500\n16/16 - 0s - loss: 0.4729 - accuracy: 0.7688\nEpoch 122/500\n16/16 - 0s - loss: 0.4725 - accuracy: 0.7682\nEpoch 123/500\n16/16 - 0s - loss: 0.4732 - accuracy: 0.7692\nEpoch 124/500\n16/16 - 0s - loss: 0.4734 - accuracy: 0.7696\nEpoch 125/500\n16/16 - 0s - loss: 0.4735 - accuracy: 0.7688\nEpoch 126/500\n16/16 - 0s - loss: 0.4734 - accuracy: 0.7692\nEpoch 127/500\n16/16 - 0s - loss: 0.4714 - accuracy: 0.7701\nEpoch 128/500\n16/16 - 0s - loss: 0.4715 - accuracy: 0.7701\nEpoch 129/500\n16/16 - 0s - loss: 0.4718 - accuracy: 0.7708\nEpoch 130/500\n16/16 - 0s - loss: 0.4715 - accuracy: 0.7705\nEpoch 131/500\n16/16 - 0s - loss: 0.4720 - accuracy: 0.7699\nEpoch 132/500\n16/16 - 0s - loss: 0.4724 - accuracy: 0.7706\nEpoch 133/500\n16/16 - 0s - loss: 0.4711 - accuracy: 0.7701\nEpoch 134/500\n16/16 - 0s - loss: 0.4708 - accuracy: 0.7706\nEpoch 135/500\n16/16 - 0s - loss: 0.4707 - accuracy: 0.7695\nEpoch 136/500\n16/16 - 0s - loss: 0.4703 - accuracy: 0.7706\nEpoch 137/500\n16/16 - 0s - loss: 0.4701 - accuracy: 0.7717\nEpoch 138/500\n16/16 - 0s - loss: 0.4699 - accuracy: 0.7716\nEpoch 139/500\n16/16 - 0s - loss: 0.4702 - accuracy: 0.7711\nEpoch 140/500\n16/16 - 0s - loss: 0.4692 - accuracy: 0.7713\nEpoch 141/500\n16/16 - 0s - loss: 0.4699 - accuracy: 0.7724\nEpoch 142/500\n16/16 - 0s - loss: 0.4697 - accuracy: 0.7714\nEpoch 143/500\n16/16 - 0s - loss: 0.4706 - accuracy: 0.7720\nEpoch 144/500\n16/16 - 0s - loss: 0.4706 - accuracy: 0.7724\nEpoch 145/500\n16/16 - 0s - loss: 0.4700 - accuracy: 0.7721\nEpoch 146/500\n16/16 - 0s - loss: 0.4705 - accuracy: 0.7712\nEpoch 147/500\n16/16 - 0s - loss: 0.4683 - accuracy: 0.7729\nEpoch 148/500\n16/16 - 0s - loss: 0.4686 - accuracy: 0.7730\nEpoch 149/500\n16/16 - 0s - loss: 0.4688 - accuracy: 0.7731\nEpoch 150/500\n16/16 - 0s - loss: 0.4685 - accuracy: 0.7729\nEpoch 151/500\n16/16 - 0s - loss: 0.4696 - accuracy: 0.7715\nEpoch 152/500\n16/16 - 0s - loss: 0.4689 - accuracy: 0.7716\nEpoch 153/500\n16/16 - 0s - loss: 0.4681 - accuracy: 0.7736\nEpoch 154/500\n16/16 - 0s - loss: 0.4671 - accuracy: 0.7733\nEpoch 155/500\n16/16 - 0s - loss: 0.4681 - accuracy: 0.7746\nEpoch 156/500\n16/16 - 0s - loss: 0.4694 - accuracy: 0.7719\nEpoch 157/500\n16/16 - 0s - loss: 0.4689 - accuracy: 0.7729\nEpoch 158/500\n16/16 - 0s - loss: 0.4693 - accuracy: 0.7714\nEpoch 159/500\n16/16 - 0s - loss: 0.4668 - accuracy: 0.7738\nEpoch 160/500\n16/16 - 0s - loss: 0.4666 - accuracy: 0.7736\nEpoch 161/500\n16/16 - 0s - loss: 0.4662 - accuracy: 0.7734\nEpoch 162/500\n16/16 - 0s - loss: 0.4661 - accuracy: 0.7745\nEpoch 163/500\n16/16 - 0s - loss: 0.4667 - accuracy: 0.7738\nEpoch 164/500\n16/16 - 0s - loss: 0.4669 - accuracy: 0.7729\nEpoch 165/500\n16/16 - 0s - loss: 0.4678 - accuracy: 0.7746\nEpoch 166/500\n16/16 - 0s - loss: 0.4662 - accuracy: 0.7743\nEpoch 167/500\n16/16 - 0s - loss: 0.4667 - accuracy: 0.7741\nEpoch 168/500\n16/16 - 0s - loss: 0.4666 - accuracy: 0.7757\nEpoch 169/500\n16/16 - 0s - loss: 0.4657 - accuracy: 0.7741\nEpoch 170/500\n16/16 - 0s - loss: 0.4665 - accuracy: 0.7766\nEpoch 171/500\n16/16 - 0s - loss: 0.4647 - accuracy: 0.7752\nEpoch 172/500\n16/16 - 0s - loss: 0.4654 - accuracy: 0.7740\nEpoch 173/500\n16/16 - 0s - loss: 0.4646 - accuracy: 0.7755\nEpoch 174/500\n16/16 - 0s - loss: 0.4649 - accuracy: 0.7765\nEpoch 175/500\n16/16 - 0s - loss: 0.4646 - accuracy: 0.7756\nEpoch 176/500\n16/16 - 0s - loss: 0.4657 - accuracy: 0.7746\nEpoch 177/500\n16/16 - 0s - loss: 0.4652 - accuracy: 0.7748\nEpoch 178/500\n16/16 - 0s - loss: 0.4651 - accuracy: 0.7755\nEpoch 179/500\n16/16 - 0s - loss: 0.4641 - accuracy: 0.7756\nEpoch 180/500\n16/16 - 0s - loss: 0.4644 - accuracy: 0.7751\nEpoch 181/500\n16/16 - 0s - loss: 0.4660 - accuracy: 0.7737\nEpoch 182/500\n16/16 - 0s - loss: 0.4642 - accuracy: 0.7766\nEpoch 183/500\n16/16 - 0s - loss: 0.4654 - accuracy: 0.7742\nEpoch 184/500\n16/16 - 0s - loss: 0.4642 - accuracy: 0.7754\nEpoch 185/500\n16/16 - 0s - loss: 0.4649 - accuracy: 0.7750\nEpoch 186/500\n16/16 - 0s - loss: 0.4635 - accuracy: 0.7764\nEpoch 187/500\n16/16 - 0s - loss: 0.4651 - accuracy: 0.7756\nEpoch 188/500\n16/16 - 0s - loss: 0.4660 - accuracy: 0.7750\nEpoch 189/500\n16/16 - 0s - loss: 0.4627 - accuracy: 0.7767\nEpoch 190/500\n16/16 - 0s - loss: 0.4643 - accuracy: 0.7767\nEpoch 191/500\n16/16 - 0s - loss: 0.4643 - accuracy: 0.7774\nEpoch 192/500\n16/16 - 0s - loss: 0.4626 - accuracy: 0.7760\nEpoch 193/500\n16/16 - 0s - loss: 0.4619 - accuracy: 0.7770\nEpoch 194/500\n16/16 - 0s - loss: 0.4619 - accuracy: 0.7776\nEpoch 195/500\n16/16 - 0s - loss: 0.4618 - accuracy: 0.7769\nEpoch 196/500\n16/16 - 0s - loss: 0.4620 - accuracy: 0.7779\nEpoch 197/500\n16/16 - 0s - loss: 0.4610 - accuracy: 0.7770\nEpoch 198/500\n16/16 - 0s - loss: 0.4621 - accuracy: 0.7779\nEpoch 199/500\n16/16 - 0s - loss: 0.4635 - accuracy: 0.7756\nEpoch 200/500\n16/16 - 0s - loss: 0.4615 - accuracy: 0.7765\nEpoch 201/500\n16/16 - 0s - loss: 0.4622 - accuracy: 0.7768\nEpoch 202/500\n16/16 - 0s - loss: 0.4622 - accuracy: 0.7772\nEpoch 203/500\n16/16 - 0s - loss: 0.4628 - accuracy: 0.7764\nEpoch 204/500\n16/16 - 0s - loss: 0.4632 - accuracy: 0.7769\nEpoch 205/500\n16/16 - 0s - loss: 0.4620 - accuracy: 0.7782\nEpoch 206/500\n16/16 - 0s - loss: 0.4607 - accuracy: 0.7784\nEpoch 207/500\n16/16 - 0s - loss: 0.4605 - accuracy: 0.7790\nEpoch 208/500\n16/16 - 0s - loss: 0.4597 - accuracy: 0.7787\nEpoch 209/500\n16/16 - 0s - loss: 0.4601 - accuracy: 0.7777\nEpoch 210/500\n16/16 - 0s - loss: 0.4602 - accuracy: 0.7784\nEpoch 211/500\n16/16 - 0s - loss: 0.4601 - accuracy: 0.7774\nEpoch 212/500\n16/16 - 0s - loss: 0.4596 - accuracy: 0.7782\nEpoch 213/500\n16/16 - 0s - loss: 0.4619 - accuracy: 0.7764\nEpoch 214/500\n16/16 - 0s - loss: 0.4604 - accuracy: 0.7768\nEpoch 215/500\n16/16 - 0s - loss: 0.4605 - accuracy: 0.7771\nEpoch 216/500\n16/16 - 0s - loss: 0.4605 - accuracy: 0.7779\nEpoch 217/500\n16/16 - 0s - loss: 0.4587 - accuracy: 0.7798\nEpoch 218/500\n16/16 - 0s - loss: 0.4604 - accuracy: 0.7776\nEpoch 219/500\n16/16 - 0s - loss: 0.4615 - accuracy: 0.7770\nEpoch 220/500\n16/16 - 0s - loss: 0.4585 - accuracy: 0.7796\nEpoch 221/500\n16/16 - 0s - loss: 0.4590 - accuracy: 0.7788\nEpoch 222/500\n16/16 - 0s - loss: 0.4612 - accuracy: 0.7786\nEpoch 223/500\n16/16 - 0s - loss: 0.4592 - accuracy: 0.7787\nEpoch 224/500\n16/16 - 0s - loss: 0.4596 - accuracy: 0.7780\nEpoch 225/500\n16/16 - 0s - loss: 0.4597 - accuracy: 0.7794\nEpoch 226/500\n16/16 - 0s - loss: 0.4599 - accuracy: 0.7782\nEpoch 227/500\n16/16 - 0s - loss: 0.4583 - accuracy: 0.7794\nEpoch 228/500\n16/16 - 0s - loss: 0.4586 - accuracy: 0.7793\nEpoch 229/500\n16/16 - 0s - loss: 0.4577 - accuracy: 0.7801\nEpoch 230/500\n16/16 - 0s - loss: 0.4579 - accuracy: 0.7792\nEpoch 231/500\n16/16 - 0s - loss: 0.4579 - accuracy: 0.7794\nEpoch 232/500\n16/16 - 0s - loss: 0.4574 - accuracy: 0.7801\nEpoch 233/500\n16/16 - 0s - loss: 0.4574 - accuracy: 0.7792\nEpoch 234/500\n16/16 - 0s - loss: 0.4576 - accuracy: 0.7793\nEpoch 235/500\n16/16 - 0s - loss: 0.4575 - accuracy: 0.7809\nEpoch 236/500\n16/16 - 0s - loss: 0.4593 - accuracy: 0.7792\nEpoch 237/500\n16/16 - 0s - loss: 0.4567 - accuracy: 0.7797\nEpoch 238/500\n16/16 - 0s - loss: 0.4563 - accuracy: 0.7792\nEpoch 239/500\n16/16 - 0s - loss: 0.4569 - accuracy: 0.7800\nEpoch 240/500\n16/16 - 0s - loss: 0.4560 - accuracy: 0.7806\nEpoch 241/500\n16/16 - 0s - loss: 0.4566 - accuracy: 0.7802\nEpoch 242/500\n16/16 - 0s - loss: 0.4554 - accuracy: 0.7814\nEpoch 243/500\n16/16 - 0s - loss: 0.4570 - accuracy: 0.7799\nEpoch 244/500\n16/16 - 0s - loss: 0.4582 - accuracy: 0.7802\nEpoch 245/500\n16/16 - 0s - loss: 0.4571 - accuracy: 0.7795\nEpoch 246/500\n16/16 - 0s - loss: 0.4555 - accuracy: 0.7817\nEpoch 247/500\n16/16 - 0s - loss: 0.4551 - accuracy: 0.7807\nEpoch 248/500\n16/16 - 0s - loss: 0.4547 - accuracy: 0.7815\nEpoch 249/500\n16/16 - 0s - loss: 0.4550 - accuracy: 0.7799\nEpoch 250/500\n16/16 - 0s - loss: 0.4543 - accuracy: 0.7807\nEpoch 251/500\n16/16 - 0s - loss: 0.4569 - accuracy: 0.7795\nEpoch 252/500\n16/16 - 0s - loss: 0.4565 - accuracy: 0.7803\nEpoch 253/500\n16/16 - 0s - loss: 0.4577 - accuracy: 0.7790\nEpoch 254/500\n16/16 - 0s - loss: 0.4563 - accuracy: 0.7802\nEpoch 255/500\n16/16 - 0s - loss: 0.4565 - accuracy: 0.7806\nEpoch 256/500\n16/16 - 0s - loss: 0.4551 - accuracy: 0.7810\nEpoch 257/500\n16/16 - 0s - loss: 0.4552 - accuracy: 0.7819\nEpoch 258/500\n16/16 - 0s - loss: 0.4536 - accuracy: 0.7816\nEpoch 259/500\n16/16 - 0s - loss: 0.4540 - accuracy: 0.7814\nEpoch 260/500\n16/16 - 0s - loss: 0.4542 - accuracy: 0.7816\nEpoch 261/500\n16/16 - 0s - loss: 0.4533 - accuracy: 0.7813\nEpoch 262/500\n16/16 - 0s - loss: 0.4550 - accuracy: 0.7811\nEpoch 263/500\n16/16 - 0s - loss: 0.4532 - accuracy: 0.7816\nEpoch 264/500\n16/16 - 0s - loss: 0.4528 - accuracy: 0.7826\nEpoch 265/500\n16/16 - 0s - loss: 0.4528 - accuracy: 0.7818\nEpoch 266/500\n16/16 - 0s - loss: 0.4524 - accuracy: 0.7827\nEpoch 267/500\n16/16 - 0s - loss: 0.4520 - accuracy: 0.7827\nEpoch 268/500\n16/16 - 0s - loss: 0.4526 - accuracy: 0.7822\nEpoch 269/500\n16/16 - 0s - loss: 0.4538 - accuracy: 0.7816\nEpoch 270/500\n16/16 - 0s - loss: 0.4558 - accuracy: 0.7802\nEpoch 271/500\n16/16 - 0s - loss: 0.4530 - accuracy: 0.7825\nEpoch 272/500\n16/16 - 0s - loss: 0.4534 - accuracy: 0.7827\nEpoch 273/500\n16/16 - 0s - loss: 0.4535 - accuracy: 0.7798\nEpoch 274/500\n16/16 - 0s - loss: 0.4541 - accuracy: 0.7814\nEpoch 275/500\n16/16 - 0s - loss: 0.4524 - accuracy: 0.7832\nEpoch 276/500\n16/16 - 0s - loss: 0.4521 - accuracy: 0.7814\nEpoch 277/500\n16/16 - 0s - loss: 0.4522 - accuracy: 0.7827\nEpoch 278/500\n16/16 - 0s - loss: 0.4529 - accuracy: 0.7813\nEpoch 279/500\n16/16 - 0s - loss: 0.4530 - accuracy: 0.7820\nEpoch 280/500\n16/16 - 0s - loss: 0.4518 - accuracy: 0.7833\nEpoch 281/500\n16/16 - 0s - loss: 0.4503 - accuracy: 0.7841\nEpoch 282/500\n16/16 - 0s - loss: 0.4515 - accuracy: 0.7817\nEpoch 283/500\n16/16 - 0s - loss: 0.4509 - accuracy: 0.7834\nEpoch 284/500\n16/16 - 0s - loss: 0.4509 - accuracy: 0.7841\nEpoch 285/500\n16/16 - 0s - loss: 0.4503 - accuracy: 0.7835\nEpoch 286/500\n16/16 - 0s - loss: 0.4516 - accuracy: 0.7828\nEpoch 287/500\n16/16 - 0s - loss: 0.4503 - accuracy: 0.7840\nEpoch 288/500\n16/16 - 0s - loss: 0.4500 - accuracy: 0.7830\nEpoch 289/500\n16/16 - 0s - loss: 0.4494 - accuracy: 0.7834\nEpoch 290/500\n16/16 - 0s - loss: 0.4509 - accuracy: 0.7841\nEpoch 291/500\n16/16 - 0s - loss: 0.4497 - accuracy: 0.7837\nEpoch 292/500\n16/16 - 0s - loss: 0.4491 - accuracy: 0.7838\nEpoch 293/500\n16/16 - 0s - loss: 0.4499 - accuracy: 0.7837\nEpoch 294/500\n16/16 - 0s - loss: 0.4487 - accuracy: 0.7839\nEpoch 295/500\n16/16 - 0s - loss: 0.4509 - accuracy: 0.7847\nEpoch 296/500\n16/16 - 0s - loss: 0.4490 - accuracy: 0.7850\nEpoch 297/500\n16/16 - 0s - loss: 0.4494 - accuracy: 0.7841\nEpoch 298/500\n16/16 - 0s - loss: 0.4489 - accuracy: 0.7847\nEpoch 299/500\n16/16 - 0s - loss: 0.4507 - accuracy: 0.7829\nEpoch 300/500\n16/16 - 0s - loss: 0.4491 - accuracy: 0.7842\nEpoch 301/500\n16/16 - 0s - loss: 0.4478 - accuracy: 0.7850\nEpoch 302/500\n16/16 - 0s - loss: 0.4485 - accuracy: 0.7850\nEpoch 303/500\n16/16 - 0s - loss: 0.4486 - accuracy: 0.7843\nEpoch 304/500\n16/16 - 0s - loss: 0.4485 - accuracy: 0.7837\nEpoch 305/500\n16/16 - 0s - loss: 0.4480 - accuracy: 0.7841\nEpoch 306/500\n16/16 - 0s - loss: 0.4500 - accuracy: 0.7843\nEpoch 307/500\n16/16 - 0s - loss: 0.4497 - accuracy: 0.7845\nEpoch 308/500\n16/16 - 0s - loss: 0.4492 - accuracy: 0.7847\nEpoch 309/500\n16/16 - 0s - loss: 0.4486 - accuracy: 0.7832\nEpoch 310/500\n16/16 - 0s - loss: 0.4483 - accuracy: 0.7834\nEpoch 311/500\n16/16 - 0s - loss: 0.4473 - accuracy: 0.7848\nEpoch 312/500\n16/16 - 0s - loss: 0.4462 - accuracy: 0.7853\nEpoch 313/500\n16/16 - 0s - loss: 0.4475 - accuracy: 0.7854\nEpoch 314/500\n16/16 - 0s - loss: 0.4481 - accuracy: 0.7847\nEpoch 315/500\n16/16 - 0s - loss: 0.4473 - accuracy: 0.7841\nEpoch 316/500\n16/16 - 0s - loss: 0.4481 - accuracy: 0.7838\nEpoch 317/500\n16/16 - 0s - loss: 0.4465 - accuracy: 0.7858\nEpoch 318/500\n16/16 - 0s - loss: 0.4460 - accuracy: 0.7869\nEpoch 319/500\n16/16 - 0s - loss: 0.4464 - accuracy: 0.7855\nEpoch 320/500\n16/16 - 0s - loss: 0.4482 - accuracy: 0.7846\nEpoch 321/500\n16/16 - 0s - loss: 0.4458 - accuracy: 0.7849\nEpoch 322/500\n16/16 - 0s - loss: 0.4451 - accuracy: 0.7857\nEpoch 323/500\n16/16 - 0s - loss: 0.4453 - accuracy: 0.7865\nEpoch 324/500\n16/16 - 0s - loss: 0.4451 - accuracy: 0.7856\nEpoch 325/500\n16/16 - 0s - loss: 0.4444 - accuracy: 0.7879\nEpoch 326/500\n16/16 - 0s - loss: 0.4450 - accuracy: 0.7858\nEpoch 327/500\n16/16 - 0s - loss: 0.4454 - accuracy: 0.7853\nEpoch 328/500\n16/16 - 0s - loss: 0.4452 - accuracy: 0.7867\nEpoch 329/500\n16/16 - 0s - loss: 0.4450 - accuracy: 0.7859\nEpoch 330/500\n16/16 - 0s - loss: 0.4477 - accuracy: 0.7861\nEpoch 331/500\n16/16 - 0s - loss: 0.4462 - accuracy: 0.7860\nEpoch 332/500\n16/16 - 0s - loss: 0.4473 - accuracy: 0.7847\nEpoch 333/500\n16/16 - 0s - loss: 0.4472 - accuracy: 0.7849\nEpoch 334/500\n16/16 - 0s - loss: 0.4447 - accuracy: 0.7863\nEpoch 335/500\n16/16 - 0s - loss: 0.4439 - accuracy: 0.7858\nEpoch 336/500\n16/16 - 0s - loss: 0.4439 - accuracy: 0.7872\nEpoch 337/500\n16/16 - 0s - loss: 0.4437 - accuracy: 0.7870\nEpoch 338/500\n16/16 - 0s - loss: 0.4433 - accuracy: 0.7871\nEpoch 339/500\n16/16 - 0s - loss: 0.4435 - accuracy: 0.7879\nEpoch 340/500\n16/16 - 0s - loss: 0.4434 - accuracy: 0.7865\nEpoch 341/500\n16/16 - 0s - loss: 0.4424 - accuracy: 0.7875\nEpoch 342/500\n16/16 - 0s - loss: 0.4439 - accuracy: 0.7877\nEpoch 343/500\n16/16 - 0s - loss: 0.4436 - accuracy: 0.7886\nEpoch 344/500\n16/16 - 0s - loss: 0.4442 - accuracy: 0.7860\nEpoch 345/500\n16/16 - 0s - loss: 0.4423 - accuracy: 0.7876\nEpoch 346/500\n16/16 - 0s - loss: 0.4437 - accuracy: 0.7860\nEpoch 347/500\n16/16 - 0s - loss: 0.4431 - accuracy: 0.7882\nEpoch 348/500\n16/16 - 0s - loss: 0.4430 - accuracy: 0.7870\nEpoch 349/500\n16/16 - 0s - loss: 0.4431 - accuracy: 0.7858\nEpoch 350/500\n16/16 - 0s - loss: 0.4434 - accuracy: 0.7862\nEpoch 351/500\n16/16 - 0s - loss: 0.4450 - accuracy: 0.7858\nEpoch 352/500\n16/16 - 0s - loss: 0.4421 - accuracy: 0.7885\nEpoch 353/500\n16/16 - 0s - loss: 0.4424 - accuracy: 0.7871\nEpoch 354/500\n16/16 - 0s - loss: 0.4420 - accuracy: 0.7872\nEpoch 355/500\n16/16 - 0s - loss: 0.4409 - accuracy: 0.7888\nEpoch 356/500\n16/16 - 0s - loss: 0.4408 - accuracy: 0.7886\nEpoch 357/500\n16/16 - 0s - loss: 0.4411 - accuracy: 0.7877\nEpoch 358/500\n16/16 - 0s - loss: 0.4415 - accuracy: 0.7877\nEpoch 359/500\n16/16 - 0s - loss: 0.4443 - accuracy: 0.7864\nEpoch 360/500\n16/16 - 0s - loss: 0.4409 - accuracy: 0.7892\nEpoch 361/500\n16/16 - 0s - loss: 0.4405 - accuracy: 0.7886\nEpoch 362/500\n16/16 - 0s - loss: 0.4409 - accuracy: 0.7881\nEpoch 363/500\n16/16 - 0s - loss: 0.4416 - accuracy: 0.7882\nEpoch 364/500\n16/16 - 0s - loss: 0.4414 - accuracy: 0.7874\nEpoch 365/500\n16/16 - 0s - loss: 0.4410 - accuracy: 0.7885\nEpoch 366/500\n16/16 - 0s - loss: 0.4401 - accuracy: 0.7896\nEpoch 367/500\n16/16 - 0s - loss: 0.4396 - accuracy: 0.7894\nEpoch 368/500\n16/16 - 0s - loss: 0.4397 - accuracy: 0.7890\nEpoch 369/500\n16/16 - 0s - loss: 0.4417 - accuracy: 0.7881\nEpoch 370/500\n16/16 - 0s - loss: 0.4432 - accuracy: 0.7874\nEpoch 371/500\n16/16 - 0s - loss: 0.4413 - accuracy: 0.7886\nEpoch 372/500\n16/16 - 0s - loss: 0.4395 - accuracy: 0.7894\nEpoch 373/500\n16/16 - 0s - loss: 0.4392 - accuracy: 0.7886\nEpoch 374/500\n16/16 - 0s - loss: 0.4407 - accuracy: 0.7874\nEpoch 375/500\n16/16 - 0s - loss: 0.4403 - accuracy: 0.7881\nEpoch 376/500\n16/16 - 0s - loss: 0.4388 - accuracy: 0.7904\nEpoch 377/500\n16/16 - 0s - loss: 0.4411 - accuracy: 0.7886\nEpoch 378/500\n16/16 - 0s - loss: 0.4403 - accuracy: 0.7896\nEpoch 379/500\n16/16 - 0s - loss: 0.4406 - accuracy: 0.7893\nEpoch 380/500\n16/16 - 0s - loss: 0.4404 - accuracy: 0.7892\nEpoch 381/500\n16/16 - 0s - loss: 0.4396 - accuracy: 0.7882\nEpoch 382/500\n16/16 - 0s - loss: 0.4387 - accuracy: 0.7891\nEpoch 383/500\n16/16 - 0s - loss: 0.4376 - accuracy: 0.7902\nEpoch 384/500\n16/16 - 0s - loss: 0.4385 - accuracy: 0.7902\nEpoch 385/500\n16/16 - 0s - loss: 0.4382 - accuracy: 0.7899\nEpoch 386/500\n16/16 - 0s - loss: 0.4381 - accuracy: 0.7901\nEpoch 387/500\n16/16 - 0s - loss: 0.4377 - accuracy: 0.7903\nEpoch 388/500\n16/16 - 0s - loss: 0.4369 - accuracy: 0.7920\nEpoch 389/500\n16/16 - 0s - loss: 0.4376 - accuracy: 0.7918\nEpoch 390/500\n16/16 - 0s - loss: 0.4403 - accuracy: 0.7885\nEpoch 391/500\n16/16 - 0s - loss: 0.4422 - accuracy: 0.7875\nEpoch 392/500\n16/16 - 0s - loss: 0.4383 - accuracy: 0.7916\nEpoch 393/500\n16/16 - 0s - loss: 0.4378 - accuracy: 0.7889\nEpoch 394/500\n16/16 - 0s - loss: 0.4385 - accuracy: 0.7887\nEpoch 395/500\n16/16 - 0s - loss: 0.4375 - accuracy: 0.7895\nEpoch 396/500\n16/16 - 0s - loss: 0.4378 - accuracy: 0.7905\nEpoch 397/500\n16/16 - 0s - loss: 0.4373 - accuracy: 0.7920\nEpoch 398/500\n16/16 - 0s - loss: 0.4367 - accuracy: 0.7914\nEpoch 399/500\n16/16 - 0s - loss: 0.4371 - accuracy: 0.7899\nEpoch 400/500\n16/16 - 0s - loss: 0.4362 - accuracy: 0.7906\nEpoch 401/500\n16/16 - 0s - loss: 0.4355 - accuracy: 0.7926\nEpoch 402/500\n16/16 - 0s - loss: 0.4357 - accuracy: 0.7914\nEpoch 403/500\n16/16 - 0s - loss: 0.4355 - accuracy: 0.7916\nEpoch 404/500\n16/16 - 0s - loss: 0.4364 - accuracy: 0.7923\nEpoch 405/500\n16/16 - 0s - loss: 0.4375 - accuracy: 0.7919\nEpoch 406/500\n16/16 - 0s - loss: 0.4381 - accuracy: 0.7897\nEpoch 407/500\n16/16 - 0s - loss: 0.4357 - accuracy: 0.7915\nEpoch 408/500\n16/16 - 0s - loss: 0.4363 - accuracy: 0.7914\nEpoch 409/500\n16/16 - 0s - loss: 0.4355 - accuracy: 0.7933\nEpoch 410/500\n16/16 - 0s - loss: 0.4354 - accuracy: 0.7916\nEpoch 411/500\n16/16 - 0s - loss: 0.4356 - accuracy: 0.7911\nEpoch 412/500\n16/16 - 0s - loss: 0.4363 - accuracy: 0.7926\nEpoch 413/500\n16/16 - 0s - loss: 0.4358 - accuracy: 0.7930\nEpoch 414/500\n16/16 - 0s - loss: 0.4353 - accuracy: 0.7917\nEpoch 415/500\n16/16 - 0s - loss: 0.4341 - accuracy: 0.7924\nEpoch 416/500\n16/16 - 0s - loss: 0.4351 - accuracy: 0.7909\nEpoch 417/500\n16/16 - 0s - loss: 0.4358 - accuracy: 0.7911\nEpoch 418/500\n16/16 - 0s - loss: 0.4367 - accuracy: 0.7886\nEpoch 419/500\n16/16 - 0s - loss: 0.4362 - accuracy: 0.7903\nEpoch 420/500\n16/16 - 0s - loss: 0.4343 - accuracy: 0.7922\nEpoch 421/500\n16/16 - 0s - loss: 0.4349 - accuracy: 0.7901\nEpoch 422/500\n16/16 - 0s - loss: 0.4343 - accuracy: 0.7917\nEpoch 423/500\n16/16 - 0s - loss: 0.4345 - accuracy: 0.7909\nEpoch 424/500\n16/16 - 0s - loss: 0.4343 - accuracy: 0.7927\nEpoch 425/500\n16/16 - 0s - loss: 0.4344 - accuracy: 0.7907\nEpoch 426/500\n16/16 - 0s - loss: 0.4344 - accuracy: 0.7925\nEpoch 427/500\n16/16 - 0s - loss: 0.4339 - accuracy: 0.7917\nEpoch 428/500\n16/16 - 0s - loss: 0.4357 - accuracy: 0.7910\nEpoch 429/500\n16/16 - 0s - loss: 0.4333 - accuracy: 0.7938\nEpoch 430/500\n16/16 - 0s - loss: 0.4337 - accuracy: 0.7914\nEpoch 431/500\n16/16 - 0s - loss: 0.4330 - accuracy: 0.7935\nEpoch 432/500\n16/16 - 0s - loss: 0.4332 - accuracy: 0.7927\nEpoch 433/500\n16/16 - 0s - loss: 0.4333 - accuracy: 0.7929\nEpoch 434/500\n16/16 - 0s - loss: 0.4334 - accuracy: 0.7913\nEpoch 435/500\n16/16 - 0s - loss: 0.4330 - accuracy: 0.7934\nEpoch 436/500\n16/16 - 0s - loss: 0.4330 - accuracy: 0.7917\nEpoch 437/500\n16/16 - 0s - loss: 0.4325 - accuracy: 0.7927\nEpoch 438/500\n16/16 - 0s - loss: 0.4324 - accuracy: 0.7939\nEpoch 439/500\n16/16 - 0s - loss: 0.4332 - accuracy: 0.7924\nEpoch 440/500\n16/16 - 0s - loss: 0.4324 - accuracy: 0.7950\nEpoch 441/500\n16/16 - 0s - loss: 0.4318 - accuracy: 0.7932\nEpoch 442/500\n16/16 - 0s - loss: 0.4339 - accuracy: 0.7929\nEpoch 443/500\n16/16 - 0s - loss: 0.4339 - accuracy: 0.7922\nEpoch 444/500\n16/16 - 0s - loss: 0.4346 - accuracy: 0.7918\nEpoch 445/500\n16/16 - 0s - loss: 0.4358 - accuracy: 0.7915\nEpoch 446/500\n16/16 - 0s - loss: 0.4369 - accuracy: 0.7886\nEpoch 447/500\n16/16 - 0s - loss: 0.4337 - accuracy: 0.7913\nEpoch 448/500\n16/16 - 0s - loss: 0.4317 - accuracy: 0.7943\nEpoch 449/500\n16/16 - 0s - loss: 0.4335 - accuracy: 0.7930\nEpoch 450/500\n16/16 - 0s - loss: 0.4323 - accuracy: 0.7929\nEpoch 451/500\n16/16 - 0s - loss: 0.4331 - accuracy: 0.7927\nEpoch 452/500\n16/16 - 0s - loss: 0.4314 - accuracy: 0.7934\nEpoch 453/500\n16/16 - 0s - loss: 0.4320 - accuracy: 0.7932\nEpoch 454/500\n16/16 - 0s - loss: 0.4327 - accuracy: 0.7932\nEpoch 455/500\n16/16 - 0s - loss: 0.4311 - accuracy: 0.7942\nEpoch 456/500\n16/16 - 0s - loss: 0.4308 - accuracy: 0.7926\nEpoch 457/500\n16/16 - 0s - loss: 0.4314 - accuracy: 0.7940\nEpoch 458/500\n16/16 - 0s - loss: 0.4317 - accuracy: 0.7934\nEpoch 459/500\n16/16 - 0s - loss: 0.4308 - accuracy: 0.7949\nEpoch 460/500\n16/16 - 0s - loss: 0.4313 - accuracy: 0.7943\nEpoch 461/500\n16/16 - 0s - loss: 0.4311 - accuracy: 0.7939\nEpoch 462/500\n16/16 - 0s - loss: 0.4314 - accuracy: 0.7949\nEpoch 463/500\n16/16 - 0s - loss: 0.4304 - accuracy: 0.7943\nEpoch 464/500\n16/16 - 0s - loss: 0.4316 - accuracy: 0.7938\nEpoch 465/500\n16/16 - 0s - loss: 0.4301 - accuracy: 0.7954\nEpoch 466/500\n16/16 - 0s - loss: 0.4312 - accuracy: 0.7939\nEpoch 467/500\n16/16 - 0s - loss: 0.4288 - accuracy: 0.7950\nEpoch 468/500\n16/16 - 0s - loss: 0.4306 - accuracy: 0.7934\nEpoch 469/500\n16/16 - 0s - loss: 0.4297 - accuracy: 0.7946\nEpoch 470/500\n16/16 - 0s - loss: 0.4310 - accuracy: 0.7933\nEpoch 471/500\n16/16 - 0s - loss: 0.4309 - accuracy: 0.7935\nEpoch 472/500\n16/16 - 0s - loss: 0.4304 - accuracy: 0.7947\nEpoch 473/500\n16/16 - 0s - loss: 0.4297 - accuracy: 0.7943\nEpoch 474/500\n16/16 - 0s - loss: 0.4290 - accuracy: 0.7949\nEpoch 475/500\n16/16 - 0s - loss: 0.4306 - accuracy: 0.7955\nEpoch 476/500\n16/16 - 0s - loss: 0.4316 - accuracy: 0.7934\nEpoch 477/500\n16/16 - 0s - loss: 0.4291 - accuracy: 0.7954\nEpoch 478/500\n16/16 - 0s - loss: 0.4278 - accuracy: 0.7958\nEpoch 479/500\n16/16 - 0s - loss: 0.4286 - accuracy: 0.7955\nEpoch 480/500\n16/16 - 0s - loss: 0.4308 - accuracy: 0.7940\nEpoch 481/500\n16/16 - 0s - loss: 0.4296 - accuracy: 0.7948\nEpoch 482/500\n16/16 - 0s - loss: 0.4297 - accuracy: 0.7939\nEpoch 483/500\n16/16 - 0s - loss: 0.4277 - accuracy: 0.7954\nEpoch 484/500\n16/16 - 0s - loss: 0.4284 - accuracy: 0.7948\nEpoch 485/500\n16/16 - 0s - loss: 0.4294 - accuracy: 0.7954\nEpoch 486/500\n16/16 - 0s - loss: 0.4302 - accuracy: 0.7937\nEpoch 487/500\n16/16 - 0s - loss: 0.4293 - accuracy: 0.7950\nEpoch 488/500\n16/16 - 0s - loss: 0.4289 - accuracy: 0.7949\nEpoch 489/500\n16/16 - 0s - loss: 0.4276 - accuracy: 0.7968\nEpoch 490/500\n16/16 - 0s - loss: 0.4279 - accuracy: 0.7962\nEpoch 491/500\n16/16 - 0s - loss: 0.4318 - accuracy: 0.7927\nEpoch 492/500\n16/16 - 0s - loss: 0.4287 - accuracy: 0.7951\nEpoch 493/500\n16/16 - 0s - loss: 0.4281 - accuracy: 0.7965\nEpoch 494/500\n16/16 - 0s - loss: 0.4266 - accuracy: 0.7956\nEpoch 495/500\n16/16 - 0s - loss: 0.4274 - accuracy: 0.7967\nEpoch 496/500\n16/16 - 0s - loss: 0.4265 - accuracy: 0.7963\nEpoch 497/500\n16/16 - 0s - loss: 0.4270 - accuracy: 0.7963\nEpoch 498/500\n16/16 - 0s - loss: 0.4287 - accuracy: 0.7955\nEpoch 499/500\n16/16 - 0s - loss: 0.4272 - accuracy: 0.7954\nEpoch 500/500\n16/16 - 0s - loss: 0.4262 - accuracy: 0.7962\n"
    }
   ],
   "source": [
    "#Training the Model\n",
    "history = model.fit(X_train_scaled, y_train_categorical, epochs=500, batch_size=2000, shuffle=True, verbose=2)"
   ]
  },
  {
   "cell_type": "markdown",
   "metadata": {},
   "source": [
    "## Validation of the Model"
   ]
  },
  {
   "cell_type": "code",
   "execution_count": 14,
   "metadata": {
    "tags": []
   },
   "outputs": [
    {
     "output_type": "stream",
     "name": "stdout",
     "text": "964/964 - 1s - loss: 0.4263 - accuracy: 0.7969\n322/322 - 0s - loss: 0.4867 - accuracy: 0.7763\nTRAINING DATA --> Loss: 0.4263421893119812, Accuracy: 0.7969444394111633\nTESTING DATA --> Loss: 0.4867408275604248, Accuracy: 0.7762965559959412\n"
    }
   ],
   "source": [
    "#Evaluate the Model using the testing data\n",
    "#Compare Model performace between training and testing data\n",
    "model_loss_train, model_accuracy_train = model.evaluate(X_train_scaled, y_train_categorical, verbose=2)\n",
    "model_loss, model_accuracy = model.evaluate(X_test_scaled, y_test_categorical, verbose=2)\n",
    "\n",
    "print(f\"TRAINING DATA --> Loss: {model_loss_train}, Accuracy: {model_accuracy_train}\")    \n",
    "print(f\"TESTING DATA --> Loss: {model_loss}, Accuracy: {model_accuracy}\")"
   ]
  },
  {
   "cell_type": "markdown",
   "metadata": {},
   "source": [
    "## Saving the Trained Model"
   ]
  },
  {
   "cell_type": "code",
   "execution_count": 16,
   "metadata": {},
   "outputs": [],
   "source": [
    "# Save the model\n",
    "model.save(\"../Models/h5/model.h5\")"
   ]
  }
 ],
 "metadata": {
  "language_info": {
   "codemirror_mode": {
    "name": "ipython",
    "version": 3
   },
   "file_extension": ".py",
   "mimetype": "text/x-python",
   "name": "python",
   "nbconvert_exporter": "python",
   "pygments_lexer": "ipython3",
   "version": "3.8.3-final"
  },
  "orig_nbformat": 2,
  "kernelspec": {
   "name": "python38364bitvenvvenv54c3120af49c4f098fcd2d81e62b322e",
   "display_name": "Python 3.8.3 64-bit ('venv': venv)"
  }
 },
 "nbformat": 4,
 "nbformat_minor": 2
}
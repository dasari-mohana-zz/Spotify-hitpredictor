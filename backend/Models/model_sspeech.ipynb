{
 "cells": [
  {
   "cell_type": "code",
   "execution_count": 1,
   "metadata": {},
   "outputs": [],
   "source": [
    "import os\n",
    "import glob\n",
    "import pandas as pd"
   ]
  },
  {
   "cell_type": "code",
   "execution_count": 2,
   "metadata": {},
   "outputs": [],
   "source": [
    "# Define working directory\n",
    "os.chdir(r\"C:\\Users\\Cristina Bardan\\Desktop\\Repositories\\FinalProject-Spotify\\Original_data\")"
   ]
  },
  {
   "cell_type": "code",
   "execution_count": 3,
   "metadata": {},
   "outputs": [],
   "source": [
    "# Use glob to match the pattern ‘csv’\n",
    "extension = 'csv'\n",
    "all_filenames = [i for i in glob.glob('*.{}'.format(extension))]\n",
    "\n",
    "# Combine all files in the list and export as CSV\n",
    "df = pd.concat([pd.read_csv(f) for f in all_filenames ])\n",
    "df.reset_index(drop=True, inplace=True)"
   ]
  },
  {
   "cell_type": "code",
   "execution_count": 4,
   "metadata": {},
   "outputs": [],
   "source": [
    "df2 = df.drop(['track', 'artist', 'uri'], axis=1)"
   ]
  },
  {
   "cell_type": "code",
   "execution_count": 5,
   "metadata": {},
   "outputs": [],
   "source": [
    "#Validation of correlation between variables\n",
    "import numpy as np \n",
    "df3=df2.corr()"
   ]
  },
  {
   "cell_type": "code",
   "execution_count": 6,
   "metadata": {
    "tags": []
   },
   "outputs": [],
   "source": [
    "# Sin speechiness\n",
    "data = df2.values\n",
    "X = df2[['danceability', 'energy', 'key', 'loudness','mode', 'acousticness', 'instrumentalness', 'liveness','valence', 'tempo', 'duration_ms', 'time_signature', 'chorus_hit', 'sections']]  \n",
    "y = df2.target"
   ]
  },
  {
   "cell_type": "code",
   "execution_count": 7,
   "metadata": {},
   "outputs": [],
   "source": [
    "from sklearn.model_selection import train_test_split\n",
    "\n",
    "X_train, X_test, y_train, y_test = train_test_split(X, y, random_state=10)"
   ]
  },
  {
   "cell_type": "markdown",
   "metadata": {},
   "source": [
    "## Data Preprocessing"
   ]
  },
  {
   "cell_type": "code",
   "execution_count": 8,
   "metadata": {},
   "outputs": [
    {
     "output_type": "execute_result",
     "data": {
      "text/plain": "array([[0.78947368, 0.52283395, 0.81818182, ..., 0.8       , 0.19905999,\n        0.06508876],\n       [0.54048583, 0.83094117, 0.81818182, ..., 0.8       , 0.21633373,\n        0.04142012],\n       [0.5       , 0.66588373, 0.81818182, ..., 0.8       , 0.20480589,\n        0.03550296],\n       ...,\n       [0.57692308, 0.36777999, 0.81818182, ..., 0.8       , 0.15844718,\n        0.09467456],\n       [0.41902834, 0.16070793, 0.63636364, ..., 0.8       , 0.200772  ,\n        0.04733728],\n       [0.29554656, 0.24873856, 0.81818182, ..., 0.6       , 0.12021911,\n        0.06508876]])"
     },
     "metadata": {},
     "execution_count": 8
    }
   ],
   "source": [
    "#Scale features (X) using MinMaxScaler\n",
    "from sklearn.preprocessing import MinMaxScaler\n",
    "X_scaler = MinMaxScaler(feature_range=(0,1)).fit(X_train)\n",
    "\n",
    "X_train_scaled = X_scaler.transform(X_train)\n",
    "X_test_scaled = X_scaler.transform(X_test) \n",
    "\n",
    "X_train_scaled"
   ]
  },
  {
   "cell_type": "markdown",
   "metadata": {},
   "source": [
    "One-hot encode the labels"
   ]
  },
  {
   "cell_type": "code",
   "execution_count": 9,
   "metadata": {},
   "outputs": [
    {
     "output_type": "execute_result",
     "data": {
      "text/plain": "array([[0., 1.],\n       [1., 0.],\n       [0., 1.],\n       ...,\n       [0., 1.],\n       [0., 1.],\n       [1., 0.]], dtype=float32)"
     },
     "metadata": {},
     "execution_count": 9
    }
   ],
   "source": [
    "#One-hot encode output labels (y)\n",
    "from tensorflow.keras.utils import to_categorical\n",
    "y_train_categorical = to_categorical(y_train)\n",
    "y_test_categorical = to_categorical(y_test)\n",
    "\n",
    "y_train_categorical"
   ]
  },
  {
   "cell_type": "markdown",
   "metadata": {},
   "source": [
    "## Creating and defining our Deep Learning Model Architecture"
   ]
  },
  {
   "cell_type": "code",
   "execution_count": 10,
   "metadata": {},
   "outputs": [],
   "source": [
    "#Create a sequential model\n",
    "from tensorflow.keras.models import Sequential\n",
    "model = Sequential() \n",
    "\n",
    "from tensorflow.keras.layers import Dense\n",
    "number_inputs = 14  \n",
    "\n",
    "#Create hidden layers\n",
    "model.add(Dense(units=14,activation='relu', input_dim=number_inputs))\n",
    "model.add(Dense(units=120,activation='relu'))\n",
    "model.add(Dense(units=80,activation='relu'))\n",
    "\n",
    "#Create output layer\n",
    "number_classes = 2\n",
    "model.add(Dense(units=number_classes, activation='softmax')) "
   ]
  },
  {
   "cell_type": "markdown",
   "metadata": {},
   "source": [
    "Number of Hidden Nodes \n",
    "https://stats.stackexchange.com/questions/181/how-to-choose-the-number-of-hidden-layers-and-nodes-in-a-feedforward-neural-netw#:~:text=The%20number%20of%20hidden%20neurons,size%20of%20the%20input%20layer."
   ]
  },
  {
   "cell_type": "code",
   "execution_count": 11,
   "metadata": {
    "tags": []
   },
   "outputs": [
    {
     "output_type": "stream",
     "name": "stdout",
     "text": "Model: \"sequential\"\n_________________________________________________________________\nLayer (type)                 Output Shape              Param #   \n=================================================================\ndense (Dense)                (None, 14)                210       \n_________________________________________________________________\ndense_1 (Dense)              (None, 120)               1800      \n_________________________________________________________________\ndense_2 (Dense)              (None, 80)                9680      \n_________________________________________________________________\ndense_3 (Dense)              (None, 2)                 162       \n=================================================================\nTotal params: 11,852\nTrainable params: 11,852\nNon-trainable params: 0\n_________________________________________________________________\n"
    }
   ],
   "source": [
    "#Model Summary\n",
    "model.summary() "
   ]
  },
  {
   "cell_type": "code",
   "execution_count": 12,
   "metadata": {},
   "outputs": [],
   "source": [
    "#Compile the Model\n",
    "import tensorflow as tf\n",
    "\n",
    "opt = tf.keras.optimizers.Adam(learning_rate=0.001)\n",
    "model.compile(optimizer=opt, loss='categorical_crossentropy', metrics=['accuracy'])"
   ]
  },
  {
   "cell_type": "markdown",
   "metadata": {},
   "source": [
    "## Training the Model"
   ]
  },
  {
   "cell_type": "code",
   "execution_count": 13,
   "metadata": {
    "tags": []
   },
   "outputs": [
    {
     "output_type": "stream",
     "name": "stdout",
     "text": "Epoch 1/500\n16/16 - 0s - loss: 0.6734 - accuracy: 0.5873\nEpoch 2/500\n16/16 - 0s - loss: 0.6082 - accuracy: 0.6842\nEpoch 3/500\n16/16 - 0s - loss: 0.5728 - accuracy: 0.6934\nEpoch 4/500\n16/16 - 0s - loss: 0.5582 - accuracy: 0.7103\nEpoch 5/500\n16/16 - 0s - loss: 0.5491 - accuracy: 0.7167\nEpoch 6/500\n16/16 - 0s - loss: 0.5430 - accuracy: 0.7210\nEpoch 7/500\n16/16 - 0s - loss: 0.5355 - accuracy: 0.7283\nEpoch 8/500\n16/16 - 0s - loss: 0.5300 - accuracy: 0.7325\nEpoch 9/500\n16/16 - 0s - loss: 0.5251 - accuracy: 0.7352\nEpoch 10/500\n16/16 - 0s - loss: 0.5210 - accuracy: 0.7368\nEpoch 11/500\n16/16 - 0s - loss: 0.5177 - accuracy: 0.7392\nEpoch 12/500\n16/16 - 0s - loss: 0.5149 - accuracy: 0.7412\nEpoch 13/500\n16/16 - 0s - loss: 0.5120 - accuracy: 0.7437\nEpoch 14/500\n16/16 - 0s - loss: 0.5098 - accuracy: 0.7439\nEpoch 15/500\n16/16 - 0s - loss: 0.5082 - accuracy: 0.7465\nEpoch 16/500\n16/16 - 0s - loss: 0.5076 - accuracy: 0.7450\nEpoch 17/500\n16/16 - 0s - loss: 0.5055 - accuracy: 0.7479\nEpoch 18/500\n16/16 - 0s - loss: 0.5060 - accuracy: 0.7474\nEpoch 19/500\n16/16 - 0s - loss: 0.5050 - accuracy: 0.7480\nEpoch 20/500\n16/16 - 0s - loss: 0.5028 - accuracy: 0.7497\nEpoch 21/500\n16/16 - 0s - loss: 0.5027 - accuracy: 0.7497\nEpoch 22/500\n16/16 - 0s - loss: 0.5014 - accuracy: 0.7534\nEpoch 23/500\n16/16 - 0s - loss: 0.5004 - accuracy: 0.7533\nEpoch 24/500\n16/16 - 0s - loss: 0.4995 - accuracy: 0.7528\nEpoch 25/500\n16/16 - 0s - loss: 0.4995 - accuracy: 0.7531\nEpoch 26/500\n16/16 - 0s - loss: 0.4988 - accuracy: 0.7537\nEpoch 27/500\n16/16 - 0s - loss: 0.4986 - accuracy: 0.7542\nEpoch 28/500\n16/16 - 0s - loss: 0.4979 - accuracy: 0.7543\nEpoch 29/500\n16/16 - 0s - loss: 0.4975 - accuracy: 0.7550\nEpoch 30/500\n16/16 - 0s - loss: 0.4970 - accuracy: 0.7549\nEpoch 31/500\n16/16 - 0s - loss: 0.4968 - accuracy: 0.7550\nEpoch 32/500\n16/16 - 0s - loss: 0.4966 - accuracy: 0.7559\nEpoch 33/500\n16/16 - 0s - loss: 0.4951 - accuracy: 0.7577\nEpoch 34/500\n16/16 - 0s - loss: 0.4948 - accuracy: 0.7568\nEpoch 35/500\n16/16 - 0s - loss: 0.4946 - accuracy: 0.7577\nEpoch 36/500\n16/16 - 0s - loss: 0.4937 - accuracy: 0.7578\nEpoch 37/500\n16/16 - 0s - loss: 0.4949 - accuracy: 0.7560\nEpoch 38/500\n16/16 - 0s - loss: 0.4943 - accuracy: 0.7573\nEpoch 39/500\n16/16 - 0s - loss: 0.4932 - accuracy: 0.7578\nEpoch 40/500\n16/16 - 0s - loss: 0.4932 - accuracy: 0.7577\nEpoch 41/500\n16/16 - 0s - loss: 0.4925 - accuracy: 0.7587\nEpoch 42/500\n16/16 - 0s - loss: 0.4921 - accuracy: 0.7581\nEpoch 43/500\n16/16 - 0s - loss: 0.4915 - accuracy: 0.7588\nEpoch 44/500\n16/16 - 0s - loss: 0.4920 - accuracy: 0.7580\nEpoch 45/500\n16/16 - 0s - loss: 0.4924 - accuracy: 0.7573\nEpoch 46/500\n16/16 - 0s - loss: 0.4921 - accuracy: 0.7572\nEpoch 47/500\n16/16 - 0s - loss: 0.4908 - accuracy: 0.7589\nEpoch 48/500\n16/16 - 0s - loss: 0.4907 - accuracy: 0.7583\nEpoch 49/500\n16/16 - 0s - loss: 0.4903 - accuracy: 0.7594\nEpoch 50/500\n16/16 - 0s - loss: 0.4904 - accuracy: 0.7581\nEpoch 51/500\n16/16 - 0s - loss: 0.4930 - accuracy: 0.7580\nEpoch 52/500\n16/16 - 0s - loss: 0.4903 - accuracy: 0.7580\nEpoch 53/500\n16/16 - 0s - loss: 0.4894 - accuracy: 0.7597\nEpoch 54/500\n16/16 - 0s - loss: 0.4901 - accuracy: 0.7589\nEpoch 55/500\n16/16 - 0s - loss: 0.4887 - accuracy: 0.7603\nEpoch 56/500\n16/16 - 0s - loss: 0.4879 - accuracy: 0.7593\nEpoch 57/500\n16/16 - 0s - loss: 0.4888 - accuracy: 0.7605\nEpoch 58/500\n16/16 - 0s - loss: 0.4882 - accuracy: 0.7605\nEpoch 59/500\n16/16 - 0s - loss: 0.4895 - accuracy: 0.7596\nEpoch 60/500\n16/16 - 0s - loss: 0.4877 - accuracy: 0.7605\nEpoch 61/500\n16/16 - 0s - loss: 0.4883 - accuracy: 0.7608\nEpoch 62/500\n16/16 - 0s - loss: 0.4887 - accuracy: 0.7605\nEpoch 63/500\n16/16 - 0s - loss: 0.4876 - accuracy: 0.7598\nEpoch 64/500\n16/16 - 0s - loss: 0.4870 - accuracy: 0.7611\nEpoch 65/500\n16/16 - 0s - loss: 0.4859 - accuracy: 0.7610\nEpoch 66/500\n16/16 - 0s - loss: 0.4853 - accuracy: 0.7620\nEpoch 67/500\n16/16 - 0s - loss: 0.4852 - accuracy: 0.7614\nEpoch 68/500\n16/16 - 0s - loss: 0.4847 - accuracy: 0.7623\nEpoch 69/500\n16/16 - 0s - loss: 0.4852 - accuracy: 0.7624\nEpoch 70/500\n16/16 - 0s - loss: 0.4855 - accuracy: 0.7623\nEpoch 71/500\n16/16 - 0s - loss: 0.4850 - accuracy: 0.7638\nEpoch 72/500\n16/16 - 0s - loss: 0.4859 - accuracy: 0.7612\nEpoch 73/500\n16/16 - 0s - loss: 0.4848 - accuracy: 0.7630\nEpoch 74/500\n16/16 - 0s - loss: 0.4839 - accuracy: 0.7624\nEpoch 75/500\n16/16 - 0s - loss: 0.4834 - accuracy: 0.7629\nEpoch 76/500\n16/16 - 0s - loss: 0.4834 - accuracy: 0.7632\nEpoch 77/500\n16/16 - 0s - loss: 0.4834 - accuracy: 0.7641\nEpoch 78/500\n16/16 - 0s - loss: 0.4827 - accuracy: 0.7627\nEpoch 79/500\n16/16 - 0s - loss: 0.4835 - accuracy: 0.7622\nEpoch 80/500\n16/16 - 0s - loss: 0.4824 - accuracy: 0.7635\nEpoch 81/500\n16/16 - 0s - loss: 0.4823 - accuracy: 0.7645\nEpoch 82/500\n16/16 - 0s - loss: 0.4824 - accuracy: 0.7630\nEpoch 83/500\n16/16 - 0s - loss: 0.4833 - accuracy: 0.7632\nEpoch 84/500\n16/16 - 0s - loss: 0.4836 - accuracy: 0.7643\nEpoch 85/500\n16/16 - 0s - loss: 0.4829 - accuracy: 0.7643\nEpoch 86/500\n16/16 - 0s - loss: 0.4813 - accuracy: 0.7648\nEpoch 87/500\n16/16 - 0s - loss: 0.4847 - accuracy: 0.7622\nEpoch 88/500\n16/16 - 0s - loss: 0.4829 - accuracy: 0.7622\nEpoch 89/500\n16/16 - 0s - loss: 0.4833 - accuracy: 0.7628\nEpoch 90/500\n16/16 - 0s - loss: 0.4823 - accuracy: 0.7627\nEpoch 91/500\n16/16 - 0s - loss: 0.4823 - accuracy: 0.7638\nEpoch 92/500\n16/16 - 0s - loss: 0.4813 - accuracy: 0.7640\nEpoch 93/500\n16/16 - 0s - loss: 0.4803 - accuracy: 0.7656\nEpoch 94/500\n16/16 - 0s - loss: 0.4802 - accuracy: 0.7655\nEpoch 95/500\n16/16 - 0s - loss: 0.4811 - accuracy: 0.7635\nEpoch 96/500\n16/16 - 0s - loss: 0.4813 - accuracy: 0.7639\nEpoch 97/500\n16/16 - 0s - loss: 0.4811 - accuracy: 0.7638\nEpoch 98/500\n16/16 - 0s - loss: 0.4800 - accuracy: 0.7657\nEpoch 99/500\n16/16 - 0s - loss: 0.4793 - accuracy: 0.7652\nEpoch 100/500\n16/16 - 0s - loss: 0.4797 - accuracy: 0.7665\nEpoch 101/500\n16/16 - 0s - loss: 0.4797 - accuracy: 0.7654\nEpoch 102/500\n16/16 - 0s - loss: 0.4791 - accuracy: 0.7654\nEpoch 103/500\n16/16 - 0s - loss: 0.4800 - accuracy: 0.7654\nEpoch 104/500\n16/16 - 0s - loss: 0.4816 - accuracy: 0.7637\nEpoch 105/500\n16/16 - 0s - loss: 0.4801 - accuracy: 0.7654\nEpoch 106/500\n16/16 - 0s - loss: 0.4789 - accuracy: 0.7653\nEpoch 107/500\n16/16 - 0s - loss: 0.4800 - accuracy: 0.7665\nEpoch 108/500\n16/16 - 0s - loss: 0.4785 - accuracy: 0.7657\nEpoch 109/500\n16/16 - 0s - loss: 0.4795 - accuracy: 0.7658\nEpoch 110/500\n16/16 - 0s - loss: 0.4788 - accuracy: 0.7662\nEpoch 111/500\n16/16 - 0s - loss: 0.4792 - accuracy: 0.7671\nEpoch 112/500\n16/16 - 0s - loss: 0.4796 - accuracy: 0.7653\nEpoch 113/500\n16/16 - 0s - loss: 0.4784 - accuracy: 0.7673\nEpoch 114/500\n16/16 - 0s - loss: 0.4776 - accuracy: 0.7669\nEpoch 115/500\n16/16 - 0s - loss: 0.4770 - accuracy: 0.7677\nEpoch 116/500\n16/16 - 0s - loss: 0.4773 - accuracy: 0.7679\nEpoch 117/500\n16/16 - 0s - loss: 0.4779 - accuracy: 0.7656\nEpoch 118/500\n16/16 - 0s - loss: 0.4786 - accuracy: 0.7667\nEpoch 119/500\n16/16 - 0s - loss: 0.4791 - accuracy: 0.7654\nEpoch 120/500\n16/16 - 0s - loss: 0.4763 - accuracy: 0.7682\nEpoch 121/500\n16/16 - 0s - loss: 0.4761 - accuracy: 0.7685\nEpoch 122/500\n16/16 - 0s - loss: 0.4761 - accuracy: 0.7690\nEpoch 123/500\n16/16 - 0s - loss: 0.4757 - accuracy: 0.7689\nEpoch 124/500\n16/16 - 0s - loss: 0.4763 - accuracy: 0.7670\nEpoch 125/500\n16/16 - 0s - loss: 0.4762 - accuracy: 0.7687\nEpoch 126/500\n16/16 - 0s - loss: 0.4754 - accuracy: 0.7693\nEpoch 127/500\n16/16 - 0s - loss: 0.4748 - accuracy: 0.7683\nEpoch 128/500\n16/16 - 0s - loss: 0.4764 - accuracy: 0.7681\nEpoch 129/500\n16/16 - 0s - loss: 0.4758 - accuracy: 0.7689\nEpoch 130/500\n16/16 - 0s - loss: 0.4745 - accuracy: 0.7703\nEpoch 131/500\n16/16 - 0s - loss: 0.4748 - accuracy: 0.7682\nEpoch 132/500\n16/16 - 0s - loss: 0.4743 - accuracy: 0.7705\nEpoch 133/500\n16/16 - 0s - loss: 0.4745 - accuracy: 0.7707\nEpoch 134/500\n16/16 - 0s - loss: 0.4748 - accuracy: 0.7700\nEpoch 135/500\n16/16 - 0s - loss: 0.4744 - accuracy: 0.7696\nEpoch 136/500\n16/16 - 0s - loss: 0.4743 - accuracy: 0.7680\nEpoch 137/500\n16/16 - 0s - loss: 0.4747 - accuracy: 0.7699\nEpoch 138/500\n16/16 - 0s - loss: 0.4737 - accuracy: 0.7707\nEpoch 139/500\n16/16 - 0s - loss: 0.4746 - accuracy: 0.7688\nEpoch 140/500\n16/16 - 0s - loss: 0.4742 - accuracy: 0.7700\nEpoch 141/500\n16/16 - 0s - loss: 0.4732 - accuracy: 0.7700\nEpoch 142/500\n16/16 - 0s - loss: 0.4735 - accuracy: 0.7706\nEpoch 143/500\n16/16 - 0s - loss: 0.4730 - accuracy: 0.7699\nEpoch 144/500\n16/16 - 0s - loss: 0.4729 - accuracy: 0.7702\nEpoch 145/500\n16/16 - 0s - loss: 0.4726 - accuracy: 0.7714\nEpoch 146/500\n16/16 - 0s - loss: 0.4736 - accuracy: 0.7695\nEpoch 147/500\n16/16 - 0s - loss: 0.4738 - accuracy: 0.7692\nEpoch 148/500\n16/16 - 0s - loss: 0.4741 - accuracy: 0.7687\nEpoch 149/500\n16/16 - 0s - loss: 0.4732 - accuracy: 0.7704\nEpoch 150/500\n16/16 - 0s - loss: 0.4731 - accuracy: 0.7703\nEpoch 151/500\n16/16 - 0s - loss: 0.4728 - accuracy: 0.7703\nEpoch 152/500\n16/16 - 0s - loss: 0.4731 - accuracy: 0.7697\nEpoch 153/500\n16/16 - 0s - loss: 0.4717 - accuracy: 0.7716\nEpoch 154/500\n16/16 - 0s - loss: 0.4718 - accuracy: 0.7718\nEpoch 155/500\n16/16 - 0s - loss: 0.4724 - accuracy: 0.7719\nEpoch 156/500\n16/16 - 0s - loss: 0.4736 - accuracy: 0.7690\nEpoch 157/500\n16/16 - 0s - loss: 0.4724 - accuracy: 0.7703\nEpoch 158/500\n16/16 - 0s - loss: 0.4714 - accuracy: 0.7708\nEpoch 159/500\n16/16 - 0s - loss: 0.4712 - accuracy: 0.7701\nEpoch 160/500\n16/16 - 0s - loss: 0.4711 - accuracy: 0.7710\nEpoch 161/500\n16/16 - 0s - loss: 0.4704 - accuracy: 0.7709\nEpoch 162/500\n16/16 - 0s - loss: 0.4701 - accuracy: 0.7733\nEpoch 163/500\n16/16 - 0s - loss: 0.4702 - accuracy: 0.7726\nEpoch 164/500\n16/16 - 0s - loss: 0.4707 - accuracy: 0.7726\nEpoch 165/500\n16/16 - 0s - loss: 0.4703 - accuracy: 0.7722\nEpoch 166/500\n16/16 - 0s - loss: 0.4714 - accuracy: 0.7715\nEpoch 167/500\n16/16 - 0s - loss: 0.4719 - accuracy: 0.7725\nEpoch 168/500\n16/16 - 0s - loss: 0.4696 - accuracy: 0.7728\nEpoch 169/500\n16/16 - 0s - loss: 0.4692 - accuracy: 0.7735\nEpoch 170/500\n16/16 - 0s - loss: 0.4693 - accuracy: 0.7728\nEpoch 171/500\n16/16 - 0s - loss: 0.4693 - accuracy: 0.7713\nEpoch 172/500\n16/16 - 0s - loss: 0.4695 - accuracy: 0.7728\nEpoch 173/500\n16/16 - 0s - loss: 0.4692 - accuracy: 0.7739\nEpoch 174/500\n16/16 - 0s - loss: 0.4692 - accuracy: 0.7731\nEpoch 175/500\n16/16 - 0s - loss: 0.4685 - accuracy: 0.7737\nEpoch 176/500\n16/16 - 0s - loss: 0.4690 - accuracy: 0.7736\nEpoch 177/500\n16/16 - 0s - loss: 0.4689 - accuracy: 0.7732\nEpoch 178/500\n16/16 - 0s - loss: 0.4699 - accuracy: 0.7730\nEpoch 179/500\n16/16 - 0s - loss: 0.4679 - accuracy: 0.7746\nEpoch 180/500\n16/16 - 0s - loss: 0.4676 - accuracy: 0.7737\nEpoch 181/500\n16/16 - 0s - loss: 0.4684 - accuracy: 0.7728\nEpoch 182/500\n16/16 - 0s - loss: 0.4676 - accuracy: 0.7738\nEpoch 183/500\n16/16 - 0s - loss: 0.4673 - accuracy: 0.7747\nEpoch 184/500\n16/16 - 0s - loss: 0.4676 - accuracy: 0.7734\nEpoch 185/500\n16/16 - 0s - loss: 0.4684 - accuracy: 0.7744\nEpoch 186/500\n16/16 - 0s - loss: 0.4692 - accuracy: 0.7727\nEpoch 187/500\n16/16 - 0s - loss: 0.4687 - accuracy: 0.7720\nEpoch 188/500\n16/16 - 0s - loss: 0.4685 - accuracy: 0.7730\nEpoch 189/500\n16/16 - 0s - loss: 0.4680 - accuracy: 0.7740\nEpoch 190/500\n16/16 - 0s - loss: 0.4679 - accuracy: 0.7730\nEpoch 191/500\n16/16 - 0s - loss: 0.4676 - accuracy: 0.7737\nEpoch 192/500\n16/16 - 0s - loss: 0.4665 - accuracy: 0.7740\nEpoch 193/500\n16/16 - 0s - loss: 0.4674 - accuracy: 0.7741\nEpoch 194/500\n16/16 - 0s - loss: 0.4681 - accuracy: 0.7729\nEpoch 195/500\n16/16 - 0s - loss: 0.4661 - accuracy: 0.7759\nEpoch 196/500\n16/16 - 0s - loss: 0.4672 - accuracy: 0.7744\nEpoch 197/500\n16/16 - 0s - loss: 0.4663 - accuracy: 0.7739\nEpoch 198/500\n16/16 - 0s - loss: 0.4669 - accuracy: 0.7747\nEpoch 199/500\n16/16 - 0s - loss: 0.4660 - accuracy: 0.7752\nEpoch 200/500\n16/16 - 0s - loss: 0.4665 - accuracy: 0.7737\nEpoch 201/500\n16/16 - 0s - loss: 0.4672 - accuracy: 0.7742\nEpoch 202/500\n16/16 - 0s - loss: 0.4676 - accuracy: 0.7733\nEpoch 203/500\n16/16 - 0s - loss: 0.4661 - accuracy: 0.7750\nEpoch 204/500\n16/16 - 0s - loss: 0.4660 - accuracy: 0.7747\nEpoch 205/500\n16/16 - 0s - loss: 0.4656 - accuracy: 0.7748\nEpoch 206/500\n16/16 - 0s - loss: 0.4651 - accuracy: 0.7747\nEpoch 207/500\n16/16 - 0s - loss: 0.4654 - accuracy: 0.7760\nEpoch 208/500\n16/16 - 0s - loss: 0.4656 - accuracy: 0.7753\nEpoch 209/500\n16/16 - 0s - loss: 0.4649 - accuracy: 0.7755\nEpoch 210/500\n16/16 - 0s - loss: 0.4657 - accuracy: 0.7748\nEpoch 211/500\n16/16 - 0s - loss: 0.4654 - accuracy: 0.7755\nEpoch 212/500\n16/16 - 0s - loss: 0.4659 - accuracy: 0.7745\nEpoch 213/500\n16/16 - 0s - loss: 0.4652 - accuracy: 0.7751\nEpoch 214/500\n16/16 - 0s - loss: 0.4643 - accuracy: 0.7753\nEpoch 215/500\n16/16 - 0s - loss: 0.4645 - accuracy: 0.7766\nEpoch 216/500\n16/16 - 0s - loss: 0.4648 - accuracy: 0.7752\nEpoch 217/500\n16/16 - 0s - loss: 0.4645 - accuracy: 0.7753\nEpoch 218/500\n16/16 - 0s - loss: 0.4642 - accuracy: 0.7757\nEpoch 219/500\n16/16 - 0s - loss: 0.4640 - accuracy: 0.7765\nEpoch 220/500\n16/16 - 0s - loss: 0.4644 - accuracy: 0.7751\nEpoch 221/500\n16/16 - 0s - loss: 0.4639 - accuracy: 0.7764\nEpoch 222/500\n16/16 - 0s - loss: 0.4636 - accuracy: 0.7761\nEpoch 223/500\n16/16 - 0s - loss: 0.4637 - accuracy: 0.7762\nEpoch 224/500\n16/16 - 0s - loss: 0.4661 - accuracy: 0.7750\nEpoch 225/500\n16/16 - 0s - loss: 0.4646 - accuracy: 0.7752\nEpoch 226/500\n16/16 - 0s - loss: 0.4639 - accuracy: 0.7762\nEpoch 227/500\n16/16 - 0s - loss: 0.4673 - accuracy: 0.7750\nEpoch 228/500\n16/16 - 0s - loss: 0.4642 - accuracy: 0.7768\nEpoch 229/500\n16/16 - 0s - loss: 0.4652 - accuracy: 0.7766\nEpoch 230/500\n16/16 - 0s - loss: 0.4641 - accuracy: 0.7768\nEpoch 231/500\n16/16 - 0s - loss: 0.4634 - accuracy: 0.7764\nEpoch 232/500\n16/16 - 0s - loss: 0.4641 - accuracy: 0.7764\nEpoch 233/500\n16/16 - 0s - loss: 0.4643 - accuracy: 0.7754\nEpoch 234/500\n16/16 - 0s - loss: 0.4660 - accuracy: 0.7755\nEpoch 235/500\n16/16 - 0s - loss: 0.4633 - accuracy: 0.7780\nEpoch 236/500\n16/16 - 0s - loss: 0.4620 - accuracy: 0.7774\nEpoch 237/500\n16/16 - 0s - loss: 0.4640 - accuracy: 0.7768\nEpoch 238/500\n16/16 - 0s - loss: 0.4650 - accuracy: 0.7751\nEpoch 239/500\n16/16 - 0s - loss: 0.4635 - accuracy: 0.7760\nEpoch 240/500\n16/16 - 0s - loss: 0.4623 - accuracy: 0.7774\nEpoch 241/500\n16/16 - 0s - loss: 0.4620 - accuracy: 0.7784\nEpoch 242/500\n16/16 - 0s - loss: 0.4637 - accuracy: 0.7766\nEpoch 243/500\n16/16 - 0s - loss: 0.4629 - accuracy: 0.7773\nEpoch 244/500\n16/16 - 0s - loss: 0.4617 - accuracy: 0.7780\nEpoch 245/500\n16/16 - 0s - loss: 0.4621 - accuracy: 0.7771\nEpoch 246/500\n16/16 - 0s - loss: 0.4615 - accuracy: 0.7784\nEpoch 247/500\n16/16 - 0s - loss: 0.4619 - accuracy: 0.7773\nEpoch 248/500\n16/16 - 0s - loss: 0.4615 - accuracy: 0.7774\nEpoch 249/500\n16/16 - 0s - loss: 0.4631 - accuracy: 0.7755\nEpoch 250/500\n16/16 - 0s - loss: 0.4623 - accuracy: 0.7753\nEpoch 251/500\n16/16 - 0s - loss: 0.4613 - accuracy: 0.7772\nEpoch 252/500\n16/16 - 0s - loss: 0.4608 - accuracy: 0.7773\nEpoch 253/500\n16/16 - 0s - loss: 0.4624 - accuracy: 0.7774\nEpoch 254/500\n16/16 - 0s - loss: 0.4625 - accuracy: 0.7767\nEpoch 255/500\n16/16 - 0s - loss: 0.4611 - accuracy: 0.7785\nEpoch 256/500\n16/16 - 0s - loss: 0.4612 - accuracy: 0.7764\nEpoch 257/500\n16/16 - 0s - loss: 0.4611 - accuracy: 0.7766\nEpoch 258/500\n16/16 - 0s - loss: 0.4623 - accuracy: 0.7763\nEpoch 259/500\n16/16 - 0s - loss: 0.4612 - accuracy: 0.7778\nEpoch 260/500\n16/16 - 0s - loss: 0.4609 - accuracy: 0.7770\nEpoch 261/500\n16/16 - 0s - loss: 0.4607 - accuracy: 0.7783\nEpoch 262/500\n16/16 - 0s - loss: 0.4605 - accuracy: 0.7782\nEpoch 263/500\n16/16 - 0s - loss: 0.4615 - accuracy: 0.7775\nEpoch 264/500\n16/16 - 0s - loss: 0.4620 - accuracy: 0.7761\nEpoch 265/500\n16/16 - 0s - loss: 0.4598 - accuracy: 0.7786\nEpoch 266/500\n16/16 - 0s - loss: 0.4608 - accuracy: 0.7798\nEpoch 267/500\n16/16 - 0s - loss: 0.4599 - accuracy: 0.7787\nEpoch 268/500\n16/16 - 0s - loss: 0.4604 - accuracy: 0.7776\nEpoch 269/500\n16/16 - 0s - loss: 0.4598 - accuracy: 0.7791\nEpoch 270/500\n16/16 - 0s - loss: 0.4598 - accuracy: 0.7785\nEpoch 271/500\n16/16 - 0s - loss: 0.4591 - accuracy: 0.7792\nEpoch 272/500\n16/16 - 0s - loss: 0.4600 - accuracy: 0.7773\nEpoch 273/500\n16/16 - 0s - loss: 0.4613 - accuracy: 0.7774\nEpoch 274/500\n16/16 - 0s - loss: 0.4616 - accuracy: 0.7782\nEpoch 275/500\n16/16 - 0s - loss: 0.4594 - accuracy: 0.7782\nEpoch 276/500\n16/16 - 0s - loss: 0.4592 - accuracy: 0.7792\nEpoch 277/500\n16/16 - 0s - loss: 0.4588 - accuracy: 0.7790\nEpoch 278/500\n16/16 - 0s - loss: 0.4586 - accuracy: 0.7780\nEpoch 279/500\n16/16 - 0s - loss: 0.4590 - accuracy: 0.7786\nEpoch 280/500\n16/16 - 0s - loss: 0.4584 - accuracy: 0.7794\nEpoch 281/500\n16/16 - 0s - loss: 0.4596 - accuracy: 0.7783\nEpoch 282/500\n16/16 - 0s - loss: 0.4584 - accuracy: 0.7794\nEpoch 283/500\n16/16 - 0s - loss: 0.4574 - accuracy: 0.7796\nEpoch 284/500\n16/16 - 0s - loss: 0.4582 - accuracy: 0.7799\nEpoch 285/500\n16/16 - 0s - loss: 0.4575 - accuracy: 0.7789\nEpoch 286/500\n16/16 - 0s - loss: 0.4592 - accuracy: 0.7794\nEpoch 287/500\n16/16 - 0s - loss: 0.4577 - accuracy: 0.7792\nEpoch 288/500\n16/16 - 0s - loss: 0.4578 - accuracy: 0.7800\nEpoch 289/500\n16/16 - 0s - loss: 0.4574 - accuracy: 0.7793\nEpoch 290/500\n16/16 - 0s - loss: 0.4574 - accuracy: 0.7793\nEpoch 291/500\n16/16 - 0s - loss: 0.4570 - accuracy: 0.7806\nEpoch 292/500\n16/16 - 0s - loss: 0.4566 - accuracy: 0.7807\nEpoch 293/500\n16/16 - 0s - loss: 0.4577 - accuracy: 0.7800\nEpoch 294/500\n16/16 - 0s - loss: 0.4573 - accuracy: 0.7789\nEpoch 295/500\n16/16 - 0s - loss: 0.4578 - accuracy: 0.7794\nEpoch 296/500\n16/16 - 0s - loss: 0.4567 - accuracy: 0.7799\nEpoch 297/500\n16/16 - 0s - loss: 0.4575 - accuracy: 0.7811\nEpoch 298/500\n16/16 - 0s - loss: 0.4568 - accuracy: 0.7802\nEpoch 299/500\n16/16 - 0s - loss: 0.4574 - accuracy: 0.7801\nEpoch 300/500\n16/16 - 0s - loss: 0.4568 - accuracy: 0.7800\nEpoch 301/500\n16/16 - 0s - loss: 0.4564 - accuracy: 0.7810\nEpoch 302/500\n16/16 - 0s - loss: 0.4565 - accuracy: 0.7802\nEpoch 303/500\n16/16 - 0s - loss: 0.4566 - accuracy: 0.7799\nEpoch 304/500\n16/16 - 0s - loss: 0.4564 - accuracy: 0.7808\nEpoch 305/500\n16/16 - 0s - loss: 0.4564 - accuracy: 0.7802\nEpoch 306/500\n16/16 - 0s - loss: 0.4559 - accuracy: 0.7796\nEpoch 307/500\n16/16 - 0s - loss: 0.4560 - accuracy: 0.7803\nEpoch 308/500\n16/16 - 0s - loss: 0.4562 - accuracy: 0.7806\nEpoch 309/500\n16/16 - 0s - loss: 0.4570 - accuracy: 0.7801\nEpoch 310/500\n16/16 - 0s - loss: 0.4566 - accuracy: 0.7800\nEpoch 311/500\n16/16 - 0s - loss: 0.4575 - accuracy: 0.7801\nEpoch 312/500\n16/16 - 0s - loss: 0.4557 - accuracy: 0.7809\nEpoch 313/500\n16/16 - 0s - loss: 0.4558 - accuracy: 0.7786\nEpoch 314/500\n16/16 - 0s - loss: 0.4556 - accuracy: 0.7806\nEpoch 315/500\n16/16 - 0s - loss: 0.4546 - accuracy: 0.7808\nEpoch 316/500\n16/16 - 0s - loss: 0.4547 - accuracy: 0.7813\nEpoch 317/500\n16/16 - 0s - loss: 0.4554 - accuracy: 0.7822\nEpoch 318/500\n16/16 - 0s - loss: 0.4555 - accuracy: 0.7802\nEpoch 319/500\n16/16 - 0s - loss: 0.4549 - accuracy: 0.7823\nEpoch 320/500\n16/16 - 0s - loss: 0.4541 - accuracy: 0.7821\nEpoch 321/500\n16/16 - 0s - loss: 0.4538 - accuracy: 0.7824\nEpoch 322/500\n16/16 - 0s - loss: 0.4543 - accuracy: 0.7823\nEpoch 323/500\n16/16 - 0s - loss: 0.4547 - accuracy: 0.7810\nEpoch 324/500\n16/16 - 0s - loss: 0.4551 - accuracy: 0.7801\nEpoch 325/500\n16/16 - 0s - loss: 0.4548 - accuracy: 0.7796\nEpoch 326/500\n16/16 - 0s - loss: 0.4540 - accuracy: 0.7817\nEpoch 327/500\n16/16 - 0s - loss: 0.4543 - accuracy: 0.7817\nEpoch 328/500\n16/16 - 0s - loss: 0.4537 - accuracy: 0.7827\nEpoch 329/500\n16/16 - 0s - loss: 0.4552 - accuracy: 0.7814\nEpoch 330/500\n16/16 - 0s - loss: 0.4540 - accuracy: 0.7818\nEpoch 331/500\n16/16 - 0s - loss: 0.4560 - accuracy: 0.7811\nEpoch 332/500\n16/16 - 0s - loss: 0.4561 - accuracy: 0.7796\nEpoch 333/500\n16/16 - 0s - loss: 0.4571 - accuracy: 0.7795\nEpoch 334/500\n16/16 - 0s - loss: 0.4548 - accuracy: 0.7811\nEpoch 335/500\n16/16 - 0s - loss: 0.4539 - accuracy: 0.7818\nEpoch 336/500\n16/16 - 0s - loss: 0.4566 - accuracy: 0.7800\nEpoch 337/500\n16/16 - 0s - loss: 0.4541 - accuracy: 0.7811\nEpoch 338/500\n16/16 - 0s - loss: 0.4545 - accuracy: 0.7815\nEpoch 339/500\n16/16 - 0s - loss: 0.4533 - accuracy: 0.7820\nEpoch 340/500\n16/16 - 0s - loss: 0.4533 - accuracy: 0.7823\nEpoch 341/500\n16/16 - 0s - loss: 0.4531 - accuracy: 0.7822\nEpoch 342/500\n16/16 - 0s - loss: 0.4544 - accuracy: 0.7822\nEpoch 343/500\n16/16 - 0s - loss: 0.4522 - accuracy: 0.7820\nEpoch 344/500\n16/16 - 0s - loss: 0.4524 - accuracy: 0.7827\nEpoch 345/500\n16/16 - 0s - loss: 0.4532 - accuracy: 0.7827\nEpoch 346/500\n16/16 - 0s - loss: 0.4534 - accuracy: 0.7810\nEpoch 347/500\n16/16 - 0s - loss: 0.4537 - accuracy: 0.7823\nEpoch 348/500\n16/16 - 0s - loss: 0.4524 - accuracy: 0.7834\nEpoch 349/500\n16/16 - 0s - loss: 0.4515 - accuracy: 0.7846\nEpoch 350/500\n16/16 - 0s - loss: 0.4522 - accuracy: 0.7833\nEpoch 351/500\n16/16 - 0s - loss: 0.4545 - accuracy: 0.7804\nEpoch 352/500\n16/16 - 0s - loss: 0.4543 - accuracy: 0.7823\nEpoch 353/500\n16/16 - 0s - loss: 0.4539 - accuracy: 0.7818\nEpoch 354/500\n16/16 - 0s - loss: 0.4527 - accuracy: 0.7836\nEpoch 355/500\n16/16 - 0s - loss: 0.4526 - accuracy: 0.7822\nEpoch 356/500\n16/16 - 0s - loss: 0.4551 - accuracy: 0.7812\nEpoch 357/500\n16/16 - 0s - loss: 0.4515 - accuracy: 0.7823\nEpoch 358/500\n16/16 - 0s - loss: 0.4511 - accuracy: 0.7846\nEpoch 359/500\n16/16 - 0s - loss: 0.4511 - accuracy: 0.7835\nEpoch 360/500\n16/16 - 0s - loss: 0.4516 - accuracy: 0.7832\nEpoch 361/500\n16/16 - 0s - loss: 0.4516 - accuracy: 0.7847\nEpoch 362/500\n16/16 - 0s - loss: 0.4512 - accuracy: 0.7834\nEpoch 363/500\n16/16 - 0s - loss: 0.4512 - accuracy: 0.7830\nEpoch 364/500\n16/16 - 0s - loss: 0.4511 - accuracy: 0.7841\nEpoch 365/500\n16/16 - 0s - loss: 0.4505 - accuracy: 0.7842\nEpoch 366/500\n16/16 - 0s - loss: 0.4525 - accuracy: 0.7814\nEpoch 367/500\n16/16 - 0s - loss: 0.4508 - accuracy: 0.7833\nEpoch 368/500\n16/16 - 0s - loss: 0.4501 - accuracy: 0.7840\nEpoch 369/500\n16/16 - 0s - loss: 0.4510 - accuracy: 0.7831\nEpoch 370/500\n16/16 - 0s - loss: 0.4503 - accuracy: 0.7849\nEpoch 371/500\n16/16 - 0s - loss: 0.4511 - accuracy: 0.7837\nEpoch 372/500\n16/16 - 0s - loss: 0.4510 - accuracy: 0.7826\nEpoch 373/500\n16/16 - 0s - loss: 0.4516 - accuracy: 0.7841\nEpoch 374/500\n16/16 - 0s - loss: 0.4516 - accuracy: 0.7833\nEpoch 375/500\n16/16 - 0s - loss: 0.4510 - accuracy: 0.7835\nEpoch 376/500\n16/16 - 0s - loss: 0.4504 - accuracy: 0.7847\nEpoch 377/500\n16/16 - 0s - loss: 0.4496 - accuracy: 0.7833\nEpoch 378/500\n16/16 - 0s - loss: 0.4495 - accuracy: 0.7840\nEpoch 379/500\n16/16 - 0s - loss: 0.4510 - accuracy: 0.7833\nEpoch 380/500\n16/16 - 0s - loss: 0.4502 - accuracy: 0.7845\nEpoch 381/500\n16/16 - 0s - loss: 0.4508 - accuracy: 0.7839\nEpoch 382/500\n16/16 - 0s - loss: 0.4520 - accuracy: 0.7839\nEpoch 383/500\n16/16 - 0s - loss: 0.4509 - accuracy: 0.7830\nEpoch 384/500\n16/16 - 0s - loss: 0.4507 - accuracy: 0.7834\nEpoch 385/500\n16/16 - 0s - loss: 0.4519 - accuracy: 0.7828\nEpoch 386/500\n16/16 - 0s - loss: 0.4511 - accuracy: 0.7831\nEpoch 387/500\n16/16 - 0s - loss: 0.4492 - accuracy: 0.7840\nEpoch 388/500\n16/16 - 0s - loss: 0.4506 - accuracy: 0.7840\nEpoch 389/500\n16/16 - 0s - loss: 0.4496 - accuracy: 0.7857\nEpoch 390/500\n16/16 - 0s - loss: 0.4491 - accuracy: 0.7847\nEpoch 391/500\n16/16 - 0s - loss: 0.4513 - accuracy: 0.7835\nEpoch 392/500\n16/16 - 0s - loss: 0.4487 - accuracy: 0.7846\nEpoch 393/500\n16/16 - 0s - loss: 0.4495 - accuracy: 0.7842\nEpoch 394/500\n16/16 - 0s - loss: 0.4500 - accuracy: 0.7843\nEpoch 395/500\n16/16 - 0s - loss: 0.4493 - accuracy: 0.7849\nEpoch 396/500\n16/16 - 0s - loss: 0.4479 - accuracy: 0.7854\nEpoch 397/500\n16/16 - 0s - loss: 0.4479 - accuracy: 0.7858\nEpoch 398/500\n16/16 - 0s - loss: 0.4492 - accuracy: 0.7835\nEpoch 399/500\n16/16 - 0s - loss: 0.4485 - accuracy: 0.7852\nEpoch 400/500\n16/16 - 0s - loss: 0.4491 - accuracy: 0.7839\nEpoch 401/500\n16/16 - 0s - loss: 0.4500 - accuracy: 0.7843\nEpoch 402/500\n16/16 - 0s - loss: 0.4479 - accuracy: 0.7851\nEpoch 403/500\n16/16 - 0s - loss: 0.4480 - accuracy: 0.7853\nEpoch 404/500\n16/16 - 0s - loss: 0.4489 - accuracy: 0.7852\nEpoch 405/500\n16/16 - 0s - loss: 0.4486 - accuracy: 0.7846\nEpoch 406/500\n16/16 - 0s - loss: 0.4477 - accuracy: 0.7869\nEpoch 407/500\n16/16 - 0s - loss: 0.4472 - accuracy: 0.7853\nEpoch 408/500\n16/16 - 0s - loss: 0.4471 - accuracy: 0.7851\nEpoch 409/500\n16/16 - 0s - loss: 0.4478 - accuracy: 0.7858\nEpoch 410/500\n16/16 - 0s - loss: 0.4471 - accuracy: 0.7871\nEpoch 411/500\n16/16 - 0s - loss: 0.4477 - accuracy: 0.7860\nEpoch 412/500\n16/16 - 0s - loss: 0.4475 - accuracy: 0.7864\nEpoch 413/500\n16/16 - 0s - loss: 0.4478 - accuracy: 0.7867\nEpoch 414/500\n16/16 - 0s - loss: 0.4479 - accuracy: 0.7859\nEpoch 415/500\n16/16 - 0s - loss: 0.4506 - accuracy: 0.7846\nEpoch 416/500\n16/16 - 0s - loss: 0.4484 - accuracy: 0.7847\nEpoch 417/500\n16/16 - 0s - loss: 0.4476 - accuracy: 0.7867\nEpoch 418/500\n16/16 - 0s - loss: 0.4463 - accuracy: 0.7869\nEpoch 419/500\n16/16 - 0s - loss: 0.4471 - accuracy: 0.7856\nEpoch 420/500\n16/16 - 0s - loss: 0.4461 - accuracy: 0.7874\nEpoch 421/500\n16/16 - 0s - loss: 0.4494 - accuracy: 0.7858\nEpoch 422/500\n16/16 - 0s - loss: 0.4480 - accuracy: 0.7860\nEpoch 423/500\n16/16 - 0s - loss: 0.4474 - accuracy: 0.7870\nEpoch 424/500\n16/16 - 0s - loss: 0.4468 - accuracy: 0.7877\nEpoch 425/500\n16/16 - 0s - loss: 0.4460 - accuracy: 0.7875\nEpoch 426/500\n16/16 - 0s - loss: 0.4462 - accuracy: 0.7873\nEpoch 427/500\n16/16 - 0s - loss: 0.4477 - accuracy: 0.7866\nEpoch 428/500\n16/16 - 0s - loss: 0.4462 - accuracy: 0.7867\nEpoch 429/500\n16/16 - 0s - loss: 0.4463 - accuracy: 0.7871\nEpoch 430/500\n16/16 - 0s - loss: 0.4455 - accuracy: 0.7876\nEpoch 431/500\n16/16 - 0s - loss: 0.4470 - accuracy: 0.7876\nEpoch 432/500\n16/16 - 0s - loss: 0.4450 - accuracy: 0.7872\nEpoch 433/500\n16/16 - 0s - loss: 0.4461 - accuracy: 0.7872\nEpoch 434/500\n16/16 - 0s - loss: 0.4456 - accuracy: 0.7872\nEpoch 435/500\n16/16 - 0s - loss: 0.4454 - accuracy: 0.7866\nEpoch 436/500\n16/16 - 0s - loss: 0.4475 - accuracy: 0.7848\nEpoch 437/500\n16/16 - 0s - loss: 0.4471 - accuracy: 0.7859\nEpoch 438/500\n16/16 - 0s - loss: 0.4444 - accuracy: 0.7869\nEpoch 439/500\n16/16 - 0s - loss: 0.4447 - accuracy: 0.7859\nEpoch 440/500\n16/16 - 0s - loss: 0.4449 - accuracy: 0.7869\nEpoch 441/500\n16/16 - 0s - loss: 0.4463 - accuracy: 0.7868\nEpoch 442/500\n16/16 - 0s - loss: 0.4469 - accuracy: 0.7858\nEpoch 443/500\n16/16 - 0s - loss: 0.4442 - accuracy: 0.7895\nEpoch 444/500\n16/16 - 0s - loss: 0.4458 - accuracy: 0.7859\nEpoch 445/500\n16/16 - 0s - loss: 0.4458 - accuracy: 0.7861\nEpoch 446/500\n16/16 - 0s - loss: 0.4456 - accuracy: 0.7870\nEpoch 447/500\n16/16 - 0s - loss: 0.4447 - accuracy: 0.7883\nEpoch 448/500\n16/16 - 0s - loss: 0.4449 - accuracy: 0.7881\nEpoch 449/500\n16/16 - 0s - loss: 0.4440 - accuracy: 0.7874\nEpoch 450/500\n16/16 - 0s - loss: 0.4446 - accuracy: 0.7874\nEpoch 451/500\n16/16 - 0s - loss: 0.4444 - accuracy: 0.7883\nEpoch 452/500\n16/16 - 0s - loss: 0.4443 - accuracy: 0.7873\nEpoch 453/500\n16/16 - 0s - loss: 0.4441 - accuracy: 0.7874\nEpoch 454/500\n16/16 - 0s - loss: 0.4433 - accuracy: 0.7883\nEpoch 455/500\n16/16 - 0s - loss: 0.4445 - accuracy: 0.7879\nEpoch 456/500\n16/16 - 0s - loss: 0.4441 - accuracy: 0.7881\nEpoch 457/500\n16/16 - 0s - loss: 0.4458 - accuracy: 0.7872\nEpoch 458/500\n16/16 - 0s - loss: 0.4479 - accuracy: 0.7850\nEpoch 459/500\n16/16 - 0s - loss: 0.4474 - accuracy: 0.7853\nEpoch 460/500\n16/16 - 0s - loss: 0.4469 - accuracy: 0.7874\nEpoch 461/500\n16/16 - 0s - loss: 0.4449 - accuracy: 0.7867\nEpoch 462/500\n16/16 - 0s - loss: 0.4442 - accuracy: 0.7881\nEpoch 463/500\n16/16 - 0s - loss: 0.4429 - accuracy: 0.7879\nEpoch 464/500\n16/16 - 0s - loss: 0.4435 - accuracy: 0.7879\nEpoch 465/500\n16/16 - 0s - loss: 0.4455 - accuracy: 0.7863\nEpoch 466/500\n16/16 - 0s - loss: 0.4437 - accuracy: 0.7872\nEpoch 467/500\n16/16 - 0s - loss: 0.4441 - accuracy: 0.7880\nEpoch 468/500\n16/16 - 0s - loss: 0.4447 - accuracy: 0.7865\nEpoch 469/500\n16/16 - 0s - loss: 0.4438 - accuracy: 0.7882\nEpoch 470/500\n16/16 - 0s - loss: 0.4444 - accuracy: 0.7886\nEpoch 471/500\n16/16 - 0s - loss: 0.4424 - accuracy: 0.7894\nEpoch 472/500\n16/16 - 0s - loss: 0.4441 - accuracy: 0.7879\nEpoch 473/500\n16/16 - 0s - loss: 0.4444 - accuracy: 0.7874\nEpoch 474/500\n16/16 - 0s - loss: 0.4431 - accuracy: 0.7885\nEpoch 475/500\n16/16 - 0s - loss: 0.4437 - accuracy: 0.7881\nEpoch 476/500\n16/16 - 0s - loss: 0.4445 - accuracy: 0.7882\nEpoch 477/500\n16/16 - 0s - loss: 0.4441 - accuracy: 0.7879\nEpoch 478/500\n16/16 - 0s - loss: 0.4427 - accuracy: 0.7889\nEpoch 479/500\n16/16 - 0s - loss: 0.4420 - accuracy: 0.7889\nEpoch 480/500\n16/16 - 0s - loss: 0.4424 - accuracy: 0.7880\nEpoch 481/500\n16/16 - 0s - loss: 0.4426 - accuracy: 0.7875\nEpoch 482/500\n16/16 - 0s - loss: 0.4419 - accuracy: 0.7899\nEpoch 483/500\n16/16 - 0s - loss: 0.4424 - accuracy: 0.7888\nEpoch 484/500\n16/16 - 0s - loss: 0.4418 - accuracy: 0.7888\nEpoch 485/500\n16/16 - 0s - loss: 0.4417 - accuracy: 0.7887\nEpoch 486/500\n16/16 - 0s - loss: 0.4423 - accuracy: 0.7885\nEpoch 487/500\n16/16 - 0s - loss: 0.4437 - accuracy: 0.7876\nEpoch 488/500\n16/16 - 0s - loss: 0.4433 - accuracy: 0.7884\nEpoch 489/500\n16/16 - 0s - loss: 0.4415 - accuracy: 0.7890\nEpoch 490/500\n16/16 - 0s - loss: 0.4420 - accuracy: 0.7880\nEpoch 491/500\n16/16 - 0s - loss: 0.4408 - accuracy: 0.7908\nEpoch 492/500\n16/16 - 0s - loss: 0.4416 - accuracy: 0.7887\nEpoch 493/500\n16/16 - 0s - loss: 0.4418 - accuracy: 0.7893\nEpoch 494/500\n16/16 - 0s - loss: 0.4422 - accuracy: 0.7901\nEpoch 495/500\n16/16 - 0s - loss: 0.4430 - accuracy: 0.7872\nEpoch 496/500\n16/16 - 0s - loss: 0.4436 - accuracy: 0.7880\nEpoch 497/500\n16/16 - 0s - loss: 0.4413 - accuracy: 0.7890\nEpoch 498/500\n16/16 - 0s - loss: 0.4408 - accuracy: 0.7891\nEpoch 499/500\n16/16 - 0s - loss: 0.4402 - accuracy: 0.7910\nEpoch 500/500\n16/16 - 0s - loss: 0.4408 - accuracy: 0.7899\n"
    }
   ],
   "source": [
    "#Training the Model\n",
    "history = model.fit(X_train_scaled, y_train_categorical, epochs=500, batch_size=2000, shuffle=True, verbose=2)"
   ]
  },
  {
   "cell_type": "markdown",
   "metadata": {},
   "source": [
    "## Validation of the Model"
   ]
  },
  {
   "cell_type": "code",
   "execution_count": 14,
   "metadata": {
    "tags": []
   },
   "outputs": [
    {
     "output_type": "stream",
     "name": "stdout",
     "text": "964/964 - 1s - loss: 0.4390 - accuracy: 0.7907\n322/322 - 0s - loss: 0.4846 - accuracy: 0.7694\nTrain --> Loss: 0.4389723539352417, Accuracy: 0.7906516790390015\nTest --> Loss: 0.48464494943618774, Accuracy: 0.76938796043396\n"
    }
   ],
   "source": [
    "#Evaluate the Model using the testing data\n",
    "#Compare Model performace between training and testing data\n",
    "model_loss_train, model_accuracy_train = model.evaluate(X_train_scaled, y_train_categorical, verbose=2)\n",
    "model_loss, model_accuracy = model.evaluate(X_test_scaled, y_test_categorical, verbose=2)\n",
    "\n",
    "print(f\"Train --> Loss: {model_loss_train}, Accuracy: {model_accuracy_train}\")    \n",
    "print(f\"Test --> Loss: {model_loss}, Accuracy: {model_accuracy}\")"
   ]
  },
  {
   "cell_type": "markdown",
   "metadata": {},
   "source": [
    "## Saving the Trained Model"
   ]
  },
  {
   "cell_type": "code",
   "execution_count": 15,
   "metadata": {},
   "outputs": [],
   "source": [
    "# Save the model\n",
    "model.save(\"../Models/h5/sspeech.h5\")"
   ]
  }
 ],
 "metadata": {
  "language_info": {
   "codemirror_mode": {
    "name": "ipython",
    "version": 3
   },
   "file_extension": ".py",
   "mimetype": "text/x-python",
   "name": "python",
   "nbconvert_exporter": "python",
   "pygments_lexer": "ipython3",
   "version": "3.8.3-final"
  },
  "orig_nbformat": 2,
  "kernelspec": {
   "name": "python38364bitvenvvenv54c3120af49c4f098fcd2d81e62b322e",
   "display_name": "Python 3.8.3 64-bit ('venv': venv)"
  }
 },
 "nbformat": 4,
 "nbformat_minor": 2
}
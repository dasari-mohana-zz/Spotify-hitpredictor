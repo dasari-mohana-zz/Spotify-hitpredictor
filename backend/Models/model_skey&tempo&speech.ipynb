{
 "cells": [
  {
   "cell_type": "code",
   "execution_count": 1,
   "metadata": {},
   "outputs": [],
   "source": [
    "import os\n",
    "import glob\n",
    "import pandas as pd"
   ]
  },
  {
   "cell_type": "code",
   "execution_count": 2,
   "metadata": {},
   "outputs": [],
   "source": [
    "# Define working directory\n",
    "os.chdir(r\"C:\\Users\\Cristina Bardan\\Desktop\\Repositories\\FinalProject-Spotify\\Original_data\")"
   ]
  },
  {
   "cell_type": "code",
   "execution_count": 3,
   "metadata": {},
   "outputs": [],
   "source": [
    "# Use glob to match the pattern ‘csv’\n",
    "extension = 'csv'\n",
    "all_filenames = [i for i in glob.glob('*.{}'.format(extension))]\n",
    "\n",
    "# Combine all files in the list and export as CSV\n",
    "df = pd.concat([pd.read_csv(f) for f in all_filenames ])\n",
    "df.reset_index(drop=True, inplace=True)"
   ]
  },
  {
   "cell_type": "code",
   "execution_count": 4,
   "metadata": {
    "tags": []
   },
   "outputs": [],
   "source": [
    "df2 = df.drop(['track', 'artist', 'uri',\"key\", \"tempo\", \"speechiness\"], axis=1)"
   ]
  },
  {
   "cell_type": "code",
   "execution_count": 5,
   "metadata": {},
   "outputs": [],
   "source": [
    "#Validation of correlation between variables\n",
    "import numpy as np \n",
    "df3=df2.corr()"
   ]
  },
  {
   "cell_type": "code",
   "execution_count": 6,
   "metadata": {
    "tags": []
   },
   "outputs": [
    {
     "output_type": "stream",
     "name": "stdout",
     "text": "(41106, 13) (41106, 12) (41106,)\n"
    }
   ],
   "source": [
    "# Reformat data\n",
    "data = df2.values\n",
    "X = data[:, 0:12]  \n",
    "y = data[:, 12]\n",
    "\n",
    "print(data.shape, X.shape, y.shape)"
   ]
  },
  {
   "cell_type": "code",
   "execution_count": 7,
   "metadata": {},
   "outputs": [],
   "source": [
    "from sklearn.model_selection import train_test_split\n",
    "\n",
    "X_train, X_test, y_train, y_test = train_test_split(X, y, random_state=10)"
   ]
  },
  {
   "cell_type": "markdown",
   "metadata": {},
   "source": [
    "## Data Preprocessing"
   ]
  },
  {
   "cell_type": "code",
   "execution_count": 8,
   "metadata": {},
   "outputs": [
    {
     "output_type": "execute_result",
     "data": {
      "text/plain": "array([[0.78947368, 0.52283395, 0.76172236, ..., 0.8       , 0.19905999,\n        0.06508876],\n       [0.54048583, 0.83094117, 0.77921392, ..., 0.8       , 0.21633373,\n        0.04142012],\n       [0.5       , 0.66588373, 0.7455139 , ..., 0.8       , 0.20480589,\n        0.03550296],\n       ...,\n       [0.57692308, 0.36777999, 0.68303866, ..., 0.8       , 0.15844718,\n        0.09467456],\n       [0.41902834, 0.16070793, 0.50819858, ..., 0.8       , 0.200772  ,\n        0.04733728],\n       [0.29554656, 0.24873856, 0.67937808, ..., 0.6       , 0.12021911,\n        0.06508876]])"
     },
     "metadata": {},
     "execution_count": 8
    }
   ],
   "source": [
    "#Scale features (X) using MinMaxScaler\n",
    "from sklearn.preprocessing import MinMaxScaler\n",
    "X_scaler = MinMaxScaler(feature_range=(0,1)).fit(X_train)\n",
    "\n",
    "X_train_scaled = X_scaler.transform(X_train)\n",
    "X_test_scaled = X_scaler.transform(X_test) \n",
    "\n",
    "X_train_scaled"
   ]
  },
  {
   "cell_type": "markdown",
   "metadata": {},
   "source": [
    "One-hot encode the labels"
   ]
  },
  {
   "cell_type": "code",
   "execution_count": 9,
   "metadata": {},
   "outputs": [
    {
     "output_type": "execute_result",
     "data": {
      "text/plain": "array([[0., 1.],\n       [1., 0.],\n       [0., 1.],\n       ...,\n       [0., 1.],\n       [0., 1.],\n       [1., 0.]], dtype=float32)"
     },
     "metadata": {},
     "execution_count": 9
    }
   ],
   "source": [
    "#One-hot encode output labels (y)\n",
    "from tensorflow.keras.utils import to_categorical\n",
    "y_train_categorical = to_categorical(y_train)\n",
    "y_test_categorical = to_categorical(y_test)\n",
    "\n",
    "y_train_categorical"
   ]
  },
  {
   "cell_type": "markdown",
   "metadata": {},
   "source": [
    "## Creating and defining our Deep Learning Model Architecture"
   ]
  },
  {
   "cell_type": "code",
   "execution_count": 10,
   "metadata": {},
   "outputs": [],
   "source": [
    "#Create a sequential model\n",
    "from tensorflow.keras.models import Sequential\n",
    "from tensorflow.keras.layers import Dense\n",
    "model = Sequential() \n",
    "\n",
    "number_inputs = 12  \n",
    "\n",
    "#Create hidden layers\n",
    "model.add(Dense(units=14,activation='relu', input_dim=number_inputs))\n",
    "model.add(Dense(units=120,activation='relu'))\n",
    "model.add(Dense(units=80,activation='relu'))\n",
    "\n",
    "#Create output layer\n",
    "number_classes = 2\n",
    "model.add(Dense(units=number_classes, activation='softmax')) "
   ]
  },
  {
   "cell_type": "markdown",
   "metadata": {},
   "source": [
    "Number of Hidden Nodes \n",
    "https://stats.stackexchange.com/questions/181/how-to-choose-the-number-of-hidden-layers-and-nodes-in-a-feedforward-neural-netw#:~:text=The%20number%20of%20hidden%20neurons,size%20of%20the%20input%20layer."
   ]
  },
  {
   "cell_type": "code",
   "execution_count": 11,
   "metadata": {
    "tags": []
   },
   "outputs": [
    {
     "output_type": "stream",
     "name": "stdout",
     "text": "Model: \"sequential\"\n_________________________________________________________________\nLayer (type)                 Output Shape              Param #   \n=================================================================\ndense (Dense)                (None, 14)                182       \n_________________________________________________________________\ndense_1 (Dense)              (None, 120)               1800      \n_________________________________________________________________\ndense_2 (Dense)              (None, 80)                9680      \n_________________________________________________________________\ndense_3 (Dense)              (None, 2)                 162       \n=================================================================\nTotal params: 11,824\nTrainable params: 11,824\nNon-trainable params: 0\n_________________________________________________________________\n"
    }
   ],
   "source": [
    "#Model Summary\n",
    "model.summary() "
   ]
  },
  {
   "cell_type": "code",
   "execution_count": 12,
   "metadata": {},
   "outputs": [],
   "source": [
    "#Compile the Model\n",
    "import tensorflow as tf\n",
    "\n",
    "opt = tf.keras.optimizers.Adam(learning_rate=0.001)\n",
    "model.compile(optimizer=opt, loss='categorical_crossentropy', metrics=['accuracy'])"
   ]
  },
  {
   "cell_type": "markdown",
   "metadata": {},
   "source": [
    "## Training the Model"
   ]
  },
  {
   "cell_type": "code",
   "execution_count": 13,
   "metadata": {
    "tags": []
   },
   "outputs": [
    {
     "output_type": "stream",
     "name": "stdout",
     "text": "Epoch 1/500\n16/16 - 0s - loss: 0.6515 - accuracy: 0.6555\nEpoch 2/500\n16/16 - 0s - loss: 0.5849 - accuracy: 0.6928\nEpoch 3/500\n16/16 - 0s - loss: 0.5564 - accuracy: 0.7042\nEpoch 4/500\n16/16 - 0s - loss: 0.5433 - accuracy: 0.7158\nEpoch 5/500\n16/16 - 0s - loss: 0.5350 - accuracy: 0.7247\nEpoch 6/500\n16/16 - 0s - loss: 0.5277 - accuracy: 0.7305\nEpoch 7/500\n16/16 - 0s - loss: 0.5224 - accuracy: 0.7348\nEpoch 8/500\n16/16 - 0s - loss: 0.5181 - accuracy: 0.7362\nEpoch 9/500\n16/16 - 0s - loss: 0.5159 - accuracy: 0.7376\nEpoch 10/500\n16/16 - 0s - loss: 0.5137 - accuracy: 0.7401\nEpoch 11/500\n16/16 - 0s - loss: 0.5102 - accuracy: 0.7415\nEpoch 12/500\n16/16 - 0s - loss: 0.5082 - accuracy: 0.7425\nEpoch 13/500\n16/16 - 0s - loss: 0.5080 - accuracy: 0.7431\nEpoch 14/500\n16/16 - 0s - loss: 0.5061 - accuracy: 0.7464\nEpoch 15/500\n16/16 - 0s - loss: 0.5052 - accuracy: 0.7465\nEpoch 16/500\n16/16 - 0s - loss: 0.5044 - accuracy: 0.7455\nEpoch 17/500\n16/16 - 0s - loss: 0.5024 - accuracy: 0.7467\nEpoch 18/500\n16/16 - 0s - loss: 0.5011 - accuracy: 0.7487\nEpoch 19/500\n16/16 - 0s - loss: 0.5003 - accuracy: 0.7491\nEpoch 20/500\n16/16 - 0s - loss: 0.5031 - accuracy: 0.7489\nEpoch 21/500\n16/16 - 0s - loss: 0.5001 - accuracy: 0.7507\nEpoch 22/500\n16/16 - 0s - loss: 0.4997 - accuracy: 0.7495\nEpoch 23/500\n16/16 - 0s - loss: 0.4985 - accuracy: 0.7519\nEpoch 24/500\n16/16 - 0s - loss: 0.4978 - accuracy: 0.7522\nEpoch 25/500\n16/16 - 0s - loss: 0.4987 - accuracy: 0.7520\nEpoch 26/500\n16/16 - 0s - loss: 0.4966 - accuracy: 0.7515\nEpoch 27/500\n16/16 - 0s - loss: 0.4963 - accuracy: 0.7535\nEpoch 28/500\n16/16 - 0s - loss: 0.4956 - accuracy: 0.7540\nEpoch 29/500\n16/16 - 0s - loss: 0.4956 - accuracy: 0.7541\nEpoch 30/500\n16/16 - 0s - loss: 0.4948 - accuracy: 0.7545\nEpoch 31/500\n16/16 - 0s - loss: 0.4944 - accuracy: 0.7557\nEpoch 32/500\n16/16 - 0s - loss: 0.4942 - accuracy: 0.7542\nEpoch 33/500\n16/16 - 0s - loss: 0.4938 - accuracy: 0.7562\nEpoch 34/500\n16/16 - 0s - loss: 0.4940 - accuracy: 0.7568\nEpoch 35/500\n16/16 - 0s - loss: 0.4930 - accuracy: 0.7556\nEpoch 36/500\n16/16 - 0s - loss: 0.4928 - accuracy: 0.7568\nEpoch 37/500\n16/16 - 0s - loss: 0.4948 - accuracy: 0.7548\nEpoch 38/500\n16/16 - 0s - loss: 0.4941 - accuracy: 0.7537\nEpoch 39/500\n16/16 - 0s - loss: 0.4932 - accuracy: 0.7550\nEpoch 40/500\n16/16 - 0s - loss: 0.4921 - accuracy: 0.7571\nEpoch 41/500\n16/16 - 0s - loss: 0.4920 - accuracy: 0.7574\nEpoch 42/500\n16/16 - 0s - loss: 0.4934 - accuracy: 0.7563\nEpoch 43/500\n16/16 - 0s - loss: 0.4910 - accuracy: 0.7581\nEpoch 44/500\n16/16 - 0s - loss: 0.4905 - accuracy: 0.7582\nEpoch 45/500\n16/16 - 0s - loss: 0.4922 - accuracy: 0.7571\nEpoch 46/500\n16/16 - 0s - loss: 0.4907 - accuracy: 0.7574\nEpoch 47/500\n16/16 - 0s - loss: 0.4897 - accuracy: 0.7593\nEpoch 48/500\n16/16 - 0s - loss: 0.4904 - accuracy: 0.7580\nEpoch 49/500\n16/16 - 0s - loss: 0.4899 - accuracy: 0.7577\nEpoch 50/500\n16/16 - 0s - loss: 0.4897 - accuracy: 0.7594\nEpoch 51/500\n16/16 - 0s - loss: 0.4895 - accuracy: 0.7590\nEpoch 52/500\n16/16 - 0s - loss: 0.4895 - accuracy: 0.7593\nEpoch 53/500\n16/16 - 0s - loss: 0.4895 - accuracy: 0.7586\nEpoch 54/500\n16/16 - 0s - loss: 0.4895 - accuracy: 0.7583\nEpoch 55/500\n16/16 - 0s - loss: 0.4883 - accuracy: 0.7602\nEpoch 56/500\n16/16 - 0s - loss: 0.4882 - accuracy: 0.7605\nEpoch 57/500\n16/16 - 0s - loss: 0.4889 - accuracy: 0.7595\nEpoch 58/500\n16/16 - 0s - loss: 0.4880 - accuracy: 0.7598\nEpoch 59/500\n16/16 - 0s - loss: 0.4878 - accuracy: 0.7601\nEpoch 60/500\n16/16 - 0s - loss: 0.4879 - accuracy: 0.7601\nEpoch 61/500\n16/16 - 0s - loss: 0.4880 - accuracy: 0.7600\nEpoch 62/500\n16/16 - 0s - loss: 0.4871 - accuracy: 0.7599\nEpoch 63/500\n16/16 - 0s - loss: 0.4868 - accuracy: 0.7612\nEpoch 64/500\n16/16 - 0s - loss: 0.4870 - accuracy: 0.7611\nEpoch 65/500\n16/16 - 0s - loss: 0.4876 - accuracy: 0.7599\nEpoch 66/500\n16/16 - 0s - loss: 0.4889 - accuracy: 0.7584\nEpoch 67/500\n16/16 - 0s - loss: 0.4867 - accuracy: 0.7599\nEpoch 68/500\n16/16 - 0s - loss: 0.4864 - accuracy: 0.7604\nEpoch 69/500\n16/16 - 0s - loss: 0.4858 - accuracy: 0.7619\nEpoch 70/500\n16/16 - 0s - loss: 0.4858 - accuracy: 0.7613\nEpoch 71/500\n16/16 - 0s - loss: 0.4858 - accuracy: 0.7608\nEpoch 72/500\n16/16 - 0s - loss: 0.4856 - accuracy: 0.7622\nEpoch 73/500\n16/16 - 0s - loss: 0.4855 - accuracy: 0.7625\nEpoch 74/500\n16/16 - 0s - loss: 0.4855 - accuracy: 0.7622\nEpoch 75/500\n16/16 - 0s - loss: 0.4856 - accuracy: 0.7609\nEpoch 76/500\n16/16 - 0s - loss: 0.4851 - accuracy: 0.7606\nEpoch 77/500\n16/16 - 0s - loss: 0.4851 - accuracy: 0.7619\nEpoch 78/500\n16/16 - 0s - loss: 0.4845 - accuracy: 0.7623\nEpoch 79/500\n16/16 - 0s - loss: 0.4845 - accuracy: 0.7618\nEpoch 80/500\n16/16 - 0s - loss: 0.4846 - accuracy: 0.7615\nEpoch 81/500\n16/16 - 0s - loss: 0.4845 - accuracy: 0.7615\nEpoch 82/500\n16/16 - 0s - loss: 0.4840 - accuracy: 0.7620\nEpoch 83/500\n16/16 - 0s - loss: 0.4850 - accuracy: 0.7608\nEpoch 84/500\n16/16 - 0s - loss: 0.4842 - accuracy: 0.7630\nEpoch 85/500\n16/16 - 0s - loss: 0.4843 - accuracy: 0.7624\nEpoch 86/500\n16/16 - 0s - loss: 0.4840 - accuracy: 0.7626\nEpoch 87/500\n16/16 - 0s - loss: 0.4844 - accuracy: 0.7620\nEpoch 88/500\n16/16 - 0s - loss: 0.4843 - accuracy: 0.7596\nEpoch 89/500\n16/16 - 0s - loss: 0.4835 - accuracy: 0.7638\nEpoch 90/500\n16/16 - 0s - loss: 0.4830 - accuracy: 0.7626\nEpoch 91/500\n16/16 - 0s - loss: 0.4835 - accuracy: 0.7632\nEpoch 92/500\n16/16 - 0s - loss: 0.4826 - accuracy: 0.7637\nEpoch 93/500\n16/16 - 0s - loss: 0.4825 - accuracy: 0.7621\nEpoch 94/500\n16/16 - 0s - loss: 0.4842 - accuracy: 0.7624\nEpoch 95/500\n16/16 - 0s - loss: 0.4846 - accuracy: 0.7602\nEpoch 96/500\n16/16 - 0s - loss: 0.4825 - accuracy: 0.7634\nEpoch 97/500\n16/16 - 0s - loss: 0.4824 - accuracy: 0.7639\nEpoch 98/500\n16/16 - 0s - loss: 0.4834 - accuracy: 0.7625\nEpoch 99/500\n16/16 - 0s - loss: 0.4815 - accuracy: 0.7648\nEpoch 100/500\n16/16 - 0s - loss: 0.4822 - accuracy: 0.7641\nEpoch 101/500\n16/16 - 0s - loss: 0.4825 - accuracy: 0.7642\nEpoch 102/500\n16/16 - 0s - loss: 0.4817 - accuracy: 0.7640\nEpoch 103/500\n16/16 - 0s - loss: 0.4815 - accuracy: 0.7650\nEpoch 104/500\n16/16 - 0s - loss: 0.4853 - accuracy: 0.7609\nEpoch 105/500\n16/16 - 0s - loss: 0.4816 - accuracy: 0.7632\nEpoch 106/500\n16/16 - 0s - loss: 0.4811 - accuracy: 0.7644\nEpoch 107/500\n16/16 - 0s - loss: 0.4832 - accuracy: 0.7631\nEpoch 108/500\n16/16 - 0s - loss: 0.4825 - accuracy: 0.7634\nEpoch 109/500\n16/16 - 0s - loss: 0.4815 - accuracy: 0.7642\nEpoch 110/500\n16/16 - 0s - loss: 0.4808 - accuracy: 0.7645\nEpoch 111/500\n16/16 - 0s - loss: 0.4808 - accuracy: 0.7635\nEpoch 112/500\n16/16 - 0s - loss: 0.4809 - accuracy: 0.7644\nEpoch 113/500\n16/16 - 0s - loss: 0.4801 - accuracy: 0.7657\nEpoch 114/500\n16/16 - 0s - loss: 0.4799 - accuracy: 0.7650\nEpoch 115/500\n16/16 - 0s - loss: 0.4805 - accuracy: 0.7650\nEpoch 116/500\n16/16 - 0s - loss: 0.4799 - accuracy: 0.7659\nEpoch 117/500\n16/16 - 0s - loss: 0.4802 - accuracy: 0.7654\nEpoch 118/500\n16/16 - 0s - loss: 0.4811 - accuracy: 0.7648\nEpoch 119/500\n16/16 - 0s - loss: 0.4799 - accuracy: 0.7642\nEpoch 120/500\n16/16 - 0s - loss: 0.4794 - accuracy: 0.7653\nEpoch 121/500\n16/16 - 0s - loss: 0.4792 - accuracy: 0.7670\nEpoch 122/500\n16/16 - 0s - loss: 0.4797 - accuracy: 0.7657\nEpoch 123/500\n16/16 - 0s - loss: 0.4790 - accuracy: 0.7664\nEpoch 124/500\n16/16 - 0s - loss: 0.4795 - accuracy: 0.7654\nEpoch 125/500\n16/16 - 0s - loss: 0.4789 - accuracy: 0.7659\nEpoch 126/500\n16/16 - 0s - loss: 0.4790 - accuracy: 0.7674\nEpoch 127/500\n16/16 - 0s - loss: 0.4790 - accuracy: 0.7660\nEpoch 128/500\n16/16 - 0s - loss: 0.4798 - accuracy: 0.7646\nEpoch 129/500\n16/16 - 0s - loss: 0.4786 - accuracy: 0.7666\nEpoch 130/500\n16/16 - 0s - loss: 0.4784 - accuracy: 0.7668\nEpoch 131/500\n16/16 - 0s - loss: 0.4782 - accuracy: 0.7665\nEpoch 132/500\n16/16 - 0s - loss: 0.4788 - accuracy: 0.7667\nEpoch 133/500\n16/16 - 0s - loss: 0.4793 - accuracy: 0.7640\nEpoch 134/500\n16/16 - 0s - loss: 0.4801 - accuracy: 0.7650\nEpoch 135/500\n16/16 - 0s - loss: 0.4779 - accuracy: 0.7657\nEpoch 136/500\n16/16 - 0s - loss: 0.4778 - accuracy: 0.7671\nEpoch 137/500\n16/16 - 0s - loss: 0.4774 - accuracy: 0.7680\nEpoch 138/500\n16/16 - 0s - loss: 0.4786 - accuracy: 0.7648\nEpoch 139/500\n16/16 - 0s - loss: 0.4780 - accuracy: 0.7659\nEpoch 140/500\n16/16 - 0s - loss: 0.4784 - accuracy: 0.7657\nEpoch 141/500\n16/16 - 0s - loss: 0.4773 - accuracy: 0.7675\nEpoch 142/500\n16/16 - 0s - loss: 0.4768 - accuracy: 0.7664\nEpoch 143/500\n16/16 - 0s - loss: 0.4798 - accuracy: 0.7655\nEpoch 144/500\n16/16 - 0s - loss: 0.4792 - accuracy: 0.7673\nEpoch 145/500\n16/16 - 0s - loss: 0.4788 - accuracy: 0.7654\nEpoch 146/500\n16/16 - 0s - loss: 0.4771 - accuracy: 0.7676\nEpoch 147/500\n16/16 - 0s - loss: 0.4771 - accuracy: 0.7687\nEpoch 148/500\n16/16 - 0s - loss: 0.4773 - accuracy: 0.7681\nEpoch 149/500\n16/16 - 0s - loss: 0.4770 - accuracy: 0.7670\nEpoch 150/500\n16/16 - 0s - loss: 0.4774 - accuracy: 0.7685\nEpoch 151/500\n16/16 - 0s - loss: 0.4769 - accuracy: 0.7671\nEpoch 152/500\n16/16 - 0s - loss: 0.4768 - accuracy: 0.7677\nEpoch 153/500\n16/16 - 0s - loss: 0.4782 - accuracy: 0.7663\nEpoch 154/500\n16/16 - 0s - loss: 0.4756 - accuracy: 0.7683\nEpoch 155/500\n16/16 - 0s - loss: 0.4760 - accuracy: 0.7690\nEpoch 156/500\n16/16 - 0s - loss: 0.4764 - accuracy: 0.7672\nEpoch 157/500\n16/16 - 0s - loss: 0.4767 - accuracy: 0.7680\nEpoch 158/500\n16/16 - 0s - loss: 0.4757 - accuracy: 0.7691\nEpoch 159/500\n16/16 - 0s - loss: 0.4758 - accuracy: 0.7687\nEpoch 160/500\n16/16 - 0s - loss: 0.4757 - accuracy: 0.7678\nEpoch 161/500\n16/16 - 0s - loss: 0.4760 - accuracy: 0.7688\nEpoch 162/500\n16/16 - 0s - loss: 0.4749 - accuracy: 0.7690\nEpoch 163/500\n16/16 - 0s - loss: 0.4750 - accuracy: 0.7689\nEpoch 164/500\n16/16 - 0s - loss: 0.4753 - accuracy: 0.7686\nEpoch 165/500\n16/16 - 0s - loss: 0.4755 - accuracy: 0.7675\nEpoch 166/500\n16/16 - 0s - loss: 0.4757 - accuracy: 0.7676\nEpoch 167/500\n16/16 - 0s - loss: 0.4763 - accuracy: 0.7674\nEpoch 168/500\n16/16 - 0s - loss: 0.4762 - accuracy: 0.7688\nEpoch 169/500\n16/16 - 0s - loss: 0.4747 - accuracy: 0.7686\nEpoch 170/500\n16/16 - 0s - loss: 0.4750 - accuracy: 0.7696\nEpoch 171/500\n16/16 - 0s - loss: 0.4757 - accuracy: 0.7688\nEpoch 172/500\n16/16 - 0s - loss: 0.4761 - accuracy: 0.7676\nEpoch 173/500\n16/16 - 0s - loss: 0.4764 - accuracy: 0.7679\nEpoch 174/500\n16/16 - 0s - loss: 0.4766 - accuracy: 0.7672\nEpoch 175/500\n16/16 - 0s - loss: 0.4747 - accuracy: 0.7688\nEpoch 176/500\n16/16 - 0s - loss: 0.4756 - accuracy: 0.7693\nEpoch 177/500\n16/16 - 0s - loss: 0.4752 - accuracy: 0.7685\nEpoch 178/500\n16/16 - 0s - loss: 0.4735 - accuracy: 0.7697\nEpoch 179/500\n16/16 - 0s - loss: 0.4739 - accuracy: 0.7684\nEpoch 180/500\n16/16 - 0s - loss: 0.4745 - accuracy: 0.7692\nEpoch 181/500\n16/16 - 0s - loss: 0.4746 - accuracy: 0.7692\nEpoch 182/500\n16/16 - 0s - loss: 0.4741 - accuracy: 0.7697\nEpoch 183/500\n16/16 - 0s - loss: 0.4738 - accuracy: 0.7697\nEpoch 184/500\n16/16 - 0s - loss: 0.4733 - accuracy: 0.7698\nEpoch 185/500\n16/16 - 0s - loss: 0.4728 - accuracy: 0.7705\nEpoch 186/500\n16/16 - 0s - loss: 0.4736 - accuracy: 0.7695\nEpoch 187/500\n16/16 - 0s - loss: 0.4756 - accuracy: 0.7683\nEpoch 188/500\n16/16 - 0s - loss: 0.4743 - accuracy: 0.7692\nEpoch 189/500\n16/16 - 0s - loss: 0.4738 - accuracy: 0.7696\nEpoch 190/500\n16/16 - 0s - loss: 0.4731 - accuracy: 0.7702\nEpoch 191/500\n16/16 - 0s - loss: 0.4725 - accuracy: 0.7715\nEpoch 192/500\n16/16 - 0s - loss: 0.4725 - accuracy: 0.7704\nEpoch 193/500\n16/16 - 0s - loss: 0.4733 - accuracy: 0.7708\nEpoch 194/500\n16/16 - 0s - loss: 0.4728 - accuracy: 0.7698\nEpoch 195/500\n16/16 - 0s - loss: 0.4733 - accuracy: 0.7705\nEpoch 196/500\n16/16 - 0s - loss: 0.4743 - accuracy: 0.7700\nEpoch 197/500\n16/16 - 0s - loss: 0.4739 - accuracy: 0.7689\nEpoch 198/500\n16/16 - 0s - loss: 0.4722 - accuracy: 0.7702\nEpoch 199/500\n16/16 - 0s - loss: 0.4727 - accuracy: 0.7709\nEpoch 200/500\n16/16 - 0s - loss: 0.4731 - accuracy: 0.7697\nEpoch 201/500\n16/16 - 0s - loss: 0.4738 - accuracy: 0.7701\nEpoch 202/500\n16/16 - 0s - loss: 0.4731 - accuracy: 0.7713\nEpoch 203/500\n16/16 - 0s - loss: 0.4717 - accuracy: 0.7726\nEpoch 204/500\n16/16 - 0s - loss: 0.4715 - accuracy: 0.7726\nEpoch 205/500\n16/16 - 0s - loss: 0.4723 - accuracy: 0.7699\nEpoch 206/500\n16/16 - 0s - loss: 0.4719 - accuracy: 0.7711\nEpoch 207/500\n16/16 - 0s - loss: 0.4714 - accuracy: 0.7714\nEpoch 208/500\n16/16 - 0s - loss: 0.4720 - accuracy: 0.7724\nEpoch 209/500\n16/16 - 0s - loss: 0.4713 - accuracy: 0.7723\nEpoch 210/500\n16/16 - 0s - loss: 0.4711 - accuracy: 0.7719\nEpoch 211/500\n16/16 - 0s - loss: 0.4707 - accuracy: 0.7724\nEpoch 212/500\n16/16 - 0s - loss: 0.4719 - accuracy: 0.7725\nEpoch 213/500\n16/16 - 0s - loss: 0.4708 - accuracy: 0.7726\nEpoch 214/500\n16/16 - 0s - loss: 0.4726 - accuracy: 0.7702\nEpoch 215/500\n16/16 - 0s - loss: 0.4735 - accuracy: 0.7702\nEpoch 216/500\n16/16 - 0s - loss: 0.4723 - accuracy: 0.7709\nEpoch 217/500\n16/16 - 0s - loss: 0.4710 - accuracy: 0.7711\nEpoch 218/500\n16/16 - 0s - loss: 0.4724 - accuracy: 0.7701\nEpoch 219/500\n16/16 - 0s - loss: 0.4713 - accuracy: 0.7714\nEpoch 220/500\n16/16 - 0s - loss: 0.4713 - accuracy: 0.7717\nEpoch 221/500\n16/16 - 0s - loss: 0.4700 - accuracy: 0.7726\nEpoch 222/500\n16/16 - 0s - loss: 0.4701 - accuracy: 0.7723\nEpoch 223/500\n16/16 - 0s - loss: 0.4696 - accuracy: 0.7729\nEpoch 224/500\n16/16 - 0s - loss: 0.4698 - accuracy: 0.7727\nEpoch 225/500\n16/16 - 0s - loss: 0.4702 - accuracy: 0.7724\nEpoch 226/500\n16/16 - 0s - loss: 0.4700 - accuracy: 0.7730\nEpoch 227/500\n16/16 - 0s - loss: 0.4685 - accuracy: 0.7742\nEpoch 228/500\n16/16 - 0s - loss: 0.4695 - accuracy: 0.7741\nEpoch 229/500\n16/16 - 0s - loss: 0.4694 - accuracy: 0.7730\nEpoch 230/500\n16/16 - 0s - loss: 0.4691 - accuracy: 0.7732\nEpoch 231/500\n16/16 - 0s - loss: 0.4689 - accuracy: 0.7744\nEpoch 232/500\n16/16 - 0s - loss: 0.4695 - accuracy: 0.7722\nEpoch 233/500\n16/16 - 0s - loss: 0.4685 - accuracy: 0.7743\nEpoch 234/500\n16/16 - 0s - loss: 0.4693 - accuracy: 0.7726\nEpoch 235/500\n16/16 - 0s - loss: 0.4693 - accuracy: 0.7741\nEpoch 236/500\n16/16 - 0s - loss: 0.4692 - accuracy: 0.7727\nEpoch 237/500\n16/16 - 0s - loss: 0.4685 - accuracy: 0.7734\nEpoch 238/500\n16/16 - 0s - loss: 0.4701 - accuracy: 0.7724\nEpoch 239/500\n16/16 - 0s - loss: 0.4683 - accuracy: 0.7733\nEpoch 240/500\n16/16 - 0s - loss: 0.4684 - accuracy: 0.7741\nEpoch 241/500\n16/16 - 0s - loss: 0.4680 - accuracy: 0.7748\nEpoch 242/500\n16/16 - 0s - loss: 0.4690 - accuracy: 0.7731\nEpoch 243/500\n16/16 - 0s - loss: 0.4684 - accuracy: 0.7739\nEpoch 244/500\n16/16 - 0s - loss: 0.4684 - accuracy: 0.7733\nEpoch 245/500\n16/16 - 0s - loss: 0.4695 - accuracy: 0.7723\nEpoch 246/500\n16/16 - 0s - loss: 0.4679 - accuracy: 0.7740\nEpoch 247/500\n16/16 - 0s - loss: 0.4680 - accuracy: 0.7736\nEpoch 248/500\n16/16 - 0s - loss: 0.4672 - accuracy: 0.7745\nEpoch 249/500\n16/16 - 0s - loss: 0.4671 - accuracy: 0.7748\nEpoch 250/500\n16/16 - 0s - loss: 0.4690 - accuracy: 0.7741\nEpoch 251/500\n16/16 - 0s - loss: 0.4678 - accuracy: 0.7736\nEpoch 252/500\n16/16 - 0s - loss: 0.4684 - accuracy: 0.7732\nEpoch 253/500\n16/16 - 0s - loss: 0.4688 - accuracy: 0.7727\nEpoch 254/500\n16/16 - 0s - loss: 0.4680 - accuracy: 0.7735\nEpoch 255/500\n16/16 - 0s - loss: 0.4675 - accuracy: 0.7750\nEpoch 256/500\n16/16 - 0s - loss: 0.4674 - accuracy: 0.7729\nEpoch 257/500\n16/16 - 0s - loss: 0.4668 - accuracy: 0.7742\nEpoch 258/500\n16/16 - 0s - loss: 0.4672 - accuracy: 0.7740\nEpoch 259/500\n16/16 - 0s - loss: 0.4661 - accuracy: 0.7761\nEpoch 260/500\n16/16 - 0s - loss: 0.4665 - accuracy: 0.7757\nEpoch 261/500\n16/16 - 0s - loss: 0.4659 - accuracy: 0.7760\nEpoch 262/500\n16/16 - 0s - loss: 0.4674 - accuracy: 0.7745\nEpoch 263/500\n16/16 - 0s - loss: 0.4669 - accuracy: 0.7758\nEpoch 264/500\n16/16 - 0s - loss: 0.4663 - accuracy: 0.7750\nEpoch 265/500\n16/16 - 0s - loss: 0.4654 - accuracy: 0.7758\nEpoch 266/500\n16/16 - 0s - loss: 0.4657 - accuracy: 0.7752\nEpoch 267/500\n16/16 - 0s - loss: 0.4663 - accuracy: 0.7747\nEpoch 268/500\n16/16 - 0s - loss: 0.4659 - accuracy: 0.7758\nEpoch 269/500\n16/16 - 0s - loss: 0.4651 - accuracy: 0.7759\nEpoch 270/500\n16/16 - 0s - loss: 0.4667 - accuracy: 0.7755\nEpoch 271/500\n16/16 - 0s - loss: 0.4656 - accuracy: 0.7759\nEpoch 272/500\n16/16 - 0s - loss: 0.4649 - accuracy: 0.7769\nEpoch 273/500\n16/16 - 0s - loss: 0.4656 - accuracy: 0.7747\nEpoch 274/500\n16/16 - 0s - loss: 0.4652 - accuracy: 0.7759\nEpoch 275/500\n16/16 - 0s - loss: 0.4646 - accuracy: 0.7764\nEpoch 276/500\n16/16 - 0s - loss: 0.4653 - accuracy: 0.7742\nEpoch 277/500\n16/16 - 0s - loss: 0.4667 - accuracy: 0.7738\nEpoch 278/500\n16/16 - 0s - loss: 0.4683 - accuracy: 0.7732\nEpoch 279/500\n16/16 - 0s - loss: 0.4658 - accuracy: 0.7751\nEpoch 280/500\n16/16 - 0s - loss: 0.4653 - accuracy: 0.7761\nEpoch 281/500\n16/16 - 0s - loss: 0.4641 - accuracy: 0.7767\nEpoch 282/500\n16/16 - 0s - loss: 0.4642 - accuracy: 0.7758\nEpoch 283/500\n16/16 - 0s - loss: 0.4645 - accuracy: 0.7763\nEpoch 284/500\n16/16 - 0s - loss: 0.4642 - accuracy: 0.7764\nEpoch 285/500\n16/16 - 0s - loss: 0.4637 - accuracy: 0.7769\nEpoch 286/500\n16/16 - 0s - loss: 0.4640 - accuracy: 0.7780\nEpoch 287/500\n16/16 - 0s - loss: 0.4656 - accuracy: 0.7744\nEpoch 288/500\n16/16 - 0s - loss: 0.4657 - accuracy: 0.7746\nEpoch 289/500\n16/16 - 0s - loss: 0.4662 - accuracy: 0.7743\nEpoch 290/500\n16/16 - 0s - loss: 0.4643 - accuracy: 0.7769\nEpoch 291/500\n16/16 - 0s - loss: 0.4653 - accuracy: 0.7742\nEpoch 292/500\n16/16 - 0s - loss: 0.4629 - accuracy: 0.7786\nEpoch 293/500\n16/16 - 0s - loss: 0.4629 - accuracy: 0.7764\nEpoch 294/500\n16/16 - 0s - loss: 0.4632 - accuracy: 0.7763\nEpoch 295/500\n16/16 - 0s - loss: 0.4668 - accuracy: 0.7738\nEpoch 296/500\n16/16 - 0s - loss: 0.4634 - accuracy: 0.7774\nEpoch 297/500\n16/16 - 0s - loss: 0.4640 - accuracy: 0.7766\nEpoch 298/500\n16/16 - 0s - loss: 0.4646 - accuracy: 0.7759\nEpoch 299/500\n16/16 - 0s - loss: 0.4638 - accuracy: 0.7766\nEpoch 300/500\n16/16 - 0s - loss: 0.4665 - accuracy: 0.7748\nEpoch 301/500\n16/16 - 0s - loss: 0.4633 - accuracy: 0.7765\nEpoch 302/500\n16/16 - 0s - loss: 0.4630 - accuracy: 0.7775\nEpoch 303/500\n16/16 - 0s - loss: 0.4627 - accuracy: 0.7762\nEpoch 304/500\n16/16 - 0s - loss: 0.4642 - accuracy: 0.7755\nEpoch 305/500\n16/16 - 0s - loss: 0.4647 - accuracy: 0.7746\nEpoch 306/500\n16/16 - 0s - loss: 0.4626 - accuracy: 0.7766\nEpoch 307/500\n16/16 - 0s - loss: 0.4614 - accuracy: 0.7778\nEpoch 308/500\n16/16 - 0s - loss: 0.4619 - accuracy: 0.7767\nEpoch 309/500\n16/16 - 0s - loss: 0.4618 - accuracy: 0.7768\nEpoch 310/500\n16/16 - 0s - loss: 0.4625 - accuracy: 0.7762\nEpoch 311/500\n16/16 - 0s - loss: 0.4624 - accuracy: 0.7767\nEpoch 312/500\n16/16 - 0s - loss: 0.4621 - accuracy: 0.7757\nEpoch 313/500\n16/16 - 0s - loss: 0.4620 - accuracy: 0.7761\nEpoch 314/500\n16/16 - 0s - loss: 0.4615 - accuracy: 0.7771\nEpoch 315/500\n16/16 - 0s - loss: 0.4628 - accuracy: 0.7747\nEpoch 316/500\n16/16 - 0s - loss: 0.4619 - accuracy: 0.7771\nEpoch 317/500\n16/16 - 0s - loss: 0.4612 - accuracy: 0.7775\nEpoch 318/500\n16/16 - 0s - loss: 0.4612 - accuracy: 0.7765\nEpoch 319/500\n16/16 - 0s - loss: 0.4613 - accuracy: 0.7778\nEpoch 320/500\n16/16 - 0s - loss: 0.4606 - accuracy: 0.7777\nEpoch 321/500\n16/16 - 0s - loss: 0.4608 - accuracy: 0.7768\nEpoch 322/500\n16/16 - 0s - loss: 0.4611 - accuracy: 0.7766\nEpoch 323/500\n16/16 - 0s - loss: 0.4611 - accuracy: 0.7778\nEpoch 324/500\n16/16 - 0s - loss: 0.4613 - accuracy: 0.7769\nEpoch 325/500\n16/16 - 0s - loss: 0.4628 - accuracy: 0.7762\nEpoch 326/500\n16/16 - 0s - loss: 0.4628 - accuracy: 0.7764\nEpoch 327/500\n16/16 - 0s - loss: 0.4637 - accuracy: 0.7747\nEpoch 328/500\n16/16 - 0s - loss: 0.4633 - accuracy: 0.7745\nEpoch 329/500\n16/16 - 0s - loss: 0.4607 - accuracy: 0.7764\nEpoch 330/500\n16/16 - 0s - loss: 0.4619 - accuracy: 0.7765\nEpoch 331/500\n16/16 - 0s - loss: 0.4604 - accuracy: 0.7770\nEpoch 332/500\n16/16 - 0s - loss: 0.4604 - accuracy: 0.7774\nEpoch 333/500\n16/16 - 0s - loss: 0.4603 - accuracy: 0.7783\nEpoch 334/500\n16/16 - 0s - loss: 0.4611 - accuracy: 0.7762\nEpoch 335/500\n16/16 - 0s - loss: 0.4599 - accuracy: 0.7772\nEpoch 336/500\n16/16 - 0s - loss: 0.4602 - accuracy: 0.7780\nEpoch 337/500\n16/16 - 0s - loss: 0.4595 - accuracy: 0.7780\nEpoch 338/500\n16/16 - 0s - loss: 0.4614 - accuracy: 0.7752\nEpoch 339/500\n16/16 - 0s - loss: 0.4611 - accuracy: 0.7770\nEpoch 340/500\n16/16 - 0s - loss: 0.4618 - accuracy: 0.7771\nEpoch 341/500\n16/16 - 0s - loss: 0.4612 - accuracy: 0.7762\nEpoch 342/500\n16/16 - 0s - loss: 0.4596 - accuracy: 0.7786\nEpoch 343/500\n16/16 - 0s - loss: 0.4589 - accuracy: 0.7786\nEpoch 344/500\n16/16 - 0s - loss: 0.4600 - accuracy: 0.7768\nEpoch 345/500\n16/16 - 0s - loss: 0.4591 - accuracy: 0.7764\nEpoch 346/500\n16/16 - 0s - loss: 0.4609 - accuracy: 0.7764\nEpoch 347/500\n16/16 - 0s - loss: 0.4593 - accuracy: 0.7773\nEpoch 348/500\n16/16 - 0s - loss: 0.4596 - accuracy: 0.7771\nEpoch 349/500\n16/16 - 0s - loss: 0.4613 - accuracy: 0.7764\nEpoch 350/500\n16/16 - 0s - loss: 0.4594 - accuracy: 0.7780\nEpoch 351/500\n16/16 - 0s - loss: 0.4587 - accuracy: 0.7770\nEpoch 352/500\n16/16 - 0s - loss: 0.4583 - accuracy: 0.7786\nEpoch 353/500\n16/16 - 0s - loss: 0.4598 - accuracy: 0.7786\nEpoch 354/500\n16/16 - 0s - loss: 0.4583 - accuracy: 0.7786\nEpoch 355/500\n16/16 - 0s - loss: 0.4586 - accuracy: 0.7771\nEpoch 356/500\n16/16 - 0s - loss: 0.4603 - accuracy: 0.7764\nEpoch 357/500\n16/16 - 0s - loss: 0.4609 - accuracy: 0.7773\nEpoch 358/500\n16/16 - 0s - loss: 0.4595 - accuracy: 0.7766\nEpoch 359/500\n16/16 - 0s - loss: 0.4571 - accuracy: 0.7783\nEpoch 360/500\n16/16 - 0s - loss: 0.4577 - accuracy: 0.7796\nEpoch 361/500\n16/16 - 0s - loss: 0.4582 - accuracy: 0.7781\nEpoch 362/500\n16/16 - 0s - loss: 0.4580 - accuracy: 0.7778\nEpoch 363/500\n16/16 - 0s - loss: 0.4600 - accuracy: 0.7777\nEpoch 364/500\n16/16 - 0s - loss: 0.4597 - accuracy: 0.7786\nEpoch 365/500\n16/16 - 0s - loss: 0.4573 - accuracy: 0.7788\nEpoch 366/500\n16/16 - 0s - loss: 0.4565 - accuracy: 0.7802\nEpoch 367/500\n16/16 - 0s - loss: 0.4574 - accuracy: 0.7777\nEpoch 368/500\n16/16 - 0s - loss: 0.4582 - accuracy: 0.7781\nEpoch 369/500\n16/16 - 0s - loss: 0.4568 - accuracy: 0.7788\nEpoch 370/500\n16/16 - 0s - loss: 0.4576 - accuracy: 0.7780\nEpoch 371/500\n16/16 - 0s - loss: 0.4575 - accuracy: 0.7770\nEpoch 372/500\n16/16 - 0s - loss: 0.4586 - accuracy: 0.7779\nEpoch 373/500\n16/16 - 0s - loss: 0.4571 - accuracy: 0.7780\nEpoch 374/500\n16/16 - 0s - loss: 0.4559 - accuracy: 0.7795\nEpoch 375/500\n16/16 - 0s - loss: 0.4565 - accuracy: 0.7793\nEpoch 376/500\n16/16 - 0s - loss: 0.4588 - accuracy: 0.7760\nEpoch 377/500\n16/16 - 0s - loss: 0.4577 - accuracy: 0.7795\nEpoch 378/500\n16/16 - 0s - loss: 0.4566 - accuracy: 0.7791\nEpoch 379/500\n16/16 - 0s - loss: 0.4570 - accuracy: 0.7793\nEpoch 380/500\n16/16 - 0s - loss: 0.4594 - accuracy: 0.7769\nEpoch 381/500\n16/16 - 0s - loss: 0.4583 - accuracy: 0.7769\nEpoch 382/500\n16/16 - 0s - loss: 0.4580 - accuracy: 0.7776\nEpoch 383/500\n16/16 - 0s - loss: 0.4564 - accuracy: 0.7795\nEpoch 384/500\n16/16 - 0s - loss: 0.4561 - accuracy: 0.7792\nEpoch 385/500\n16/16 - 0s - loss: 0.4569 - accuracy: 0.7789\nEpoch 386/500\n16/16 - 0s - loss: 0.4576 - accuracy: 0.7792\nEpoch 387/500\n16/16 - 0s - loss: 0.4575 - accuracy: 0.7778\nEpoch 388/500\n16/16 - 0s - loss: 0.4572 - accuracy: 0.7783\nEpoch 389/500\n16/16 - 0s - loss: 0.4559 - accuracy: 0.7783\nEpoch 390/500\n16/16 - 0s - loss: 0.4552 - accuracy: 0.7792\nEpoch 391/500\n16/16 - 0s - loss: 0.4549 - accuracy: 0.7797\nEpoch 392/500\n16/16 - 0s - loss: 0.4563 - accuracy: 0.7803\nEpoch 393/500\n16/16 - 0s - loss: 0.4575 - accuracy: 0.7792\nEpoch 394/500\n16/16 - 0s - loss: 0.4574 - accuracy: 0.7790\nEpoch 395/500\n16/16 - 0s - loss: 0.4548 - accuracy: 0.7800\nEpoch 396/500\n16/16 - 0s - loss: 0.4547 - accuracy: 0.7798\nEpoch 397/500\n16/16 - 0s - loss: 0.4550 - accuracy: 0.7798\nEpoch 398/500\n16/16 - 0s - loss: 0.4552 - accuracy: 0.7802\nEpoch 399/500\n16/16 - 0s - loss: 0.4555 - accuracy: 0.7794\nEpoch 400/500\n16/16 - 0s - loss: 0.4545 - accuracy: 0.7794\nEpoch 401/500\n16/16 - 0s - loss: 0.4542 - accuracy: 0.7799\nEpoch 402/500\n16/16 - 0s - loss: 0.4546 - accuracy: 0.7789\nEpoch 403/500\n16/16 - 0s - loss: 0.4550 - accuracy: 0.7797\nEpoch 404/500\n16/16 - 0s - loss: 0.4563 - accuracy: 0.7781\nEpoch 405/500\n16/16 - 0s - loss: 0.4556 - accuracy: 0.7796\nEpoch 406/500\n16/16 - 0s - loss: 0.4553 - accuracy: 0.7793\nEpoch 407/500\n16/16 - 0s - loss: 0.4543 - accuracy: 0.7797\nEpoch 408/500\n16/16 - 0s - loss: 0.4548 - accuracy: 0.7806\nEpoch 409/500\n16/16 - 0s - loss: 0.4557 - accuracy: 0.7796\nEpoch 410/500\n16/16 - 0s - loss: 0.4559 - accuracy: 0.7798\nEpoch 411/500\n16/16 - 0s - loss: 0.4556 - accuracy: 0.7795\nEpoch 412/500\n16/16 - 0s - loss: 0.4547 - accuracy: 0.7791\nEpoch 413/500\n16/16 - 0s - loss: 0.4554 - accuracy: 0.7792\nEpoch 414/500\n16/16 - 0s - loss: 0.4547 - accuracy: 0.7805\nEpoch 415/500\n16/16 - 0s - loss: 0.4545 - accuracy: 0.7809\nEpoch 416/500\n16/16 - 0s - loss: 0.4549 - accuracy: 0.7795\nEpoch 417/500\n16/16 - 0s - loss: 0.4536 - accuracy: 0.7811\nEpoch 418/500\n16/16 - 0s - loss: 0.4562 - accuracy: 0.7792\nEpoch 419/500\n16/16 - 0s - loss: 0.4573 - accuracy: 0.7782\nEpoch 420/500\n16/16 - 0s - loss: 0.4540 - accuracy: 0.7800\nEpoch 421/500\n16/16 - 0s - loss: 0.4532 - accuracy: 0.7799\nEpoch 422/500\n16/16 - 0s - loss: 0.4529 - accuracy: 0.7799\nEpoch 423/500\n16/16 - 0s - loss: 0.4531 - accuracy: 0.7808\nEpoch 424/500\n16/16 - 0s - loss: 0.4540 - accuracy: 0.7802\nEpoch 425/500\n16/16 - 0s - loss: 0.4534 - accuracy: 0.7803\nEpoch 426/500\n16/16 - 0s - loss: 0.4533 - accuracy: 0.7806\nEpoch 427/500\n16/16 - 0s - loss: 0.4534 - accuracy: 0.7806\nEpoch 428/500\n16/16 - 0s - loss: 0.4532 - accuracy: 0.7813\nEpoch 429/500\n16/16 - 0s - loss: 0.4530 - accuracy: 0.7807\nEpoch 430/500\n16/16 - 0s - loss: 0.4532 - accuracy: 0.7794\nEpoch 431/500\n16/16 - 0s - loss: 0.4538 - accuracy: 0.7801\nEpoch 432/500\n16/16 - 0s - loss: 0.4535 - accuracy: 0.7804\nEpoch 433/500\n16/16 - 0s - loss: 0.4530 - accuracy: 0.7799\nEpoch 434/500\n16/16 - 0s - loss: 0.4530 - accuracy: 0.7805\nEpoch 435/500\n16/16 - 0s - loss: 0.4570 - accuracy: 0.7788\nEpoch 436/500\n16/16 - 0s - loss: 0.4534 - accuracy: 0.7796\nEpoch 437/500\n16/16 - 0s - loss: 0.4550 - accuracy: 0.7801\nEpoch 438/500\n16/16 - 0s - loss: 0.4532 - accuracy: 0.7800\nEpoch 439/500\n16/16 - 0s - loss: 0.4524 - accuracy: 0.7817\nEpoch 440/500\n16/16 - 0s - loss: 0.4520 - accuracy: 0.7792\nEpoch 441/500\n16/16 - 0s - loss: 0.4530 - accuracy: 0.7813\nEpoch 442/500\n16/16 - 0s - loss: 0.4524 - accuracy: 0.7812\nEpoch 443/500\n16/16 - 0s - loss: 0.4542 - accuracy: 0.7814\nEpoch 444/500\n16/16 - 0s - loss: 0.4530 - accuracy: 0.7795\nEpoch 445/500\n16/16 - 0s - loss: 0.4525 - accuracy: 0.7817\nEpoch 446/500\n16/16 - 0s - loss: 0.4545 - accuracy: 0.7798\nEpoch 447/500\n16/16 - 0s - loss: 0.4529 - accuracy: 0.7806\nEpoch 448/500\n16/16 - 0s - loss: 0.4523 - accuracy: 0.7803\nEpoch 449/500\n16/16 - 0s - loss: 0.4535 - accuracy: 0.7813\nEpoch 450/500\n16/16 - 0s - loss: 0.4521 - accuracy: 0.7822\nEpoch 451/500\n16/16 - 0s - loss: 0.4533 - accuracy: 0.7803\nEpoch 452/500\n16/16 - 0s - loss: 0.4523 - accuracy: 0.7806\nEpoch 453/500\n16/16 - 0s - loss: 0.4523 - accuracy: 0.7806\nEpoch 454/500\n16/16 - 0s - loss: 0.4530 - accuracy: 0.7798\nEpoch 455/500\n16/16 - 0s - loss: 0.4520 - accuracy: 0.7811\nEpoch 456/500\n16/16 - 0s - loss: 0.4521 - accuracy: 0.7808\nEpoch 457/500\n16/16 - 0s - loss: 0.4527 - accuracy: 0.7802\nEpoch 458/500\n16/16 - 0s - loss: 0.4531 - accuracy: 0.7802\nEpoch 459/500\n16/16 - 0s - loss: 0.4522 - accuracy: 0.7802\nEpoch 460/500\n16/16 - 0s - loss: 0.4517 - accuracy: 0.7816\nEpoch 461/500\n16/16 - 0s - loss: 0.4518 - accuracy: 0.7822\nEpoch 462/500\n16/16 - 0s - loss: 0.4530 - accuracy: 0.7799\nEpoch 463/500\n16/16 - 0s - loss: 0.4505 - accuracy: 0.7820\nEpoch 464/500\n16/16 - 0s - loss: 0.4514 - accuracy: 0.7810\nEpoch 465/500\n16/16 - 0s - loss: 0.4520 - accuracy: 0.7809\nEpoch 466/500\n16/16 - 0s - loss: 0.4523 - accuracy: 0.7811\nEpoch 467/500\n16/16 - 0s - loss: 0.4517 - accuracy: 0.7815\nEpoch 468/500\n16/16 - 0s - loss: 0.4517 - accuracy: 0.7817\nEpoch 469/500\n16/16 - 0s - loss: 0.4518 - accuracy: 0.7818\nEpoch 470/500\n16/16 - 0s - loss: 0.4513 - accuracy: 0.7819\nEpoch 471/500\n16/16 - 0s - loss: 0.4503 - accuracy: 0.7815\nEpoch 472/500\n16/16 - 0s - loss: 0.4522 - accuracy: 0.7801\nEpoch 473/500\n16/16 - 0s - loss: 0.4504 - accuracy: 0.7828\nEpoch 474/500\n16/16 - 0s - loss: 0.4511 - accuracy: 0.7814\nEpoch 475/500\n16/16 - 0s - loss: 0.4508 - accuracy: 0.7825\nEpoch 476/500\n16/16 - 0s - loss: 0.4509 - accuracy: 0.7825\nEpoch 477/500\n16/16 - 0s - loss: 0.4513 - accuracy: 0.7802\nEpoch 478/500\n16/16 - 0s - loss: 0.4505 - accuracy: 0.7814\nEpoch 479/500\n16/16 - 0s - loss: 0.4526 - accuracy: 0.7811\nEpoch 480/500\n16/16 - 0s - loss: 0.4517 - accuracy: 0.7822\nEpoch 481/500\n16/16 - 0s - loss: 0.4504 - accuracy: 0.7811\nEpoch 482/500\n16/16 - 0s - loss: 0.4507 - accuracy: 0.7832\nEpoch 483/500\n16/16 - 0s - loss: 0.4514 - accuracy: 0.7806\nEpoch 484/500\n16/16 - 0s - loss: 0.4526 - accuracy: 0.7808\nEpoch 485/500\n16/16 - 0s - loss: 0.4498 - accuracy: 0.7814\nEpoch 486/500\n16/16 - 0s - loss: 0.4502 - accuracy: 0.7818\nEpoch 487/500\n16/16 - 0s - loss: 0.4522 - accuracy: 0.7821\nEpoch 488/500\n16/16 - 0s - loss: 0.4509 - accuracy: 0.7828\nEpoch 489/500\n16/16 - 0s - loss: 0.4500 - accuracy: 0.7816\nEpoch 490/500\n16/16 - 0s - loss: 0.4513 - accuracy: 0.7811\nEpoch 491/500\n16/16 - 0s - loss: 0.4497 - accuracy: 0.7814\nEpoch 492/500\n16/16 - 0s - loss: 0.4496 - accuracy: 0.7819\nEpoch 493/500\n16/16 - 0s - loss: 0.4497 - accuracy: 0.7825\nEpoch 494/500\n16/16 - 0s - loss: 0.4502 - accuracy: 0.7826\nEpoch 495/500\n16/16 - 0s - loss: 0.4504 - accuracy: 0.7815\nEpoch 496/500\n16/16 - 0s - loss: 0.4499 - accuracy: 0.7832\nEpoch 497/500\n16/16 - 0s - loss: 0.4493 - accuracy: 0.7827\nEpoch 498/500\n16/16 - 0s - loss: 0.4506 - accuracy: 0.7823\nEpoch 499/500\n16/16 - 0s - loss: 0.4512 - accuracy: 0.7815\nEpoch 500/500\n16/16 - 0s - loss: 0.4525 - accuracy: 0.7810\n"
    }
   ],
   "source": [
    "#Training the Model\n",
    "history = model.fit(X_train_scaled,y_train_categorical,epochs=500, batch_size=2000, shuffle=True, verbose=2)"
   ]
  },
  {
   "cell_type": "markdown",
   "metadata": {},
   "source": [
    "## Validation of the Model"
   ]
  },
  {
   "cell_type": "code",
   "execution_count": 14,
   "metadata": {
    "tags": []
   },
   "outputs": [
    {
     "output_type": "stream",
     "name": "stdout",
     "text": "964/964 - 1s - loss: 0.4495 - accuracy: 0.7821\n322/322 - 0s - loss: 0.4849 - accuracy: 0.7650\nTrain --> Loss: 0.4494677484035492, Accuracy: 0.7821207046508789\nTest --> Loss: 0.4849243760108948, Accuracy: 0.7650092244148254\n"
    }
   ],
   "source": [
    "#Evaluate the Model using the testing data\n",
    "#Compare Model performace between training and testing data\n",
    "model_loss_train, model_accuracy_train = model.evaluate(X_train_scaled, y_train_categorical, verbose=2)\n",
    "model_loss, model_accuracy = model.evaluate(X_test_scaled, y_test_categorical, verbose=2)\n",
    "\n",
    "print(f\"Train --> Loss: {model_loss_train}, Accuracy: {model_accuracy_train}\")    \n",
    "print(f\"Test --> Loss: {model_loss}, Accuracy: {model_accuracy}\")"
   ]
  },
  {
   "cell_type": "markdown",
   "metadata": {},
   "source": [
    "## Saving the Trained Model"
   ]
  },
  {
   "cell_type": "code",
   "execution_count": 15,
   "metadata": {},
   "outputs": [],
   "source": [
    "# Save the model\n",
    "model.save(\"../Models/h5/skey&tempo&speech.h5\")"
   ]
  }
 ],
 "metadata": {
  "language_info": {
   "codemirror_mode": {
    "name": "ipython",
    "version": 3
   },
   "file_extension": ".py",
   "mimetype": "text/x-python",
   "name": "python",
   "nbconvert_exporter": "python",
   "pygments_lexer": "ipython3",
   "version": "3.8.3-final"
  },
  "orig_nbformat": 2,
  "kernelspec": {
   "name": "python38364bitvenvvenv54c3120af49c4f098fcd2d81e62b322e",
   "display_name": "Python 3.8.3 64-bit ('venv': venv)"
  }
 },
 "nbformat": 4,
 "nbformat_minor": 2
}
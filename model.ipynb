{
 "cells": [
  {
   "cell_type": "code",
   "execution_count": 1,
   "metadata": {},
   "outputs": [],
   "source": [
    "import os\n",
    "import glob\n",
    "import pandas as pd\n",
    "\n",
    "import numpy as np\n"
   ]
  },
  {
   "cell_type": "code",
   "execution_count": 2,
   "metadata": {},
   "outputs": [],
   "source": [
    "# Define working directory\n",
    "os.chdir(r\"C:\\Users\\hguzm\\Documents\\000. Personal\\Bootcamp\\Proyectos\\FinalProject-Spotify\\Original_data\")"
   ]
  },
  {
   "cell_type": "code",
   "execution_count": 3,
   "metadata": {},
   "outputs": [
    {
     "output_type": "execute_result",
     "data": {
      "text/plain": "                      track             artist  \\\n0                 Lucky Man  Montgomery Gentry   \n1            On The Hotline       Pretty Ricky   \n2        Clouds Of Dementia         Candlemass   \n3  Heavy Metal, Raise Hell!      Zwartketterij   \n4           I Got A Feelin'   Billy Currington   \n\n                                    uri  danceability  energy  key  loudness  \\\n0  spotify:track:4GiXBCUF7H6YfNQsnBRIzl         0.578   0.471    4    -7.270   \n1  spotify:track:1zyqZONW985Cs4osz9wlsu         0.704   0.854   10    -5.477   \n2  spotify:track:6cHZf7RbxXCKwEkgAZT4mY         0.162   0.836    9    -3.009   \n3  spotify:track:2IjBPp2vMeX7LggzRN3iSX         0.188   0.994    4    -3.745   \n4  spotify:track:1tF370eYXUcWwkIvaq3IGz         0.630   0.764    2    -4.353   \n\n   mode  speechiness  acousticness  instrumentalness  liveness  valence  \\\n0     1       0.0289      0.368000           0.00000     0.159    0.532   \n1     0       0.1830      0.018500           0.00000     0.148    0.688   \n2     1       0.0473      0.000111           0.00457     0.174    0.300   \n3     1       0.1660      0.000007           0.07840     0.192    0.333   \n4     1       0.0275      0.363000           0.00000     0.125    0.631   \n\n     tempo  duration_ms  time_signature  chorus_hit  sections  target  \n0  133.061       196707               4    30.88059        13       1  \n1   92.988       242587               4    41.51106        10       1  \n2   86.964       338893               4    65.32887        13       0  \n3  148.440       255667               4    58.59528         9       0  \n4  112.098       193760               4    22.62384        10       1  ",
      "text/html": "<div>\n<style scoped>\n    .dataframe tbody tr th:only-of-type {\n        vertical-align: middle;\n    }\n\n    .dataframe tbody tr th {\n        vertical-align: top;\n    }\n\n    .dataframe thead th {\n        text-align: right;\n    }\n</style>\n<table border=\"1\" class=\"dataframe\">\n  <thead>\n    <tr style=\"text-align: right;\">\n      <th></th>\n      <th>track</th>\n      <th>artist</th>\n      <th>uri</th>\n      <th>danceability</th>\n      <th>energy</th>\n      <th>key</th>\n      <th>loudness</th>\n      <th>mode</th>\n      <th>speechiness</th>\n      <th>acousticness</th>\n      <th>instrumentalness</th>\n      <th>liveness</th>\n      <th>valence</th>\n      <th>tempo</th>\n      <th>duration_ms</th>\n      <th>time_signature</th>\n      <th>chorus_hit</th>\n      <th>sections</th>\n      <th>target</th>\n    </tr>\n  </thead>\n  <tbody>\n    <tr>\n      <td>0</td>\n      <td>Lucky Man</td>\n      <td>Montgomery Gentry</td>\n      <td>spotify:track:4GiXBCUF7H6YfNQsnBRIzl</td>\n      <td>0.578</td>\n      <td>0.471</td>\n      <td>4</td>\n      <td>-7.270</td>\n      <td>1</td>\n      <td>0.0289</td>\n      <td>0.368000</td>\n      <td>0.00000</td>\n      <td>0.159</td>\n      <td>0.532</td>\n      <td>133.061</td>\n      <td>196707</td>\n      <td>4</td>\n      <td>30.88059</td>\n      <td>13</td>\n      <td>1</td>\n    </tr>\n    <tr>\n      <td>1</td>\n      <td>On The Hotline</td>\n      <td>Pretty Ricky</td>\n      <td>spotify:track:1zyqZONW985Cs4osz9wlsu</td>\n      <td>0.704</td>\n      <td>0.854</td>\n      <td>10</td>\n      <td>-5.477</td>\n      <td>0</td>\n      <td>0.1830</td>\n      <td>0.018500</td>\n      <td>0.00000</td>\n      <td>0.148</td>\n      <td>0.688</td>\n      <td>92.988</td>\n      <td>242587</td>\n      <td>4</td>\n      <td>41.51106</td>\n      <td>10</td>\n      <td>1</td>\n    </tr>\n    <tr>\n      <td>2</td>\n      <td>Clouds Of Dementia</td>\n      <td>Candlemass</td>\n      <td>spotify:track:6cHZf7RbxXCKwEkgAZT4mY</td>\n      <td>0.162</td>\n      <td>0.836</td>\n      <td>9</td>\n      <td>-3.009</td>\n      <td>1</td>\n      <td>0.0473</td>\n      <td>0.000111</td>\n      <td>0.00457</td>\n      <td>0.174</td>\n      <td>0.300</td>\n      <td>86.964</td>\n      <td>338893</td>\n      <td>4</td>\n      <td>65.32887</td>\n      <td>13</td>\n      <td>0</td>\n    </tr>\n    <tr>\n      <td>3</td>\n      <td>Heavy Metal, Raise Hell!</td>\n      <td>Zwartketterij</td>\n      <td>spotify:track:2IjBPp2vMeX7LggzRN3iSX</td>\n      <td>0.188</td>\n      <td>0.994</td>\n      <td>4</td>\n      <td>-3.745</td>\n      <td>1</td>\n      <td>0.1660</td>\n      <td>0.000007</td>\n      <td>0.07840</td>\n      <td>0.192</td>\n      <td>0.333</td>\n      <td>148.440</td>\n      <td>255667</td>\n      <td>4</td>\n      <td>58.59528</td>\n      <td>9</td>\n      <td>0</td>\n    </tr>\n    <tr>\n      <td>4</td>\n      <td>I Got A Feelin'</td>\n      <td>Billy Currington</td>\n      <td>spotify:track:1tF370eYXUcWwkIvaq3IGz</td>\n      <td>0.630</td>\n      <td>0.764</td>\n      <td>2</td>\n      <td>-4.353</td>\n      <td>1</td>\n      <td>0.0275</td>\n      <td>0.363000</td>\n      <td>0.00000</td>\n      <td>0.125</td>\n      <td>0.631</td>\n      <td>112.098</td>\n      <td>193760</td>\n      <td>4</td>\n      <td>22.62384</td>\n      <td>10</td>\n      <td>1</td>\n    </tr>\n  </tbody>\n</table>\n</div>"
     },
     "metadata": {},
     "execution_count": 3
    }
   ],
   "source": [
    "# Use glob to match the pattern ‘csv’\n",
    "extension = 'csv'\n",
    "all_filenames = [i for i in glob.glob('*.{}'.format(extension))]\n",
    "\n",
    "# Combine all files in the list and export as CSV\n",
    "df = pd.concat([pd.read_csv(f) for f in all_filenames ])\n",
    "df.reset_index(drop=True, inplace=True)\n",
    "df.head(5)"
   ]
  },
  {
   "cell_type": "code",
   "execution_count": 4,
   "metadata": {},
   "outputs": [],
   "source": [
    "df2 = df.drop(['track', 'artist', 'uri'], axis=1)"
   ]
  },
  {
   "cell_type": "code",
   "execution_count": 5,
   "metadata": {
    "tags": []
   },
   "outputs": [
    {
     "output_type": "stream",
     "name": "stdout",
     "text": "(41106, 16) (41106, 15) (41106,)\n"
    },
    {
     "output_type": "execute_result",
     "data": {
      "text/plain": "array([[ 0.578  ,  0.471  ,  4.     , ..., 30.88059, 13.     ,  1.     ],\n       [ 0.704  ,  0.854  , 10.     , ..., 41.51106, 10.     ,  1.     ],\n       [ 0.162  ,  0.836  ,  9.     , ..., 65.32887, 13.     ,  0.     ],\n       ...,\n       [ 0.562  ,  0.314  , 10.     , ..., 21.11763, 10.     ,  1.     ],\n       [ 0.622  ,  0.781  ,  7.     , ..., 47.13558, 11.     ,  0.     ],\n       [ 0.664  ,  0.739  ,  2.     , ..., 42.50341, 14.     ,  1.     ]])"
     },
     "metadata": {},
     "execution_count": 5
    }
   ],
   "source": [
    "# Reformat data\n",
    "data = df2.values\n",
    "X = data[:, 0:15]  \n",
    "y = data[:, 15]\n",
    "\n",
    "print(data.shape, X.shape, y.shape)\n",
    "data\n",
    "# X[0]\n",
    "# y"
   ]
  },
  {
   "cell_type": "code",
   "execution_count": 6,
   "metadata": {},
   "outputs": [],
   "source": [
    "from sklearn.model_selection import train_test_split\n",
    "\n",
    "X_train, X_test, y_train, y_test = train_test_split(X, y, random_state=10)"
   ]
  },
  {
   "cell_type": "markdown",
   "metadata": {},
   "source": [
    "## Data Preprocessing"
   ]
  },
  {
   "cell_type": "code",
   "execution_count": 7,
   "metadata": {},
   "outputs": [
    {
     "output_type": "execute_result",
     "data": {
      "text/plain": "array([[ 1.35315003, -0.22396167,  1.07008741, ...,  0.24964134,\n         0.64353579,  0.1078218 ],\n       [-0.03430522,  0.9971179 ,  1.07008741, ...,  0.24964134,\n         0.88344544, -0.71419692],\n       [-0.2599077 ,  0.34296813,  1.07008741, ...,  0.24964134,\n         0.72333873, -0.91970159],\n       ...,\n       [ 0.16873701, -0.838466  ,  1.07008741, ...,  0.24964134,\n         0.07947695,  1.13534519],\n       [-0.71111266, -1.65912662,  0.50456543, ...,  0.24964134,\n         0.66731336, -0.50869224],\n       [-1.39920022, -1.31024674,  1.07008741, ..., -2.13381886,\n        -0.45146094,  0.1078218 ]])"
     },
     "metadata": {},
     "execution_count": 7
    }
   ],
   "source": [
    "#Scale features (X)\n",
    "from sklearn.preprocessing import StandardScaler\n",
    "X_scaler = StandardScaler().fit(X_train)\n",
    "\n",
    "X_train_scaled = X_scaler.transform(X_train)\n",
    "X_test_scaled = X_scaler.transform(X_test) \n",
    "\n",
    "X_train_scaled"
   ]
  },
  {
   "cell_type": "markdown",
   "metadata": {},
   "source": [
    "One-hot encode the labels"
   ]
  },
  {
   "cell_type": "code",
   "execution_count": 8,
   "metadata": {},
   "outputs": [
    {
     "output_type": "execute_result",
     "data": {
      "text/plain": "array([[0., 1.],\n       [1., 0.],\n       [0., 1.],\n       ...,\n       [0., 1.],\n       [0., 1.],\n       [1., 0.]], dtype=float32)"
     },
     "metadata": {},
     "execution_count": 8
    }
   ],
   "source": [
    "#One-hot encode output labels (y)\n",
    "from tensorflow.keras.utils import to_categorical\n",
    "y_train_categorical = to_categorical(y_train)\n",
    "y_test_categorical = to_categorical(y_test)\n",
    "\n",
    "y_train_categorical"
   ]
  },
  {
   "cell_type": "markdown",
   "metadata": {},
   "source": [
    "## Creating and defining our Model Architecture"
   ]
  },
  {
   "cell_type": "code",
   "execution_count": 9,
   "metadata": {},
   "outputs": [],
   "source": [
    "#First create a sequential model\n",
    "from tensorflow.keras.models import Sequential\n",
    "\n",
    "model = Sequential() "
   ]
  },
  {
   "cell_type": "code",
   "execution_count": 10,
   "metadata": {},
   "outputs": [],
   "source": [
    "#For categorical data, we use a classifier model (Softmax)\n",
    "from tensorflow.keras.layers import Dense\n",
    "number_inputs = 15  \n",
    "number_hidden_nodes = 12\n",
    "\n",
    "#Create hidden layer\n",
    "model.add(Dense(units=number_hidden_nodes,activation='relu', input_dim=number_inputs))\n",
    "\n",
    "#Create output layer\n",
    "number_classes = 2\n",
    "model.add(Dense(units=number_classes, activation='softmax')) "
   ]
  },
  {
   "cell_type": "markdown",
   "metadata": {},
   "source": [
    "Number of Hidden Nodes:\n",
    "https://stats.stackexchange.com/questions/181/how-to-choose-the-number-of-hidden-layers-and-nodes-in-a-feedforward-neural-netw#:~:text=The%20number%20of%20hidden%20neurons,size%20of%20the%20input%20layer."
   ]
  },
  {
   "cell_type": "code",
   "execution_count": 11,
   "metadata": {
    "tags": []
   },
   "outputs": [
    {
     "output_type": "stream",
     "name": "stdout",
     "text": "Model: \"sequential\"\n_________________________________________________________________\nLayer (type)                 Output Shape              Param #   \n=================================================================\ndense (Dense)                (None, 12)                192       \n_________________________________________________________________\ndense_1 (Dense)              (None, 2)                 26        \n=================================================================\nTotal params: 218\nTrainable params: 218\nNon-trainable params: 0\n_________________________________________________________________\n"
    }
   ],
   "source": [
    "#Model Summary\n",
    "model.summary() "
   ]
  },
  {
   "cell_type": "code",
   "execution_count": 12,
   "metadata": {},
   "outputs": [],
   "source": [
    "#Compile the Model\n",
    "model.compile(optimizer='adam', loss='categorical_crossentropy', metrics=['accuracy'])"
   ]
  },
  {
   "cell_type": "markdown",
   "metadata": {},
   "source": [
    "## Training the Model"
   ]
  },
  {
   "cell_type": "code",
   "execution_count": 13,
   "metadata": {
    "tags": []
   },
   "outputs": [
    {
     "output_type": "stream",
     "name": "stdout",
     "text": "Epoch 1/100\n964/964 - 1s - loss: 0.5895 - accuracy: 0.6968\nEpoch 2/100\n964/964 - 1s - loss: 0.5070 - accuracy: 0.7481\nEpoch 3/100\n964/964 - 1s - loss: 0.4958 - accuracy: 0.7566\nEpoch 4/100\n964/964 - 1s - loss: 0.4894 - accuracy: 0.7633\nEpoch 5/100\n964/964 - 1s - loss: 0.4858 - accuracy: 0.7659\nEpoch 6/100\n964/964 - 1s - loss: 0.4831 - accuracy: 0.7680\nEpoch 7/100\n964/964 - 1s - loss: 0.4807 - accuracy: 0.7702\nEpoch 8/100\n964/964 - 1s - loss: 0.4793 - accuracy: 0.7700\nEpoch 9/100\n964/964 - 1s - loss: 0.4778 - accuracy: 0.7717\nEpoch 10/100\n964/964 - 1s - loss: 0.4767 - accuracy: 0.7718\nEpoch 11/100\n964/964 - 2s - loss: 0.4756 - accuracy: 0.7729\nEpoch 12/100\n964/964 - 2s - loss: 0.4751 - accuracy: 0.7720\nEpoch 13/100\n964/964 - 2s - loss: 0.4748 - accuracy: 0.7722\nEpoch 14/100\n964/964 - 1s - loss: 0.4739 - accuracy: 0.7736\nEpoch 15/100\n964/964 - 1s - loss: 0.4736 - accuracy: 0.7726\nEpoch 16/100\n964/964 - 1s - loss: 0.4731 - accuracy: 0.7732\nEpoch 17/100\n964/964 - 1s - loss: 0.4728 - accuracy: 0.7730\nEpoch 18/100\n964/964 - 1s - loss: 0.4727 - accuracy: 0.7731\nEpoch 19/100\n964/964 - 1s - loss: 0.4720 - accuracy: 0.7741\nEpoch 20/100\n964/964 - 1s - loss: 0.4717 - accuracy: 0.7736\nEpoch 21/100\n964/964 - 1s - loss: 0.4717 - accuracy: 0.7744\nEpoch 22/100\n964/964 - 1s - loss: 0.4714 - accuracy: 0.7729\nEpoch 23/100\n964/964 - 1s - loss: 0.4711 - accuracy: 0.7741\nEpoch 24/100\n964/964 - 1s - loss: 0.4709 - accuracy: 0.7739\nEpoch 25/100\n964/964 - 1s - loss: 0.4710 - accuracy: 0.7742\nEpoch 26/100\n964/964 - 1s - loss: 0.4706 - accuracy: 0.7733\nEpoch 27/100\n964/964 - 1s - loss: 0.4705 - accuracy: 0.7750\nEpoch 28/100\n964/964 - 1s - loss: 0.4703 - accuracy: 0.7756\nEpoch 29/100\n964/964 - 1s - loss: 0.4700 - accuracy: 0.7747\nEpoch 30/100\n964/964 - 1s - loss: 0.4702 - accuracy: 0.7745\nEpoch 31/100\n964/964 - 1s - loss: 0.4698 - accuracy: 0.7748\nEpoch 32/100\n964/964 - 1s - loss: 0.4699 - accuracy: 0.7746\nEpoch 33/100\n964/964 - 1s - loss: 0.4697 - accuracy: 0.7754\nEpoch 34/100\n964/964 - 1s - loss: 0.4695 - accuracy: 0.7750\nEpoch 35/100\n964/964 - 1s - loss: 0.4694 - accuracy: 0.7750\nEpoch 36/100\n964/964 - 1s - loss: 0.4695 - accuracy: 0.7740\nEpoch 37/100\n964/964 - 1s - loss: 0.4689 - accuracy: 0.7742\nEpoch 38/100\n964/964 - 1s - loss: 0.4691 - accuracy: 0.7752\nEpoch 39/100\n964/964 - 1s - loss: 0.4689 - accuracy: 0.7752\nEpoch 40/100\n964/964 - 1s - loss: 0.4688 - accuracy: 0.7752\nEpoch 41/100\n964/964 - 1s - loss: 0.4687 - accuracy: 0.7757\nEpoch 42/100\n964/964 - 1s - loss: 0.4685 - accuracy: 0.7751\nEpoch 43/100\n964/964 - 1s - loss: 0.4684 - accuracy: 0.7753\nEpoch 44/100\n964/964 - 1s - loss: 0.4685 - accuracy: 0.7751\nEpoch 45/100\n964/964 - 1s - loss: 0.4683 - accuracy: 0.7749\nEpoch 46/100\n964/964 - 1s - loss: 0.4682 - accuracy: 0.7750\nEpoch 47/100\n964/964 - 1s - loss: 0.4682 - accuracy: 0.7758\nEpoch 48/100\n964/964 - 1s - loss: 0.4680 - accuracy: 0.7749\nEpoch 49/100\n964/964 - 1s - loss: 0.4680 - accuracy: 0.7765\nEpoch 50/100\n964/964 - 1s - loss: 0.4683 - accuracy: 0.7754\nEpoch 51/100\n964/964 - 1s - loss: 0.4682 - accuracy: 0.7759\nEpoch 52/100\n964/964 - 1s - loss: 0.4678 - accuracy: 0.7761\nEpoch 53/100\n964/964 - 2s - loss: 0.4678 - accuracy: 0.7762\nEpoch 54/100\n964/964 - 1s - loss: 0.4678 - accuracy: 0.7754\nEpoch 55/100\n964/964 - 1s - loss: 0.4676 - accuracy: 0.7770\nEpoch 56/100\n964/964 - 1s - loss: 0.4676 - accuracy: 0.7756\nEpoch 57/100\n964/964 - 1s - loss: 0.4675 - accuracy: 0.7772\nEpoch 58/100\n964/964 - 2s - loss: 0.4673 - accuracy: 0.7757\nEpoch 59/100\n964/964 - 2s - loss: 0.4675 - accuracy: 0.7765\nEpoch 60/100\n964/964 - 2s - loss: 0.4672 - accuracy: 0.7763\nEpoch 61/100\n964/964 - 3s - loss: 0.4670 - accuracy: 0.7766\nEpoch 62/100\n964/964 - 2s - loss: 0.4676 - accuracy: 0.7769\nEpoch 63/100\n964/964 - 2s - loss: 0.4670 - accuracy: 0.7767\nEpoch 64/100\n964/964 - 2s - loss: 0.4670 - accuracy: 0.7759\nEpoch 65/100\n964/964 - 2s - loss: 0.4672 - accuracy: 0.7765\nEpoch 66/100\n964/964 - 2s - loss: 0.4674 - accuracy: 0.7764\nEpoch 67/100\n964/964 - 2s - loss: 0.4670 - accuracy: 0.7757\nEpoch 68/100\n964/964 - 2s - loss: 0.4668 - accuracy: 0.7764\nEpoch 69/100\n964/964 - 1s - loss: 0.4668 - accuracy: 0.7760\nEpoch 70/100\n964/964 - 1s - loss: 0.4666 - accuracy: 0.7770\nEpoch 71/100\n964/964 - 1s - loss: 0.4668 - accuracy: 0.7766\nEpoch 72/100\n964/964 - 1s - loss: 0.4667 - accuracy: 0.7765\nEpoch 73/100\n964/964 - 1s - loss: 0.4667 - accuracy: 0.7760\nEpoch 74/100\n964/964 - 1s - loss: 0.4665 - accuracy: 0.7761\nEpoch 75/100\n964/964 - 1s - loss: 0.4665 - accuracy: 0.7770\nEpoch 76/100\n964/964 - 1s - loss: 0.4664 - accuracy: 0.7757\nEpoch 77/100\n964/964 - 1s - loss: 0.4663 - accuracy: 0.7763\nEpoch 78/100\n964/964 - 1s - loss: 0.4663 - accuracy: 0.7767\nEpoch 79/100\n964/964 - 1s - loss: 0.4660 - accuracy: 0.7767\nEpoch 80/100\n964/964 - 1s - loss: 0.4664 - accuracy: 0.7763\nEpoch 81/100\n964/964 - 1s - loss: 0.4663 - accuracy: 0.7772\nEpoch 82/100\n964/964 - 1s - loss: 0.4662 - accuracy: 0.7767\nEpoch 83/100\n964/964 - 1s - loss: 0.4658 - accuracy: 0.7769\nEpoch 84/100\n964/964 - 1s - loss: 0.4662 - accuracy: 0.7773\nEpoch 85/100\n964/964 - 1s - loss: 0.4661 - accuracy: 0.7762\nEpoch 86/100\n964/964 - 1s - loss: 0.4658 - accuracy: 0.7770\nEpoch 87/100\n964/964 - 1s - loss: 0.4657 - accuracy: 0.7770\nEpoch 88/100\n964/964 - 1s - loss: 0.4660 - accuracy: 0.7762\nEpoch 89/100\n964/964 - 1s - loss: 0.4658 - accuracy: 0.7769\nEpoch 90/100\n964/964 - 1s - loss: 0.4661 - accuracy: 0.7763\nEpoch 91/100\n964/964 - 1s - loss: 0.4659 - accuracy: 0.7775\nEpoch 92/100\n964/964 - 1s - loss: 0.4656 - accuracy: 0.7770\nEpoch 93/100\n964/964 - 1s - loss: 0.4658 - accuracy: 0.7767\nEpoch 94/100\n964/964 - 1s - loss: 0.4656 - accuracy: 0.7774\nEpoch 95/100\n964/964 - 1s - loss: 0.4655 - accuracy: 0.7760\nEpoch 96/100\n964/964 - 1s - loss: 0.4658 - accuracy: 0.7767\nEpoch 97/100\n964/964 - 1s - loss: 0.4656 - accuracy: 0.7777\nEpoch 98/100\n964/964 - 1s - loss: 0.4655 - accuracy: 0.7773\nEpoch 99/100\n964/964 - 1s - loss: 0.4658 - accuracy: 0.7761\nEpoch 100/100\n964/964 - 1s - loss: 0.4656 - accuracy: 0.7785\n"
    },
    {
     "output_type": "execute_result",
     "data": {
      "text/plain": "<tensorflow.python.keras.callbacks.History at 0x199601690c8>"
     },
     "metadata": {},
     "execution_count": 13
    }
   ],
   "source": [
    "#Training the Model\n",
    "model.fit(X_train_scaled,y_train_categorical,epochs=100, shuffle=True, verbose=2)"
   ]
  },
  {
   "cell_type": "markdown",
   "metadata": {},
   "source": [
    "## Validation of the Model"
   ]
  },
  {
   "cell_type": "code",
   "execution_count": 14,
   "metadata": {
    "tags": []
   },
   "outputs": [
    {
     "output_type": "stream",
     "name": "stdout",
     "text": "322/322 - 0s - loss: 0.4695 - accuracy: 0.7766\nLoss: 0.46954256296157837, Accuracy: 0.776588499546051\n"
    }
   ],
   "source": [
    "#Evaluate the Model using the testing data\n",
    "model_loss, model_accuracy = model.evaluate(X_test_scaled, y_test_categorical, verbose=2)\n",
    "    \n",
    "print(f\"Loss: {model_loss}, Accuracy: {model_accuracy}\")"
   ]
  },
  {
   "cell_type": "code",
   "execution_count": 15,
   "metadata": {
    "tags": []
   },
   "outputs": [
    {
     "output_type": "stream",
     "name": "stdout",
     "text": "WARNING:tensorflow:From <ipython-input-15-b1e4bd7b0554>:2: Sequential.predict_classes (from tensorflow.python.keras.engine.sequential) is deprecated and will be removed after 2021-01-01.\nInstructions for updating:\nPlease use instead:* `np.argmax(model.predict(x), axis=-1)`,   if your model does multi-class classification   (e.g. if it uses a `softmax` last-layer activation).* `(model.predict(x) > 0.5).astype(\"int32\")`,   if your model does binary classification   (e.g. if it uses a `sigmoid` last-layer activation).\nPredicted classes: [1 1 0 1 1]\nActual Labels: [1.0, 1.0, 1.0, 0.0, 0.0]\n"
    }
   ],
   "source": [
    "#Make Predictions\n",
    "encoded_predictions = model.predict_classes(X_test_scaled[:5])\n",
    "print(f\"Predicted classes: {encoded_predictions}\")\n",
    "print(f\"Actual Labels: {list(y_test[:5])}\")"
   ]
  },
  {
   "cell_type": "markdown",
   "metadata": {},
   "source": [
    "## Saving the Trained Model"
   ]
  },
  {
   "cell_type": "code",
   "execution_count": 16,
   "metadata": {},
   "outputs": [],
   "source": [
    "# # Save the model\n",
    "# Define working directory\n",
    "os.chdir(r\"C:\\Users\\hguzm\\Documents\\000. Personal\\Bootcamp\\Proyectos\\FinalProject-Spotify\")\n",
    "model.save(\"spotify_model.h5\")"
   ]
  },
  {
   "cell_type": "markdown",
   "metadata": {},
   "source": [
    "## Loading a Model"
   ]
  },
  {
   "cell_type": "code",
   "execution_count": 17,
   "metadata": {},
   "outputs": [],
   "source": [
    "# Load the model  \n",
    "from tensorflow.keras.models import load_model\n",
    "# Define working directory\n",
    "os.chdir(r\"C:\\Users\\hguzm\\Documents\\000. Personal\\Bootcamp\\Proyectos\\FinalProject-Spotify\")\n",
    "model = load_model(\"spotify_model.h5\")"
   ]
  },
  {
   "cell_type": "code",
   "execution_count": 18,
   "metadata": {
    "tags": []
   },
   "outputs": [
    {
     "output_type": "stream",
     "name": "stdout",
     "text": "Model: \"sequential\"\n_________________________________________________________________\nLayer (type)                 Output Shape              Param #   \n=================================================================\ndense (Dense)                (None, 12)                192       \n_________________________________________________________________\ndense_1 (Dense)              (None, 2)                 26        \n=================================================================\nTotal params: 218\nTrainable params: 218\nNon-trainable params: 0\n_________________________________________________________________\n"
    }
   ],
   "source": [
    "model.summary()"
   ]
  },
  {
   "cell_type": "code",
   "execution_count": 19,
   "metadata": {
    "tags": []
   },
   "outputs": [
    {
     "output_type": "stream",
     "name": "stdout",
     "text": "322/322 - 0s - loss: 0.4695 - accuracy: 0.7766\nLoss: 0.46954256296157837, Accuracy: 0.776588499546051\n"
    }
   ],
   "source": [
    "#Evaluate the Model using the testing data\n",
    "model_loss, model_accuracy = model.evaluate(X_test_scaled, y_test_categorical, verbose=2)\n",
    "    \n",
    "print(f\"Loss: {model_loss}, Accuracy: {model_accuracy}\")"
   ]
  },
  {
   "cell_type": "markdown",
   "metadata": {},
   "source": [
    "## Deep Learning"
   ]
  },
  {
   "cell_type": "code",
   "execution_count": 20,
   "metadata": {},
   "outputs": [],
   "source": [
    "from tensorflow.keras.models import Sequential\n",
    "from tensorflow.keras.layers import Dense\n",
    "\n",
    "deep_model = Sequential()\n",
    "\n",
    "number_inputs = 15  \n",
    "number_hidden_nodes = 12\n",
    "number_hidden_nodes2 = 10\n",
    "number_classes = 2\n",
    "\n",
    "deep_model.add(Dense(units=number_hidden_nodes, activation='relu', input_dim=number_inputs))\n",
    "deep_model.add(Dense(units=number_hidden_nodes2, activation='relu'))\n",
    "deep_model.add(Dense(units=number_classes, activation='softmax'))"
   ]
  },
  {
   "cell_type": "code",
   "execution_count": 21,
   "metadata": {
    "tags": []
   },
   "outputs": [
    {
     "output_type": "stream",
     "name": "stdout",
     "text": "Model: \"sequential_1\"\n_________________________________________________________________\nLayer (type)                 Output Shape              Param #   \n=================================================================\ndense_2 (Dense)              (None, 12)                192       \n_________________________________________________________________\ndense_3 (Dense)              (None, 10)                130       \n_________________________________________________________________\ndense_4 (Dense)              (None, 2)                 22        \n=================================================================\nTotal params: 344\nTrainable params: 344\nNon-trainable params: 0\n_________________________________________________________________\n"
    }
   ],
   "source": [
    "deep_model.summary()"
   ]
  },
  {
   "cell_type": "code",
   "execution_count": 22,
   "metadata": {
    "tags": []
   },
   "outputs": [
    {
     "output_type": "stream",
     "name": "stdout",
     "text": "Epoch 1/100\n964/964 - 1s - loss: 0.5585 - accuracy: 0.7075\nEpoch 2/100\n964/964 - 1s - loss: 0.5007 - accuracy: 0.7511\nEpoch 3/100\n964/964 - 1s - loss: 0.4923 - accuracy: 0.7582\nEpoch 4/100\n964/964 - 1s - loss: 0.4868 - accuracy: 0.7613\nEpoch 5/100\n964/964 - 1s - loss: 0.4826 - accuracy: 0.7658\nEpoch 6/100\n964/964 - 1s - loss: 0.4791 - accuracy: 0.7700\nEpoch 7/100\n964/964 - 1s - loss: 0.4764 - accuracy: 0.7709\nEpoch 8/100\n964/964 - 1s - loss: 0.4739 - accuracy: 0.7738\nEpoch 9/100\n964/964 - 1s - loss: 0.4723 - accuracy: 0.7733\nEpoch 10/100\n964/964 - 1s - loss: 0.4709 - accuracy: 0.7759\nEpoch 11/100\n964/964 - 1s - loss: 0.4699 - accuracy: 0.7750\nEpoch 12/100\n964/964 - 2s - loss: 0.4685 - accuracy: 0.7765\nEpoch 13/100\n964/964 - 1s - loss: 0.4679 - accuracy: 0.7756\nEpoch 14/100\n964/964 - 1s - loss: 0.4672 - accuracy: 0.7779\nEpoch 15/100\n964/964 - 1s - loss: 0.4663 - accuracy: 0.7769\nEpoch 16/100\n964/964 - 1s - loss: 0.4660 - accuracy: 0.7776\nEpoch 17/100\n964/964 - 1s - loss: 0.4653 - accuracy: 0.7777\nEpoch 18/100\n964/964 - 1s - loss: 0.4651 - accuracy: 0.7773\nEpoch 19/100\n964/964 - 1s - loss: 0.4645 - accuracy: 0.7786\nEpoch 20/100\n964/964 - 1s - loss: 0.4640 - accuracy: 0.7788\nEpoch 21/100\n964/964 - 1s - loss: 0.4638 - accuracy: 0.7798\nEpoch 22/100\n964/964 - 1s - loss: 0.4631 - accuracy: 0.7790\nEpoch 23/100\n964/964 - 1s - loss: 0.4633 - accuracy: 0.7799\nEpoch 24/100\n964/964 - 1s - loss: 0.4628 - accuracy: 0.7787\nEpoch 25/100\n964/964 - 1s - loss: 0.4624 - accuracy: 0.7795\nEpoch 26/100\n964/964 - 1s - loss: 0.4620 - accuracy: 0.7801\nEpoch 27/100\n964/964 - 1s - loss: 0.4618 - accuracy: 0.7811\nEpoch 28/100\n964/964 - 1s - loss: 0.4616 - accuracy: 0.7811\nEpoch 29/100\n964/964 - 1s - loss: 0.4618 - accuracy: 0.7805\nEpoch 30/100\n964/964 - 1s - loss: 0.4614 - accuracy: 0.7807\nEpoch 31/100\n964/964 - 1s - loss: 0.4609 - accuracy: 0.7802\nEpoch 32/100\n964/964 - 1s - loss: 0.4607 - accuracy: 0.7814\nEpoch 33/100\n964/964 - 1s - loss: 0.4605 - accuracy: 0.7819\nEpoch 34/100\n964/964 - 1s - loss: 0.4600 - accuracy: 0.7819\nEpoch 35/100\n964/964 - 1s - loss: 0.4598 - accuracy: 0.7815\nEpoch 36/100\n964/964 - 1s - loss: 0.4597 - accuracy: 0.7823\nEpoch 37/100\n964/964 - 1s - loss: 0.4595 - accuracy: 0.7820\nEpoch 38/100\n964/964 - 1s - loss: 0.4596 - accuracy: 0.7815\nEpoch 39/100\n964/964 - 1s - loss: 0.4592 - accuracy: 0.7812\nEpoch 40/100\n964/964 - 1s - loss: 0.4589 - accuracy: 0.7820\nEpoch 41/100\n964/964 - 1s - loss: 0.4590 - accuracy: 0.7818\nEpoch 42/100\n964/964 - 1s - loss: 0.4588 - accuracy: 0.7825\nEpoch 43/100\n964/964 - 1s - loss: 0.4584 - accuracy: 0.7821\nEpoch 44/100\n964/964 - 1s - loss: 0.4583 - accuracy: 0.7814\nEpoch 45/100\n964/964 - 1s - loss: 0.4583 - accuracy: 0.7809\nEpoch 46/100\n964/964 - 1s - loss: 0.4579 - accuracy: 0.7824\nEpoch 47/100\n964/964 - 1s - loss: 0.4575 - accuracy: 0.7833\nEpoch 48/100\n964/964 - 1s - loss: 0.4573 - accuracy: 0.7817\nEpoch 49/100\n964/964 - 1s - loss: 0.4573 - accuracy: 0.7833\nEpoch 50/100\n964/964 - 1s - loss: 0.4570 - accuracy: 0.7823\nEpoch 51/100\n964/964 - 1s - loss: 0.4572 - accuracy: 0.7827\nEpoch 52/100\n964/964 - 1s - loss: 0.4572 - accuracy: 0.7819\nEpoch 53/100\n964/964 - 1s - loss: 0.4566 - accuracy: 0.7815\nEpoch 54/100\n964/964 - 1s - loss: 0.4568 - accuracy: 0.7827\nEpoch 55/100\n964/964 - 1s - loss: 0.4569 - accuracy: 0.7820\nEpoch 56/100\n964/964 - 1s - loss: 0.4566 - accuracy: 0.7822\nEpoch 57/100\n964/964 - 1s - loss: 0.4562 - accuracy: 0.7827\nEpoch 58/100\n964/964 - 1s - loss: 0.4565 - accuracy: 0.7819\nEpoch 59/100\n964/964 - 1s - loss: 0.4565 - accuracy: 0.7825\nEpoch 60/100\n964/964 - 1s - loss: 0.4562 - accuracy: 0.7823\nEpoch 61/100\n964/964 - 1s - loss: 0.4558 - accuracy: 0.7835\nEpoch 62/100\n964/964 - 1s - loss: 0.4558 - accuracy: 0.7823\nEpoch 63/100\n964/964 - 1s - loss: 0.4554 - accuracy: 0.7845\nEpoch 64/100\n964/964 - 1s - loss: 0.4560 - accuracy: 0.7834\nEpoch 65/100\n964/964 - 1s - loss: 0.4554 - accuracy: 0.7823\nEpoch 66/100\n964/964 - 2s - loss: 0.4555 - accuracy: 0.7836\nEpoch 67/100\n964/964 - 1s - loss: 0.4554 - accuracy: 0.7836\nEpoch 68/100\n964/964 - 1s - loss: 0.4557 - accuracy: 0.7841\nEpoch 69/100\n964/964 - 1s - loss: 0.4550 - accuracy: 0.7835\nEpoch 70/100\n964/964 - 1s - loss: 0.4553 - accuracy: 0.7833\nEpoch 71/100\n964/964 - 1s - loss: 0.4547 - accuracy: 0.7836\nEpoch 72/100\n964/964 - 1s - loss: 0.4549 - accuracy: 0.7839\nEpoch 73/100\n964/964 - 1s - loss: 0.4550 - accuracy: 0.7840\nEpoch 74/100\n964/964 - 1s - loss: 0.4548 - accuracy: 0.7840\nEpoch 75/100\n964/964 - 1s - loss: 0.4548 - accuracy: 0.7830\nEpoch 76/100\n964/964 - 1s - loss: 0.4545 - accuracy: 0.7835\nEpoch 77/100\n964/964 - 1s - loss: 0.4547 - accuracy: 0.7841\nEpoch 78/100\n964/964 - 1s - loss: 0.4545 - accuracy: 0.7844\nEpoch 79/100\n964/964 - 1s - loss: 0.4545 - accuracy: 0.7843\nEpoch 80/100\n964/964 - 1s - loss: 0.4542 - accuracy: 0.7851\nEpoch 81/100\n964/964 - 1s - loss: 0.4549 - accuracy: 0.7822\nEpoch 82/100\n964/964 - 1s - loss: 0.4548 - accuracy: 0.7839\nEpoch 83/100\n964/964 - 1s - loss: 0.4542 - accuracy: 0.7844\nEpoch 84/100\n964/964 - 1s - loss: 0.4544 - accuracy: 0.7833\nEpoch 85/100\n964/964 - 1s - loss: 0.4544 - accuracy: 0.7841\nEpoch 86/100\n964/964 - 1s - loss: 0.4542 - accuracy: 0.7853\nEpoch 87/100\n964/964 - 1s - loss: 0.4544 - accuracy: 0.7837\nEpoch 88/100\n964/964 - 1s - loss: 0.4544 - accuracy: 0.7863\nEpoch 89/100\n964/964 - 1s - loss: 0.4541 - accuracy: 0.7839\nEpoch 90/100\n964/964 - 1s - loss: 0.4545 - accuracy: 0.7855\nEpoch 91/100\n964/964 - 1s - loss: 0.4544 - accuracy: 0.7844\nEpoch 92/100\n964/964 - 1s - loss: 0.4543 - accuracy: 0.7852\nEpoch 93/100\n964/964 - 1s - loss: 0.4542 - accuracy: 0.7851\nEpoch 94/100\n964/964 - 1s - loss: 0.4544 - accuracy: 0.7842\nEpoch 95/100\n964/964 - 1s - loss: 0.4540 - accuracy: 0.7852\nEpoch 96/100\n964/964 - 1s - loss: 0.4539 - accuracy: 0.7834\nEpoch 97/100\n964/964 - 1s - loss: 0.4541 - accuracy: 0.7847\nEpoch 98/100\n964/964 - 1s - loss: 0.4540 - accuracy: 0.7848\nEpoch 99/100\n964/964 - 1s - loss: 0.4538 - accuracy: 0.7853\nEpoch 100/100\n964/964 - 1s - loss: 0.4540 - accuracy: 0.7863\nPredicted classes: [1 1 0 1 1]\nActual Labels: [1.0, 1.0, 1.0, 0.0, 0.0]\n"
    }
   ],
   "source": [
    "#Compile the model\n",
    "deep_model.compile(optimizer='adam',loss='categorical_crossentropy',metrics=['accuracy'])\n",
    "\n",
    "#Train the model\n",
    "deep_model.fit(X_train_scaled, y_train_categorical, epochs=100, shuffle=True, verbose=2)\n",
    "\n",
    "#Make Predictions\n",
    "encoded_predictions = model.predict_classes(X_test_scaled[:5])\n",
    "print(f\"Predicted classes: {encoded_predictions}\")\n",
    "print(f\"Actual Labels: {list(y_test[:5])}\")"
   ]
  },
  {
   "cell_type": "markdown",
   "metadata": {},
   "source": [
    "## Compare the models "
   ]
  },
  {
   "cell_type": "code",
   "execution_count": 23,
   "metadata": {
    "tags": []
   },
   "outputs": [
    {
     "output_type": "stream",
     "name": "stdout",
     "text": "322/322 - 0s - loss: 0.4695 - accuracy: 0.7766\n322/322 - 0s - loss: 0.4681 - accuracy: 0.7735\nNormal Neural Network - Loss: 0.46954256296157837, Accuracy: 0.776588499546051\nDeep Neural Network - Loss: 0.4681321680545807, Accuracy: 0.7734747529029846\n"
    }
   ],
   "source": [
    "model_loss, model_accuracy = model.evaluate(X_test_scaled, y_test_categorical, verbose=2)\n",
    "Dmodel_loss, Dmodel_accuracy = deep_model.evaluate(X_test_scaled, y_test_categorical, verbose=2)\n",
    "print(f\"Normal Neural Network - Loss: {model_loss}, Accuracy: {model_accuracy}\")\n",
    "print(f\"Deep Neural Network - Loss: {Dmodel_loss}, Accuracy: {Dmodel_accuracy}\")"
   ]
  }
 ],
 "metadata": {
  "language_info": {
   "codemirror_mode": {
    "name": "ipython",
    "version": 3
   },
   "file_extension": ".py",
   "mimetype": "text/x-python",
   "name": "python",
   "nbconvert_exporter": "python",
   "pygments_lexer": "ipython3",
   "version": "3.7.4-final"
  },
  "orig_nbformat": 2,
  "kernelspec": {
   "name": "python37464bitbaseconda621df6d49d2c4311a89d7503a44084b1",
   "display_name": "Python 3.7.4 64-bit ('base': conda)"
  }
 },
 "nbformat": 4,
 "nbformat_minor": 2
}
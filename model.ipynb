{
 "cells": [
  {
   "cell_type": "code",
   "execution_count": 1,
   "metadata": {},
   "outputs": [],
   "source": [
    "import os\n",
    "import glob\n",
    "import pandas as pd"
   ]
  },
  {
   "cell_type": "code",
   "execution_count": 2,
   "metadata": {},
   "outputs": [],
   "source": [
    "# Define working directory\n",
    "os.chdir(r\"C:\\Users\\hguzm\\Documents\\000. Personal\\Bootcamp\\Proyectos\\FinalProject-Spotify\\Original_data\")"
   ]
  },
  {
   "cell_type": "code",
   "execution_count": 3,
   "metadata": {},
   "outputs": [
    {
     "output_type": "execute_result",
     "data": {
      "text/plain": "                      track             artist  \\\n0                 Lucky Man  Montgomery Gentry   \n1            On The Hotline       Pretty Ricky   \n2        Clouds Of Dementia         Candlemass   \n3  Heavy Metal, Raise Hell!      Zwartketterij   \n4           I Got A Feelin'   Billy Currington   \n\n                                    uri  danceability  energy  key  loudness  \\\n0  spotify:track:4GiXBCUF7H6YfNQsnBRIzl         0.578   0.471    4    -7.270   \n1  spotify:track:1zyqZONW985Cs4osz9wlsu         0.704   0.854   10    -5.477   \n2  spotify:track:6cHZf7RbxXCKwEkgAZT4mY         0.162   0.836    9    -3.009   \n3  spotify:track:2IjBPp2vMeX7LggzRN3iSX         0.188   0.994    4    -3.745   \n4  spotify:track:1tF370eYXUcWwkIvaq3IGz         0.630   0.764    2    -4.353   \n\n   mode  speechiness  acousticness  instrumentalness  liveness  valence  \\\n0     1       0.0289      0.368000           0.00000     0.159    0.532   \n1     0       0.1830      0.018500           0.00000     0.148    0.688   \n2     1       0.0473      0.000111           0.00457     0.174    0.300   \n3     1       0.1660      0.000007           0.07840     0.192    0.333   \n4     1       0.0275      0.363000           0.00000     0.125    0.631   \n\n     tempo  duration_ms  time_signature  chorus_hit  sections  target  \n0  133.061       196707               4    30.88059        13       1  \n1   92.988       242587               4    41.51106        10       1  \n2   86.964       338893               4    65.32887        13       0  \n3  148.440       255667               4    58.59528         9       0  \n4  112.098       193760               4    22.62384        10       1  ",
      "text/html": "<div>\n<style scoped>\n    .dataframe tbody tr th:only-of-type {\n        vertical-align: middle;\n    }\n\n    .dataframe tbody tr th {\n        vertical-align: top;\n    }\n\n    .dataframe thead th {\n        text-align: right;\n    }\n</style>\n<table border=\"1\" class=\"dataframe\">\n  <thead>\n    <tr style=\"text-align: right;\">\n      <th></th>\n      <th>track</th>\n      <th>artist</th>\n      <th>uri</th>\n      <th>danceability</th>\n      <th>energy</th>\n      <th>key</th>\n      <th>loudness</th>\n      <th>mode</th>\n      <th>speechiness</th>\n      <th>acousticness</th>\n      <th>instrumentalness</th>\n      <th>liveness</th>\n      <th>valence</th>\n      <th>tempo</th>\n      <th>duration_ms</th>\n      <th>time_signature</th>\n      <th>chorus_hit</th>\n      <th>sections</th>\n      <th>target</th>\n    </tr>\n  </thead>\n  <tbody>\n    <tr>\n      <td>0</td>\n      <td>Lucky Man</td>\n      <td>Montgomery Gentry</td>\n      <td>spotify:track:4GiXBCUF7H6YfNQsnBRIzl</td>\n      <td>0.578</td>\n      <td>0.471</td>\n      <td>4</td>\n      <td>-7.270</td>\n      <td>1</td>\n      <td>0.0289</td>\n      <td>0.368000</td>\n      <td>0.00000</td>\n      <td>0.159</td>\n      <td>0.532</td>\n      <td>133.061</td>\n      <td>196707</td>\n      <td>4</td>\n      <td>30.88059</td>\n      <td>13</td>\n      <td>1</td>\n    </tr>\n    <tr>\n      <td>1</td>\n      <td>On The Hotline</td>\n      <td>Pretty Ricky</td>\n      <td>spotify:track:1zyqZONW985Cs4osz9wlsu</td>\n      <td>0.704</td>\n      <td>0.854</td>\n      <td>10</td>\n      <td>-5.477</td>\n      <td>0</td>\n      <td>0.1830</td>\n      <td>0.018500</td>\n      <td>0.00000</td>\n      <td>0.148</td>\n      <td>0.688</td>\n      <td>92.988</td>\n      <td>242587</td>\n      <td>4</td>\n      <td>41.51106</td>\n      <td>10</td>\n      <td>1</td>\n    </tr>\n    <tr>\n      <td>2</td>\n      <td>Clouds Of Dementia</td>\n      <td>Candlemass</td>\n      <td>spotify:track:6cHZf7RbxXCKwEkgAZT4mY</td>\n      <td>0.162</td>\n      <td>0.836</td>\n      <td>9</td>\n      <td>-3.009</td>\n      <td>1</td>\n      <td>0.0473</td>\n      <td>0.000111</td>\n      <td>0.00457</td>\n      <td>0.174</td>\n      <td>0.300</td>\n      <td>86.964</td>\n      <td>338893</td>\n      <td>4</td>\n      <td>65.32887</td>\n      <td>13</td>\n      <td>0</td>\n    </tr>\n    <tr>\n      <td>3</td>\n      <td>Heavy Metal, Raise Hell!</td>\n      <td>Zwartketterij</td>\n      <td>spotify:track:2IjBPp2vMeX7LggzRN3iSX</td>\n      <td>0.188</td>\n      <td>0.994</td>\n      <td>4</td>\n      <td>-3.745</td>\n      <td>1</td>\n      <td>0.1660</td>\n      <td>0.000007</td>\n      <td>0.07840</td>\n      <td>0.192</td>\n      <td>0.333</td>\n      <td>148.440</td>\n      <td>255667</td>\n      <td>4</td>\n      <td>58.59528</td>\n      <td>9</td>\n      <td>0</td>\n    </tr>\n    <tr>\n      <td>4</td>\n      <td>I Got A Feelin'</td>\n      <td>Billy Currington</td>\n      <td>spotify:track:1tF370eYXUcWwkIvaq3IGz</td>\n      <td>0.630</td>\n      <td>0.764</td>\n      <td>2</td>\n      <td>-4.353</td>\n      <td>1</td>\n      <td>0.0275</td>\n      <td>0.363000</td>\n      <td>0.00000</td>\n      <td>0.125</td>\n      <td>0.631</td>\n      <td>112.098</td>\n      <td>193760</td>\n      <td>4</td>\n      <td>22.62384</td>\n      <td>10</td>\n      <td>1</td>\n    </tr>\n  </tbody>\n</table>\n</div>"
     },
     "metadata": {},
     "execution_count": 3
    }
   ],
   "source": [
    "# Use glob to match the pattern ‘csv’\n",
    "extension = 'csv'\n",
    "all_filenames = [i for i in glob.glob('*.{}'.format(extension))]\n",
    "\n",
    "# Combine all files in the list and export as CSV\n",
    "df = pd.concat([pd.read_csv(f) for f in all_filenames ])\n",
    "df.reset_index(drop=True, inplace=True)\n",
    "df.head(5)"
   ]
  },
  {
   "cell_type": "code",
   "execution_count": 4,
   "metadata": {},
   "outputs": [],
   "source": [
    "df2 = df.drop(['track', 'artist', 'uri'], axis=1)"
   ]
  },
  {
   "cell_type": "code",
   "execution_count": 5,
   "metadata": {
    "tags": []
   },
   "outputs": [
    {
     "output_type": "stream",
     "name": "stdout",
     "text": "(41106, 16) (41106, 15) (41106,)\n"
    },
    {
     "output_type": "execute_result",
     "data": {
      "text/plain": "array([[ 0.578  ,  0.471  ,  4.     , ..., 30.88059, 13.     ,  1.     ],\n       [ 0.704  ,  0.854  , 10.     , ..., 41.51106, 10.     ,  1.     ],\n       [ 0.162  ,  0.836  ,  9.     , ..., 65.32887, 13.     ,  0.     ],\n       ...,\n       [ 0.562  ,  0.314  , 10.     , ..., 21.11763, 10.     ,  1.     ],\n       [ 0.622  ,  0.781  ,  7.     , ..., 47.13558, 11.     ,  0.     ],\n       [ 0.664  ,  0.739  ,  2.     , ..., 42.50341, 14.     ,  1.     ]])"
     },
     "metadata": {},
     "execution_count": 5
    }
   ],
   "source": [
    "# Reformat data\n",
    "data = df2.values\n",
    "X = data[:, 0:15]  \n",
    "y = data[:, 15]\n",
    "\n",
    "print(data.shape, X.shape, y.shape)\n",
    "data\n",
    "# X[0]\n",
    "# y"
   ]
  },
  {
   "cell_type": "code",
   "execution_count": 6,
   "metadata": {},
   "outputs": [],
   "source": [
    "from sklearn.model_selection import train_test_split\n",
    "\n",
    "X_train, X_test, y_train, y_test = train_test_split(X, y, random_state=10)"
   ]
  },
  {
   "cell_type": "markdown",
   "metadata": {},
   "source": [
    "## Data Preprocessing"
   ]
  },
  {
   "cell_type": "code",
   "execution_count": 7,
   "metadata": {},
   "outputs": [
    {
     "output_type": "execute_result",
     "data": {
      "text/plain": "array([[ 1.35315003, -0.22396167,  1.07008741, ...,  0.24964134,\n         0.64353579,  0.1078218 ],\n       [-0.03430522,  0.9971179 ,  1.07008741, ...,  0.24964134,\n         0.88344544, -0.71419692],\n       [-0.2599077 ,  0.34296813,  1.07008741, ...,  0.24964134,\n         0.72333873, -0.91970159],\n       ...,\n       [ 0.16873701, -0.838466  ,  1.07008741, ...,  0.24964134,\n         0.07947695,  1.13534519],\n       [-0.71111266, -1.65912662,  0.50456543, ...,  0.24964134,\n         0.66731336, -0.50869224],\n       [-1.39920022, -1.31024674,  1.07008741, ..., -2.13381886,\n        -0.45146094,  0.1078218 ]])"
     },
     "metadata": {},
     "execution_count": 7
    }
   ],
   "source": [
    "#Scale features (X)\n",
    "from sklearn.preprocessing import StandardScaler\n",
    "X_scaler = StandardScaler().fit(X_train)\n",
    "\n",
    "X_train_scaled = X_scaler.transform(X_train)\n",
    "X_test_scaled = X_scaler.transform(X_test) \n",
    "\n",
    "X_train_scaled"
   ]
  },
  {
   "cell_type": "markdown",
   "metadata": {},
   "source": [
    "One-hot encode the labels"
   ]
  },
  {
   "cell_type": "code",
   "execution_count": 8,
   "metadata": {},
   "outputs": [
    {
     "output_type": "execute_result",
     "data": {
      "text/plain": "array([[0., 1.],\n       [1., 0.],\n       [0., 1.],\n       ...,\n       [0., 1.],\n       [0., 1.],\n       [1., 0.]], dtype=float32)"
     },
     "metadata": {},
     "execution_count": 8
    }
   ],
   "source": [
    "#One-hot encode output labels (y)\n",
    "from tensorflow.keras.utils import to_categorical\n",
    "y_train_categorical = to_categorical(y_train)\n",
    "y_test_categorical = to_categorical(y_test)\n",
    "\n",
    "y_train_categorical"
   ]
  },
  {
   "cell_type": "markdown",
   "metadata": {},
   "source": [
    "## Creating and defining our Model Architecture"
   ]
  },
  {
   "cell_type": "code",
   "execution_count": 9,
   "metadata": {},
   "outputs": [],
   "source": [
    "#First create a sequential model\n",
    "from tensorflow.keras.models import Sequential\n",
    "\n",
    "model = Sequential() "
   ]
  },
  {
   "cell_type": "code",
   "execution_count": 10,
   "metadata": {},
   "outputs": [],
   "source": [
    "#For categorical data, we use a classifier model (Softmax)\n",
    "from tensorflow.keras.layers import Dense\n",
    "number_inputs = 15  \n",
    "number_hidden_nodes = 12\n",
    "\n",
    "#Create hidden layer\n",
    "model.add(Dense(units=number_hidden_nodes,activation='relu', input_dim=number_inputs))\n",
    "\n",
    "#Create output layer\n",
    "number_classes = 2\n",
    "model.add(Dense(units=number_classes, activation='softmax')) "
   ]
  },
  {
   "cell_type": "markdown",
   "metadata": {},
   "source": [
    "Number of Hidden Nodes:\n",
    "https://stats.stackexchange.com/questions/181/how-to-choose-the-number-of-hidden-layers-and-nodes-in-a-feedforward-neural-netw#:~:text=The%20number%20of%20hidden%20neurons,size%20of%20the%20input%20layer."
   ]
  },
  {
   "cell_type": "code",
   "execution_count": 11,
   "metadata": {
    "tags": []
   },
   "outputs": [
    {
     "output_type": "stream",
     "name": "stdout",
     "text": "Model: \"sequential\"\n_________________________________________________________________\nLayer (type)                 Output Shape              Param #   \n=================================================================\ndense (Dense)                (None, 12)                192       \n_________________________________________________________________\ndense_1 (Dense)              (None, 2)                 26        \n=================================================================\nTotal params: 218\nTrainable params: 218\nNon-trainable params: 0\n_________________________________________________________________\n"
    }
   ],
   "source": [
    "#Model Summary\n",
    "model.summary() "
   ]
  },
  {
   "cell_type": "code",
   "execution_count": 12,
   "metadata": {},
   "outputs": [],
   "source": [
    "#Compile the Model\n",
    "model.compile(optimizer='adam', loss='categorical_crossentropy', metrics=['accuracy'])"
   ]
  },
  {
   "cell_type": "markdown",
   "metadata": {},
   "source": [
    "## Training the Model"
   ]
  },
  {
   "cell_type": "code",
   "execution_count": 13,
   "metadata": {
    "tags": []
   },
   "outputs": [
    {
     "output_type": "stream",
     "name": "stdout",
     "text": "Epoch 1/150\n964/964 - 1s - loss: 0.5610 - accuracy: 0.7100\nEpoch 2/150\n964/964 - 1s - loss: 0.5110 - accuracy: 0.7468\nEpoch 3/150\n964/964 - 1s - loss: 0.4980 - accuracy: 0.7555\nEpoch 4/150\n964/964 - 1s - loss: 0.4902 - accuracy: 0.7598\nEpoch 5/150\n964/964 - 2s - loss: 0.4852 - accuracy: 0.7651\nEpoch 6/150\n964/964 - 1s - loss: 0.4823 - accuracy: 0.7676\nEpoch 7/150\n964/964 - 1s - loss: 0.4802 - accuracy: 0.7686\nEpoch 8/150\n964/964 - 1s - loss: 0.4786 - accuracy: 0.7693\nEpoch 9/150\n964/964 - 1s - loss: 0.4773 - accuracy: 0.7713\nEpoch 10/150\n964/964 - 1s - loss: 0.4767 - accuracy: 0.7721\nEpoch 11/150\n964/964 - 1s - loss: 0.4758 - accuracy: 0.7722\nEpoch 12/150\n964/964 - 1s - loss: 0.4752 - accuracy: 0.7720\nEpoch 13/150\n964/964 - 1s - loss: 0.4748 - accuracy: 0.7719\nEpoch 14/150\n964/964 - 1s - loss: 0.4742 - accuracy: 0.7734\nEpoch 15/150\n964/964 - 1s - loss: 0.4739 - accuracy: 0.7721\nEpoch 16/150\n964/964 - 1s - loss: 0.4731 - accuracy: 0.7717\nEpoch 17/150\n964/964 - 1s - loss: 0.4727 - accuracy: 0.7719\nEpoch 18/150\n964/964 - 1s - loss: 0.4725 - accuracy: 0.7733\nEpoch 19/150\n964/964 - 1s - loss: 0.4720 - accuracy: 0.7736\nEpoch 20/150\n964/964 - 2s - loss: 0.4716 - accuracy: 0.7743\nEpoch 21/150\n964/964 - 2s - loss: 0.4710 - accuracy: 0.7742\nEpoch 22/150\n964/964 - 1s - loss: 0.4706 - accuracy: 0.7745\nEpoch 23/150\n964/964 - 1s - loss: 0.4703 - accuracy: 0.7741\nEpoch 24/150\n964/964 - 1s - loss: 0.4703 - accuracy: 0.7741\nEpoch 25/150\n964/964 - 1s - loss: 0.4695 - accuracy: 0.7751\nEpoch 26/150\n964/964 - 1s - loss: 0.4695 - accuracy: 0.7752\nEpoch 27/150\n964/964 - 1s - loss: 0.4694 - accuracy: 0.7738\nEpoch 28/150\n964/964 - 1s - loss: 0.4690 - accuracy: 0.7753\nEpoch 29/150\n964/964 - 1s - loss: 0.4688 - accuracy: 0.7755\nEpoch 30/150\n964/964 - 1s - loss: 0.4685 - accuracy: 0.7759\nEpoch 31/150\n964/964 - 1s - loss: 0.4688 - accuracy: 0.7753\nEpoch 32/150\n964/964 - 1s - loss: 0.4685 - accuracy: 0.7758\nEpoch 33/150\n964/964 - 1s - loss: 0.4682 - accuracy: 0.7762\nEpoch 34/150\n964/964 - 1s - loss: 0.4684 - accuracy: 0.7758\nEpoch 35/150\n964/964 - 1s - loss: 0.4683 - accuracy: 0.7767\nEpoch 36/150\n964/964 - 1s - loss: 0.4677 - accuracy: 0.7764\nEpoch 37/150\n964/964 - 1s - loss: 0.4679 - accuracy: 0.7769\nEpoch 38/150\n964/964 - 1s - loss: 0.4681 - accuracy: 0.7758\nEpoch 39/150\n964/964 - 1s - loss: 0.4675 - accuracy: 0.7772\nEpoch 40/150\n964/964 - 1s - loss: 0.4675 - accuracy: 0.7767\nEpoch 41/150\n964/964 - 1s - loss: 0.4678 - accuracy: 0.7760\nEpoch 42/150\n964/964 - 1s - loss: 0.4675 - accuracy: 0.7771\nEpoch 43/150\n964/964 - 1s - loss: 0.4671 - accuracy: 0.7762\nEpoch 44/150\n964/964 - 1s - loss: 0.4673 - accuracy: 0.7761\nEpoch 45/150\n964/964 - 1s - loss: 0.4667 - accuracy: 0.7769\nEpoch 46/150\n964/964 - 1s - loss: 0.4670 - accuracy: 0.7759\nEpoch 47/150\n964/964 - 1s - loss: 0.4670 - accuracy: 0.7767\nEpoch 48/150\n964/964 - 1s - loss: 0.4667 - accuracy: 0.7770\nEpoch 49/150\n964/964 - 1s - loss: 0.4664 - accuracy: 0.7779\nEpoch 50/150\n964/964 - 1s - loss: 0.4666 - accuracy: 0.7760\nEpoch 51/150\n964/964 - 1s - loss: 0.4663 - accuracy: 0.7774\nEpoch 52/150\n964/964 - 1s - loss: 0.4664 - accuracy: 0.7766\nEpoch 53/150\n964/964 - 1s - loss: 0.4662 - accuracy: 0.7777\nEpoch 54/150\n964/964 - 1s - loss: 0.4663 - accuracy: 0.7776\nEpoch 55/150\n964/964 - 1s - loss: 0.4663 - accuracy: 0.7771\nEpoch 56/150\n964/964 - 1s - loss: 0.4661 - accuracy: 0.7765\nEpoch 57/150\n964/964 - 1s - loss: 0.4659 - accuracy: 0.7782\nEpoch 58/150\n964/964 - 1s - loss: 0.4658 - accuracy: 0.7786\nEpoch 59/150\n964/964 - 1s - loss: 0.4657 - accuracy: 0.7778\nEpoch 60/150\n964/964 - 1s - loss: 0.4656 - accuracy: 0.7778\nEpoch 61/150\n964/964 - 1s - loss: 0.4655 - accuracy: 0.7774\nEpoch 62/150\n964/964 - 1s - loss: 0.4656 - accuracy: 0.7769\nEpoch 63/150\n964/964 - 1s - loss: 0.4650 - accuracy: 0.7781\nEpoch 64/150\n964/964 - 1s - loss: 0.4653 - accuracy: 0.7786\nEpoch 65/150\n964/964 - 1s - loss: 0.4656 - accuracy: 0.7772\nEpoch 66/150\n964/964 - 1s - loss: 0.4653 - accuracy: 0.7775\nEpoch 67/150\n964/964 - 1s - loss: 0.4649 - accuracy: 0.7788\nEpoch 68/150\n964/964 - 1s - loss: 0.4650 - accuracy: 0.7775\nEpoch 69/150\n964/964 - 1s - loss: 0.4650 - accuracy: 0.7787\nEpoch 70/150\n964/964 - 1s - loss: 0.4650 - accuracy: 0.7778\nEpoch 71/150\n964/964 - 1s - loss: 0.4648 - accuracy: 0.7779\nEpoch 72/150\n964/964 - 1s - loss: 0.4644 - accuracy: 0.7789\nEpoch 73/150\n964/964 - 1s - loss: 0.4648 - accuracy: 0.7785\nEpoch 74/150\n964/964 - 1s - loss: 0.4647 - accuracy: 0.7794\nEpoch 75/150\n964/964 - 1s - loss: 0.4647 - accuracy: 0.7794\nEpoch 76/150\n964/964 - 1s - loss: 0.4646 - accuracy: 0.7779\nEpoch 77/150\n964/964 - 1s - loss: 0.4646 - accuracy: 0.7778\nEpoch 78/150\n964/964 - 1s - loss: 0.4644 - accuracy: 0.7773\nEpoch 79/150\n964/964 - 1s - loss: 0.4643 - accuracy: 0.7785\nEpoch 80/150\n964/964 - 1s - loss: 0.4644 - accuracy: 0.7777\nEpoch 81/150\n964/964 - 1s - loss: 0.4646 - accuracy: 0.7772\nEpoch 82/150\n964/964 - 1s - loss: 0.4643 - accuracy: 0.7779\nEpoch 83/150\n964/964 - 1s - loss: 0.4643 - accuracy: 0.7771\nEpoch 84/150\n964/964 - 1s - loss: 0.4642 - accuracy: 0.7786\nEpoch 85/150\n964/964 - 1s - loss: 0.4640 - accuracy: 0.7798\nEpoch 86/150\n964/964 - 1s - loss: 0.4644 - accuracy: 0.7776\nEpoch 87/150\n964/964 - 1s - loss: 0.4640 - accuracy: 0.7795\nEpoch 88/150\n964/964 - 1s - loss: 0.4639 - accuracy: 0.7782\nEpoch 89/150\n964/964 - 1s - loss: 0.4640 - accuracy: 0.7787\nEpoch 90/150\n964/964 - 1s - loss: 0.4638 - accuracy: 0.7779\nEpoch 91/150\n964/964 - 1s - loss: 0.4641 - accuracy: 0.7780\nEpoch 92/150\n964/964 - 1s - loss: 0.4639 - accuracy: 0.7776\nEpoch 93/150\n964/964 - 1s - loss: 0.4641 - accuracy: 0.7782\nEpoch 94/150\n964/964 - 1s - loss: 0.4640 - accuracy: 0.7780\nEpoch 95/150\n964/964 - 1s - loss: 0.4637 - accuracy: 0.7783\nEpoch 96/150\n964/964 - 1s - loss: 0.4636 - accuracy: 0.7780\nEpoch 97/150\n964/964 - 1s - loss: 0.4637 - accuracy: 0.7785\nEpoch 98/150\n964/964 - 1s - loss: 0.4636 - accuracy: 0.7786\nEpoch 99/150\n964/964 - 1s - loss: 0.4636 - accuracy: 0.7775\nEpoch 100/150\n964/964 - 1s - loss: 0.4632 - accuracy: 0.7789\nEpoch 101/150\n964/964 - 1s - loss: 0.4637 - accuracy: 0.7785\nEpoch 102/150\n964/964 - 1s - loss: 0.4636 - accuracy: 0.7781\nEpoch 103/150\n964/964 - 1s - loss: 0.4636 - accuracy: 0.7783\nEpoch 104/150\n964/964 - 1s - loss: 0.4637 - accuracy: 0.7788\nEpoch 105/150\n964/964 - 1s - loss: 0.4634 - accuracy: 0.7793\nEpoch 106/150\n964/964 - 1s - loss: 0.4636 - accuracy: 0.7782\nEpoch 107/150\n964/964 - 1s - loss: 0.4635 - accuracy: 0.7777\nEpoch 108/150\n964/964 - 1s - loss: 0.4633 - accuracy: 0.7778\nEpoch 109/150\n964/964 - 1s - loss: 0.4634 - accuracy: 0.7776\nEpoch 110/150\n964/964 - 1s - loss: 0.4634 - accuracy: 0.7786\nEpoch 111/150\n964/964 - 1s - loss: 0.4632 - accuracy: 0.7775\nEpoch 112/150\n964/964 - 1s - loss: 0.4633 - accuracy: 0.7799\nEpoch 113/150\n964/964 - 2s - loss: 0.4630 - accuracy: 0.7778\nEpoch 114/150\n964/964 - 2s - loss: 0.4633 - accuracy: 0.7788\nEpoch 115/150\n964/964 - 2s - loss: 0.4632 - accuracy: 0.7790\nEpoch 116/150\n964/964 - 1s - loss: 0.4631 - accuracy: 0.7782\nEpoch 117/150\n964/964 - 1s - loss: 0.4632 - accuracy: 0.7784\nEpoch 118/150\n964/964 - 1s - loss: 0.4632 - accuracy: 0.7782\nEpoch 119/150\n964/964 - 1s - loss: 0.4633 - accuracy: 0.7784\nEpoch 120/150\n964/964 - 1s - loss: 0.4631 - accuracy: 0.7791\nEpoch 121/150\n964/964 - 1s - loss: 0.4629 - accuracy: 0.7791\nEpoch 122/150\n964/964 - 1s - loss: 0.4633 - accuracy: 0.7774\nEpoch 123/150\n964/964 - 1s - loss: 0.4629 - accuracy: 0.7779\nEpoch 124/150\n964/964 - 1s - loss: 0.4631 - accuracy: 0.7783\nEpoch 125/150\n964/964 - 2s - loss: 0.4631 - accuracy: 0.7780\nEpoch 126/150\n964/964 - 2s - loss: 0.4629 - accuracy: 0.7790\nEpoch 127/150\n964/964 - 3s - loss: 0.4629 - accuracy: 0.7791\nEpoch 128/150\n964/964 - 2s - loss: 0.4631 - accuracy: 0.7780\nEpoch 129/150\n964/964 - 2s - loss: 0.4631 - accuracy: 0.7791\nEpoch 130/150\n964/964 - 2s - loss: 0.4629 - accuracy: 0.7782\nEpoch 131/150\n964/964 - 2s - loss: 0.4629 - accuracy: 0.7785\nEpoch 132/150\n964/964 - 2s - loss: 0.4629 - accuracy: 0.7788\nEpoch 133/150\n964/964 - 2s - loss: 0.4627 - accuracy: 0.7781\nEpoch 134/150\n964/964 - 2s - loss: 0.4630 - accuracy: 0.7784\nEpoch 135/150\n964/964 - 2s - loss: 0.4628 - accuracy: 0.7780\nEpoch 136/150\n964/964 - 2s - loss: 0.4627 - accuracy: 0.7787\nEpoch 137/150\n964/964 - 3s - loss: 0.4629 - accuracy: 0.7777\nEpoch 138/150\n964/964 - 2s - loss: 0.4630 - accuracy: 0.7785\nEpoch 139/150\n964/964 - 2s - loss: 0.4629 - accuracy: 0.7795\nEpoch 140/150\n964/964 - 1s - loss: 0.4627 - accuracy: 0.7782\nEpoch 141/150\n964/964 - 1s - loss: 0.4628 - accuracy: 0.7782\nEpoch 142/150\n964/964 - 1s - loss: 0.4627 - accuracy: 0.7788\nEpoch 143/150\n964/964 - 2s - loss: 0.4628 - accuracy: 0.7789\nEpoch 144/150\n964/964 - 1s - loss: 0.4628 - accuracy: 0.7787\nEpoch 145/150\n964/964 - 1s - loss: 0.4628 - accuracy: 0.7793\nEpoch 146/150\n964/964 - 1s - loss: 0.4629 - accuracy: 0.7789\nEpoch 147/150\n964/964 - 3s - loss: 0.4628 - accuracy: 0.7783\nEpoch 148/150\n964/964 - 2s - loss: 0.4626 - accuracy: 0.7775\nEpoch 149/150\n964/964 - 3s - loss: 0.4626 - accuracy: 0.7786\nEpoch 150/150\n964/964 - 2s - loss: 0.4628 - accuracy: 0.7793\n"
    },
    {
     "output_type": "execute_result",
     "data": {
      "text/plain": "<tensorflow.python.keras.callbacks.History at 0x1b059008488>"
     },
     "metadata": {},
     "execution_count": 13
    }
   ],
   "source": [
    "#Training the Model\n",
    "model.fit(X_train_scaled,y_train_categorical,epochs=150, shuffle=True, verbose=2)"
   ]
  },
  {
   "cell_type": "markdown",
   "metadata": {},
   "source": [
    "## Validation of the Model"
   ]
  },
  {
   "cell_type": "code",
   "execution_count": 14,
   "metadata": {
    "tags": []
   },
   "outputs": [
    {
     "output_type": "stream",
     "name": "stdout",
     "text": "322/322 - 0s - loss: 0.4670 - accuracy: 0.7788\nLoss: 0.46696773171424866, Accuracy: 0.7788265347480774\n"
    }
   ],
   "source": [
    "#Evaluate the Model using the testing data\n",
    "model_loss, model_accuracy = model.evaluate(X_test_scaled, y_test_categorical, verbose=2)\n",
    "    \n",
    "print(f\"Loss: {model_loss}, Accuracy: {model_accuracy}\")"
   ]
  },
  {
   "cell_type": "markdown",
   "metadata": {},
   "source": [
    "## Saving the Trained Model"
   ]
  },
  {
   "cell_type": "code",
   "execution_count": 15,
   "metadata": {},
   "outputs": [],
   "source": [
    "# # Save the model\n",
    "model.save(\"spotify_model.h5\")"
   ]
  }
 ],
 "metadata": {
  "language_info": {
   "codemirror_mode": {
    "name": "ipython",
    "version": 3
   },
   "file_extension": ".py",
   "mimetype": "text/x-python",
   "name": "python",
   "nbconvert_exporter": "python",
   "pygments_lexer": "ipython3",
   "version": "3.7.4-final"
  },
  "orig_nbformat": 2,
  "kernelspec": {
   "name": "python37464bitbaseconda621df6d49d2c4311a89d7503a44084b1",
   "display_name": "Python 3.7.4 64-bit ('base': conda)"
  }
 },
 "nbformat": 4,
 "nbformat_minor": 2
}
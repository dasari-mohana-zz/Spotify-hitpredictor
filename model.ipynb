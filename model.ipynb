{
 "cells": [
  {
   "cell_type": "code",
   "execution_count": 1,
   "metadata": {},
   "outputs": [],
   "source": [
    "import os\n",
    "import glob\n",
    "import pandas as pd\n",
    "\n",
    "import numpy as np\n"
   ]
  },
  {
   "cell_type": "code",
   "execution_count": 2,
   "metadata": {},
   "outputs": [],
   "source": [
    "# Define working directory\n",
    "os.chdir(r\"C:\\Users\\hguzm\\Documents\\000. Personal\\Bootcamp\\Proyectos\\FinalProject-Spotify\\Original_data\")"
   ]
  },
  {
   "cell_type": "code",
   "execution_count": 3,
   "metadata": {},
   "outputs": [
    {
     "output_type": "execute_result",
     "data": {
      "text/plain": "                      track             artist  \\\n0                 Lucky Man  Montgomery Gentry   \n1            On The Hotline       Pretty Ricky   \n2        Clouds Of Dementia         Candlemass   \n3  Heavy Metal, Raise Hell!      Zwartketterij   \n4           I Got A Feelin'   Billy Currington   \n\n                                    uri  danceability  energy  key  loudness  \\\n0  spotify:track:4GiXBCUF7H6YfNQsnBRIzl         0.578   0.471    4    -7.270   \n1  spotify:track:1zyqZONW985Cs4osz9wlsu         0.704   0.854   10    -5.477   \n2  spotify:track:6cHZf7RbxXCKwEkgAZT4mY         0.162   0.836    9    -3.009   \n3  spotify:track:2IjBPp2vMeX7LggzRN3iSX         0.188   0.994    4    -3.745   \n4  spotify:track:1tF370eYXUcWwkIvaq3IGz         0.630   0.764    2    -4.353   \n\n   mode  speechiness  acousticness  instrumentalness  liveness  valence  \\\n0     1       0.0289      0.368000           0.00000     0.159    0.532   \n1     0       0.1830      0.018500           0.00000     0.148    0.688   \n2     1       0.0473      0.000111           0.00457     0.174    0.300   \n3     1       0.1660      0.000007           0.07840     0.192    0.333   \n4     1       0.0275      0.363000           0.00000     0.125    0.631   \n\n     tempo  duration_ms  time_signature  chorus_hit  sections  target  \n0  133.061       196707               4    30.88059        13       1  \n1   92.988       242587               4    41.51106        10       1  \n2   86.964       338893               4    65.32887        13       0  \n3  148.440       255667               4    58.59528         9       0  \n4  112.098       193760               4    22.62384        10       1  ",
      "text/html": "<div>\n<style scoped>\n    .dataframe tbody tr th:only-of-type {\n        vertical-align: middle;\n    }\n\n    .dataframe tbody tr th {\n        vertical-align: top;\n    }\n\n    .dataframe thead th {\n        text-align: right;\n    }\n</style>\n<table border=\"1\" class=\"dataframe\">\n  <thead>\n    <tr style=\"text-align: right;\">\n      <th></th>\n      <th>track</th>\n      <th>artist</th>\n      <th>uri</th>\n      <th>danceability</th>\n      <th>energy</th>\n      <th>key</th>\n      <th>loudness</th>\n      <th>mode</th>\n      <th>speechiness</th>\n      <th>acousticness</th>\n      <th>instrumentalness</th>\n      <th>liveness</th>\n      <th>valence</th>\n      <th>tempo</th>\n      <th>duration_ms</th>\n      <th>time_signature</th>\n      <th>chorus_hit</th>\n      <th>sections</th>\n      <th>target</th>\n    </tr>\n  </thead>\n  <tbody>\n    <tr>\n      <td>0</td>\n      <td>Lucky Man</td>\n      <td>Montgomery Gentry</td>\n      <td>spotify:track:4GiXBCUF7H6YfNQsnBRIzl</td>\n      <td>0.578</td>\n      <td>0.471</td>\n      <td>4</td>\n      <td>-7.270</td>\n      <td>1</td>\n      <td>0.0289</td>\n      <td>0.368000</td>\n      <td>0.00000</td>\n      <td>0.159</td>\n      <td>0.532</td>\n      <td>133.061</td>\n      <td>196707</td>\n      <td>4</td>\n      <td>30.88059</td>\n      <td>13</td>\n      <td>1</td>\n    </tr>\n    <tr>\n      <td>1</td>\n      <td>On The Hotline</td>\n      <td>Pretty Ricky</td>\n      <td>spotify:track:1zyqZONW985Cs4osz9wlsu</td>\n      <td>0.704</td>\n      <td>0.854</td>\n      <td>10</td>\n      <td>-5.477</td>\n      <td>0</td>\n      <td>0.1830</td>\n      <td>0.018500</td>\n      <td>0.00000</td>\n      <td>0.148</td>\n      <td>0.688</td>\n      <td>92.988</td>\n      <td>242587</td>\n      <td>4</td>\n      <td>41.51106</td>\n      <td>10</td>\n      <td>1</td>\n    </tr>\n    <tr>\n      <td>2</td>\n      <td>Clouds Of Dementia</td>\n      <td>Candlemass</td>\n      <td>spotify:track:6cHZf7RbxXCKwEkgAZT4mY</td>\n      <td>0.162</td>\n      <td>0.836</td>\n      <td>9</td>\n      <td>-3.009</td>\n      <td>1</td>\n      <td>0.0473</td>\n      <td>0.000111</td>\n      <td>0.00457</td>\n      <td>0.174</td>\n      <td>0.300</td>\n      <td>86.964</td>\n      <td>338893</td>\n      <td>4</td>\n      <td>65.32887</td>\n      <td>13</td>\n      <td>0</td>\n    </tr>\n    <tr>\n      <td>3</td>\n      <td>Heavy Metal, Raise Hell!</td>\n      <td>Zwartketterij</td>\n      <td>spotify:track:2IjBPp2vMeX7LggzRN3iSX</td>\n      <td>0.188</td>\n      <td>0.994</td>\n      <td>4</td>\n      <td>-3.745</td>\n      <td>1</td>\n      <td>0.1660</td>\n      <td>0.000007</td>\n      <td>0.07840</td>\n      <td>0.192</td>\n      <td>0.333</td>\n      <td>148.440</td>\n      <td>255667</td>\n      <td>4</td>\n      <td>58.59528</td>\n      <td>9</td>\n      <td>0</td>\n    </tr>\n    <tr>\n      <td>4</td>\n      <td>I Got A Feelin'</td>\n      <td>Billy Currington</td>\n      <td>spotify:track:1tF370eYXUcWwkIvaq3IGz</td>\n      <td>0.630</td>\n      <td>0.764</td>\n      <td>2</td>\n      <td>-4.353</td>\n      <td>1</td>\n      <td>0.0275</td>\n      <td>0.363000</td>\n      <td>0.00000</td>\n      <td>0.125</td>\n      <td>0.631</td>\n      <td>112.098</td>\n      <td>193760</td>\n      <td>4</td>\n      <td>22.62384</td>\n      <td>10</td>\n      <td>1</td>\n    </tr>\n  </tbody>\n</table>\n</div>"
     },
     "metadata": {},
     "execution_count": 3
    }
   ],
   "source": [
    "# Use glob to match the pattern ‘csv’\n",
    "extension = 'csv'\n",
    "all_filenames = [i for i in glob.glob('*.{}'.format(extension))]\n",
    "\n",
    "# Combine all files in the list and export as CSV\n",
    "df = pd.concat([pd.read_csv(f) for f in all_filenames ])\n",
    "df.reset_index(drop=True, inplace=True)\n",
    "df.head(5)"
   ]
  },
  {
   "cell_type": "code",
   "execution_count": 4,
   "metadata": {},
   "outputs": [],
   "source": [
    "df2 = df.drop(['track', 'artist', 'uri'], axis=1)"
   ]
  },
  {
   "cell_type": "code",
   "execution_count": 5,
   "metadata": {
    "tags": []
   },
   "outputs": [
    {
     "output_type": "stream",
     "name": "stdout",
     "text": "(82212, 16) (82212, 15) (82212,)\n"
    },
    {
     "output_type": "execute_result",
     "data": {
      "text/plain": "array([[ 0.578  ,  0.471  ,  4.     , ..., 30.88059, 13.     ,  1.     ],\n       [ 0.704  ,  0.854  , 10.     , ..., 41.51106, 10.     ,  1.     ],\n       [ 0.162  ,  0.836  ,  9.     , ..., 65.32887, 13.     ,  0.     ],\n       ...,\n       [ 0.562  ,  0.314  , 10.     , ..., 21.11763, 10.     ,  1.     ],\n       [ 0.622  ,  0.781  ,  7.     , ..., 47.13558, 11.     ,  0.     ],\n       [ 0.664  ,  0.739  ,  2.     , ..., 42.50341, 14.     ,  1.     ]])"
     },
     "metadata": {},
     "execution_count": 5
    }
   ],
   "source": [
    "# Reformat data\n",
    "data = df2.values\n",
    "X = data[:, 0:15]  \n",
    "y = data[:, 15]\n",
    "\n",
    "print(data.shape, X.shape, y.shape)\n",
    "data\n",
    "# X[0]\n",
    "# y"
   ]
  },
  {
   "cell_type": "code",
   "execution_count": 6,
   "metadata": {},
   "outputs": [],
   "source": [
    "from sklearn.model_selection import train_test_split\n",
    "\n",
    "X_train, X_test, y_train, y_test = train_test_split(X, y, random_state=10)"
   ]
  },
  {
   "cell_type": "markdown",
   "metadata": {},
   "source": [
    "## Data Preprocessing"
   ]
  },
  {
   "cell_type": "code",
   "execution_count": 7,
   "metadata": {},
   "outputs": [
    {
     "output_type": "execute_result",
     "data": {
      "text/plain": "array([[ 1.11675571,  1.47393466, -0.34419961, ...,  0.25028026,\n         0.49154845,  0.10976909],\n       [ 0.64960065,  1.62443222, -0.34419961, ...,  0.25028026,\n        -0.55212739, -0.10094205],\n       [-0.172142  , -2.08374864,  0.50491301, ...,  0.25028026,\n         1.34035266, -0.31165319],\n       ...,\n       [-1.77622867,  0.38480752, -0.91027469, ..., -2.12023134,\n        -0.72978389,  1.79545823],\n       [ 0.37381031,  1.06204657,  1.63706317, ...,  0.25028026,\n        -0.91922348,  0.74190252],\n       [-0.14400013,  1.5848276 , -0.06116207, ...,  0.25028026,\n        -0.73593189,  0.74190252]])"
     },
     "metadata": {},
     "execution_count": 7
    }
   ],
   "source": [
    "#Scale features (X)\n",
    "from sklearn.preprocessing import StandardScaler\n",
    "X_scaler = StandardScaler().fit(X_train)\n",
    "\n",
    "X_train_scaled = X_scaler.transform(X_train)\n",
    "X_test_scaled = X_scaler.transform(X_test) \n",
    "\n",
    "X_train_scaled"
   ]
  },
  {
   "cell_type": "markdown",
   "metadata": {},
   "source": [
    "One-hot encode the labels"
   ]
  },
  {
   "cell_type": "code",
   "execution_count": 8,
   "metadata": {},
   "outputs": [
    {
     "output_type": "execute_result",
     "data": {
      "text/plain": "array([[0., 1.],\n       [0., 1.],\n       [1., 0.],\n       ...,\n       [1., 0.],\n       [0., 1.],\n       [1., 0.]], dtype=float32)"
     },
     "metadata": {},
     "execution_count": 8
    }
   ],
   "source": [
    "#One-hot encode output labels (y)\n",
    "from tensorflow.keras.utils import to_categorical\n",
    "y_train_categorical = to_categorical(y_train)\n",
    "y_test_categorical = to_categorical(y_test)\n",
    "\n",
    "y_train_categorical"
   ]
  },
  {
   "cell_type": "markdown",
   "metadata": {},
   "source": [
    "## Creating and defining our Model Architecture"
   ]
  },
  {
   "cell_type": "code",
   "execution_count": 9,
   "metadata": {},
   "outputs": [],
   "source": [
    "#First create a sequential model\n",
    "from tensorflow.keras.models import Sequential\n",
    "\n",
    "model = Sequential() "
   ]
  },
  {
   "cell_type": "code",
   "execution_count": 10,
   "metadata": {},
   "outputs": [],
   "source": [
    "#For categorical data, we use a classifier model (Softmax)\n",
    "from tensorflow.keras.layers import Dense\n",
    "number_inputs = 15  \n",
    "number_hidden_nodes = 12\n",
    "\n",
    "#Create hidden layer\n",
    "model.add(Dense(units=number_hidden_nodes,activation='relu', input_dim=number_inputs))\n",
    "\n",
    "#Create output layer\n",
    "number_classes = 2\n",
    "model.add(Dense(units=number_classes, activation='softmax')) "
   ]
  },
  {
   "cell_type": "markdown",
   "metadata": {},
   "source": [
    "Number of Hidden Nodes:\n",
    "https://stats.stackexchange.com/questions/181/how-to-choose-the-number-of-hidden-layers-and-nodes-in-a-feedforward-neural-netw#:~:text=The%20number%20of%20hidden%20neurons,size%20of%20the%20input%20layer."
   ]
  },
  {
   "cell_type": "code",
   "execution_count": 11,
   "metadata": {
    "tags": []
   },
   "outputs": [
    {
     "output_type": "stream",
     "name": "stdout",
     "text": "Model: \"sequential\"\n_________________________________________________________________\nLayer (type)                 Output Shape              Param #   \n=================================================================\ndense (Dense)                (None, 12)                192       \n_________________________________________________________________\ndense_1 (Dense)              (None, 2)                 26        \n=================================================================\nTotal params: 218\nTrainable params: 218\nNon-trainable params: 0\n_________________________________________________________________\n"
    }
   ],
   "source": [
    "#Model Summary\n",
    "model.summary() "
   ]
  },
  {
   "cell_type": "code",
   "execution_count": 12,
   "metadata": {},
   "outputs": [],
   "source": [
    "#Compile the Model\n",
    "model.compile(optimizer='adam', loss='categorical_crossentropy', metrics=['accuracy'])"
   ]
  },
  {
   "cell_type": "markdown",
   "metadata": {},
   "source": [
    "## Training the Model"
   ]
  },
  {
   "cell_type": "code",
   "execution_count": 13,
   "metadata": {
    "tags": []
   },
   "outputs": [
    {
     "output_type": "stream",
     "name": "stdout",
     "text": "Epoch 1/100\n1927/1927 - 3s - loss: 0.5346 - accuracy: 0.7261\nEpoch 2/100\n1927/1927 - 3s - loss: 0.4913 - accuracy: 0.7613\nEpoch 3/100\n1927/1927 - 3s - loss: 0.4824 - accuracy: 0.7684\nEpoch 4/100\n1927/1927 - 3s - loss: 0.4777 - accuracy: 0.7707\nEpoch 5/100\n1927/1927 - 3s - loss: 0.4755 - accuracy: 0.7723\nEpoch 6/100\n1927/1927 - 3s - loss: 0.4736 - accuracy: 0.7745\nEpoch 7/100\n1927/1927 - 3s - loss: 0.4724 - accuracy: 0.7753\nEpoch 8/100\n1927/1927 - 3s - loss: 0.4714 - accuracy: 0.7746\nEpoch 9/100\n1927/1927 - 3s - loss: 0.4707 - accuracy: 0.7762\nEpoch 10/100\n1927/1927 - 3s - loss: 0.4698 - accuracy: 0.7762\nEpoch 11/100\n1927/1927 - 3s - loss: 0.4690 - accuracy: 0.7774\nEpoch 12/100\n1927/1927 - 2s - loss: 0.4686 - accuracy: 0.7771\nEpoch 13/100\n1927/1927 - 3s - loss: 0.4683 - accuracy: 0.7775\nEpoch 14/100\n1927/1927 - 2s - loss: 0.4677 - accuracy: 0.7768\nEpoch 15/100\n1927/1927 - 3s - loss: 0.4672 - accuracy: 0.7780\nEpoch 16/100\n1927/1927 - 3s - loss: 0.4668 - accuracy: 0.7773\nEpoch 17/100\n1927/1927 - 3s - loss: 0.4665 - accuracy: 0.7776\nEpoch 18/100\n1927/1927 - 3s - loss: 0.4662 - accuracy: 0.7779\nEpoch 19/100\n1927/1927 - 3s - loss: 0.4661 - accuracy: 0.7782\nEpoch 20/100\n1927/1927 - 3s - loss: 0.4660 - accuracy: 0.7782\nEpoch 21/100\n1927/1927 - 3s - loss: 0.4655 - accuracy: 0.7788\nEpoch 22/100\n1927/1927 - 2s - loss: 0.4656 - accuracy: 0.7779\nEpoch 23/100\n1927/1927 - 3s - loss: 0.4651 - accuracy: 0.7786\nEpoch 24/100\n1927/1927 - 2s - loss: 0.4650 - accuracy: 0.7789\nEpoch 25/100\n1927/1927 - 3s - loss: 0.4648 - accuracy: 0.7795\nEpoch 26/100\n1927/1927 - 3s - loss: 0.4644 - accuracy: 0.7784\nEpoch 27/100\n1927/1927 - 3s - loss: 0.4646 - accuracy: 0.7795\nEpoch 28/100\n1927/1927 - 2s - loss: 0.4646 - accuracy: 0.7792\nEpoch 29/100\n1927/1927 - 3s - loss: 0.4642 - accuracy: 0.7796\nEpoch 30/100\n1927/1927 - 2s - loss: 0.4640 - accuracy: 0.7801\nEpoch 31/100\n1927/1927 - 3s - loss: 0.4639 - accuracy: 0.7794\nEpoch 32/100\n1927/1927 - 2s - loss: 0.4637 - accuracy: 0.7793\nEpoch 33/100\n1927/1927 - 3s - loss: 0.4637 - accuracy: 0.7789\nEpoch 34/100\n1927/1927 - 3s - loss: 0.4634 - accuracy: 0.7798\nEpoch 35/100\n1927/1927 - 3s - loss: 0.4633 - accuracy: 0.7790\nEpoch 36/100\n1927/1927 - 3s - loss: 0.4629 - accuracy: 0.7792\nEpoch 37/100\n1927/1927 - 3s - loss: 0.4627 - accuracy: 0.7802\nEpoch 38/100\n1927/1927 - 3s - loss: 0.4628 - accuracy: 0.7796\nEpoch 39/100\n1927/1927 - 3s - loss: 0.4625 - accuracy: 0.7806\nEpoch 40/100\n1927/1927 - 3s - loss: 0.4622 - accuracy: 0.7800\nEpoch 41/100\n1927/1927 - 3s - loss: 0.4620 - accuracy: 0.7799\nEpoch 42/100\n1927/1927 - 3s - loss: 0.4621 - accuracy: 0.7799\nEpoch 43/100\n1927/1927 - 3s - loss: 0.4617 - accuracy: 0.7813\nEpoch 44/100\n1927/1927 - 3s - loss: 0.4617 - accuracy: 0.7800\nEpoch 45/100\n1927/1927 - 3s - loss: 0.4617 - accuracy: 0.7808\nEpoch 46/100\n1927/1927 - 3s - loss: 0.4615 - accuracy: 0.7803\nEpoch 47/100\n1927/1927 - 3s - loss: 0.4614 - accuracy: 0.7797\nEpoch 48/100\n1927/1927 - 3s - loss: 0.4614 - accuracy: 0.7799\nEpoch 49/100\n1927/1927 - 3s - loss: 0.4612 - accuracy: 0.7796\nEpoch 50/100\n1927/1927 - 3s - loss: 0.4614 - accuracy: 0.7804\nEpoch 51/100\n1927/1927 - 3s - loss: 0.4612 - accuracy: 0.7797\nEpoch 52/100\n1927/1927 - 3s - loss: 0.4610 - accuracy: 0.7810\nEpoch 53/100\n1927/1927 - 3s - loss: 0.4610 - accuracy: 0.7809\nEpoch 54/100\n1927/1927 - 3s - loss: 0.4611 - accuracy: 0.7801\nEpoch 55/100\n1927/1927 - 3s - loss: 0.4607 - accuracy: 0.7808\nEpoch 56/100\n1927/1927 - 3s - loss: 0.4609 - accuracy: 0.7807\nEpoch 57/100\n1927/1927 - 3s - loss: 0.4607 - accuracy: 0.7804\nEpoch 58/100\n1927/1927 - 3s - loss: 0.4606 - accuracy: 0.7800\nEpoch 59/100\n1927/1927 - 2s - loss: 0.4605 - accuracy: 0.7811\nEpoch 60/100\n1927/1927 - 3s - loss: 0.4605 - accuracy: 0.7803\nEpoch 61/100\n1927/1927 - 2s - loss: 0.4603 - accuracy: 0.7811\nEpoch 62/100\n1927/1927 - 3s - loss: 0.4602 - accuracy: 0.7797\nEpoch 63/100\n1927/1927 - 2s - loss: 0.4601 - accuracy: 0.7816\nEpoch 64/100\n1927/1927 - 3s - loss: 0.4602 - accuracy: 0.7806\nEpoch 65/100\n1927/1927 - 3s - loss: 0.4599 - accuracy: 0.7803\nEpoch 66/100\n1927/1927 - 3s - loss: 0.4600 - accuracy: 0.7809\nEpoch 67/100\n1927/1927 - 3s - loss: 0.4595 - accuracy: 0.7803\nEpoch 68/100\n1927/1927 - 3s - loss: 0.4596 - accuracy: 0.7811\nEpoch 69/100\n1927/1927 - 3s - loss: 0.4597 - accuracy: 0.7815\nEpoch 70/100\n1927/1927 - 3s - loss: 0.4596 - accuracy: 0.7804\nEpoch 71/100\n1927/1927 - 3s - loss: 0.4595 - accuracy: 0.7813\nEpoch 72/100\n1927/1927 - 3s - loss: 0.4593 - accuracy: 0.7809\nEpoch 73/100\n1927/1927 - 3s - loss: 0.4592 - accuracy: 0.7813\nEpoch 74/100\n1927/1927 - 3s - loss: 0.4592 - accuracy: 0.7807\nEpoch 75/100\n1927/1927 - 2s - loss: 0.4592 - accuracy: 0.7805\nEpoch 76/100\n1927/1927 - 3s - loss: 0.4592 - accuracy: 0.7810\nEpoch 77/100\n1927/1927 - 3s - loss: 0.4589 - accuracy: 0.7818\nEpoch 78/100\n1927/1927 - 3s - loss: 0.4589 - accuracy: 0.7817\nEpoch 79/100\n1927/1927 - 3s - loss: 0.4589 - accuracy: 0.7814\nEpoch 80/100\n1927/1927 - 3s - loss: 0.4586 - accuracy: 0.7823\nEpoch 81/100\n1927/1927 - 2s - loss: 0.4585 - accuracy: 0.7817\nEpoch 82/100\n1927/1927 - 3s - loss: 0.4585 - accuracy: 0.7818\nEpoch 83/100\n1927/1927 - 2s - loss: 0.4584 - accuracy: 0.7814\nEpoch 84/100\n1927/1927 - 3s - loss: 0.4583 - accuracy: 0.7821\nEpoch 85/100\n1927/1927 - 2s - loss: 0.4581 - accuracy: 0.7814\nEpoch 86/100\n1927/1927 - 3s - loss: 0.4583 - accuracy: 0.7825\nEpoch 87/100\n1927/1927 - 3s - loss: 0.4580 - accuracy: 0.7821\nEpoch 88/100\n1927/1927 - 3s - loss: 0.4583 - accuracy: 0.7820\nEpoch 89/100\n1927/1927 - 3s - loss: 0.4581 - accuracy: 0.7818\nEpoch 90/100\n1927/1927 - 3s - loss: 0.4580 - accuracy: 0.7820\nEpoch 91/100\n1927/1927 - 2s - loss: 0.4579 - accuracy: 0.7816\nEpoch 92/100\n1927/1927 - 3s - loss: 0.4580 - accuracy: 0.7824\nEpoch 93/100\n1927/1927 - 3s - loss: 0.4579 - accuracy: 0.7820\nEpoch 94/100\n1927/1927 - 3s - loss: 0.4579 - accuracy: 0.7831\nEpoch 95/100\n1927/1927 - 2s - loss: 0.4579 - accuracy: 0.7817\nEpoch 96/100\n1927/1927 - 3s - loss: 0.4580 - accuracy: 0.7821\nEpoch 97/100\n1927/1927 - 3s - loss: 0.4581 - accuracy: 0.7813\nEpoch 98/100\n1927/1927 - 3s - loss: 0.4577 - accuracy: 0.7823\nEpoch 99/100\n1927/1927 - 3s - loss: 0.4576 - accuracy: 0.7825\nEpoch 100/100\n1927/1927 - 3s - loss: 0.4577 - accuracy: 0.7813\n"
    },
    {
     "output_type": "execute_result",
     "data": {
      "text/plain": "<tensorflow.python.keras.callbacks.History at 0x1527633af88>"
     },
     "metadata": {},
     "execution_count": 13
    }
   ],
   "source": [
    "#Training the Model\n",
    "model.fit(X_train_scaled,y_train_categorical,epochs=100, shuffle=True, verbose=2)"
   ]
  },
  {
   "cell_type": "markdown",
   "metadata": {},
   "source": [
    "## Validation of the Model"
   ]
  },
  {
   "cell_type": "code",
   "execution_count": 14,
   "metadata": {
    "tags": []
   },
   "outputs": [
    {
     "output_type": "stream",
     "name": "stdout",
     "text": "643/643 - 1s - loss: 0.4600 - accuracy: 0.7818\nLoss: 0.4599531888961792, Accuracy: 0.7817836999893188\n"
    }
   ],
   "source": [
    "#Evaluate the Model using the testing data\n",
    "model_loss, model_accuracy = model.evaluate(X_test_scaled, y_test_categorical, verbose=2)\n",
    "    \n",
    "print(f\"Loss: {model_loss}, Accuracy: {model_accuracy}\")"
   ]
  },
  {
   "cell_type": "code",
   "execution_count": 15,
   "metadata": {
    "tags": []
   },
   "outputs": [
    {
     "output_type": "stream",
     "name": "stdout",
     "text": "WARNING:tensorflow:From <ipython-input-15-b1e4bd7b0554>:2: Sequential.predict_classes (from tensorflow.python.keras.engine.sequential) is deprecated and will be removed after 2021-01-01.\nInstructions for updating:\nPlease use instead:* `np.argmax(model.predict(x), axis=-1)`,   if your model does multi-class classification   (e.g. if it uses a `softmax` last-layer activation).* `(model.predict(x) > 0.5).astype(\"int32\")`,   if your model does binary classification   (e.g. if it uses a `sigmoid` last-layer activation).\nPredicted classes: [0 1 1 0 0]\nActual Labels: [1.0, 1.0, 1.0, 0.0, 1.0]\n"
    }
   ],
   "source": [
    "#Make Predictions\n",
    "encoded_predictions = model.predict_classes(X_test_scaled[:5])\n",
    "print(f\"Predicted classes: {encoded_predictions}\")\n",
    "print(f\"Actual Labels: {list(y_test[:5])}\")"
   ]
  },
  {
   "cell_type": "markdown",
   "metadata": {},
   "source": [
    "## Saving the Trained Model"
   ]
  },
  {
   "cell_type": "code",
   "execution_count": 16,
   "metadata": {},
   "outputs": [],
   "source": [
    "# # Save the model\n",
    "# Define working directory\n",
    "os.chdir(r\"C:\\Users\\hguzm\\Documents\\000. Personal\\Bootcamp\\Proyectos\\FinalProject-Spotify\")\n",
    "model.save(\"spotify_model.h5\")"
   ]
  },
  {
   "cell_type": "markdown",
   "metadata": {},
   "source": [
    "## Loading a Model"
   ]
  },
  {
   "cell_type": "code",
   "execution_count": 17,
   "metadata": {},
   "outputs": [],
   "source": [
    "# Load the model  \n",
    "from tensorflow.keras.models import load_model\n",
    "# Define working directory\n",
    "os.chdir(r\"C:\\Users\\hguzm\\Documents\\000. Personal\\Bootcamp\\Proyectos\\FinalProject-Spotify\")\n",
    "model = load_model(\"spotify_model.h5\")"
   ]
  },
  {
   "cell_type": "code",
   "execution_count": 18,
   "metadata": {
    "tags": []
   },
   "outputs": [
    {
     "output_type": "stream",
     "name": "stdout",
     "text": "Model: \"sequential\"\n_________________________________________________________________\nLayer (type)                 Output Shape              Param #   \n=================================================================\ndense (Dense)                (None, 12)                192       \n_________________________________________________________________\ndense_1 (Dense)              (None, 2)                 26        \n=================================================================\nTotal params: 218\nTrainable params: 218\nNon-trainable params: 0\n_________________________________________________________________\n"
    }
   ],
   "source": [
    "model.summary()"
   ]
  },
  {
   "cell_type": "code",
   "execution_count": 19,
   "metadata": {
    "tags": []
   },
   "outputs": [
    {
     "output_type": "stream",
     "name": "stdout",
     "text": "643/643 - 1s - loss: 0.4600 - accuracy: 0.7818\nLoss: 0.4599531888961792, Accuracy: 0.7817836999893188\n"
    }
   ],
   "source": [
    "#Evaluate the Model using the testing data\n",
    "model_loss, model_accuracy = model.evaluate(X_test_scaled, y_test_categorical, verbose=2)\n",
    "    \n",
    "print(f\"Loss: {model_loss}, Accuracy: {model_accuracy}\")"
   ]
  },
  {
   "cell_type": "markdown",
   "metadata": {},
   "source": [
    "## Deep Learning"
   ]
  },
  {
   "cell_type": "code",
   "execution_count": 20,
   "metadata": {},
   "outputs": [],
   "source": [
    "from tensorflow.keras.models import Sequential\n",
    "from tensorflow.keras.layers import Dense\n",
    "\n",
    "deep_model = Sequential()\n",
    "\n",
    "number_inputs = 15  \n",
    "number_hidden_nodes = 12\n",
    "number_hidden_nodes2 = 10\n",
    "number_classes = 2\n",
    "\n",
    "deep_model.add(Dense(units=number_hidden_nodes, activation='relu', input_dim=number_inputs))\n",
    "deep_model.add(Dense(units=number_hidden_nodes2, activation='relu'))\n",
    "deep_model.add(Dense(units=number_classes, activation='softmax'))"
   ]
  },
  {
   "cell_type": "code",
   "execution_count": 21,
   "metadata": {
    "tags": []
   },
   "outputs": [
    {
     "output_type": "stream",
     "name": "stdout",
     "text": "Model: \"sequential_1\"\n_________________________________________________________________\nLayer (type)                 Output Shape              Param #   \n=================================================================\ndense_2 (Dense)              (None, 12)                192       \n_________________________________________________________________\ndense_3 (Dense)              (None, 10)                130       \n_________________________________________________________________\ndense_4 (Dense)              (None, 2)                 22        \n=================================================================\nTotal params: 344\nTrainable params: 344\nNon-trainable params: 0\n_________________________________________________________________\n"
    }
   ],
   "source": [
    "deep_model.summary()"
   ]
  },
  {
   "cell_type": "code",
   "execution_count": 22,
   "metadata": {
    "tags": []
   },
   "outputs": [
    {
     "output_type": "stream",
     "name": "stdout",
     "text": "Epoch 1/100\n1927/1927 - 2s - loss: 0.5195 - accuracy: 0.7369\nEpoch 2/100\n1927/1927 - 2s - loss: 0.4847 - accuracy: 0.7659\nEpoch 3/100\n1927/1927 - 2s - loss: 0.4775 - accuracy: 0.7702\nEpoch 4/100\n1927/1927 - 2s - loss: 0.4741 - accuracy: 0.7719\nEpoch 5/100\n1927/1927 - 2s - loss: 0.4714 - accuracy: 0.7738\nEpoch 6/100\n1927/1927 - 2s - loss: 0.4696 - accuracy: 0.7755\nEpoch 7/100\n1927/1927 - 2s - loss: 0.4680 - accuracy: 0.7769\nEpoch 8/100\n1927/1927 - 2s - loss: 0.4664 - accuracy: 0.7779\nEpoch 9/100\n1927/1927 - 2s - loss: 0.4653 - accuracy: 0.7787\nEpoch 10/100\n1927/1927 - 2s - loss: 0.4641 - accuracy: 0.7788\nEpoch 11/100\n1927/1927 - 2s - loss: 0.4630 - accuracy: 0.7798\nEpoch 12/100\n1927/1927 - 2s - loss: 0.4627 - accuracy: 0.7797\nEpoch 13/100\n1927/1927 - 2s - loss: 0.4620 - accuracy: 0.7799\nEpoch 14/100\n1927/1927 - 2s - loss: 0.4613 - accuracy: 0.7806\nEpoch 15/100\n1927/1927 - 2s - loss: 0.4608 - accuracy: 0.7808\nEpoch 16/100\n1927/1927 - 2s - loss: 0.4604 - accuracy: 0.7817\nEpoch 17/100\n1927/1927 - 2s - loss: 0.4599 - accuracy: 0.7807\nEpoch 18/100\n1927/1927 - 2s - loss: 0.4596 - accuracy: 0.7819\nEpoch 19/100\n1927/1927 - 2s - loss: 0.4591 - accuracy: 0.7818\nEpoch 20/100\n1927/1927 - 2s - loss: 0.4591 - accuracy: 0.7818\nEpoch 21/100\n1927/1927 - 2s - loss: 0.4588 - accuracy: 0.7820\nEpoch 22/100\n1927/1927 - 2s - loss: 0.4587 - accuracy: 0.7807\nEpoch 23/100\n1927/1927 - 2s - loss: 0.4581 - accuracy: 0.7822\nEpoch 24/100\n1927/1927 - 2s - loss: 0.4581 - accuracy: 0.7820\nEpoch 25/100\n1927/1927 - 2s - loss: 0.4577 - accuracy: 0.7827\nEpoch 26/100\n1927/1927 - 2s - loss: 0.4574 - accuracy: 0.7814\nEpoch 27/100\n1927/1927 - 2s - loss: 0.4570 - accuracy: 0.7828\nEpoch 28/100\n1927/1927 - 2s - loss: 0.4569 - accuracy: 0.7822\nEpoch 29/100\n1927/1927 - 2s - loss: 0.4568 - accuracy: 0.7843\nEpoch 30/100\n1927/1927 - 2s - loss: 0.4565 - accuracy: 0.7827\nEpoch 31/100\n1927/1927 - 2s - loss: 0.4563 - accuracy: 0.7826\nEpoch 32/100\n1927/1927 - 2s - loss: 0.4558 - accuracy: 0.7833\nEpoch 33/100\n1927/1927 - 2s - loss: 0.4557 - accuracy: 0.7834\nEpoch 34/100\n1927/1927 - 2s - loss: 0.4553 - accuracy: 0.7839\nEpoch 35/100\n1927/1927 - 2s - loss: 0.4552 - accuracy: 0.7844\nEpoch 36/100\n1927/1927 - 2s - loss: 0.4552 - accuracy: 0.7833\nEpoch 37/100\n1927/1927 - 2s - loss: 0.4550 - accuracy: 0.7829\nEpoch 38/100\n1927/1927 - 3s - loss: 0.4547 - accuracy: 0.7842\nEpoch 39/100\n1927/1927 - 3s - loss: 0.4549 - accuracy: 0.7836\nEpoch 40/100\n1927/1927 - 3s - loss: 0.4546 - accuracy: 0.7840\nEpoch 41/100\n1927/1927 - 3s - loss: 0.4543 - accuracy: 0.7837\nEpoch 42/100\n1927/1927 - 3s - loss: 0.4541 - accuracy: 0.7839\nEpoch 43/100\n1927/1927 - 3s - loss: 0.4541 - accuracy: 0.7837\nEpoch 44/100\n1927/1927 - 3s - loss: 0.4540 - accuracy: 0.7837\nEpoch 45/100\n1927/1927 - 3s - loss: 0.4540 - accuracy: 0.7836\nEpoch 46/100\n1927/1927 - 3s - loss: 0.4538 - accuracy: 0.7843\nEpoch 47/100\n1927/1927 - 3s - loss: 0.4539 - accuracy: 0.7833\nEpoch 48/100\n1927/1927 - 3s - loss: 0.4535 - accuracy: 0.7833\nEpoch 49/100\n1927/1927 - 3s - loss: 0.4535 - accuracy: 0.7838\nEpoch 50/100\n1927/1927 - 3s - loss: 0.4533 - accuracy: 0.7848\nEpoch 51/100\n1927/1927 - 3s - loss: 0.4532 - accuracy: 0.7837\nEpoch 52/100\n1927/1927 - 3s - loss: 0.4534 - accuracy: 0.7832\nEpoch 53/100\n1927/1927 - 3s - loss: 0.4530 - accuracy: 0.7844\nEpoch 54/100\n1927/1927 - 3s - loss: 0.4531 - accuracy: 0.7846\nEpoch 55/100\n1927/1927 - 3s - loss: 0.4532 - accuracy: 0.7833\nEpoch 56/100\n1927/1927 - 3s - loss: 0.4530 - accuracy: 0.7845\nEpoch 57/100\n1927/1927 - 3s - loss: 0.4527 - accuracy: 0.7837\nEpoch 58/100\n1927/1927 - 3s - loss: 0.4529 - accuracy: 0.7838\nEpoch 59/100\n1927/1927 - 3s - loss: 0.4528 - accuracy: 0.7839\nEpoch 60/100\n1927/1927 - 3s - loss: 0.4527 - accuracy: 0.7845\nEpoch 61/100\n1927/1927 - 3s - loss: 0.4526 - accuracy: 0.7843\nEpoch 62/100\n1927/1927 - 3s - loss: 0.4525 - accuracy: 0.7834\nEpoch 63/100\n1927/1927 - 3s - loss: 0.4526 - accuracy: 0.7835\nEpoch 64/100\n1927/1927 - 3s - loss: 0.4524 - accuracy: 0.7846\nEpoch 65/100\n1927/1927 - 3s - loss: 0.4525 - accuracy: 0.7844\nEpoch 66/100\n1927/1927 - 3s - loss: 0.4521 - accuracy: 0.7844\nEpoch 67/100\n1927/1927 - 3s - loss: 0.4524 - accuracy: 0.7836\nEpoch 68/100\n1927/1927 - 3s - loss: 0.4523 - accuracy: 0.7839\nEpoch 69/100\n1927/1927 - 3s - loss: 0.4523 - accuracy: 0.7846\nEpoch 70/100\n1927/1927 - 3s - loss: 0.4519 - accuracy: 0.7831\nEpoch 71/100\n1927/1927 - 3s - loss: 0.4522 - accuracy: 0.7840\nEpoch 72/100\n1927/1927 - 3s - loss: 0.4521 - accuracy: 0.7832\nEpoch 73/100\n1927/1927 - 3s - loss: 0.4519 - accuracy: 0.7836\nEpoch 74/100\n1927/1927 - 3s - loss: 0.4521 - accuracy: 0.7832\nEpoch 75/100\n1927/1927 - 3s - loss: 0.4518 - accuracy: 0.7839\nEpoch 76/100\n1927/1927 - 3s - loss: 0.4519 - accuracy: 0.7833\nEpoch 77/100\n1927/1927 - 3s - loss: 0.4518 - accuracy: 0.7837\nEpoch 78/100\n1927/1927 - 3s - loss: 0.4515 - accuracy: 0.7843\nEpoch 79/100\n1927/1927 - 3s - loss: 0.4515 - accuracy: 0.7835\nEpoch 80/100\n1927/1927 - 3s - loss: 0.4516 - accuracy: 0.7851\nEpoch 81/100\n1927/1927 - 3s - loss: 0.4513 - accuracy: 0.7836\nEpoch 82/100\n1927/1927 - 3s - loss: 0.4515 - accuracy: 0.7842\nEpoch 83/100\n1927/1927 - 3s - loss: 0.4516 - accuracy: 0.7837\nEpoch 84/100\n1927/1927 - 3s - loss: 0.4514 - accuracy: 0.7846\nEpoch 85/100\n1927/1927 - 3s - loss: 0.4512 - accuracy: 0.7847\nEpoch 86/100\n1927/1927 - 3s - loss: 0.4512 - accuracy: 0.7830\nEpoch 87/100\n1927/1927 - 3s - loss: 0.4514 - accuracy: 0.7830\nEpoch 88/100\n1927/1927 - 3s - loss: 0.4516 - accuracy: 0.7831\nEpoch 89/100\n1927/1927 - 3s - loss: 0.4515 - accuracy: 0.7837\nEpoch 90/100\n1927/1927 - 3s - loss: 0.4511 - accuracy: 0.7832\nEpoch 91/100\n1927/1927 - 3s - loss: 0.4515 - accuracy: 0.7830\nEpoch 92/100\n1927/1927 - 3s - loss: 0.4511 - accuracy: 0.7841\nEpoch 93/100\n1927/1927 - 3s - loss: 0.4511 - accuracy: 0.7846\nEpoch 94/100\n1927/1927 - 3s - loss: 0.4512 - accuracy: 0.7827\nEpoch 95/100\n1927/1927 - 3s - loss: 0.4511 - accuracy: 0.7835\nEpoch 96/100\n1927/1927 - 3s - loss: 0.4509 - accuracy: 0.7845\nEpoch 97/100\n1927/1927 - 3s - loss: 0.4511 - accuracy: 0.7841\nEpoch 98/100\n1927/1927 - 3s - loss: 0.4509 - accuracy: 0.7846\nEpoch 99/100\n1927/1927 - 3s - loss: 0.4512 - accuracy: 0.7827\nEpoch 100/100\n1927/1927 - 3s - loss: 0.4509 - accuracy: 0.7836\nPredicted classes: [0 1 1 0 0]\nActual Labels: [1.0, 1.0, 1.0, 0.0, 1.0]\n"
    }
   ],
   "source": [
    "#Compile the model\n",
    "deep_model.compile(optimizer='adam',loss='categorical_crossentropy',metrics=['accuracy'])\n",
    "\n",
    "#Train the model\n",
    "deep_model.fit(X_train_scaled, y_train_categorical, epochs=100, shuffle=True, verbose=2)\n",
    "\n",
    "#Make Predictions\n",
    "encoded_predictions = model.predict_classes(X_test_scaled[:5])\n",
    "print(f\"Predicted classes: {encoded_predictions}\")\n",
    "print(f\"Actual Labels: {list(y_test[:5])}\")"
   ]
  },
  {
   "cell_type": "markdown",
   "metadata": {},
   "source": [
    "## Compare the models "
   ]
  },
  {
   "cell_type": "code",
   "execution_count": 23,
   "metadata": {
    "tags": []
   },
   "outputs": [
    {
     "output_type": "stream",
     "name": "stdout",
     "text": "643/643 - 1s - loss: 0.4600 - accuracy: 0.7818\n643/643 - 1s - loss: 0.4573 - accuracy: 0.7791\nNormal Neural Network - Loss: 0.4599531888961792, Accuracy: 0.7817836999893188\nDeep Neural Network - Loss: 0.45734703540802, Accuracy: 0.7790589928627014\n"
    }
   ],
   "source": [
    "model_loss, model_accuracy = model.evaluate(X_test_scaled, y_test_categorical, verbose=2)\n",
    "Dmodel_loss, Dmodel_accuracy = deep_model.evaluate(X_test_scaled, y_test_categorical, verbose=2)\n",
    "print(f\"Normal Neural Network - Loss: {model_loss}, Accuracy: {model_accuracy}\")\n",
    "print(f\"Deep Neural Network - Loss: {Dmodel_loss}, Accuracy: {Dmodel_accuracy}\")"
   ]
  }
 ],
 "metadata": {
  "language_info": {
   "codemirror_mode": {
    "name": "ipython",
    "version": 3
   },
   "file_extension": ".py",
   "mimetype": "text/x-python",
   "name": "python",
   "nbconvert_exporter": "python",
   "pygments_lexer": "ipython3",
   "version": "3.7.4-final"
  },
  "orig_nbformat": 2,
  "kernelspec": {
   "name": "python37464bitbaseconda621df6d49d2c4311a89d7503a44084b1",
   "display_name": "Python 3.7.4 64-bit ('base': conda)"
  }
 },
 "nbformat": 4,
 "nbformat_minor": 2
}
{
 "cells": [
  {
   "cell_type": "code",
   "execution_count": 1,
   "metadata": {},
   "outputs": [],
   "source": [
    "import os\n",
    "import glob\n",
    "import pandas as pd\n",
    "\n",
    "# import numpy as np\n",
    "# np.random.seed(20)"
   ]
  },
  {
   "cell_type": "code",
   "execution_count": 2,
   "metadata": {},
   "outputs": [],
   "source": [
    "# Define working directory\n",
    "os.chdir(r\"C:\\Users\\hguzm\\Documents\\000. Personal\\Bootcamp\\Proyectos\\FinalProject-Spotify\\Original_data\")"
   ]
  },
  {
   "cell_type": "code",
   "execution_count": 3,
   "metadata": {},
   "outputs": [
    {
     "output_type": "execute_result",
     "data": {
      "text/plain": "                      track             artist  \\\n0                 Lucky Man  Montgomery Gentry   \n1            On The Hotline       Pretty Ricky   \n2        Clouds Of Dementia         Candlemass   \n3  Heavy Metal, Raise Hell!      Zwartketterij   \n4           I Got A Feelin'   Billy Currington   \n\n                                    uri  danceability  energy  key  loudness  \\\n0  spotify:track:4GiXBCUF7H6YfNQsnBRIzl         0.578   0.471    4    -7.270   \n1  spotify:track:1zyqZONW985Cs4osz9wlsu         0.704   0.854   10    -5.477   \n2  spotify:track:6cHZf7RbxXCKwEkgAZT4mY         0.162   0.836    9    -3.009   \n3  spotify:track:2IjBPp2vMeX7LggzRN3iSX         0.188   0.994    4    -3.745   \n4  spotify:track:1tF370eYXUcWwkIvaq3IGz         0.630   0.764    2    -4.353   \n\n   mode  speechiness  acousticness  instrumentalness  liveness  valence  \\\n0     1       0.0289      0.368000           0.00000     0.159    0.532   \n1     0       0.1830      0.018500           0.00000     0.148    0.688   \n2     1       0.0473      0.000111           0.00457     0.174    0.300   \n3     1       0.1660      0.000007           0.07840     0.192    0.333   \n4     1       0.0275      0.363000           0.00000     0.125    0.631   \n\n     tempo  duration_ms  time_signature  chorus_hit  sections  target  \n0  133.061       196707               4    30.88059        13       1  \n1   92.988       242587               4    41.51106        10       1  \n2   86.964       338893               4    65.32887        13       0  \n3  148.440       255667               4    58.59528         9       0  \n4  112.098       193760               4    22.62384        10       1  ",
      "text/html": "<div>\n<style scoped>\n    .dataframe tbody tr th:only-of-type {\n        vertical-align: middle;\n    }\n\n    .dataframe tbody tr th {\n        vertical-align: top;\n    }\n\n    .dataframe thead th {\n        text-align: right;\n    }\n</style>\n<table border=\"1\" class=\"dataframe\">\n  <thead>\n    <tr style=\"text-align: right;\">\n      <th></th>\n      <th>track</th>\n      <th>artist</th>\n      <th>uri</th>\n      <th>danceability</th>\n      <th>energy</th>\n      <th>key</th>\n      <th>loudness</th>\n      <th>mode</th>\n      <th>speechiness</th>\n      <th>acousticness</th>\n      <th>instrumentalness</th>\n      <th>liveness</th>\n      <th>valence</th>\n      <th>tempo</th>\n      <th>duration_ms</th>\n      <th>time_signature</th>\n      <th>chorus_hit</th>\n      <th>sections</th>\n      <th>target</th>\n    </tr>\n  </thead>\n  <tbody>\n    <tr>\n      <td>0</td>\n      <td>Lucky Man</td>\n      <td>Montgomery Gentry</td>\n      <td>spotify:track:4GiXBCUF7H6YfNQsnBRIzl</td>\n      <td>0.578</td>\n      <td>0.471</td>\n      <td>4</td>\n      <td>-7.270</td>\n      <td>1</td>\n      <td>0.0289</td>\n      <td>0.368000</td>\n      <td>0.00000</td>\n      <td>0.159</td>\n      <td>0.532</td>\n      <td>133.061</td>\n      <td>196707</td>\n      <td>4</td>\n      <td>30.88059</td>\n      <td>13</td>\n      <td>1</td>\n    </tr>\n    <tr>\n      <td>1</td>\n      <td>On The Hotline</td>\n      <td>Pretty Ricky</td>\n      <td>spotify:track:1zyqZONW985Cs4osz9wlsu</td>\n      <td>0.704</td>\n      <td>0.854</td>\n      <td>10</td>\n      <td>-5.477</td>\n      <td>0</td>\n      <td>0.1830</td>\n      <td>0.018500</td>\n      <td>0.00000</td>\n      <td>0.148</td>\n      <td>0.688</td>\n      <td>92.988</td>\n      <td>242587</td>\n      <td>4</td>\n      <td>41.51106</td>\n      <td>10</td>\n      <td>1</td>\n    </tr>\n    <tr>\n      <td>2</td>\n      <td>Clouds Of Dementia</td>\n      <td>Candlemass</td>\n      <td>spotify:track:6cHZf7RbxXCKwEkgAZT4mY</td>\n      <td>0.162</td>\n      <td>0.836</td>\n      <td>9</td>\n      <td>-3.009</td>\n      <td>1</td>\n      <td>0.0473</td>\n      <td>0.000111</td>\n      <td>0.00457</td>\n      <td>0.174</td>\n      <td>0.300</td>\n      <td>86.964</td>\n      <td>338893</td>\n      <td>4</td>\n      <td>65.32887</td>\n      <td>13</td>\n      <td>0</td>\n    </tr>\n    <tr>\n      <td>3</td>\n      <td>Heavy Metal, Raise Hell!</td>\n      <td>Zwartketterij</td>\n      <td>spotify:track:2IjBPp2vMeX7LggzRN3iSX</td>\n      <td>0.188</td>\n      <td>0.994</td>\n      <td>4</td>\n      <td>-3.745</td>\n      <td>1</td>\n      <td>0.1660</td>\n      <td>0.000007</td>\n      <td>0.07840</td>\n      <td>0.192</td>\n      <td>0.333</td>\n      <td>148.440</td>\n      <td>255667</td>\n      <td>4</td>\n      <td>58.59528</td>\n      <td>9</td>\n      <td>0</td>\n    </tr>\n    <tr>\n      <td>4</td>\n      <td>I Got A Feelin'</td>\n      <td>Billy Currington</td>\n      <td>spotify:track:1tF370eYXUcWwkIvaq3IGz</td>\n      <td>0.630</td>\n      <td>0.764</td>\n      <td>2</td>\n      <td>-4.353</td>\n      <td>1</td>\n      <td>0.0275</td>\n      <td>0.363000</td>\n      <td>0.00000</td>\n      <td>0.125</td>\n      <td>0.631</td>\n      <td>112.098</td>\n      <td>193760</td>\n      <td>4</td>\n      <td>22.62384</td>\n      <td>10</td>\n      <td>1</td>\n    </tr>\n  </tbody>\n</table>\n</div>"
     },
     "metadata": {},
     "execution_count": 3
    }
   ],
   "source": [
    "# Use glob to match the pattern ‘csv’\n",
    "extension = 'csv'\n",
    "all_filenames = [i for i in glob.glob('*.{}'.format(extension))]\n",
    "\n",
    "# Combine all files in the list and export as CSV\n",
    "df = pd.concat([pd.read_csv(f) for f in all_filenames ])\n",
    "df.reset_index(drop=True, inplace=True)\n",
    "\n",
    "# #export to csv\n",
    "# df.to_csv( \"spotify_data.csv\", index=False, encoding='utf-8-sig')\n",
    "df.head(5)"
   ]
  },
  {
   "cell_type": "code",
   "execution_count": 4,
   "metadata": {},
   "outputs": [
    {
     "output_type": "execute_result",
     "data": {
      "text/plain": "   danceability  energy  key  loudness  mode  speechiness  acousticness  \\\n0         0.578   0.471    4    -7.270     1       0.0289        0.3680   \n1         0.704   0.854   10    -5.477     0       0.1830        0.0185   \n\n   instrumentalness  liveness  valence    tempo  duration_ms  time_signature  \\\n0               0.0     0.159    0.532  133.061       196707               4   \n1               0.0     0.148    0.688   92.988       242587               4   \n\n   chorus_hit  sections  target  \n0    30.88059        13       1  \n1    41.51106        10       1  ",
      "text/html": "<div>\n<style scoped>\n    .dataframe tbody tr th:only-of-type {\n        vertical-align: middle;\n    }\n\n    .dataframe tbody tr th {\n        vertical-align: top;\n    }\n\n    .dataframe thead th {\n        text-align: right;\n    }\n</style>\n<table border=\"1\" class=\"dataframe\">\n  <thead>\n    <tr style=\"text-align: right;\">\n      <th></th>\n      <th>danceability</th>\n      <th>energy</th>\n      <th>key</th>\n      <th>loudness</th>\n      <th>mode</th>\n      <th>speechiness</th>\n      <th>acousticness</th>\n      <th>instrumentalness</th>\n      <th>liveness</th>\n      <th>valence</th>\n      <th>tempo</th>\n      <th>duration_ms</th>\n      <th>time_signature</th>\n      <th>chorus_hit</th>\n      <th>sections</th>\n      <th>target</th>\n    </tr>\n  </thead>\n  <tbody>\n    <tr>\n      <td>0</td>\n      <td>0.578</td>\n      <td>0.471</td>\n      <td>4</td>\n      <td>-7.270</td>\n      <td>1</td>\n      <td>0.0289</td>\n      <td>0.3680</td>\n      <td>0.0</td>\n      <td>0.159</td>\n      <td>0.532</td>\n      <td>133.061</td>\n      <td>196707</td>\n      <td>4</td>\n      <td>30.88059</td>\n      <td>13</td>\n      <td>1</td>\n    </tr>\n    <tr>\n      <td>1</td>\n      <td>0.704</td>\n      <td>0.854</td>\n      <td>10</td>\n      <td>-5.477</td>\n      <td>0</td>\n      <td>0.1830</td>\n      <td>0.0185</td>\n      <td>0.0</td>\n      <td>0.148</td>\n      <td>0.688</td>\n      <td>92.988</td>\n      <td>242587</td>\n      <td>4</td>\n      <td>41.51106</td>\n      <td>10</td>\n      <td>1</td>\n    </tr>\n  </tbody>\n</table>\n</div>"
     },
     "metadata": {},
     "execution_count": 4
    }
   ],
   "source": [
    "df2 = df.drop(['track', 'artist', 'uri'], axis=1)\n",
    "df2.head(2)"
   ]
  },
  {
   "cell_type": "code",
   "execution_count": 5,
   "metadata": {},
   "outputs": [
    {
     "output_type": "execute_result",
     "data": {
      "text/plain": "        danceability  energy    key  loudness   mode  speechiness  \\\ntarget                                                              \n0              20553   20553  20553     20553  20553        20553   \n1              20553   20553  20553     20553  20553        20553   \n\n        acousticness  instrumentalness  liveness  valence  tempo  duration_ms  \\\ntarget                                                                          \n0              20553             20553     20553    20553  20553        20553   \n1              20553             20553     20553    20553  20553        20553   \n\n        time_signature  chorus_hit  sections  \ntarget                                        \n0                20553       20553     20553  \n1                20553       20553     20553  ",
      "text/html": "<div>\n<style scoped>\n    .dataframe tbody tr th:only-of-type {\n        vertical-align: middle;\n    }\n\n    .dataframe tbody tr th {\n        vertical-align: top;\n    }\n\n    .dataframe thead th {\n        text-align: right;\n    }\n</style>\n<table border=\"1\" class=\"dataframe\">\n  <thead>\n    <tr style=\"text-align: right;\">\n      <th></th>\n      <th>danceability</th>\n      <th>energy</th>\n      <th>key</th>\n      <th>loudness</th>\n      <th>mode</th>\n      <th>speechiness</th>\n      <th>acousticness</th>\n      <th>instrumentalness</th>\n      <th>liveness</th>\n      <th>valence</th>\n      <th>tempo</th>\n      <th>duration_ms</th>\n      <th>time_signature</th>\n      <th>chorus_hit</th>\n      <th>sections</th>\n    </tr>\n    <tr>\n      <th>target</th>\n      <th></th>\n      <th></th>\n      <th></th>\n      <th></th>\n      <th></th>\n      <th></th>\n      <th></th>\n      <th></th>\n      <th></th>\n      <th></th>\n      <th></th>\n      <th></th>\n      <th></th>\n      <th></th>\n      <th></th>\n    </tr>\n  </thead>\n  <tbody>\n    <tr>\n      <td>0</td>\n      <td>20553</td>\n      <td>20553</td>\n      <td>20553</td>\n      <td>20553</td>\n      <td>20553</td>\n      <td>20553</td>\n      <td>20553</td>\n      <td>20553</td>\n      <td>20553</td>\n      <td>20553</td>\n      <td>20553</td>\n      <td>20553</td>\n      <td>20553</td>\n      <td>20553</td>\n      <td>20553</td>\n    </tr>\n    <tr>\n      <td>1</td>\n      <td>20553</td>\n      <td>20553</td>\n      <td>20553</td>\n      <td>20553</td>\n      <td>20553</td>\n      <td>20553</td>\n      <td>20553</td>\n      <td>20553</td>\n      <td>20553</td>\n      <td>20553</td>\n      <td>20553</td>\n      <td>20553</td>\n      <td>20553</td>\n      <td>20553</td>\n      <td>20553</td>\n    </tr>\n  </tbody>\n</table>\n</div>"
     },
     "metadata": {},
     "execution_count": 5
    }
   ],
   "source": [
    "#Validation of distribution of output values\n",
    "df2.groupby(\"target\").count()"
   ]
  },
  {
   "cell_type": "code",
   "execution_count": 6,
   "metadata": {},
   "outputs": [
    {
     "output_type": "execute_result",
     "data": {
      "text/plain": "                  danceability    energy       key  loudness      mode  \\\ndanceability          1.000000  0.206128  0.015433  0.274160 -0.032743   \nenergy                0.206128  1.000000  0.022523  0.772628 -0.033780   \nkey                   0.015433  0.022523  1.000000  0.008438 -0.140455   \nloudness              0.274160  0.772628  0.008438  1.000000  0.000509   \nmode                 -0.032743 -0.033780 -0.140455  0.000509  1.000000   \nspeechiness           0.156452  0.122430  0.026515  0.069241 -0.059636   \nacousticness         -0.261252 -0.715088 -0.024178 -0.566548  0.049961   \ninstrumentalness     -0.301915 -0.208153 -0.013101 -0.374301 -0.075992   \nliveness             -0.115251  0.157779  0.000668  0.086708  0.008886   \nvalence               0.553858  0.341427  0.007742  0.271775  0.035636   \ntempo                -0.066541  0.224018  0.001154  0.169453  0.027053   \nduration_ms          -0.063030  0.011830  0.015493 -0.049890 -0.074828   \ntime_signature        0.191664  0.196072  0.004757  0.165520 -0.009483   \nchorus_hit           -0.036277  0.009620  0.010264 -0.013401 -0.022594   \nsections             -0.058615 -0.040233  0.006784 -0.080065 -0.057095   \ntarget                0.346097  0.177142  0.009883  0.286034  0.079614   \n\n                  speechiness  acousticness  instrumentalness  liveness  \\\ndanceability         0.156452     -0.261252         -0.301915 -0.115251   \nenergy               0.122430     -0.715088         -0.208153  0.157779   \nkey                  0.026515     -0.024178         -0.013101  0.000668   \nloudness             0.069241     -0.566548         -0.374301  0.086708   \nmode                -0.059636      0.049961         -0.075992  0.008886   \nspeechiness          1.000000     -0.083948         -0.084092  0.131488   \nacousticness        -0.083948      1.000000          0.204137 -0.030765   \ninstrumentalness    -0.084092      0.204137          1.000000 -0.050582   \nliveness             0.131488     -0.030765         -0.050582  1.000000   \nvalence              0.001528     -0.195331         -0.287047  0.000784   \ntempo                0.036854     -0.179700         -0.053618  0.024861   \nduration_ms          0.007631     -0.070271          0.106551  0.005336   \ntime_signature       0.021085     -0.188139         -0.077980  0.004773   \nchorus_hit           0.012972     -0.012409          0.048654  0.037981   \nsections            -0.008636     -0.016824          0.081188 -0.011742   \ntarget              -0.040835     -0.246036         -0.407638 -0.051445   \n\n                   valence     tempo  duration_ms  time_signature  chorus_hit  \\\ndanceability      0.553858 -0.066541    -0.063030        0.191664   -0.036277   \nenergy            0.341427  0.224018     0.011830        0.196072    0.009620   \nkey               0.007742  0.001154     0.015493        0.004757    0.010264   \nloudness          0.271775  0.169453    -0.049890        0.165520   -0.013401   \nmode              0.035636  0.027053    -0.074828       -0.009483   -0.022594   \nspeechiness       0.001528  0.036854     0.007631        0.021085    0.012972   \nacousticness     -0.195331 -0.179700    -0.070271       -0.188139   -0.012409   \ninstrumentalness -0.287047 -0.053618     0.106551       -0.077980    0.048654   \nliveness          0.000784  0.024861     0.005336        0.004773    0.037981   \nvalence           1.000000  0.107901    -0.172166        0.155669   -0.059120   \ntempo             0.107901  1.000000    -0.024318        0.007659   -0.056054   \nduration_ms      -0.172166 -0.024318     1.000000        0.018454    0.093875   \ntime_signature    0.155669  0.007659     0.018454        1.000000   -0.011281   \nchorus_hit       -0.059120 -0.056054     0.093875       -0.011281    1.000000   \nsections         -0.133527  0.024905     0.888952        0.008424   -0.085920   \ntarget            0.251147  0.032649    -0.073820        0.104884   -0.046409   \n\n                  sections    target  \ndanceability     -0.058615  0.346097  \nenergy           -0.040233  0.177142  \nkey               0.006784  0.009883  \nloudness         -0.080065  0.286034  \nmode             -0.057095  0.079614  \nspeechiness      -0.008636 -0.040835  \nacousticness     -0.016824 -0.246036  \ninstrumentalness  0.081188 -0.407638  \nliveness         -0.011742 -0.051445  \nvalence          -0.133527  0.251147  \ntempo             0.024905  0.032649  \nduration_ms       0.888952 -0.073820  \ntime_signature    0.008424  0.104884  \nchorus_hit       -0.085920 -0.046409  \nsections          1.000000 -0.059997  \ntarget           -0.059997  1.000000  ",
      "text/html": "<div>\n<style scoped>\n    .dataframe tbody tr th:only-of-type {\n        vertical-align: middle;\n    }\n\n    .dataframe tbody tr th {\n        vertical-align: top;\n    }\n\n    .dataframe thead th {\n        text-align: right;\n    }\n</style>\n<table border=\"1\" class=\"dataframe\">\n  <thead>\n    <tr style=\"text-align: right;\">\n      <th></th>\n      <th>danceability</th>\n      <th>energy</th>\n      <th>key</th>\n      <th>loudness</th>\n      <th>mode</th>\n      <th>speechiness</th>\n      <th>acousticness</th>\n      <th>instrumentalness</th>\n      <th>liveness</th>\n      <th>valence</th>\n      <th>tempo</th>\n      <th>duration_ms</th>\n      <th>time_signature</th>\n      <th>chorus_hit</th>\n      <th>sections</th>\n      <th>target</th>\n    </tr>\n  </thead>\n  <tbody>\n    <tr>\n      <td>danceability</td>\n      <td>1.000000</td>\n      <td>0.206128</td>\n      <td>0.015433</td>\n      <td>0.274160</td>\n      <td>-0.032743</td>\n      <td>0.156452</td>\n      <td>-0.261252</td>\n      <td>-0.301915</td>\n      <td>-0.115251</td>\n      <td>0.553858</td>\n      <td>-0.066541</td>\n      <td>-0.063030</td>\n      <td>0.191664</td>\n      <td>-0.036277</td>\n      <td>-0.058615</td>\n      <td>0.346097</td>\n    </tr>\n    <tr>\n      <td>energy</td>\n      <td>0.206128</td>\n      <td>1.000000</td>\n      <td>0.022523</td>\n      <td>0.772628</td>\n      <td>-0.033780</td>\n      <td>0.122430</td>\n      <td>-0.715088</td>\n      <td>-0.208153</td>\n      <td>0.157779</td>\n      <td>0.341427</td>\n      <td>0.224018</td>\n      <td>0.011830</td>\n      <td>0.196072</td>\n      <td>0.009620</td>\n      <td>-0.040233</td>\n      <td>0.177142</td>\n    </tr>\n    <tr>\n      <td>key</td>\n      <td>0.015433</td>\n      <td>0.022523</td>\n      <td>1.000000</td>\n      <td>0.008438</td>\n      <td>-0.140455</td>\n      <td>0.026515</td>\n      <td>-0.024178</td>\n      <td>-0.013101</td>\n      <td>0.000668</td>\n      <td>0.007742</td>\n      <td>0.001154</td>\n      <td>0.015493</td>\n      <td>0.004757</td>\n      <td>0.010264</td>\n      <td>0.006784</td>\n      <td>0.009883</td>\n    </tr>\n    <tr>\n      <td>loudness</td>\n      <td>0.274160</td>\n      <td>0.772628</td>\n      <td>0.008438</td>\n      <td>1.000000</td>\n      <td>0.000509</td>\n      <td>0.069241</td>\n      <td>-0.566548</td>\n      <td>-0.374301</td>\n      <td>0.086708</td>\n      <td>0.271775</td>\n      <td>0.169453</td>\n      <td>-0.049890</td>\n      <td>0.165520</td>\n      <td>-0.013401</td>\n      <td>-0.080065</td>\n      <td>0.286034</td>\n    </tr>\n    <tr>\n      <td>mode</td>\n      <td>-0.032743</td>\n      <td>-0.033780</td>\n      <td>-0.140455</td>\n      <td>0.000509</td>\n      <td>1.000000</td>\n      <td>-0.059636</td>\n      <td>0.049961</td>\n      <td>-0.075992</td>\n      <td>0.008886</td>\n      <td>0.035636</td>\n      <td>0.027053</td>\n      <td>-0.074828</td>\n      <td>-0.009483</td>\n      <td>-0.022594</td>\n      <td>-0.057095</td>\n      <td>0.079614</td>\n    </tr>\n    <tr>\n      <td>speechiness</td>\n      <td>0.156452</td>\n      <td>0.122430</td>\n      <td>0.026515</td>\n      <td>0.069241</td>\n      <td>-0.059636</td>\n      <td>1.000000</td>\n      <td>-0.083948</td>\n      <td>-0.084092</td>\n      <td>0.131488</td>\n      <td>0.001528</td>\n      <td>0.036854</td>\n      <td>0.007631</td>\n      <td>0.021085</td>\n      <td>0.012972</td>\n      <td>-0.008636</td>\n      <td>-0.040835</td>\n    </tr>\n    <tr>\n      <td>acousticness</td>\n      <td>-0.261252</td>\n      <td>-0.715088</td>\n      <td>-0.024178</td>\n      <td>-0.566548</td>\n      <td>0.049961</td>\n      <td>-0.083948</td>\n      <td>1.000000</td>\n      <td>0.204137</td>\n      <td>-0.030765</td>\n      <td>-0.195331</td>\n      <td>-0.179700</td>\n      <td>-0.070271</td>\n      <td>-0.188139</td>\n      <td>-0.012409</td>\n      <td>-0.016824</td>\n      <td>-0.246036</td>\n    </tr>\n    <tr>\n      <td>instrumentalness</td>\n      <td>-0.301915</td>\n      <td>-0.208153</td>\n      <td>-0.013101</td>\n      <td>-0.374301</td>\n      <td>-0.075992</td>\n      <td>-0.084092</td>\n      <td>0.204137</td>\n      <td>1.000000</td>\n      <td>-0.050582</td>\n      <td>-0.287047</td>\n      <td>-0.053618</td>\n      <td>0.106551</td>\n      <td>-0.077980</td>\n      <td>0.048654</td>\n      <td>0.081188</td>\n      <td>-0.407638</td>\n    </tr>\n    <tr>\n      <td>liveness</td>\n      <td>-0.115251</td>\n      <td>0.157779</td>\n      <td>0.000668</td>\n      <td>0.086708</td>\n      <td>0.008886</td>\n      <td>0.131488</td>\n      <td>-0.030765</td>\n      <td>-0.050582</td>\n      <td>1.000000</td>\n      <td>0.000784</td>\n      <td>0.024861</td>\n      <td>0.005336</td>\n      <td>0.004773</td>\n      <td>0.037981</td>\n      <td>-0.011742</td>\n      <td>-0.051445</td>\n    </tr>\n    <tr>\n      <td>valence</td>\n      <td>0.553858</td>\n      <td>0.341427</td>\n      <td>0.007742</td>\n      <td>0.271775</td>\n      <td>0.035636</td>\n      <td>0.001528</td>\n      <td>-0.195331</td>\n      <td>-0.287047</td>\n      <td>0.000784</td>\n      <td>1.000000</td>\n      <td>0.107901</td>\n      <td>-0.172166</td>\n      <td>0.155669</td>\n      <td>-0.059120</td>\n      <td>-0.133527</td>\n      <td>0.251147</td>\n    </tr>\n    <tr>\n      <td>tempo</td>\n      <td>-0.066541</td>\n      <td>0.224018</td>\n      <td>0.001154</td>\n      <td>0.169453</td>\n      <td>0.027053</td>\n      <td>0.036854</td>\n      <td>-0.179700</td>\n      <td>-0.053618</td>\n      <td>0.024861</td>\n      <td>0.107901</td>\n      <td>1.000000</td>\n      <td>-0.024318</td>\n      <td>0.007659</td>\n      <td>-0.056054</td>\n      <td>0.024905</td>\n      <td>0.032649</td>\n    </tr>\n    <tr>\n      <td>duration_ms</td>\n      <td>-0.063030</td>\n      <td>0.011830</td>\n      <td>0.015493</td>\n      <td>-0.049890</td>\n      <td>-0.074828</td>\n      <td>0.007631</td>\n      <td>-0.070271</td>\n      <td>0.106551</td>\n      <td>0.005336</td>\n      <td>-0.172166</td>\n      <td>-0.024318</td>\n      <td>1.000000</td>\n      <td>0.018454</td>\n      <td>0.093875</td>\n      <td>0.888952</td>\n      <td>-0.073820</td>\n    </tr>\n    <tr>\n      <td>time_signature</td>\n      <td>0.191664</td>\n      <td>0.196072</td>\n      <td>0.004757</td>\n      <td>0.165520</td>\n      <td>-0.009483</td>\n      <td>0.021085</td>\n      <td>-0.188139</td>\n      <td>-0.077980</td>\n      <td>0.004773</td>\n      <td>0.155669</td>\n      <td>0.007659</td>\n      <td>0.018454</td>\n      <td>1.000000</td>\n      <td>-0.011281</td>\n      <td>0.008424</td>\n      <td>0.104884</td>\n    </tr>\n    <tr>\n      <td>chorus_hit</td>\n      <td>-0.036277</td>\n      <td>0.009620</td>\n      <td>0.010264</td>\n      <td>-0.013401</td>\n      <td>-0.022594</td>\n      <td>0.012972</td>\n      <td>-0.012409</td>\n      <td>0.048654</td>\n      <td>0.037981</td>\n      <td>-0.059120</td>\n      <td>-0.056054</td>\n      <td>0.093875</td>\n      <td>-0.011281</td>\n      <td>1.000000</td>\n      <td>-0.085920</td>\n      <td>-0.046409</td>\n    </tr>\n    <tr>\n      <td>sections</td>\n      <td>-0.058615</td>\n      <td>-0.040233</td>\n      <td>0.006784</td>\n      <td>-0.080065</td>\n      <td>-0.057095</td>\n      <td>-0.008636</td>\n      <td>-0.016824</td>\n      <td>0.081188</td>\n      <td>-0.011742</td>\n      <td>-0.133527</td>\n      <td>0.024905</td>\n      <td>0.888952</td>\n      <td>0.008424</td>\n      <td>-0.085920</td>\n      <td>1.000000</td>\n      <td>-0.059997</td>\n    </tr>\n    <tr>\n      <td>target</td>\n      <td>0.346097</td>\n      <td>0.177142</td>\n      <td>0.009883</td>\n      <td>0.286034</td>\n      <td>0.079614</td>\n      <td>-0.040835</td>\n      <td>-0.246036</td>\n      <td>-0.407638</td>\n      <td>-0.051445</td>\n      <td>0.251147</td>\n      <td>0.032649</td>\n      <td>-0.073820</td>\n      <td>0.104884</td>\n      <td>-0.046409</td>\n      <td>-0.059997</td>\n      <td>1.000000</td>\n    </tr>\n  </tbody>\n</table>\n</div>"
     },
     "metadata": {},
     "execution_count": 6
    }
   ],
   "source": [
    "#Validation of correlation between variables\n",
    "import numpy as np \n",
    "df3=df2.corr()\n",
    "df3"
   ]
  },
  {
   "cell_type": "code",
   "execution_count": 7,
   "metadata": {
    "tags": []
   },
   "outputs": [
    {
     "output_type": "stream",
     "name": "stdout",
     "text": "(41106, 16) (41106, 15) (41106,)\n"
    },
    {
     "output_type": "execute_result",
     "data": {
      "text/plain": "array([[ 0.578  ,  0.471  ,  4.     , ..., 30.88059, 13.     ,  1.     ],\n       [ 0.704  ,  0.854  , 10.     , ..., 41.51106, 10.     ,  1.     ],\n       [ 0.162  ,  0.836  ,  9.     , ..., 65.32887, 13.     ,  0.     ],\n       ...,\n       [ 0.562  ,  0.314  , 10.     , ..., 21.11763, 10.     ,  1.     ],\n       [ 0.622  ,  0.781  ,  7.     , ..., 47.13558, 11.     ,  0.     ],\n       [ 0.664  ,  0.739  ,  2.     , ..., 42.50341, 14.     ,  1.     ]])"
     },
     "metadata": {},
     "execution_count": 7
    }
   ],
   "source": [
    "# Reformat data\n",
    "data = df2.values\n",
    "X = data[:, 0:15]  \n",
    "y = data[:, 15]\n",
    "\n",
    "print(data.shape, X.shape, y.shape)\n",
    "data\n",
    "# X[0]\n",
    "# y"
   ]
  },
  {
   "cell_type": "code",
   "execution_count": 8,
   "metadata": {},
   "outputs": [],
   "source": [
    "from sklearn.model_selection import train_test_split\n",
    "\n",
    "X_train, X_test, y_train, y_test = train_test_split(X, y, random_state=10)"
   ]
  },
  {
   "cell_type": "markdown",
   "metadata": {},
   "source": [
    "## Data Preprocessing"
   ]
  },
  {
   "cell_type": "code",
   "execution_count": 9,
   "metadata": {},
   "outputs": [
    {
     "output_type": "execute_result",
     "data": {
      "text/plain": "array([[0.78947368, 0.52283395, 0.81818182, ..., 0.8       , 0.19905999,\n        0.06508876],\n       [0.54048583, 0.83094117, 0.81818182, ..., 0.8       , 0.21633373,\n        0.04142012],\n       [0.5       , 0.66588373, 0.81818182, ..., 0.8       , 0.20480589,\n        0.03550296],\n       ...,\n       [0.57692308, 0.36777999, 0.81818182, ..., 0.8       , 0.15844718,\n        0.09467456],\n       [0.41902834, 0.16070793, 0.63636364, ..., 0.8       , 0.200772  ,\n        0.04733728],\n       [0.29554656, 0.24873856, 0.81818182, ..., 0.6       , 0.12021911,\n        0.06508876]])"
     },
     "metadata": {},
     "execution_count": 9
    }
   ],
   "source": [
    "#Scale features (X) using MinMaxScaler\n",
    "from sklearn.preprocessing import MinMaxScaler\n",
    "X_scaler = MinMaxScaler(feature_range=(0,1)).fit(X_train)\n",
    "\n",
    "X_train_scaled = X_scaler.transform(X_train)\n",
    "X_test_scaled = X_scaler.transform(X_test) \n",
    "\n",
    "X_train_scaled"
   ]
  },
  {
   "cell_type": "markdown",
   "metadata": {},
   "source": [
    "One-hot encode the labels"
   ]
  },
  {
   "cell_type": "code",
   "execution_count": 10,
   "metadata": {},
   "outputs": [
    {
     "output_type": "execute_result",
     "data": {
      "text/plain": "array([[0., 1.],\n       [1., 0.],\n       [0., 1.],\n       ...,\n       [0., 1.],\n       [0., 1.],\n       [1., 0.]], dtype=float32)"
     },
     "metadata": {},
     "execution_count": 10
    }
   ],
   "source": [
    "#One-hot encode output labels (y)\n",
    "from tensorflow.keras.utils import to_categorical\n",
    "y_train_categorical = to_categorical(y_train)\n",
    "y_test_categorical = to_categorical(y_test)\n",
    "\n",
    "y_train_categorical"
   ]
  },
  {
   "cell_type": "markdown",
   "metadata": {},
   "source": [
    "## Creating and defining our Deep Learning Model Architecture"
   ]
  },
  {
   "cell_type": "code",
   "execution_count": 11,
   "metadata": {},
   "outputs": [],
   "source": [
    "#Create a sequential model\n",
    "from tensorflow.keras.models import Sequential\n",
    "model = Sequential() \n",
    "\n",
    "from tensorflow.keras.layers import Dense\n",
    "number_inputs = 15  \n",
    "\n",
    "#Create hidden layers\n",
    "model.add(Dense(units=14,activation='relu', input_dim=number_inputs))\n",
    "model.add(Dense(units=120,activation='relu'))\n",
    "model.add(Dense(units=80,activation='relu'))\n",
    "\n",
    "#Create output layer\n",
    "number_classes = 2\n",
    "model.add(Dense(units=number_classes, activation='softmax')) "
   ]
  },
  {
   "cell_type": "markdown",
   "metadata": {},
   "source": [
    "Number of Hidden Nodes \n",
    "https://stats.stackexchange.com/questions/181/how-to-choose-the-number-of-hidden-layers-and-nodes-in-a-feedforward-neural-netw#:~:text=The%20number%20of%20hidden%20neurons,size%20of%20the%20input%20layer."
   ]
  },
  {
   "cell_type": "code",
   "execution_count": 12,
   "metadata": {
    "tags": []
   },
   "outputs": [
    {
     "output_type": "stream",
     "name": "stdout",
     "text": "Model: \"sequential\"\n_________________________________________________________________\nLayer (type)                 Output Shape              Param #   \n=================================================================\ndense (Dense)                (None, 14)                224       \n_________________________________________________________________\ndense_1 (Dense)              (None, 120)               1800      \n_________________________________________________________________\ndense_2 (Dense)              (None, 80)                9680      \n_________________________________________________________________\ndense_3 (Dense)              (None, 2)                 162       \n=================================================================\nTotal params: 11,866\nTrainable params: 11,866\nNon-trainable params: 0\n_________________________________________________________________\n"
    }
   ],
   "source": [
    "#Model Summary\n",
    "model.summary() "
   ]
  },
  {
   "cell_type": "code",
   "execution_count": 13,
   "metadata": {},
   "outputs": [],
   "source": [
    "#Compile the Model\n",
    "import tensorflow as tf\n",
    "\n",
    "opt = tf.keras.optimizers.Adam(learning_rate=0.001)\n",
    "model.compile(optimizer=opt, loss='categorical_crossentropy', metrics=['accuracy'])"
   ]
  },
  {
   "cell_type": "markdown",
   "metadata": {},
   "source": [
    "## Training the Model"
   ]
  },
  {
   "cell_type": "code",
   "execution_count": 14,
   "metadata": {
    "tags": [
     "outputPrepend"
    ]
   },
   "outputs": [
    {
     "output_type": "stream",
     "name": "stdout",
     "text": "poch 162/500\n16/16 - 0s - loss: 0.4659 - accuracy: 0.7747\nEpoch 163/500\n16/16 - 0s - loss: 0.4658 - accuracy: 0.7745\nEpoch 164/500\n16/16 - 0s - loss: 0.4653 - accuracy: 0.7760\nEpoch 165/500\n16/16 - 0s - loss: 0.4660 - accuracy: 0.7736\nEpoch 166/500\n16/16 - 0s - loss: 0.4665 - accuracy: 0.7745\nEpoch 167/500\n16/16 - 0s - loss: 0.4656 - accuracy: 0.7738\nEpoch 168/500\n16/16 - 0s - loss: 0.4652 - accuracy: 0.7745\nEpoch 169/500\n16/16 - 0s - loss: 0.4665 - accuracy: 0.7742\nEpoch 170/500\n16/16 - 0s - loss: 0.4652 - accuracy: 0.7750\nEpoch 171/500\n16/16 - 0s - loss: 0.4646 - accuracy: 0.7750\nEpoch 172/500\n16/16 - 0s - loss: 0.4639 - accuracy: 0.7767\nEpoch 173/500\n16/16 - 0s - loss: 0.4638 - accuracy: 0.7754\nEpoch 174/500\n16/16 - 0s - loss: 0.4645 - accuracy: 0.7749\nEpoch 175/500\n16/16 - 0s - loss: 0.4655 - accuracy: 0.7757\nEpoch 176/500\n16/16 - 0s - loss: 0.4650 - accuracy: 0.7749\nEpoch 177/500\n16/16 - 0s - loss: 0.4635 - accuracy: 0.7762\nEpoch 178/500\n16/16 - 0s - loss: 0.4629 - accuracy: 0.7751\nEpoch 179/500\n16/16 - 0s - loss: 0.4625 - accuracy: 0.7760\nEpoch 180/500\n16/16 - 0s - loss: 0.4631 - accuracy: 0.7761\nEpoch 181/500\n16/16 - 0s - loss: 0.4620 - accuracy: 0.7766\nEpoch 182/500\n16/16 - 0s - loss: 0.4635 - accuracy: 0.7753\nEpoch 183/500\n16/16 - 0s - loss: 0.4643 - accuracy: 0.7750\nEpoch 184/500\n16/16 - 0s - loss: 0.4641 - accuracy: 0.7756\nEpoch 185/500\n16/16 - 0s - loss: 0.4631 - accuracy: 0.7750\nEpoch 186/500\n16/16 - 0s - loss: 0.4615 - accuracy: 0.7780\nEpoch 187/500\n16/16 - 0s - loss: 0.4612 - accuracy: 0.7781\nEpoch 188/500\n16/16 - 0s - loss: 0.4614 - accuracy: 0.7783\nEpoch 189/500\n16/16 - 0s - loss: 0.4610 - accuracy: 0.7778\nEpoch 190/500\n16/16 - 0s - loss: 0.4609 - accuracy: 0.7771\nEpoch 191/500\n16/16 - 0s - loss: 0.4614 - accuracy: 0.7781\nEpoch 192/500\n16/16 - 0s - loss: 0.4610 - accuracy: 0.7769\nEpoch 193/500\n16/16 - 0s - loss: 0.4610 - accuracy: 0.7776\nEpoch 194/500\n16/16 - 0s - loss: 0.4613 - accuracy: 0.7786\nEpoch 195/500\n16/16 - 0s - loss: 0.4613 - accuracy: 0.7756\nEpoch 196/500\n16/16 - 0s - loss: 0.4604 - accuracy: 0.7778\nEpoch 197/500\n16/16 - 0s - loss: 0.4623 - accuracy: 0.7765\nEpoch 198/500\n16/16 - 0s - loss: 0.4610 - accuracy: 0.7790\nEpoch 199/500\n16/16 - 0s - loss: 0.4610 - accuracy: 0.7783\nEpoch 200/500\n16/16 - 0s - loss: 0.4597 - accuracy: 0.7785\nEpoch 201/500\n16/16 - 0s - loss: 0.4600 - accuracy: 0.7777\nEpoch 202/500\n16/16 - 0s - loss: 0.4597 - accuracy: 0.7783\nEpoch 203/500\n16/16 - 0s - loss: 0.4589 - accuracy: 0.7784\nEpoch 204/500\n16/16 - 0s - loss: 0.4601 - accuracy: 0.7779\nEpoch 205/500\n16/16 - 0s - loss: 0.4609 - accuracy: 0.7783\nEpoch 206/500\n16/16 - 0s - loss: 0.4600 - accuracy: 0.7784\nEpoch 207/500\n16/16 - 0s - loss: 0.4591 - accuracy: 0.7786\nEpoch 208/500\n16/16 - 0s - loss: 0.4588 - accuracy: 0.7786\nEpoch 209/500\n16/16 - 0s - loss: 0.4594 - accuracy: 0.7777\nEpoch 210/500\n16/16 - 0s - loss: 0.4594 - accuracy: 0.7790\nEpoch 211/500\n16/16 - 0s - loss: 0.4599 - accuracy: 0.7774\nEpoch 212/500\n16/16 - 0s - loss: 0.4590 - accuracy: 0.7797\nEpoch 213/500\n16/16 - 0s - loss: 0.4584 - accuracy: 0.7781\nEpoch 214/500\n16/16 - 0s - loss: 0.4577 - accuracy: 0.7794\nEpoch 215/500\n16/16 - 0s - loss: 0.4580 - accuracy: 0.7782\nEpoch 216/500\n16/16 - 0s - loss: 0.4588 - accuracy: 0.7788\nEpoch 217/500\n16/16 - 0s - loss: 0.4579 - accuracy: 0.7806\nEpoch 218/500\n16/16 - 0s - loss: 0.4571 - accuracy: 0.7795\nEpoch 219/500\n16/16 - 0s - loss: 0.4572 - accuracy: 0.7805\nEpoch 220/500\n16/16 - 0s - loss: 0.4580 - accuracy: 0.7782\nEpoch 221/500\n16/16 - 0s - loss: 0.4575 - accuracy: 0.7802\nEpoch 222/500\n16/16 - 0s - loss: 0.4577 - accuracy: 0.7803\nEpoch 223/500\n16/16 - 0s - loss: 0.4585 - accuracy: 0.7795\nEpoch 224/500\n16/16 - 0s - loss: 0.4580 - accuracy: 0.7798\nEpoch 225/500\n16/16 - 0s - loss: 0.4573 - accuracy: 0.7802\nEpoch 226/500\n16/16 - 0s - loss: 0.4576 - accuracy: 0.7794\nEpoch 227/500\n16/16 - 0s - loss: 0.4556 - accuracy: 0.7805\nEpoch 228/500\n16/16 - 0s - loss: 0.4563 - accuracy: 0.7798\nEpoch 229/500\n16/16 - 0s - loss: 0.4560 - accuracy: 0.7803\nEpoch 230/500\n16/16 - 0s - loss: 0.4571 - accuracy: 0.7799\nEpoch 231/500\n16/16 - 0s - loss: 0.4558 - accuracy: 0.7810\nEpoch 232/500\n16/16 - 0s - loss: 0.4563 - accuracy: 0.7797\nEpoch 233/500\n16/16 - 0s - loss: 0.4562 - accuracy: 0.7799\nEpoch 234/500\n16/16 - 0s - loss: 0.4567 - accuracy: 0.7802\nEpoch 235/500\n16/16 - 0s - loss: 0.4554 - accuracy: 0.7799\nEpoch 236/500\n16/16 - 0s - loss: 0.4555 - accuracy: 0.7811\nEpoch 237/500\n16/16 - 0s - loss: 0.4553 - accuracy: 0.7810\nEpoch 238/500\n16/16 - 0s - loss: 0.4563 - accuracy: 0.7804\nEpoch 239/500\n16/16 - 0s - loss: 0.4563 - accuracy: 0.7803\nEpoch 240/500\n16/16 - 0s - loss: 0.4589 - accuracy: 0.7782\nEpoch 241/500\n16/16 - 0s - loss: 0.4603 - accuracy: 0.7778\nEpoch 242/500\n16/16 - 0s - loss: 0.4558 - accuracy: 0.7801\nEpoch 243/500\n16/16 - 0s - loss: 0.4546 - accuracy: 0.7805\nEpoch 244/500\n16/16 - 0s - loss: 0.4559 - accuracy: 0.7793\nEpoch 245/500\n16/16 - 0s - loss: 0.4539 - accuracy: 0.7823\nEpoch 246/500\n16/16 - 0s - loss: 0.4537 - accuracy: 0.7814\nEpoch 247/500\n16/16 - 0s - loss: 0.4554 - accuracy: 0.7810\nEpoch 248/500\n16/16 - 0s - loss: 0.4541 - accuracy: 0.7817\nEpoch 249/500\n16/16 - 0s - loss: 0.4538 - accuracy: 0.7808\nEpoch 250/500\n16/16 - 0s - loss: 0.4550 - accuracy: 0.7814\nEpoch 251/500\n16/16 - 0s - loss: 0.4538 - accuracy: 0.7820\nEpoch 252/500\n16/16 - 0s - loss: 0.4538 - accuracy: 0.7807\nEpoch 253/500\n16/16 - 0s - loss: 0.4538 - accuracy: 0.7825\nEpoch 254/500\n16/16 - 0s - loss: 0.4524 - accuracy: 0.7833\nEpoch 255/500\n16/16 - 0s - loss: 0.4532 - accuracy: 0.7819\nEpoch 256/500\n16/16 - 0s - loss: 0.4532 - accuracy: 0.7830\nEpoch 257/500\n16/16 - 0s - loss: 0.4536 - accuracy: 0.7828\nEpoch 258/500\n16/16 - 0s - loss: 0.4524 - accuracy: 0.7828\nEpoch 259/500\n16/16 - 0s - loss: 0.4545 - accuracy: 0.7809\nEpoch 260/500\n16/16 - 0s - loss: 0.4545 - accuracy: 0.7815\nEpoch 261/500\n16/16 - 0s - loss: 0.4550 - accuracy: 0.7820\nEpoch 262/500\n16/16 - 0s - loss: 0.4530 - accuracy: 0.7826\nEpoch 263/500\n16/16 - 0s - loss: 0.4527 - accuracy: 0.7830\nEpoch 264/500\n16/16 - 0s - loss: 0.4518 - accuracy: 0.7833\nEpoch 265/500\n16/16 - 0s - loss: 0.4514 - accuracy: 0.7835\nEpoch 266/500\n16/16 - 0s - loss: 0.4516 - accuracy: 0.7842\nEpoch 267/500\n16/16 - 0s - loss: 0.4519 - accuracy: 0.7836\nEpoch 268/500\n16/16 - 0s - loss: 0.4527 - accuracy: 0.7832\nEpoch 269/500\n16/16 - 0s - loss: 0.4522 - accuracy: 0.7814\nEpoch 270/500\n16/16 - 0s - loss: 0.4519 - accuracy: 0.7828\nEpoch 271/500\n16/16 - 0s - loss: 0.4535 - accuracy: 0.7823\nEpoch 272/500\n16/16 - 0s - loss: 0.4534 - accuracy: 0.7811\nEpoch 273/500\n16/16 - 0s - loss: 0.4508 - accuracy: 0.7826\nEpoch 274/500\n16/16 - 0s - loss: 0.4510 - accuracy: 0.7833\nEpoch 275/500\n16/16 - 0s - loss: 0.4503 - accuracy: 0.7844\nEpoch 276/500\n16/16 - 0s - loss: 0.4510 - accuracy: 0.7834\nEpoch 277/500\n16/16 - 0s - loss: 0.4516 - accuracy: 0.7826\nEpoch 278/500\n16/16 - 0s - loss: 0.4509 - accuracy: 0.7846\nEpoch 279/500\n16/16 - 0s - loss: 0.4509 - accuracy: 0.7846\nEpoch 280/500\n16/16 - 0s - loss: 0.4510 - accuracy: 0.7832\nEpoch 281/500\n16/16 - 0s - loss: 0.4513 - accuracy: 0.7847\nEpoch 282/500\n16/16 - 0s - loss: 0.4502 - accuracy: 0.7839\nEpoch 283/500\n16/16 - 0s - loss: 0.4513 - accuracy: 0.7831\nEpoch 284/500\n16/16 - 0s - loss: 0.4529 - accuracy: 0.7835\nEpoch 285/500\n16/16 - 0s - loss: 0.4507 - accuracy: 0.7843\nEpoch 286/500\n16/16 - 0s - loss: 0.4500 - accuracy: 0.7850\nEpoch 287/500\n16/16 - 0s - loss: 0.4507 - accuracy: 0.7840\nEpoch 288/500\n16/16 - 0s - loss: 0.4496 - accuracy: 0.7854\nEpoch 289/500\n16/16 - 0s - loss: 0.4499 - accuracy: 0.7845\nEpoch 290/500\n16/16 - 0s - loss: 0.4508 - accuracy: 0.7836\nEpoch 291/500\n16/16 - 0s - loss: 0.4507 - accuracy: 0.7827\nEpoch 292/500\n16/16 - 0s - loss: 0.4490 - accuracy: 0.7866\nEpoch 293/500\n16/16 - 0s - loss: 0.4503 - accuracy: 0.7839\nEpoch 294/500\n16/16 - 0s - loss: 0.4495 - accuracy: 0.7847\nEpoch 295/500\n16/16 - 0s - loss: 0.4492 - accuracy: 0.7842\nEpoch 296/500\n16/16 - 0s - loss: 0.4495 - accuracy: 0.7852\nEpoch 297/500\n16/16 - 0s - loss: 0.4494 - accuracy: 0.7857\nEpoch 298/500\n16/16 - 0s - loss: 0.4490 - accuracy: 0.7849\nEpoch 299/500\n16/16 - 0s - loss: 0.4516 - accuracy: 0.7835\nEpoch 300/500\n16/16 - 0s - loss: 0.4497 - accuracy: 0.7849\nEpoch 301/500\n16/16 - 0s - loss: 0.4481 - accuracy: 0.7840\nEpoch 302/500\n16/16 - 0s - loss: 0.4489 - accuracy: 0.7838\nEpoch 303/500\n16/16 - 0s - loss: 0.4490 - accuracy: 0.7863\nEpoch 304/500\n16/16 - 0s - loss: 0.4502 - accuracy: 0.7837\nEpoch 305/500\n16/16 - 0s - loss: 0.4478 - accuracy: 0.7853\nEpoch 306/500\n16/16 - 0s - loss: 0.4489 - accuracy: 0.7850\nEpoch 307/500\n16/16 - 0s - loss: 0.4486 - accuracy: 0.7842\nEpoch 308/500\n16/16 - 0s - loss: 0.4480 - accuracy: 0.7867\nEpoch 309/500\n16/16 - 0s - loss: 0.4476 - accuracy: 0.7858\nEpoch 310/500\n16/16 - 0s - loss: 0.4480 - accuracy: 0.7865\nEpoch 311/500\n16/16 - 0s - loss: 0.4482 - accuracy: 0.7847\nEpoch 312/500\n16/16 - 0s - loss: 0.4490 - accuracy: 0.7848\nEpoch 313/500\n16/16 - 0s - loss: 0.4470 - accuracy: 0.7859\nEpoch 314/500\n16/16 - 0s - loss: 0.4470 - accuracy: 0.7854\nEpoch 315/500\n16/16 - 0s - loss: 0.4465 - accuracy: 0.7853\nEpoch 316/500\n16/16 - 0s - loss: 0.4467 - accuracy: 0.7866\nEpoch 317/500\n16/16 - 0s - loss: 0.4466 - accuracy: 0.7868\nEpoch 318/500\n16/16 - 0s - loss: 0.4465 - accuracy: 0.7864\nEpoch 319/500\n16/16 - 0s - loss: 0.4469 - accuracy: 0.7865\nEpoch 320/500\n16/16 - 0s - loss: 0.4464 - accuracy: 0.7859\nEpoch 321/500\n16/16 - 0s - loss: 0.4461 - accuracy: 0.7871\nEpoch 322/500\n16/16 - 0s - loss: 0.4475 - accuracy: 0.7862\nEpoch 323/500\n16/16 - 0s - loss: 0.4462 - accuracy: 0.7866\nEpoch 324/500\n16/16 - 0s - loss: 0.4455 - accuracy: 0.7870\nEpoch 325/500\n16/16 - 0s - loss: 0.4466 - accuracy: 0.7859\nEpoch 326/500\n16/16 - 0s - loss: 0.4469 - accuracy: 0.7885\nEpoch 327/500\n16/16 - 0s - loss: 0.4468 - accuracy: 0.7858\nEpoch 328/500\n16/16 - 0s - loss: 0.4467 - accuracy: 0.7865\nEpoch 329/500\n16/16 - 0s - loss: 0.4462 - accuracy: 0.7860\nEpoch 330/500\n16/16 - 0s - loss: 0.4454 - accuracy: 0.7870\nEpoch 331/500\n16/16 - 0s - loss: 0.4458 - accuracy: 0.7857\nEpoch 332/500\n16/16 - 0s - loss: 0.4452 - accuracy: 0.7871\nEpoch 333/500\n16/16 - 0s - loss: 0.4447 - accuracy: 0.7874\nEpoch 334/500\n16/16 - 0s - loss: 0.4446 - accuracy: 0.7873\nEpoch 335/500\n16/16 - 0s - loss: 0.4443 - accuracy: 0.7872\nEpoch 336/500\n16/16 - 0s - loss: 0.4457 - accuracy: 0.7877\nEpoch 337/500\n16/16 - 0s - loss: 0.4461 - accuracy: 0.7870\nEpoch 338/500\n16/16 - 0s - loss: 0.4459 - accuracy: 0.7859\nEpoch 339/500\n16/16 - 0s - loss: 0.4452 - accuracy: 0.7868\nEpoch 340/500\n16/16 - 0s - loss: 0.4457 - accuracy: 0.7875\nEpoch 341/500\n16/16 - 0s - loss: 0.4440 - accuracy: 0.7867\nEpoch 342/500\n16/16 - 0s - loss: 0.4467 - accuracy: 0.7856\nEpoch 343/500\n16/16 - 0s - loss: 0.4442 - accuracy: 0.7872\nEpoch 344/500\n16/16 - 0s - loss: 0.4450 - accuracy: 0.7875\nEpoch 345/500\n16/16 - 0s - loss: 0.4450 - accuracy: 0.7862\nEpoch 346/500\n16/16 - 0s - loss: 0.4443 - accuracy: 0.7862\nEpoch 347/500\n16/16 - 0s - loss: 0.4452 - accuracy: 0.7864\nEpoch 348/500\n16/16 - 0s - loss: 0.4464 - accuracy: 0.7864\nEpoch 349/500\n16/16 - 0s - loss: 0.4475 - accuracy: 0.7848\nEpoch 350/500\n16/16 - 0s - loss: 0.4465 - accuracy: 0.7847\nEpoch 351/500\n16/16 - 0s - loss: 0.4496 - accuracy: 0.7835\nEpoch 352/500\n16/16 - 0s - loss: 0.4443 - accuracy: 0.7871\nEpoch 353/500\n16/16 - 0s - loss: 0.4431 - accuracy: 0.7883\nEpoch 354/500\n16/16 - 0s - loss: 0.4433 - accuracy: 0.7874\nEpoch 355/500\n16/16 - 0s - loss: 0.4429 - accuracy: 0.7879\nEpoch 356/500\n16/16 - 0s - loss: 0.4429 - accuracy: 0.7883\nEpoch 357/500\n16/16 - 0s - loss: 0.4437 - accuracy: 0.7871\nEpoch 358/500\n16/16 - 0s - loss: 0.4443 - accuracy: 0.7879\nEpoch 359/500\n16/16 - 0s - loss: 0.4436 - accuracy: 0.7885\nEpoch 360/500\n16/16 - 0s - loss: 0.4430 - accuracy: 0.7875\nEpoch 361/500\n16/16 - 0s - loss: 0.4430 - accuracy: 0.7882\nEpoch 362/500\n16/16 - 0s - loss: 0.4427 - accuracy: 0.7891\nEpoch 363/500\n16/16 - 0s - loss: 0.4428 - accuracy: 0.7885\nEpoch 364/500\n16/16 - 0s - loss: 0.4419 - accuracy: 0.7886\nEpoch 365/500\n16/16 - 0s - loss: 0.4423 - accuracy: 0.7886\nEpoch 366/500\n16/16 - 0s - loss: 0.4418 - accuracy: 0.7878\nEpoch 367/500\n16/16 - 0s - loss: 0.4426 - accuracy: 0.7863\nEpoch 368/500\n16/16 - 0s - loss: 0.4420 - accuracy: 0.7888\nEpoch 369/500\n16/16 - 0s - loss: 0.4422 - accuracy: 0.7880\nEpoch 370/500\n16/16 - 0s - loss: 0.4423 - accuracy: 0.7881\nEpoch 371/500\n16/16 - 0s - loss: 0.4416 - accuracy: 0.7898\nEpoch 372/500\n16/16 - 0s - loss: 0.4422 - accuracy: 0.7879\nEpoch 373/500\n16/16 - 0s - loss: 0.4417 - accuracy: 0.7890\nEpoch 374/500\n16/16 - 0s - loss: 0.4420 - accuracy: 0.7891\nEpoch 375/500\n16/16 - 0s - loss: 0.4418 - accuracy: 0.7878\nEpoch 376/500\n16/16 - 0s - loss: 0.4413 - accuracy: 0.7895\nEpoch 377/500\n16/16 - 0s - loss: 0.4419 - accuracy: 0.7891\nEpoch 378/500\n16/16 - 0s - loss: 0.4431 - accuracy: 0.7879\nEpoch 379/500\n16/16 - 0s - loss: 0.4443 - accuracy: 0.7886\nEpoch 380/500\n16/16 - 0s - loss: 0.4465 - accuracy: 0.7872\nEpoch 381/500\n16/16 - 0s - loss: 0.4424 - accuracy: 0.7891\nEpoch 382/500\n16/16 - 0s - loss: 0.4445 - accuracy: 0.7870\nEpoch 383/500\n16/16 - 0s - loss: 0.4420 - accuracy: 0.7888\nEpoch 384/500\n16/16 - 0s - loss: 0.4413 - accuracy: 0.7903\nEpoch 385/500\n16/16 - 0s - loss: 0.4423 - accuracy: 0.7876\nEpoch 386/500\n16/16 - 0s - loss: 0.4406 - accuracy: 0.7900\nEpoch 387/500\n16/16 - 0s - loss: 0.4408 - accuracy: 0.7891\nEpoch 388/500\n16/16 - 0s - loss: 0.4412 - accuracy: 0.7909\nEpoch 389/500\n16/16 - 0s - loss: 0.4398 - accuracy: 0.7905\nEpoch 390/500\n16/16 - 0s - loss: 0.4410 - accuracy: 0.7900\nEpoch 391/500\n16/16 - 0s - loss: 0.4408 - accuracy: 0.7900\nEpoch 392/500\n16/16 - 0s - loss: 0.4404 - accuracy: 0.7903\nEpoch 393/500\n16/16 - 0s - loss: 0.4413 - accuracy: 0.7891\nEpoch 394/500\n16/16 - 0s - loss: 0.4409 - accuracy: 0.7881\nEpoch 395/500\n16/16 - 0s - loss: 0.4439 - accuracy: 0.7874\nEpoch 396/500\n16/16 - 0s - loss: 0.4416 - accuracy: 0.7887\nEpoch 397/500\n16/16 - 0s - loss: 0.4405 - accuracy: 0.7888\nEpoch 398/500\n16/16 - 0s - loss: 0.4414 - accuracy: 0.7879\nEpoch 399/500\n16/16 - 0s - loss: 0.4408 - accuracy: 0.7890\nEpoch 400/500\n16/16 - 0s - loss: 0.4405 - accuracy: 0.7895\nEpoch 401/500\n16/16 - 0s - loss: 0.4394 - accuracy: 0.7895\nEpoch 402/500\n16/16 - 0s - loss: 0.4393 - accuracy: 0.7903\nEpoch 403/500\n16/16 - 0s - loss: 0.4401 - accuracy: 0.7890\nEpoch 404/500\n16/16 - 0s - loss: 0.4402 - accuracy: 0.7894\nEpoch 405/500\n16/16 - 0s - loss: 0.4397 - accuracy: 0.7908\nEpoch 406/500\n16/16 - 0s - loss: 0.4395 - accuracy: 0.7896\nEpoch 407/500\n16/16 - 0s - loss: 0.4395 - accuracy: 0.7911\nEpoch 408/500\n16/16 - 0s - loss: 0.4400 - accuracy: 0.7901\nEpoch 409/500\n16/16 - 0s - loss: 0.4394 - accuracy: 0.7909\nEpoch 410/500\n16/16 - 0s - loss: 0.4401 - accuracy: 0.7910\nEpoch 411/500\n16/16 - 0s - loss: 0.4402 - accuracy: 0.7910\nEpoch 412/500\n16/16 - 0s - loss: 0.4420 - accuracy: 0.7888\nEpoch 413/500\n16/16 - 0s - loss: 0.4408 - accuracy: 0.7887\nEpoch 414/500\n16/16 - 0s - loss: 0.4390 - accuracy: 0.7899\nEpoch 415/500\n16/16 - 0s - loss: 0.4386 - accuracy: 0.7927\nEpoch 416/500\n16/16 - 0s - loss: 0.4387 - accuracy: 0.7905\nEpoch 417/500\n16/16 - 0s - loss: 0.4379 - accuracy: 0.7907\nEpoch 418/500\n16/16 - 0s - loss: 0.4380 - accuracy: 0.7911\nEpoch 419/500\n16/16 - 0s - loss: 0.4375 - accuracy: 0.7915\nEpoch 420/500\n16/16 - 0s - loss: 0.4381 - accuracy: 0.7908\nEpoch 421/500\n16/16 - 0s - loss: 0.4399 - accuracy: 0.7902\nEpoch 422/500\n16/16 - 0s - loss: 0.4399 - accuracy: 0.7904\nEpoch 423/500\n16/16 - 0s - loss: 0.4373 - accuracy: 0.7917\nEpoch 424/500\n16/16 - 0s - loss: 0.4371 - accuracy: 0.7918\nEpoch 425/500\n16/16 - 0s - loss: 0.4375 - accuracy: 0.7916\nEpoch 426/500\n16/16 - 0s - loss: 0.4384 - accuracy: 0.7923\nEpoch 427/500\n16/16 - 0s - loss: 0.4384 - accuracy: 0.7901\nEpoch 428/500\n16/16 - 0s - loss: 0.4385 - accuracy: 0.7900\nEpoch 429/500\n16/16 - 0s - loss: 0.4382 - accuracy: 0.7902\nEpoch 430/500\n16/16 - 0s - loss: 0.4414 - accuracy: 0.7895\nEpoch 431/500\n16/16 - 0s - loss: 0.4383 - accuracy: 0.7903\nEpoch 432/500\n16/16 - 0s - loss: 0.4391 - accuracy: 0.7899\nEpoch 433/500\n16/16 - 0s - loss: 0.4373 - accuracy: 0.7919\nEpoch 434/500\n16/16 - 0s - loss: 0.4371 - accuracy: 0.7922\nEpoch 435/500\n16/16 - 0s - loss: 0.4370 - accuracy: 0.7931\nEpoch 436/500\n16/16 - 0s - loss: 0.4373 - accuracy: 0.7912\nEpoch 437/500\n16/16 - 0s - loss: 0.4369 - accuracy: 0.7918\nEpoch 438/500\n16/16 - 0s - loss: 0.4381 - accuracy: 0.7911\nEpoch 439/500\n16/16 - 0s - loss: 0.4362 - accuracy: 0.7920\nEpoch 440/500\n16/16 - 0s - loss: 0.4360 - accuracy: 0.7924\nEpoch 441/500\n16/16 - 0s - loss: 0.4371 - accuracy: 0.7913\nEpoch 442/500\n16/16 - 0s - loss: 0.4368 - accuracy: 0.7921\nEpoch 443/500\n16/16 - 0s - loss: 0.4364 - accuracy: 0.7906\nEpoch 444/500\n16/16 - 0s - loss: 0.4371 - accuracy: 0.7919\nEpoch 445/500\n16/16 - 0s - loss: 0.4367 - accuracy: 0.7911\nEpoch 446/500\n16/16 - 0s - loss: 0.4367 - accuracy: 0.7915\nEpoch 447/500\n16/16 - 0s - loss: 0.4375 - accuracy: 0.7935\nEpoch 448/500\n16/16 - 0s - loss: 0.4366 - accuracy: 0.7928\nEpoch 449/500\n16/16 - 0s - loss: 0.4370 - accuracy: 0.7905\nEpoch 450/500\n16/16 - 0s - loss: 0.4353 - accuracy: 0.7922\nEpoch 451/500\n16/16 - 0s - loss: 0.4351 - accuracy: 0.7930\nEpoch 452/500\n16/16 - 0s - loss: 0.4357 - accuracy: 0.7908\nEpoch 453/500\n16/16 - 0s - loss: 0.4356 - accuracy: 0.7921\nEpoch 454/500\n16/16 - 0s - loss: 0.4362 - accuracy: 0.7914\nEpoch 455/500\n16/16 - 0s - loss: 0.4378 - accuracy: 0.7913\nEpoch 456/500\n16/16 - 0s - loss: 0.4383 - accuracy: 0.7900\nEpoch 457/500\n16/16 - 0s - loss: 0.4388 - accuracy: 0.7895\nEpoch 458/500\n16/16 - 0s - loss: 0.4357 - accuracy: 0.7931\nEpoch 459/500\n16/16 - 0s - loss: 0.4344 - accuracy: 0.7931\nEpoch 460/500\n16/16 - 0s - loss: 0.4370 - accuracy: 0.7917\nEpoch 461/500\n16/16 - 0s - loss: 0.4350 - accuracy: 0.7920\nEpoch 462/500\n16/16 - 0s - loss: 0.4359 - accuracy: 0.7923\nEpoch 463/500\n16/16 - 0s - loss: 0.4356 - accuracy: 0.7923\nEpoch 464/500\n16/16 - 0s - loss: 0.4341 - accuracy: 0.7936\nEpoch 465/500\n16/16 - 0s - loss: 0.4347 - accuracy: 0.7920\nEpoch 466/500\n16/16 - 0s - loss: 0.4344 - accuracy: 0.7931\nEpoch 467/500\n16/16 - 0s - loss: 0.4347 - accuracy: 0.7941\nEpoch 468/500\n16/16 - 0s - loss: 0.4356 - accuracy: 0.7925\nEpoch 469/500\n16/16 - 0s - loss: 0.4357 - accuracy: 0.7921\nEpoch 470/500\n16/16 - 0s - loss: 0.4369 - accuracy: 0.7916\nEpoch 471/500\n16/16 - 0s - loss: 0.4340 - accuracy: 0.7931\nEpoch 472/500\n16/16 - 0s - loss: 0.4338 - accuracy: 0.7934\nEpoch 473/500\n16/16 - 0s - loss: 0.4343 - accuracy: 0.7928\nEpoch 474/500\n16/16 - 0s - loss: 0.4350 - accuracy: 0.7925\nEpoch 475/500\n16/16 - 0s - loss: 0.4362 - accuracy: 0.7926\nEpoch 476/500\n16/16 - 0s - loss: 0.4344 - accuracy: 0.7931\nEpoch 477/500\n16/16 - 0s - loss: 0.4340 - accuracy: 0.7930\nEpoch 478/500\n16/16 - 0s - loss: 0.4346 - accuracy: 0.7924\nEpoch 479/500\n16/16 - 0s - loss: 0.4360 - accuracy: 0.7924\nEpoch 480/500\n16/16 - 0s - loss: 0.4347 - accuracy: 0.7928\nEpoch 481/500\n16/16 - 0s - loss: 0.4352 - accuracy: 0.7924\nEpoch 482/500\n16/16 - 0s - loss: 0.4334 - accuracy: 0.7928\nEpoch 483/500\n16/16 - 0s - loss: 0.4325 - accuracy: 0.7943\nEpoch 484/500\n16/16 - 0s - loss: 0.4357 - accuracy: 0.7931\nEpoch 485/500\n16/16 - 0s - loss: 0.4339 - accuracy: 0.7932\nEpoch 486/500\n16/16 - 0s - loss: 0.4336 - accuracy: 0.7941\nEpoch 487/500\n16/16 - 0s - loss: 0.4334 - accuracy: 0.7943\nEpoch 488/500\n16/16 - 0s - loss: 0.4345 - accuracy: 0.7934\nEpoch 489/500\n16/16 - 0s - loss: 0.4352 - accuracy: 0.7933\nEpoch 490/500\n16/16 - 0s - loss: 0.4368 - accuracy: 0.7932\nEpoch 491/500\n16/16 - 0s - loss: 0.4347 - accuracy: 0.7918\nEpoch 492/500\n16/16 - 0s - loss: 0.4339 - accuracy: 0.7921\nEpoch 493/500\n16/16 - 0s - loss: 0.4326 - accuracy: 0.7944\nEpoch 494/500\n16/16 - 0s - loss: 0.4348 - accuracy: 0.7922\nEpoch 495/500\n16/16 - 0s - loss: 0.4321 - accuracy: 0.7939\nEpoch 496/500\n16/16 - 0s - loss: 0.4332 - accuracy: 0.7934\nEpoch 497/500\n16/16 - 0s - loss: 0.4327 - accuracy: 0.7947\nEpoch 498/500\n16/16 - 0s - loss: 0.4332 - accuracy: 0.7931\nEpoch 499/500\n16/16 - 0s - loss: 0.4324 - accuracy: 0.7939\nEpoch 500/500\n16/16 - 0s - loss: 0.4331 - accuracy: 0.7931\n"
    }
   ],
   "source": [
    "#Training the Model\n",
    "import tensorflow as tf\n",
    "\n",
    "history = model.fit(X_train_scaled, y_train_categorical, epochs=500, batch_size=2000, shuffle=True, verbose=2)"
   ]
  },
  {
   "cell_type": "markdown",
   "metadata": {},
   "source": [
    "## Validation of the Model"
   ]
  },
  {
   "cell_type": "code",
   "execution_count": 15,
   "metadata": {
    "tags": []
   },
   "outputs": [
    {
     "output_type": "stream",
     "name": "stdout",
     "text": "964/964 - 2s - loss: 0.4328 - accuracy: 0.7947\n322/322 - 1s - loss: 0.4707 - accuracy: 0.7785\nTRAINING DATA --> Loss: 0.4327528178691864, Accuracy: 0.7946738600730896\nTESTING DATA --> Loss: 0.47067752480506897, Accuracy: 0.7785345911979675\n"
    }
   ],
   "source": [
    "#Evaluate the Model using the testing data\n",
    "#Compare Model performace between training and testing data\n",
    "model_loss_train, model_accuracy_train = model.evaluate(X_train_scaled, y_train_categorical, verbose=2)\n",
    "model_loss, model_accuracy = model.evaluate(X_test_scaled, y_test_categorical, verbose=2)\n",
    "\n",
    "print(f\"TRAINING DATA --> Loss: {model_loss_train}, Accuracy: {model_accuracy_train}\")    \n",
    "print(f\"TESTING DATA --> Loss: {model_loss}, Accuracy: {model_accuracy}\")"
   ]
  },
  {
   "cell_type": "markdown",
   "metadata": {},
   "source": [
    "## Saving the Trained Model"
   ]
  },
  {
   "cell_type": "code",
   "execution_count": 16,
   "metadata": {},
   "outputs": [],
   "source": [
    "# # # Save the model\n",
    "# # Define working directory\n",
    "# os.chdir(r\"C:\\Users\\hguzm\\Documents\\000. Personal\\Bootcamp\\Proyectos\\FinalProject-Spotify\")\n",
    "# model.save(\"spotify_DeepLearning_Model.h5\")"
   ]
  },
  {
   "cell_type": "markdown",
   "metadata": {},
   "source": [
    "## Loading a Model"
   ]
  },
  {
   "cell_type": "code",
   "execution_count": 17,
   "metadata": {},
   "outputs": [],
   "source": [
    "# Load the model  \n",
    "from tensorflow.keras.models import load_model\n",
    "# Define working directory\n",
    "# os.chdir(r\"C:\\Users\\hguzm\\Documents\\000. Personal\\Bootcamp\\Proyectos\\FinalProject-Spotify\")\n",
    "# model = load_model(\"spotify_DeepLearning_Model.h5\")"
   ]
  },
  {
   "cell_type": "code",
   "execution_count": 18,
   "metadata": {
    "tags": []
   },
   "outputs": [
    {
     "output_type": "stream",
     "name": "stdout",
     "text": "Model: \"sequential\"\n_________________________________________________________________\nLayer (type)                 Output Shape              Param #   \n=================================================================\ndense (Dense)                (None, 14)                224       \n_________________________________________________________________\ndense_1 (Dense)              (None, 120)               1800      \n_________________________________________________________________\ndense_2 (Dense)              (None, 80)                9680      \n_________________________________________________________________\ndense_3 (Dense)              (None, 2)                 162       \n=================================================================\nTotal params: 11,866\nTrainable params: 11,866\nNon-trainable params: 0\n_________________________________________________________________\n"
    }
   ],
   "source": [
    "model.summary()"
   ]
  },
  {
   "cell_type": "markdown",
   "metadata": {},
   "source": [
    "## Validation of the Model"
   ]
  },
  {
   "cell_type": "code",
   "execution_count": 19,
   "metadata": {
    "tags": []
   },
   "outputs": [],
   "source": [
    "# #Evaluate the Model using the testing data\n",
    "# model_loss, model_accuracy = model.evaluate(X_test_scaled, y_test_categorical, verbose=2)\n",
    "    \n",
    "# print(f\"Loss: {model_loss}, Accuracy: {model_accuracy}\")"
   ]
  },
  {
   "cell_type": "code",
   "execution_count": 20,
   "metadata": {},
   "outputs": [],
   "source": [
    "# #Making Predictions with new data\n",
    "# new_data = np.array([[0.2, 0.3, 0.4,0.2, 0.3, 0.4,0.2, 0.3, 0.4,0.2, 0.3, 0.4,0.2, 0.3, 0.4]])  # AQUI IRIA INFORMACIÓN DEL API\n",
    "# print(f\"Predicted class: {model.predict_classes(new_data)}\")"
   ]
  }
 ],
 "metadata": {
  "language_info": {
   "codemirror_mode": {
    "name": "ipython",
    "version": 3
   },
   "file_extension": ".py",
   "mimetype": "text/x-python",
   "name": "python",
   "nbconvert_exporter": "python",
   "pygments_lexer": "ipython3",
   "version": "3.7.4-final"
  },
  "orig_nbformat": 2,
  "kernelspec": {
   "name": "python37464bitbaseconda621df6d49d2c4311a89d7503a44084b1",
   "display_name": "Python 3.7.4 64-bit ('base': conda)"
  }
 },
 "nbformat": 4,
 "nbformat_minor": 2
}
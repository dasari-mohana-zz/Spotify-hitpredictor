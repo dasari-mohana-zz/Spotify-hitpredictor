{
 "cells": [
  {
   "cell_type": "code",
   "execution_count": 1,
   "metadata": {},
   "outputs": [],
   "source": [
    "import os\n",
    "import glob\n",
    "import pandas as pd"
   ]
  },
  {
   "cell_type": "code",
   "execution_count": 7,
   "metadata": {},
   "outputs": [],
   "source": [
    "# Define working directory\n",
    "os.chdir(r\"C:\\Users\\Cristina Bardan\\Desktop\\Repositories\\FinalProject-Spotify\\Original_data\")"
   ]
  },
  {
   "cell_type": "code",
   "execution_count": 8,
   "metadata": {},
   "outputs": [
    {
     "output_type": "execute_result",
     "data": {
      "text/plain": "['dataset-of-00s.csv',\n 'dataset-of-10s.csv',\n 'dataset-of-60s.csv',\n 'dataset-of-70s.csv',\n 'dataset-of-80s.csv',\n 'dataset-of-90s.csv']"
     },
     "metadata": {},
     "execution_count": 8
    }
   ],
   "source": [
    "# Use glob to match the pattern ‘csv’\n",
    "extension = 'csv'\n",
    "all_filenames = [i for i in glob.glob('*.{}'.format(extension))]\n",
    "all_filenames"
   ]
  },
  {
   "cell_type": "code",
   "execution_count": 11,
   "metadata": {},
   "outputs": [
    {
     "output_type": "execute_result",
     "data": {
      "text/plain": "                                    track             artist  \\\n0                               Lucky Man  Montgomery Gentry   \n1                          On The Hotline       Pretty Ricky   \n2                      Clouds Of Dementia         Candlemass   \n3                Heavy Metal, Raise Hell!      Zwartketterij   \n4                         I Got A Feelin'   Billy Currington   \n...                                   ...                ...   \n41101               (You're A) Go Nowhere       Reagan Youth   \n41102                  La Fiebre de Norma       La Castañeda   \n41103                          Good Times      Edie Brickell   \n41104                               Inane              KMFDM   \n41105  You Can Make History (Young Again)         Elton John   \n\n                                        uri  danceability  energy  key  \\\n0      spotify:track:4GiXBCUF7H6YfNQsnBRIzl         0.578   0.471    4   \n1      spotify:track:1zyqZONW985Cs4osz9wlsu         0.704   0.854   10   \n2      spotify:track:6cHZf7RbxXCKwEkgAZT4mY         0.162   0.836    9   \n3      spotify:track:2IjBPp2vMeX7LggzRN3iSX         0.188   0.994    4   \n4      spotify:track:1tF370eYXUcWwkIvaq3IGz         0.630   0.764    2   \n...                                     ...           ...     ...  ...   \n41101  spotify:track:4e86fqSFhqRQk3Z9hm7XHt         0.396   0.795    9   \n41102  spotify:track:43DFcnOZprnVlAFKwgBJ3e         0.621   0.655    9   \n41103  spotify:track:6UPfnVoOq3y3BvapBIKs8J         0.562   0.314   10   \n41104  spotify:track:2Ao3Wi4raEOQfKQiU9EU8y         0.622   0.781    7   \n41105  spotify:track:3ca91BX2k7GSzEUsx1mPgI         0.664   0.739    2   \n\n       loudness  mode  speechiness  acousticness  instrumentalness  liveness  \\\n0        -7.270     1       0.0289      0.368000          0.000000    0.1590   \n1        -5.477     0       0.1830      0.018500          0.000000    0.1480   \n2        -3.009     1       0.0473      0.000111          0.004570    0.1740   \n3        -3.745     1       0.1660      0.000007          0.078400    0.1920   \n4        -4.353     1       0.0275      0.363000          0.000000    0.1250   \n...         ...   ...          ...           ...               ...       ...   \n41101    -6.070     0       0.2340      0.000928          0.000209    0.1820   \n41102    -6.281     0       0.0309      0.050600          0.006260    0.0937   \n41103   -15.213     0       0.0298      0.440000          0.000011    0.1060   \n41104    -6.080     1       0.0368      0.000101          0.755000    0.3830   \n41105    -9.005     1       0.0262      0.106000          0.054200    0.3330   \n\n       valence    tempo  duration_ms  time_signature  chorus_hit  sections  \\\n0        0.532  133.061       196707               4    30.88059        13   \n1        0.688   92.988       242587               4    41.51106        10   \n2        0.300   86.964       338893               4    65.32887        13   \n3        0.333  148.440       255667               4    58.59528         9   \n4        0.631  112.098       193760               4    22.62384        10   \n...        ...      ...          ...             ...         ...       ...   \n41101    0.762  152.943        82107               4    30.34109         6   \n41102    0.690  134.167       211653               4    34.89506        10   \n41103    0.571  166.847       189827               4    21.11763        10   \n41104    0.214  120.051       330053               4    47.13558        11   \n41105    0.458   92.257       293973               4    42.50341        14   \n\n       target  \n0           1  \n1           1  \n2           0  \n3           0  \n4           1  \n...       ...  \n41101       0  \n41102       0  \n41103       1  \n41104       0  \n41105       1  \n\n[41106 rows x 19 columns]",
      "text/html": "<div>\n<style scoped>\n    .dataframe tbody tr th:only-of-type {\n        vertical-align: middle;\n    }\n\n    .dataframe tbody tr th {\n        vertical-align: top;\n    }\n\n    .dataframe thead th {\n        text-align: right;\n    }\n</style>\n<table border=\"1\" class=\"dataframe\">\n  <thead>\n    <tr style=\"text-align: right;\">\n      <th></th>\n      <th>track</th>\n      <th>artist</th>\n      <th>uri</th>\n      <th>danceability</th>\n      <th>energy</th>\n      <th>key</th>\n      <th>loudness</th>\n      <th>mode</th>\n      <th>speechiness</th>\n      <th>acousticness</th>\n      <th>instrumentalness</th>\n      <th>liveness</th>\n      <th>valence</th>\n      <th>tempo</th>\n      <th>duration_ms</th>\n      <th>time_signature</th>\n      <th>chorus_hit</th>\n      <th>sections</th>\n      <th>target</th>\n    </tr>\n  </thead>\n  <tbody>\n    <tr>\n      <th>0</th>\n      <td>Lucky Man</td>\n      <td>Montgomery Gentry</td>\n      <td>spotify:track:4GiXBCUF7H6YfNQsnBRIzl</td>\n      <td>0.578</td>\n      <td>0.471</td>\n      <td>4</td>\n      <td>-7.270</td>\n      <td>1</td>\n      <td>0.0289</td>\n      <td>0.368000</td>\n      <td>0.000000</td>\n      <td>0.1590</td>\n      <td>0.532</td>\n      <td>133.061</td>\n      <td>196707</td>\n      <td>4</td>\n      <td>30.88059</td>\n      <td>13</td>\n      <td>1</td>\n    </tr>\n    <tr>\n      <th>1</th>\n      <td>On The Hotline</td>\n      <td>Pretty Ricky</td>\n      <td>spotify:track:1zyqZONW985Cs4osz9wlsu</td>\n      <td>0.704</td>\n      <td>0.854</td>\n      <td>10</td>\n      <td>-5.477</td>\n      <td>0</td>\n      <td>0.1830</td>\n      <td>0.018500</td>\n      <td>0.000000</td>\n      <td>0.1480</td>\n      <td>0.688</td>\n      <td>92.988</td>\n      <td>242587</td>\n      <td>4</td>\n      <td>41.51106</td>\n      <td>10</td>\n      <td>1</td>\n    </tr>\n    <tr>\n      <th>2</th>\n      <td>Clouds Of Dementia</td>\n      <td>Candlemass</td>\n      <td>spotify:track:6cHZf7RbxXCKwEkgAZT4mY</td>\n      <td>0.162</td>\n      <td>0.836</td>\n      <td>9</td>\n      <td>-3.009</td>\n      <td>1</td>\n      <td>0.0473</td>\n      <td>0.000111</td>\n      <td>0.004570</td>\n      <td>0.1740</td>\n      <td>0.300</td>\n      <td>86.964</td>\n      <td>338893</td>\n      <td>4</td>\n      <td>65.32887</td>\n      <td>13</td>\n      <td>0</td>\n    </tr>\n    <tr>\n      <th>3</th>\n      <td>Heavy Metal, Raise Hell!</td>\n      <td>Zwartketterij</td>\n      <td>spotify:track:2IjBPp2vMeX7LggzRN3iSX</td>\n      <td>0.188</td>\n      <td>0.994</td>\n      <td>4</td>\n      <td>-3.745</td>\n      <td>1</td>\n      <td>0.1660</td>\n      <td>0.000007</td>\n      <td>0.078400</td>\n      <td>0.1920</td>\n      <td>0.333</td>\n      <td>148.440</td>\n      <td>255667</td>\n      <td>4</td>\n      <td>58.59528</td>\n      <td>9</td>\n      <td>0</td>\n    </tr>\n    <tr>\n      <th>4</th>\n      <td>I Got A Feelin'</td>\n      <td>Billy Currington</td>\n      <td>spotify:track:1tF370eYXUcWwkIvaq3IGz</td>\n      <td>0.630</td>\n      <td>0.764</td>\n      <td>2</td>\n      <td>-4.353</td>\n      <td>1</td>\n      <td>0.0275</td>\n      <td>0.363000</td>\n      <td>0.000000</td>\n      <td>0.1250</td>\n      <td>0.631</td>\n      <td>112.098</td>\n      <td>193760</td>\n      <td>4</td>\n      <td>22.62384</td>\n      <td>10</td>\n      <td>1</td>\n    </tr>\n    <tr>\n      <th>...</th>\n      <td>...</td>\n      <td>...</td>\n      <td>...</td>\n      <td>...</td>\n      <td>...</td>\n      <td>...</td>\n      <td>...</td>\n      <td>...</td>\n      <td>...</td>\n      <td>...</td>\n      <td>...</td>\n      <td>...</td>\n      <td>...</td>\n      <td>...</td>\n      <td>...</td>\n      <td>...</td>\n      <td>...</td>\n      <td>...</td>\n      <td>...</td>\n    </tr>\n    <tr>\n      <th>41101</th>\n      <td>(You're A) Go Nowhere</td>\n      <td>Reagan Youth</td>\n      <td>spotify:track:4e86fqSFhqRQk3Z9hm7XHt</td>\n      <td>0.396</td>\n      <td>0.795</td>\n      <td>9</td>\n      <td>-6.070</td>\n      <td>0</td>\n      <td>0.2340</td>\n      <td>0.000928</td>\n      <td>0.000209</td>\n      <td>0.1820</td>\n      <td>0.762</td>\n      <td>152.943</td>\n      <td>82107</td>\n      <td>4</td>\n      <td>30.34109</td>\n      <td>6</td>\n      <td>0</td>\n    </tr>\n    <tr>\n      <th>41102</th>\n      <td>La Fiebre de Norma</td>\n      <td>La Castañeda</td>\n      <td>spotify:track:43DFcnOZprnVlAFKwgBJ3e</td>\n      <td>0.621</td>\n      <td>0.655</td>\n      <td>9</td>\n      <td>-6.281</td>\n      <td>0</td>\n      <td>0.0309</td>\n      <td>0.050600</td>\n      <td>0.006260</td>\n      <td>0.0937</td>\n      <td>0.690</td>\n      <td>134.167</td>\n      <td>211653</td>\n      <td>4</td>\n      <td>34.89506</td>\n      <td>10</td>\n      <td>0</td>\n    </tr>\n    <tr>\n      <th>41103</th>\n      <td>Good Times</td>\n      <td>Edie Brickell</td>\n      <td>spotify:track:6UPfnVoOq3y3BvapBIKs8J</td>\n      <td>0.562</td>\n      <td>0.314</td>\n      <td>10</td>\n      <td>-15.213</td>\n      <td>0</td>\n      <td>0.0298</td>\n      <td>0.440000</td>\n      <td>0.000011</td>\n      <td>0.1060</td>\n      <td>0.571</td>\n      <td>166.847</td>\n      <td>189827</td>\n      <td>4</td>\n      <td>21.11763</td>\n      <td>10</td>\n      <td>1</td>\n    </tr>\n    <tr>\n      <th>41104</th>\n      <td>Inane</td>\n      <td>KMFDM</td>\n      <td>spotify:track:2Ao3Wi4raEOQfKQiU9EU8y</td>\n      <td>0.622</td>\n      <td>0.781</td>\n      <td>7</td>\n      <td>-6.080</td>\n      <td>1</td>\n      <td>0.0368</td>\n      <td>0.000101</td>\n      <td>0.755000</td>\n      <td>0.3830</td>\n      <td>0.214</td>\n      <td>120.051</td>\n      <td>330053</td>\n      <td>4</td>\n      <td>47.13558</td>\n      <td>11</td>\n      <td>0</td>\n    </tr>\n    <tr>\n      <th>41105</th>\n      <td>You Can Make History (Young Again)</td>\n      <td>Elton John</td>\n      <td>spotify:track:3ca91BX2k7GSzEUsx1mPgI</td>\n      <td>0.664</td>\n      <td>0.739</td>\n      <td>2</td>\n      <td>-9.005</td>\n      <td>1</td>\n      <td>0.0262</td>\n      <td>0.106000</td>\n      <td>0.054200</td>\n      <td>0.3330</td>\n      <td>0.458</td>\n      <td>92.257</td>\n      <td>293973</td>\n      <td>4</td>\n      <td>42.50341</td>\n      <td>14</td>\n      <td>1</td>\n    </tr>\n  </tbody>\n</table>\n<p>41106 rows × 19 columns</p>\n</div>"
     },
     "metadata": {},
     "execution_count": 11
    }
   ],
   "source": [
    "# Combine all files in the list and export as CSV\n",
    "data = pd.concat([pd.read_csv(f) for f in all_filenames ])\n",
    "data.reset_index(drop=True, inplace=True)\n",
    "data"
   ]
  },
  {
   "cell_type": "code",
   "execution_count": 12,
   "metadata": {},
   "outputs": [
    {
     "output_type": "execute_result",
     "data": {
      "text/plain": "track                object\nartist               object\nuri                  object\ndanceability        float64\nenergy              float64\nkey                   int64\nloudness            float64\nmode                  int64\nspeechiness         float64\nacousticness        float64\ninstrumentalness    float64\nliveness            float64\nvalence             float64\ntempo               float64\nduration_ms           int64\ntime_signature        int64\nchorus_hit          float64\nsections              int64\ntarget                int64\ndtype: object"
     },
     "metadata": {},
     "execution_count": 12
    }
   ],
   "source": [
    "data.dtypes"
   ]
  },
  {
   "cell_type": "code",
   "execution_count": 13,
   "metadata": {},
   "outputs": [
    {
     "output_type": "execute_result",
     "data": {
      "text/plain": "track               41106\nartist              41106\nuri                 41106\ndanceability        41106\nenergy              41106\nkey                 41106\nloudness            41106\nmode                41106\nspeechiness         41106\nacousticness        41106\ninstrumentalness    41106\nliveness            41106\nvalence             41106\ntempo               41106\nduration_ms         41106\ntime_signature      41106\nchorus_hit          41106\nsections            41106\ntarget              41106\ndtype: int64"
     },
     "metadata": {},
     "execution_count": 13
    }
   ],
   "source": [
    "data.count()"
   ]
  },
  {
   "cell_type": "code",
   "execution_count": 15,
   "metadata": {},
   "outputs": [
    {
     "output_type": "execute_result",
     "data": {
      "text/plain": "Index(['track', 'artist', 'uri', 'danceability', 'energy', 'key', 'loudness',\n       'mode', 'speechiness', 'acousticness', 'instrumentalness', 'liveness',\n       'valence', 'tempo', 'duration_ms', 'time_signature', 'chorus_hit',\n       'sections', 'target'],\n      dtype='object')"
     },
     "metadata": {},
     "execution_count": 15
    }
   ],
   "source": [
    "data.columns"
   ]
  },
  {
   "cell_type": "code",
   "execution_count": 45,
   "metadata": {},
   "outputs": [],
   "source": [
    "y = data.target\n",
    "x = data[['danceability', 'energy', 'key', 'loudness','mode', 'speechiness', 'acousticness', 'instrumentalness', 'liveness','valence', 'tempo', 'duration_ms', 'time_signature', 'chorus_hit','sections']]"
   ]
  },
  {
   "cell_type": "code",
   "execution_count": 46,
   "metadata": {
    "tags": []
   },
   "outputs": [
    {
     "output_type": "stream",
     "name": "stdout",
     "text": "(41106, 15) (41106,)\n"
    }
   ],
   "source": [
    "print(x.shape, y.shape)"
   ]
  },
  {
   "cell_type": "code",
   "execution_count": 47,
   "metadata": {},
   "outputs": [],
   "source": [
    "from sklearn.model_selection import train_test_split\n",
    "\n",
    "x_train, x_test, y_train, y_test = train_test_split(x, y, random_state=12)"
   ]
  },
  {
   "cell_type": "markdown",
   "metadata": {},
   "source": [
    "## With StandardScaler and LabelEncoder"
   ]
  },
  {
   "cell_type": "code",
   "execution_count": 48,
   "metadata": {
    "tags": []
   },
   "outputs": [],
   "source": [
    "from sklearn.preprocessing import LabelEncoder, StandardScaler\n",
    "\n",
    "x_scaler = StandardScaler().fit(x_train)\n",
    "y_scaler = LabelEncoder().fit(y_train)\n",
    "\n",
    "x_train_scaled = x_scaler.transform(x_train)\n",
    "x_test_scaled = x_scaler.transform(x_test)\n",
    "y_train_scaled = y_scaler.transform(y_train)\n",
    "y_test_scaled = y_scaler.transform(y_test)"
   ]
  },
  {
   "cell_type": "markdown",
   "metadata": {},
   "source": [
    "### With SVC"
   ]
  },
  {
   "cell_type": "code",
   "execution_count": 49,
   "metadata": {},
   "outputs": [],
   "source": [
    "from sklearn.svm import SVC \n",
    "\n",
    "model = SVC(kernel='linear')\n",
    "model.fit(x_train_scaled, y_train_scaled)\n",
    "predictions = model.predict(x_test_scaled)"
   ]
  },
  {
   "cell_type": "code",
   "execution_count": 50,
   "metadata": {
    "tags": []
   },
   "outputs": [
    {
     "output_type": "stream",
     "name": "stdout",
     "text": "Training Data Score: 0.7257776768626942\nTesting Data Score: 0.7308553079692517\n"
    }
   ],
   "source": [
    "print(f\"Training Data Score: {model.score(x_train_scaled, y_train_scaled)}\")\n",
    "print(f\"Testing Data Score: {model.score(x_test_scaled, y_test_scaled)}\")"
   ]
  },
  {
   "cell_type": "markdown",
   "metadata": {},
   "source": [
    "### LogisticRegression"
   ]
  },
  {
   "cell_type": "code",
   "execution_count": 51,
   "metadata": {
    "tags": []
   },
   "outputs": [],
   "source": [
    "from sklearn.linear_model import LogisticRegression\n",
    "\n",
    "model2 = LogisticRegression()\n",
    "model2.fit(x_train_scaled, y_train_scaled)\n",
    "predictions2 = model2.predict(x_test_scaled)"
   ]
  },
  {
   "cell_type": "code",
   "execution_count": 52,
   "metadata": {
    "tags": []
   },
   "outputs": [
    {
     "output_type": "stream",
     "name": "stdout",
     "text": "Training Data Score: 0.7280158292516786\nTesting Data Score: 0.7288119100904933\n"
    }
   ],
   "source": [
    "print(f\"Training Data Score: {model2.score(x_train_scaled, y_train_scaled)}\")\n",
    "print(f\"Testing Data Score: {model2.score(x_test_scaled, y_test_scaled)}\")"
   ]
  },
  {
   "cell_type": "markdown",
   "metadata": {},
   "source": [
    "## With MinMaxScaler"
   ]
  },
  {
   "cell_type": "code",
   "execution_count": 58,
   "metadata": {},
   "outputs": [],
   "source": [
    "from sklearn.preprocessing import MinMaxScaler, LabelEncoder\n",
    "\n",
    "x_scaler2 = MinMaxScaler().fit(x_train)\n",
    "y_scaler2 = LabelEncoder().fit(y_train)\n",
    "\n",
    "x_train_scaled2 = x_scaler2.transform(x_train)\n",
    "x_test_scaled2 = x_scaler2.transform(x_test)\n",
    "y_train_scaled2 = y_scaler2.transform(y_train)\n",
    "y_test_scaled2 = y_scaler2.transform(y_test)"
   ]
  },
  {
   "cell_type": "markdown",
   "metadata": {},
   "source": [
    "### With SVC"
   ]
  },
  {
   "cell_type": "code",
   "execution_count": 59,
   "metadata": {},
   "outputs": [],
   "source": [
    "model.fit(x_train_scaled2, y_train_scaled2)\n",
    "predictions3 = model.predict(x_test_scaled2)"
   ]
  },
  {
   "cell_type": "code",
   "execution_count": 60,
   "metadata": {
    "tags": []
   },
   "outputs": [
    {
     "output_type": "stream",
     "name": "stdout",
     "text": "Training Data Score: 0.7256479288981154\nTesting Data Score: 0.7306606986474652\n"
    }
   ],
   "source": [
    "print(f\"Training Data Score: {model.score(x_train_scaled2, y_train_scaled2)}\")\n",
    "print(f\"Testing Data Score: {model.score(x_test_scaled2, y_test_scaled2)}\")"
   ]
  },
  {
   "cell_type": "markdown",
   "metadata": {},
   "source": [
    "### LogisticRegression"
   ]
  },
  {
   "cell_type": "code",
   "execution_count": 61,
   "metadata": {},
   "outputs": [],
   "source": [
    "model2.fit(x_train_scaled2, y_train_scaled2)\n",
    "predictions4 = model.predict(x_test_scaled2)"
   ]
  },
  {
   "cell_type": "code",
   "execution_count": 62,
   "metadata": {
    "tags": []
   },
   "outputs": [
    {
     "output_type": "stream",
     "name": "stdout",
     "text": "Training Data Score: 0.7280482662428233\nTesting Data Score: 0.7283253867860271\n"
    }
   ],
   "source": [
    "print(f\"Training Data Score: {model2.score(x_train_scaled2, y_train_scaled2)}\")\n",
    "print(f\"Testing Data Score: {model2.score(x_test_scaled2, y_test_scaled2)}\")"
   ]
  }
 ],
 "metadata": {
  "language_info": {
   "codemirror_mode": {
    "name": "ipython",
    "version": 3
   },
   "file_extension": ".py",
   "mimetype": "text/x-python",
   "name": "python",
   "nbconvert_exporter": "python",
   "pygments_lexer": "ipython3",
   "version": "3.8.3-final"
  },
  "orig_nbformat": 2,
  "kernelspec": {
   "name": "python38364bit78259f9f5bf9498e9eb367b28d2acc8c",
   "display_name": "Python 3.8.3 64-bit"
  }
 },
 "nbformat": 4,
 "nbformat_minor": 2
}
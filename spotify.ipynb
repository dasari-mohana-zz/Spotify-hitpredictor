{
 "cells": [
  {
   "cell_type": "code",
   "execution_count": 1,
   "metadata": {
    "tags": []
   },
   "outputs": [],
   "source": [
    "import spotipy\n",
    "from spotipy.oauth2 import SpotifyClientCredentials\n",
    "from dotenv import load_dotenv\n",
    "import os"
   ]
  },
  {
   "cell_type": "code",
   "execution_count": 2,
   "metadata": {
    "tags": []
   },
   "outputs": [],
   "source": [
    "load_dotenv()\n",
    "client_id = os.getenv(\"SPOTIPY_CLIENT_ID\")\n",
    "client_secret = os.getenv(\"SPOTIPY_CLIENT_SECRET\")"
   ]
  },
  {
   "cell_type": "code",
   "execution_count": 3,
   "metadata": {},
   "outputs": [],
   "source": [
    "track = \"Here's To Never Growing Up\"\n",
    "artist = 'Avril Lavigne'"
   ]
  },
  {
   "cell_type": "code",
   "execution_count": 4,
   "metadata": {},
   "outputs": [],
   "source": [
    "track = track.lower()\n",
    "artist = artist.lower()"
   ]
  },
  {
   "cell_type": "code",
   "execution_count": 5,
   "metadata": {
    "tags": []
   },
   "outputs": [],
   "source": [
    "spotify = spotipy.Spotify(client_credentials_manager=SpotifyClientCredentials(client_id=client_id, client_secret=client_secret))"
   ]
  },
  {
   "cell_type": "code",
   "execution_count": 6,
   "metadata": {
    "tags": []
   },
   "outputs": [],
   "source": [
    "results = spotify.search(q='track:' + track, type='track')"
   ]
  },
  {
   "cell_type": "code",
   "execution_count": 7,
   "metadata": {
    "tags": []
   },
   "outputs": [],
   "source": [
    "items = results['tracks']['items']\n",
    "for i in items:\n",
    "    item_artist = i['artists'][0]['name']\n",
    "    if item_artist.lower() == artist:\n",
    "        uri = i['uri']"
   ]
  },
  {
   "cell_type": "code",
   "execution_count": 8,
   "metadata": {},
   "outputs": [],
   "source": [
    "audio_features = spotify.audio_features(tracks=[uri])\n",
    "audio_analysis = spotify.audio_analysis(track_id=uri)"
   ]
  },
  {
   "cell_type": "code",
   "execution_count": 9,
   "metadata": {},
   "outputs": [
    {
     "output_type": "execute_result",
     "data": {
      "text/plain": "{'danceability': 0.482,\n 'energy': 0.873,\n 'key': 0,\n 'loudness': -3.145,\n 'mode': 1,\n 'speechiness': 0.0853,\n 'acousticness': 0.0111,\n 'instrumentalness': 0,\n 'liveness': 0.409,\n 'valence': 0.737,\n 'tempo': 165.084,\n 'type': 'audio_features',\n 'id': '0qwcGscxUHGZTgq0zcaqk1',\n 'uri': 'spotify:track:0qwcGscxUHGZTgq0zcaqk1',\n 'track_href': 'https://api.spotify.com/v1/tracks/0qwcGscxUHGZTgq0zcaqk1',\n 'analysis_url': 'https://api.spotify.com/v1/audio-analysis/0qwcGscxUHGZTgq0zcaqk1',\n 'duration_ms': 214320,\n 'time_signature': 4}"
     },
     "metadata": {},
     "execution_count": 9
    }
   ],
   "source": [
    "audio_features[0]"
   ]
  },
  {
   "cell_type": "code",
   "execution_count": 10,
   "metadata": {},
   "outputs": [
    {
     "output_type": "execute_result",
     "data": {
      "text/plain": "12"
     },
     "metadata": {},
     "execution_count": 10
    }
   ],
   "source": [
    "len(audio_analysis['sections'])"
   ]
  },
  {
   "cell_type": "code",
   "execution_count": 11,
   "metadata": {},
   "outputs": [
    {
     "output_type": "execute_result",
     "data": {
      "text/plain": "32.17301"
     },
     "metadata": {},
     "execution_count": 11
    }
   ],
   "source": [
    "audio_analysis['sections'][2]['start']"
   ]
  }
 ],
 "metadata": {
  "language_info": {
   "codemirror_mode": {
    "name": "ipython",
    "version": 3
   },
   "file_extension": ".py",
   "mimetype": "text/x-python",
   "name": "python",
   "nbconvert_exporter": "python",
   "pygments_lexer": "ipython3",
   "version": "3.8.3-final"
  },
  "orig_nbformat": 2,
  "kernelspec": {
   "name": "python38364bitvenvvenv54c3120af49c4f098fcd2d81e62b322e",
   "display_name": "Python 3.8.3 64-bit ('venv': venv)"
  }
 },
 "nbformat": 4,
 "nbformat_minor": 2
}
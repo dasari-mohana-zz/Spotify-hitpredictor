{
 "cells": [
  {
   "cell_type": "markdown",
   "metadata": {},
   "source": [
    "# Loading ML model"
   ]
  },
  {
   "cell_type": "code",
   "execution_count": 1,
   "metadata": {},
   "outputs": [],
   "source": [
    "import pickle\n",
    "model = pickle.load(open('rf.h5', 'rb'))"
   ]
  },
  {
   "cell_type": "markdown",
   "metadata": {},
   "source": [
    "# Test of calling track features and analysis"
   ]
  },
  {
   "cell_type": "code",
   "execution_count": 2,
   "metadata": {
    "tags": []
   },
   "outputs": [],
   "source": [
    "import spotipy\n",
    "from spotipy.oauth2 import SpotifyClientCredentials\n",
    "from dotenv import load_dotenv\n",
    "import os"
   ]
  },
  {
   "cell_type": "code",
   "execution_count": 3,
   "metadata": {
    "tags": []
   },
   "outputs": [],
   "source": [
    "load_dotenv()\n",
    "client_id = os.getenv(\"SPOTIPY_CLIENT_ID\")\n",
    "client_secret = os.getenv(\"SPOTIPY_CLIENT_SECRET\")"
   ]
  },
  {
   "cell_type": "code",
   "execution_count": 44,
   "metadata": {},
   "outputs": [],
   "source": [
    "track = \"Memories\"\n",
    "artist = \"Maroon 5\""
   ]
  },
  {
   "cell_type": "code",
   "execution_count": 45,
   "metadata": {},
   "outputs": [],
   "source": [
    "track = track.lower()\n",
    "artist = artist.lower()"
   ]
  },
  {
   "cell_type": "code",
   "execution_count": 46,
   "metadata": {
    "tags": []
   },
   "outputs": [],
   "source": [
    "spotify = spotipy.Spotify(client_credentials_manager=SpotifyClientCredentials(client_id=client_id, client_secret=client_secret))"
   ]
  },
  {
   "cell_type": "code",
   "execution_count": 47,
   "metadata": {
    "tags": []
   },
   "outputs": [],
   "source": [
    "results = spotify.search(q='track:' + track, type='track')"
   ]
  },
  {
   "cell_type": "code",
   "execution_count": 48,
   "metadata": {
    "tags": []
   },
   "outputs": [],
   "source": [
    "items = results['tracks']['items']\n",
    "for i in items:\n",
    "    item_artist = i['artists'][0]['name']\n",
    "    if item_artist.lower() == artist:\n",
    "        uri = i['uri']"
   ]
  },
  {
   "cell_type": "code",
   "execution_count": 49,
   "metadata": {},
   "outputs": [],
   "source": [
    "audio_features = spotify.audio_features(tracks=[uri])\n",
    "audio_analysis = spotify.audio_analysis(track_id=uri)"
   ]
  },
  {
   "cell_type": "code",
   "execution_count": 50,
   "metadata": {},
   "outputs": [],
   "source": [
    "count_sections = len(audio_analysis['sections'])"
   ]
  },
  {
   "cell_type": "code",
   "execution_count": 51,
   "metadata": {},
   "outputs": [],
   "source": [
    "chorus_hit = audio_analysis['sections'][2]['start']"
   ]
  },
  {
   "cell_type": "code",
   "execution_count": 13,
   "metadata": {},
   "outputs": [
    {
     "output_type": "execute_result",
     "data": {
      "text/plain": "[{'danceability': 0.482,\n  'energy': 0.873,\n  'key': 0,\n  'loudness': -3.145,\n  'mode': 1,\n  'speechiness': 0.0853,\n  'acousticness': 0.0111,\n  'instrumentalness': 0,\n  'liveness': 0.409,\n  'valence': 0.737,\n  'tempo': 165.084,\n  'type': 'audio_features',\n  'id': '0qwcGscxUHGZTgq0zcaqk1',\n  'uri': 'spotify:track:0qwcGscxUHGZTgq0zcaqk1',\n  'track_href': 'https://api.spotify.com/v1/tracks/0qwcGscxUHGZTgq0zcaqk1',\n  'analysis_url': 'https://api.spotify.com/v1/audio-analysis/0qwcGscxUHGZTgq0zcaqk1',\n  'duration_ms': 214320,\n  'time_signature': 4}]"
     },
     "metadata": {},
     "execution_count": 13
    }
   ],
   "source": [
    "# audio_features"
   ]
  },
  {
   "cell_type": "markdown",
   "metadata": {},
   "source": [
    "# Testing the model"
   ]
  },
  {
   "cell_type": "markdown",
   "metadata": {},
   "source": [
    "data[['danceability', 'energy', 'key', 'loudness','mode', 'speechiness', 'acousticness', 'instrumentalness', 'liveness','valence', 'tempo', 'duration_ms', 'time_signature', 'chorus_hit','sections']]"
   ]
  },
  {
   "cell_type": "code",
   "execution_count": 52,
   "metadata": {},
   "outputs": [
    {
     "output_type": "execute_result",
     "data": {
      "text/plain": "[[0.764,\n  0.32,\n  11,\n  -7.209,\n  1,\n  0.0546,\n  0.837,\n  0,\n  0.0822,\n  0.575,\n  91.019,\n  189486,\n  4,\n  34.60346,\n  8]]"
     },
     "metadata": {},
     "execution_count": 52
    }
   ],
   "source": [
    "f = audio_features[0]\n",
    "\n",
    "x = [[f['danceability'],f['energy'],f['key'],f['loudness'],f['mode'],f['speechiness'],f['acousticness'],f['instrumentalness'],f['liveness'],f['valence'],f['tempo'],f['duration_ms'],f['time_signature'],chorus_hit,count_sections]]\n",
    "x"
   ]
  },
  {
   "cell_type": "code",
   "execution_count": 53,
   "metadata": {},
   "outputs": [],
   "source": [
    "from pickle import load\n",
    "scaler = load(open('scaler2.pkl', 'rb'))"
   ]
  },
  {
   "cell_type": "code",
   "execution_count": 54,
   "metadata": {},
   "outputs": [
    {
     "output_type": "execute_result",
     "data": {
      "text/plain": "StandardScaler()"
     },
     "metadata": {},
     "execution_count": 54
    }
   ],
   "source": [
    "scaler"
   ]
  },
  {
   "cell_type": "code",
   "execution_count": 55,
   "metadata": {},
   "outputs": [],
   "source": [
    "x_scaled = scaler.transform(x)"
   ]
  },
  {
   "cell_type": "code",
   "execution_count": 56,
   "metadata": {
    "tags": []
   },
   "outputs": [
    {
     "output_type": "stream",
     "name": "stdout",
     "text": "prediction: 0 \nprobability of hit: 0.4837923728813559\n"
    }
   ],
   "source": [
    "hit_predict = model.predict(x_scaled)\n",
    "hit_score = model.predict_proba(x_scaled)\n",
    "\n",
    "print(f'prediction: {hit_predict[0]} \\nprobability of hit: {hit_score[0][1]}')"
   ]
  }
 ],
 "metadata": {
  "language_info": {
   "codemirror_mode": {
    "name": "ipython",
    "version": 3
   },
   "file_extension": ".py",
   "mimetype": "text/x-python",
   "name": "python",
   "nbconvert_exporter": "python",
   "pygments_lexer": "ipython3",
   "version": "3.8.3-final"
  },
  "orig_nbformat": 2,
  "kernelspec": {
   "name": "python38364bitvenvvenv54c3120af49c4f098fcd2d81e62b322e",
   "display_name": "Python 3.8.3 64-bit ('venv': venv)"
  }
 },
 "nbformat": 4,
 "nbformat_minor": 2
}